{
 "cells": [
  {
   "cell_type": "code",
   "execution_count": 2,
   "metadata": {
    "ExecuteTime": {
     "end_time": "2019-05-16T15:57:10.974661Z",
     "start_time": "2019-05-16T15:57:10.302203Z"
    }
   },
   "outputs": [
    {
     "data": {
      "text/html": [
       "<style>.dataframe td, .dataframe th { min-width:90px; }</style>"
      ],
      "text/plain": [
       "<IPython.core.display.HTML object>"
      ]
     },
     "metadata": {},
     "output_type": "display_data"
    }
   ],
   "source": [
    "from IPython.display import Latex\n",
    "\n",
    "import numpy as np\n",
    "import pandas as pd\n",
    "\n",
    "from IPython.display import display, Markdown, Latex,  HTML\n",
    " \n",
    "\n",
    "pd.options.display.float_format = '{:,.4f}'.format\n",
    "\n",
    "display(HTML(\"<style>.dataframe td, .dataframe th { min-width:90px; }</style>\"))"
   ]
  },
  {
   "cell_type": "code",
   "execution_count": 3,
   "metadata": {
    "ExecuteTime": {
     "end_time": "2019-05-16T15:57:12.413673Z",
     "start_time": "2019-05-16T15:57:12.382055Z"
    }
   },
   "outputs": [],
   "source": [
    "def l(string):\n",
    "    display_latex(string, raw=True)\n",
    " \n",
    "def nCore(C, b):\n",
    "    core = np.full_like(b, 0.0, dtype=np.double)\n",
    "\n",
    "    \"\"\" default case C > b.sum()/2\"\"\"\n",
    "    \n",
    "    display(Markdown('### N-Ядро'))\n",
    "    \n",
    "    markdown = []\n",
    "    \n",
    "    def nCoreLess(C, b, core):\n",
    "        \n",
    "        markdown.append(\n",
    "                '$$'\n",
    "                'C < \\dfrac{{\\sum b }}{{2}}'\n",
    "                '$$'.format(\n",
    "                    C, b.sum()/2\n",
    "                )\n",
    "        )\n",
    "        \n",
    "        for i in range(len(b)):\n",
    "            lamb = (C - core.sum()) / (len(b) - i)\n",
    "            print(lamb)\n",
    "                \n",
    "            if lamb > b[i]/2:\n",
    "                markdown.append(\n",
    "                    '$$'\n",
    "                    '\\lambda_{0} = \\dfrac{{C-\\sum_{{i=1}}^{0} x_i}}{{n-{0}}}'\n",
    "                    ' = \\dfrac{{{2}}}{{{1}}} \\geqslant \\dfrac{{b_{3}}}{{2}} \\quad ({4}) \\qquad '\n",
    "                    ' x_{3} = \\dfrac{{b_{{{3}}}}}{{2}} = {4}'\n",
    "                    '$$'.format(\n",
    "                        i, len(b)-i, (C-core.sum()), i+1, b[i]/2\n",
    "                    )\n",
    "                )\n",
    "                    \n",
    "                core[i] = b[i]/2\n",
    "                continue\n",
    "            \n",
    "            markdown.append(\n",
    "                '$$'\n",
    "                '\\lambda_{0} = \\dfrac{{C-\\sum_{{i=1}}^{0} x_i}}{{n-{0}}}'\n",
    "                ' = \\dfrac{{{2}}}{{{1}}} < \\dfrac{{b_{3}}}{{2}} ({4}) \\\\quad'\n",
    "                '\\lambda_{0} = \\lambda^* = x_i \\quad i=\\overline{{{3},n}}'\n",
    "                '$$'.format(\n",
    "                    i, len(b)-i, (C-core.sum()), i+1, b[i]/2\n",
    "                )\n",
    "            )\n",
    "            \n",
    "            core[i:] = lamb\n",
    "            break\n",
    "        return core\n",
    "\n",
    "    def nCoreMore(C, b, core):\n",
    "       \n",
    "        markdown.append(\n",
    "                '$$'\n",
    "                'C \\geqslant \\dfrac{{\\sum b }}{{2}}'\n",
    "                '$$'.format(\n",
    "                    C, b.sum()/2\n",
    "                )\n",
    "        )\n",
    "            \n",
    "        for i in range(len(b)):\n",
    "            lamb = (1/(len(b)-i)) * (b.sum() - C - core.sum())\n",
    "            \n",
    "            if lamb > b[i]/2:\n",
    "                \n",
    "                markdown.append(\n",
    "                    '$$'\n",
    "                    '\\lambda_{0} = \\dfrac{{1}}{{n-{0}}} * ( \\sum^{5}_{{i=1}} b_i - (C - \\sum^{0}_{{i=1}} x_i) ) = '\n",
    "                    '\\dfrac{{({6} - ({7}-{8}))}}{{{1}}}  = '\n",
    "                    '\\dfrac{{{6}-{2}}}{{{1}}} = '\n",
    "                     '\\dfrac{{{9}}}{{{1}}} '\n",
    "                    ' \\geqslant \\dfrac{{b_{3}}}{{2}} \\quad ({4}) \\qquad '\n",
    "                    ' x_{3} = \\dfrac{{b_{{{3}}}}}{{2}} = {4}'\n",
    "                    '$$'.format(\n",
    "                        i, len(b)-i, (C-core.sum()), i+1, b[i]/2, len(b), b.sum(), C, core.sum(), b.sum()-(C-core.sum())\n",
    "                    )\n",
    "                )\n",
    "\n",
    "                \n",
    "                core[i] = b[i]/2\n",
    "                continue\n",
    "            \n",
    "            markdown.append(\n",
    "                '$$'\n",
    "                '\\lambda_{0} = \\dfrac{{1}}{{n-{0}}} * ( \\sum^{5}_{{i=1}} b_i - (C - \\sum^{0}_{{i=1}} x_i) ) = '\n",
    "                '\\dfrac{{({6} - ({7}-{8}))}}{{{1}}}  = '\n",
    "                '\\dfrac{{{6}-{2}}}{{{1}}} = '\n",
    "                 '\\dfrac{{{9}}}{{{1}}} '\n",
    "                ' < \\dfrac{{b_{3}}}{{2}} ({4}) \\qquad '\n",
    "                ' \\lambda_{0} = \\lambda^* \\qquad x_{{i}} = b_{{i}}-\\lambda^* \\quad i=\\overline{{{3},n}}'\n",
    "                '$$'.format(\n",
    "                    i, len(b)-i, (C-core.sum()), i+1, b[i]/2, len(b), b.sum(), C, core.sum(), b.sum()-(C-core.sum())\n",
    "                )\n",
    "            )\n",
    "                \n",
    "            core[i:] = b[i:] - lamb\n",
    "            break\n",
    "\n",
    "        return core\n",
    "\n",
    "    result = (nCoreLess if C < b.sum()/2 else nCoreMore)(C, b, core)\n",
    "    \n",
    "    display(Markdown( \"\\n\".join(markdown) ))\n",
    "    display(Markdown(\"---\"))\n",
    "    display(Markdown(\"$\" +  \" \\qquad \".join([ f\"x_{k+1} = {x:2.2f}\" for k, x in enumerate(result)]) + \"$\"))\n",
    "    \n",
    "    display(Markdown(\"---\"))\n",
    "    \n",
    "    print(\"\\n\".join(markdown) )\n",
    "    \n",
    "    print(\"$\" +  \" \\qquad \".join([ f\"x_{k+1} = {x:2.2f}\" for k, x in enumerate(result)]) + \"$\")\n",
    "    \n",
    " "
   ]
  },
  {
   "cell_type": "code",
   "execution_count": 12,
   "metadata": {
    "ExecuteTime": {
     "end_time": "2019-05-16T16:25:49.936799Z",
     "start_time": "2019-05-16T16:25:49.919992Z"
    }
   },
   "outputs": [
    {
     "data": {
      "text/markdown": [
       "### N-Ядро"
      ],
      "text/plain": [
       "<IPython.core.display.Markdown object>"
      ]
     },
     "metadata": {},
     "output_type": "display_data"
    },
    {
     "name": "stdout",
     "output_type": "stream",
     "text": [
      "1.3255\n",
      "2.0534999999999997\n"
     ]
    },
    {
     "data": {
      "text/markdown": [
       "$$C < \\dfrac{\\sum b }{2}$$\n",
       "$$\\lambda_0 = \\dfrac{C-\\sum_{i=1}^0 x_i}{n-0} = \\dfrac{2.651}{2} \\geqslant \\dfrac{b_1}{2} \\quad (0.5975) \\qquad  x_1 = \\dfrac{b_{1}}{2} = 0.5975$$\n",
       "$$\\lambda_1 = \\dfrac{C-\\sum_{i=1}^1 x_i}{n-1} = \\dfrac{2.0534999999999997}{1} < \\dfrac{b_2}{2} (2.3025) \\quad\\lambda_1 = \\lambda^* = x_i \\quad i=\\overline{2,n}$$"
      ],
      "text/plain": [
       "<IPython.core.display.Markdown object>"
      ]
     },
     "metadata": {},
     "output_type": "display_data"
    },
    {
     "data": {
      "text/markdown": [
       "---"
      ],
      "text/plain": [
       "<IPython.core.display.Markdown object>"
      ]
     },
     "metadata": {},
     "output_type": "display_data"
    },
    {
     "data": {
      "text/markdown": [
       "$x_1 = 0.60 \\qquad x_2 = 2.05$"
      ],
      "text/plain": [
       "<IPython.core.display.Markdown object>"
      ]
     },
     "metadata": {},
     "output_type": "display_data"
    },
    {
     "data": {
      "text/markdown": [
       "---"
      ],
      "text/plain": [
       "<IPython.core.display.Markdown object>"
      ]
     },
     "metadata": {},
     "output_type": "display_data"
    },
    {
     "name": "stdout",
     "output_type": "stream",
     "text": [
      "$$C < \\dfrac{\\sum b }{2}$$\n",
      "$$\\lambda_0 = \\dfrac{C-\\sum_{i=1}^0 x_i}{n-0} = \\dfrac{2.651}{2} \\geqslant \\dfrac{b_1}{2} \\quad (0.5975) \\qquad  x_1 = \\dfrac{b_{1}}{2} = 0.5975$$\n",
      "$$\\lambda_1 = \\dfrac{C-\\sum_{i=1}^1 x_i}{n-1} = \\dfrac{2.0534999999999997}{1} < \\dfrac{b_2}{2} (2.3025) \\quad\\lambda_1 = \\lambda^* = x_i \\quad i=\\overline{2,n}$$\n",
      "$x_1 = 0.60 \\qquad x_2 = 2.05$\n"
     ]
    }
   ],
   "source": [
    "C = 2.651\n",
    "\n",
    "b = np.array([1.195, 4.605])\n",
    " \n",
    "\n",
    "nCore(C, b)"
   ]
  },
  {
   "cell_type": "code",
   "execution_count": null,
   "metadata": {},
   "outputs": [],
   "source": []
  }
 ],
 "metadata": {
  "hide_input": false,
  "kernelspec": {
   "display_name": "Python 3",
   "language": "python",
   "name": "python3"
  },
  "language_info": {
   "codemirror_mode": {
    "name": "ipython",
    "version": 3
   },
   "file_extension": ".py",
   "mimetype": "text/x-python",
   "name": "python",
   "nbconvert_exporter": "python",
   "pygments_lexer": "ipython3",
   "version": "3.7.3"
  },
  "toc": {
   "base_numbering": 1,
   "nav_menu": {},
   "number_sections": false,
   "sideBar": true,
   "skip_h1_title": true,
   "title_cell": "Table of Contents",
   "title_sidebar": "Contents",
   "toc_cell": false,
   "toc_position": {},
   "toc_section_display": true,
   "toc_window_display": false
  }
 },
 "nbformat": 4,
 "nbformat_minor": 2
}
