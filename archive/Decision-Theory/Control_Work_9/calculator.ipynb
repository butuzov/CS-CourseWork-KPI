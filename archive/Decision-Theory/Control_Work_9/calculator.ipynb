{
 "cells": [
  {
   "cell_type": "code",
   "execution_count": 4,
   "metadata": {
    "ExecuteTime": {
     "end_time": "2019-05-27T18:50:21.777093Z",
     "start_time": "2019-05-27T18:50:21.773257Z"
    }
   },
   "outputs": [],
   "source": [
    "from IPython.display import display, HTML, Math, Latex, Markdown\n",
    "\n",
    "def show(string):\n",
    "    display(Latex(string))"
   ]
  },
  {
   "cell_type": "code",
   "execution_count": 5,
   "metadata": {
    "ExecuteTime": {
     "end_time": "2019-05-27T18:50:22.237032Z",
     "start_time": "2019-05-27T18:50:22.232066Z"
    }
   },
   "outputs": [],
   "source": [
    "from sympy import symbols\n",
    "from sympy import log, sqrt\n",
    "from sympy import solve, var\n",
    "from sympy import Derivative, N"
   ]
  },
  {
   "cell_type": "markdown",
   "metadata": {
    "ExecuteTime": {
     "end_time": "2019-05-27T18:27:38.613836Z",
     "start_time": "2019-05-27T18:27:38.607186Z"
    }
   },
   "source": [
    "це лише калькулятор для розрахунка задачі\n",
    "\n",
    "запускати лише крок за кроом верифікуючі дані."
   ]
  },
  {
   "cell_type": "markdown",
   "metadata": {},
   "source": [
    "# приклад для копі пасти"
   ]
  },
  {
   "cell_type": "code",
   "execution_count": 6,
   "metadata": {
    "ExecuteTime": {
     "end_time": "2019-05-27T18:50:23.732024Z",
     "start_time": "2019-05-27T18:50:23.727996Z"
    }
   },
   "outputs": [],
   "source": [
    "y,b1y,b2y,cy = symbols(\"y,b1y,b2y,cy\")"
   ]
  },
  {
   "cell_type": "code",
   "execution_count": 7,
   "metadata": {
    "ExecuteTime": {
     "end_time": "2019-05-27T18:50:24.493580Z",
     "start_time": "2019-05-27T18:50:24.480920Z"
    }
   },
   "outputs": [],
   "source": [
    "# 9.1\n",
    "b1y=2*log(1+2*y)\n",
    "b2y=sqrt(y)\n",
    "cy=(y**2)/4\n",
    "\n",
    "# 9.2 - linear\n",
    "# b1y=4*sqrt(y)\n",
    "# b2y=2*log(1+y)\n",
    "# cy=y/2\n",
    "\n",
    "# 9.3\n",
    "# b1y=2*y\n",
    "# b2y=4*log(1+y)\n",
    "# cy=y**2/4\n",
    "\n",
    "# 9.4 - linear\n",
    "# b1y=2*log(1+y)\n",
    "# b2y=4*sqrt(y)\n",
    "# cy=(3*y)/2\n",
    "\n",
    "# 9.5 - linear\n",
    "# b1y=6*sqrt(y)\n",
    "# b2y=4*log(1+y)\n",
    "# cy=2*y\n",
    "\n",
    "# 9.6\n",
    "# b1y=2*y\n",
    "# b2y=log(1+4*y)\n",
    "# cy=y**2\n",
    "\n",
    "# 9.7\n",
    "# b1y=log(1+y)\n",
    "# b2y=2*y\n",
    "# cy=(y**2)/2"
   ]
  },
  {
   "cell_type": "markdown",
   "metadata": {},
   "source": [
    "### $V(1,2) = b_2(y*)+b_2(y*)-C(y*)$"
   ]
  },
  {
   "cell_type": "code",
   "execution_count": 8,
   "metadata": {
    "ExecuteTime": {
     "end_time": "2019-05-27T18:50:28.309972Z",
     "start_time": "2019-05-27T18:50:28.026319Z"
    }
   },
   "outputs": [
    {
     "data": {
      "text/latex": [
       "$\\displaystyle \\frac{4}{2 y + 1} + \\frac{1}{2 \\sqrt{y}}$"
      ],
      "text/plain": [
       "4/(2*y + 1) + 1/(2*sqrt(y))"
      ]
     },
     "execution_count": 8,
     "metadata": {},
     "output_type": "execute_result"
    }
   ],
   "source": [
    "left  = Derivative(b1y, y).doit()+Derivative(b2y, y).doit()\n",
    "left"
   ]
  },
  {
   "cell_type": "code",
   "execution_count": 9,
   "metadata": {
    "ExecuteTime": {
     "end_time": "2019-05-27T18:50:28.547872Z",
     "start_time": "2019-05-27T18:50:28.530798Z"
    }
   },
   "outputs": [
    {
     "data": {
      "text/latex": [
       "$\\displaystyle \\frac{y}{2}$"
      ],
      "text/plain": [
       "y/2"
      ]
     },
     "execution_count": 9,
     "metadata": {},
     "output_type": "execute_result"
    }
   ],
   "source": [
    "right = Derivative(cy, y).doit()\n",
    "right"
   ]
  },
  {
   "cell_type": "code",
   "execution_count": 10,
   "metadata": {
    "ExecuteTime": {
     "end_time": "2019-05-27T18:50:39.115055Z",
     "start_time": "2019-05-27T18:50:32.482469Z"
    }
   },
   "outputs": [
    {
     "name": "stdout",
     "output_type": "stream",
     "text": [
      "[CRootOf(4*y**5 + 4*y**4 - 31*y**3 - 20*y**2 + 60*y - 1, 2)]\n",
      "\n",
      "y *\n",
      "2.17406164597309\n"
     ]
    },
    {
     "data": {
      "text/plain": [
       "[None]"
      ]
     },
     "execution_count": 10,
     "metadata": {},
     "output_type": "execute_result"
    }
   ],
   "source": [
    "sol = solve(left-right, y)\n",
    "print(sol)\n",
    "\n",
    "print()\n",
    "print('y *')\n",
    "[print(N(s)) for s in sol]"
   ]
  },
  {
   "cell_type": "code",
   "execution_count": 11,
   "metadata": {
    "ExecuteTime": {
     "end_time": "2019-05-27T18:50:46.720708Z",
     "start_time": "2019-05-27T18:50:46.713838Z"
    }
   },
   "outputs": [
    {
     "data": {
      "text/latex": [
       "$y^*=2.1741$"
      ],
      "text/plain": [
       "<IPython.core.display.Latex object>"
      ]
     },
     "metadata": {},
     "output_type": "display_data"
    }
   ],
   "source": [
    "# Етап Перевірки і уточнення\n",
    "yOptimal=2.1740616\n",
    "yOptimalS = float(yOptimal)\n",
    "\n",
    "show(\"$y^*={:3.4f}$\".format(yOptimal))"
   ]
  },
  {
   "cell_type": "code",
   "execution_count": 12,
   "metadata": {
    "ExecuteTime": {
     "end_time": "2019-05-27T18:50:49.562957Z",
     "start_time": "2019-05-27T18:50:49.528463Z"
    }
   },
   "outputs": [
    {
     "data": {
      "text/latex": [
       "$V(1,2) = max\\{b_1(y)+b_2(y)-C(y)\\} = 3.353 + 1.474 - 1.182 = 3.646$"
      ],
      "text/plain": [
       "<IPython.core.display.Latex object>"
      ]
     },
     "metadata": {},
     "output_type": "display_data"
    },
    {
     "data": {
      "text/latex": [
       "$b_1(y^*) = 3.353$"
      ],
      "text/plain": [
       "<IPython.core.display.Latex object>"
      ]
     },
     "metadata": {},
     "output_type": "display_data"
    },
    {
     "data": {
      "text/latex": [
       "$b_2(y^*) = 1.474$"
      ],
      "text/plain": [
       "<IPython.core.display.Latex object>"
      ]
     },
     "metadata": {},
     "output_type": "display_data"
    },
    {
     "data": {
      "text/latex": [
       "$C(y^*) = 1.182$"
      ],
      "text/plain": [
       "<IPython.core.display.Latex object>"
      ]
     },
     "metadata": {},
     "output_type": "display_data"
    }
   ],
   "source": [
    "b1yOptimal = b1y.subs(y, yOptimal)\n",
    "b2yOptimal = b2y.subs(y, yOptimal)\n",
    "cyOptimal = cy.subs(y, yOptimal)\n",
    "\n",
    "b1yOptimal, b2yOptimal, cyOptimal\n",
    "\n",
    "b1yOptimalS = float(b1yOptimal)\n",
    "b2yOptimalS = float(b2yOptimal)\n",
    "cyOptimalS = float(cyOptimal)\n",
    "\n",
    "V12 = b1yOptimal + b2yOptimal - cyOptimal\n",
    "result = (\"$V(1,2) = max\\{{b_1(y)+b_2(y)-C(y)\\}} = {:3.3f} + {:3.3f} - {:3.3f} = {:3.3f}$\"\n",
    "        .format(float(b1yOptimal), float(b2yOptimal), float(cyOptimal), float(V12)))\n",
    "show(result)\n",
    "\n",
    "show( \"$b_1(y^*) = {:3.4}$\".format( float(b1yOptimal) ))\n",
    "show( \"$b_2(y^*) = {:3.4}$\".format( float(b2yOptimal) ))\n",
    "show( \"$C(y^*) = {:3.4}$\".format( float(cyOptimal) ))\n",
    "     "
   ]
  },
  {
   "cell_type": "markdown",
   "metadata": {},
   "source": [
    "### $V(1) = max\\{b_1(y)-C(y)\\}$"
   ]
  },
  {
   "cell_type": "code",
   "execution_count": 13,
   "metadata": {
    "ExecuteTime": {
     "end_time": "2019-05-27T18:50:55.296112Z",
     "start_time": "2019-05-27T18:50:55.287854Z"
    }
   },
   "outputs": [
    {
     "data": {
      "text/latex": [
       "$\\displaystyle \\frac{4}{2 y + 1}$"
      ],
      "text/plain": [
       "4/(2*y + 1)"
      ]
     },
     "execution_count": 13,
     "metadata": {},
     "output_type": "execute_result"
    }
   ],
   "source": [
    "left  = Derivative(b1y, y).doit()\n",
    "left"
   ]
  },
  {
   "cell_type": "code",
   "execution_count": 14,
   "metadata": {
    "ExecuteTime": {
     "end_time": "2019-05-27T18:50:57.945682Z",
     "start_time": "2019-05-27T18:50:57.939442Z"
    }
   },
   "outputs": [
    {
     "data": {
      "text/latex": [
       "$\\displaystyle \\frac{y}{2}$"
      ],
      "text/plain": [
       "y/2"
      ]
     },
     "execution_count": 14,
     "metadata": {},
     "output_type": "execute_result"
    }
   ],
   "source": [
    "right = Derivative(cy, y).doit()\n",
    "right"
   ]
  },
  {
   "cell_type": "code",
   "execution_count": 15,
   "metadata": {
    "ExecuteTime": {
     "end_time": "2019-05-27T18:51:00.366096Z",
     "start_time": "2019-05-27T18:51:00.313622Z"
    }
   },
   "outputs": [
    {
     "name": "stdout",
     "output_type": "stream",
     "text": [
      "[-1/4 + sqrt(65)/4, -sqrt(65)/4 - 1/4]\n",
      "Answers\n",
      "1.76556443707464\n",
      "-2.26556443707464\n"
     ]
    },
    {
     "data": {
      "text/plain": [
       "[None, None]"
      ]
     },
     "execution_count": 15,
     "metadata": {},
     "output_type": "execute_result"
    }
   ],
   "source": [
    "sol = solve(left-right, y)\n",
    "print(sol)\n",
    "print(\"Answers\")\n",
    "[print(N(s)) for s in sol]"
   ]
  },
  {
   "cell_type": "code",
   "execution_count": 16,
   "metadata": {
    "ExecuteTime": {
     "end_time": "2019-05-27T18:51:07.562180Z",
     "start_time": "2019-05-27T18:51:07.553128Z"
    }
   },
   "outputs": [
    {
     "data": {
      "text/latex": [
       "$y^*=1.7656$"
      ],
      "text/plain": [
       "<IPython.core.display.Latex object>"
      ]
     },
     "metadata": {},
     "output_type": "display_data"
    }
   ],
   "source": [
    "yOptimal = 1.76556\n",
    "show(\"$y^*={:3.4f}$\".format(yOptimal))"
   ]
  },
  {
   "cell_type": "code",
   "execution_count": 17,
   "metadata": {
    "ExecuteTime": {
     "end_time": "2019-05-27T18:51:10.844306Z",
     "start_time": "2019-05-27T18:51:10.833795Z"
    }
   },
   "outputs": [
    {
     "data": {
      "text/latex": [
       "$V(1) = max\\{b_1(y)-C(y)\\} = 3.022 - 0.779 = 2.243$"
      ],
      "text/plain": [
       "<IPython.core.display.Latex object>"
      ]
     },
     "metadata": {},
     "output_type": "display_data"
    }
   ],
   "source": [
    "b1yOptimal = b1y.subs(y, yOptimal) \n",
    "cyOptimal = cy.subs(y, yOptimal)\n",
    "\n",
    "b1yOptimal, cyOptimal\n",
    "\n",
    "V1 = b1yOptimal - cyOptimal\n",
    "result = (\"$V(1) = max\\{{b_1(y)-C(y)\\}} = {:3.3f} - {:3.3f} = {:3.3f}$\"\n",
    "            .format(float(b1yOptimal), float(cyOptimal), V1))\n",
    "show(result)"
   ]
  },
  {
   "cell_type": "markdown",
   "metadata": {
    "ExecuteTime": {
     "end_time": "2019-05-14T08:49:35.910345Z",
     "start_time": "2019-05-14T08:49:35.907143Z"
    }
   },
   "source": [
    "### $V(2) = max\\{b_2(y)-C(y)\\}$"
   ]
  },
  {
   "cell_type": "code",
   "execution_count": 18,
   "metadata": {
    "ExecuteTime": {
     "end_time": "2019-05-27T18:51:14.012251Z",
     "start_time": "2019-05-27T18:51:14.005560Z"
    }
   },
   "outputs": [
    {
     "data": {
      "text/latex": [
       "$\\displaystyle \\frac{1}{2 \\sqrt{y}}$"
      ],
      "text/plain": [
       "1/(2*sqrt(y))"
      ]
     },
     "execution_count": 18,
     "metadata": {},
     "output_type": "execute_result"
    }
   ],
   "source": [
    "left  = Derivative(b2y, y).doit()\n",
    "left"
   ]
  },
  {
   "cell_type": "code",
   "execution_count": 19,
   "metadata": {
    "ExecuteTime": {
     "end_time": "2019-05-27T18:51:16.432078Z",
     "start_time": "2019-05-27T18:51:16.424487Z"
    }
   },
   "outputs": [
    {
     "data": {
      "text/latex": [
       "$\\displaystyle \\frac{y}{2}$"
      ],
      "text/plain": [
       "y/2"
      ]
     },
     "execution_count": 19,
     "metadata": {},
     "output_type": "execute_result"
    }
   ],
   "source": [
    "right = Derivative(cy, y).doit()\n",
    "right"
   ]
  },
  {
   "cell_type": "code",
   "execution_count": 20,
   "metadata": {
    "ExecuteTime": {
     "end_time": "2019-05-27T18:51:19.019433Z",
     "start_time": "2019-05-27T18:51:18.843855Z"
    }
   },
   "outputs": [
    {
     "name": "stdout",
     "output_type": "stream",
     "text": [
      "[1, (-1/2 - sqrt(3)*I/2)**2, (-1/2 + sqrt(3)*I/2)**2]\n",
      "Answers\n",
      "1.00000000000000\n",
      "-0.5 + 0.866025403784439*I\n",
      "-0.5 - 0.866025403784439*I\n"
     ]
    },
    {
     "data": {
      "text/plain": [
       "[None, None, None]"
      ]
     },
     "execution_count": 20,
     "metadata": {},
     "output_type": "execute_result"
    }
   ],
   "source": [
    "sol = solve(left-right, y)\n",
    "print(sol)\n",
    "print(\"Answers\")\n",
    "[print(N(s)) for s in sol]"
   ]
  },
  {
   "cell_type": "code",
   "execution_count": 21,
   "metadata": {
    "ExecuteTime": {
     "end_time": "2019-05-27T18:51:23.114252Z",
     "start_time": "2019-05-27T18:51:23.107659Z"
    }
   },
   "outputs": [
    {
     "data": {
      "text/latex": [
       "$y^*=1.0000$"
      ],
      "text/plain": [
       "<IPython.core.display.Latex object>"
      ]
     },
     "metadata": {},
     "output_type": "display_data"
    }
   ],
   "source": [
    "yOptimal = 1.\n",
    "show(\"$y^*={:3.4f}$\".format(yOptimal))"
   ]
  },
  {
   "cell_type": "code",
   "execution_count": 22,
   "metadata": {
    "ExecuteTime": {
     "end_time": "2019-05-27T18:51:25.471981Z",
     "start_time": "2019-05-27T18:51:25.459676Z"
    }
   },
   "outputs": [
    {
     "data": {
      "text/latex": [
       "$V(2) = max\\{b_2(y)-C(y)\\} = 1.000 - 0.250 = 0.750$"
      ],
      "text/plain": [
       "<IPython.core.display.Latex object>"
      ]
     },
     "metadata": {},
     "output_type": "display_data"
    },
    {
     "data": {
      "text/latex": [
       "$V(2) = max\\{b_2(y)-C(y)\\} = 1.00000000000000 - 0.250000000000000 = 0.750$"
      ],
      "text/plain": [
       "<IPython.core.display.Latex object>"
      ]
     },
     "metadata": {},
     "output_type": "display_data"
    }
   ],
   "source": [
    "b2yOptimal = b2y.subs(y, yOptimal) \n",
    "cyOptimal = cy.subs(y, yOptimal)\n",
    "\n",
    "b2yOptimal, cyOptimal\n",
    "\n",
    "V2 = b2yOptimal - cyOptimal\n",
    "result = (\"$V(2) = max\\{{b_2(y)-C(y)\\}} = {:3.3f} - {:3.3f} = {:3.3f}$\"\n",
    "    .format(float(b2yOptimal), float(cyOptimal), float(V2)))\n",
    "show(result)\n",
    "\n",
    "V2 = b2yOptimal - cyOptimal\n",
    "result = (\"$V(2) = max\\{{b_2(y)-C(y)\\}} = {} - {} = {:3.3f}$\"\n",
    "    .format( b2yOptimal, cyOptimal, float(V2)))\n",
    "show(result)"
   ]
  },
  {
   "cell_type": "code",
   "execution_count": 23,
   "metadata": {
    "ExecuteTime": {
     "end_time": "2019-05-27T18:51:29.113224Z",
     "start_time": "2019-05-27T18:51:29.106986Z"
    }
   },
   "outputs": [
    {
     "name": "stdout",
     "output_type": "stream",
     "text": [
      "#### `Δ = 0.6537`, `V(1,2) = 3.6463`,  `V(1) = 2.2426` , `V(2) = 0.7500`\n"
     ]
    }
   ],
   "source": [
    "delta = float(V12) -float(V1) - float(V2) \n",
    "Vs = (\"#### `Δ = {:3.4f}`, `V(1,2) = {:3.4f}`,  `V(1) = {:3.4f}` , `V(2) = {:3.4f}`\"\n",
    "    .format(delta, float(V12), float(V1), float(V2) ))\n",
    "\n",
    "print(Vs)"
   ]
  },
  {
   "cell_type": "markdown",
   "metadata": {},
   "source": [
    "# Обмежувачі на графіку"
   ]
  },
  {
   "cell_type": "code",
   "execution_count": 24,
   "metadata": {
    "ExecuteTime": {
     "end_time": "2019-05-27T18:51:38.220377Z",
     "start_time": "2019-05-27T18:51:38.207558Z"
    }
   },
   "outputs": [
    {
     "data": {
      "text/latex": [
       "$S(1) = b_1(y^*) -x_1^* \\geqslant V(1) \\Rightarrow x_1^* \\leqslant 3.3535 - 2.2426  \\Rightarrow x_1^* \\leqslant 1.1109 $"
      ],
      "text/plain": [
       "<IPython.core.display.Latex object>"
      ]
     },
     "metadata": {},
     "output_type": "display_data"
    },
    {
     "name": "stdout",
     "output_type": "stream",
     "text": [
      "\n"
     ]
    },
    {
     "data": {
      "text/latex": [
       "$S(2) = b_2(y^*) -x_2^* \\geqslant V(2) \\Rightarrow x_2^* \\leqslant 1.4745 - 0.7500  \\Rightarrow x_2^* \\leqslant 0.7245 $"
      ],
      "text/plain": [
       "<IPython.core.display.Latex object>"
      ]
     },
     "metadata": {},
     "output_type": "display_data"
    },
    {
     "name": "stdout",
     "output_type": "stream",
     "text": [
      "\n",
      "$S(1) = b_1(y^*) -x_1^* \\geqslant V(1) \\Rightarrow x_1^* \\leqslant 3.3535 - 2.2426  \\Rightarrow x_1^* \\leqslant 1.1109 $\n",
      "\n",
      "$S(2) = b_2(y^*) -x_2^* \\geqslant V(2) \\Rightarrow x_2^* \\leqslant 1.4745 - 0.7500  \\Rightarrow x_2^* \\leqslant 0.7245 $\n"
     ]
    }
   ],
   "source": [
    "S1_str = (\"$S(1) = b_1(y^*) -x_1^* \\geqslant V(1) \\Rightarrow x_1^* \\leqslant {0:3.4f} - {1:3.4f}  \\Rightarrow x_1^* \\leqslant {2:3.4f} $\"\n",
    "    .format(float(b1yOptimalS), float(V1), float(b1yOptimalS) - float(V1) ))\n",
    "\n",
    "S2_str = (\"$S(2) = b_2(y^*) -x_2^* \\geqslant V(2) \\Rightarrow x_2^* \\leqslant {0:3.4f} - {1:3.4f}  \\Rightarrow x_2^* \\leqslant {2:3.4f} $\"\n",
    "    .format(float(b2yOptimalS), float(V2), float(b2yOptimalS) - float(V2) ))\n",
    "\n",
    "display(Latex(S1_str))\n",
    "print()\n",
    "display(Latex(S2_str))\n",
    "print()\n",
    "print(S1_str)\n",
    "print()\n",
    "print(S2_str)"
   ]
  },
  {
   "cell_type": "markdown",
   "metadata": {},
   "source": [
    "## `N` - Ядро гри\n",
    "\n",
    "розраховується окремо в калькуляотрі n ядра\n",
    "\n",
    "$x_1^*+x_2^* = C(Y) \\rightarrow x_1^*+x_2^* =1.182 $"
   ]
  },
  {
   "cell_type": "markdown",
   "metadata": {
    "ExecuteTime": {
     "end_time": "2019-05-15T10:37:00.718103Z",
     "start_time": "2019-05-15T10:37:00.711886Z"
    }
   },
   "source": [
    "## Шеплі"
   ]
  },
  {
   "cell_type": "code",
   "execution_count": 25,
   "metadata": {
    "ExecuteTime": {
     "end_time": "2019-05-27T18:52:21.436084Z",
     "start_time": "2019-05-27T18:52:21.428804Z"
    }
   },
   "outputs": [
    {
     "data": {
      "text/plain": [
       "(2.5694815702313325, 1.0768437995230937)"
      ]
     },
     "execution_count": 25,
     "metadata": {},
     "output_type": "execute_result"
    }
   ],
   "source": [
    "# Шеплі\n",
    "S0 = float(V1)/2 + (float(V12)-float(V2))/2\n",
    "S1 = float(V2)/2 + (float(V12)-float(V1))/2\n",
    "S0, S1"
   ]
  },
  {
   "cell_type": "code",
   "execution_count": 26,
   "metadata": {
    "ExecuteTime": {
     "end_time": "2019-05-27T18:52:23.799925Z",
     "start_time": "2019-05-27T18:52:23.781319Z"
    }
   },
   "outputs": [
    {
     "data": {
      "text/latex": [
       "$\\sigma = \\sum\\limits_{S=0}^{n-1} \\dfrac{s!(n-s-1)!}{n!}$"
      ],
      "text/plain": [
       "<IPython.core.display.Latex object>"
      ]
     },
     "metadata": {},
     "output_type": "display_data"
    },
    {
     "data": {
      "text/latex": [
       "$\\sigma_1 = \\dfrac{0! (V(1)-V(0))}{2!} + \\dfrac{0! (V(1,2)-V(2))}{2!} =  \\dfrac{2.2426}{2}+\\dfrac{3.6463-0.7500}{2} = 2.5695 $"
      ],
      "text/plain": [
       "<IPython.core.display.Latex object>"
      ]
     },
     "metadata": {},
     "output_type": "display_data"
    },
    {
     "data": {
      "text/latex": [
       "$\\sigma_2 = \\dfrac{0! (V(2)-V(0))}{2!} + \\dfrac{0! (V(1,2)-V(1))}{2!} =  \\dfrac{0.7500}{2}+\\dfrac{3.6463-2.2426}{2} = 1.0768 $"
      ],
      "text/plain": [
       "<IPython.core.display.Latex object>"
      ]
     },
     "metadata": {},
     "output_type": "display_data"
    },
    {
     "data": {
      "text/markdown": [
       "----"
      ],
      "text/plain": [
       "<IPython.core.display.Markdown object>"
      ]
     },
     "metadata": {},
     "output_type": "display_data"
    },
    {
     "name": "stdout",
     "output_type": "stream",
     "text": [
      "$\\sigma = \\sum\\limits_{S=0}^{n-1} \\dfrac{s!(n-s-1)!}{n!}$\n",
      "\n",
      "$\\sigma_1 = \\dfrac{0! (V(1)-V(0))}{2!} + \\dfrac{0! (V(1,2)-V(2))}{2!} =  \\dfrac{2.2426}{2}+\\dfrac{3.6463-0.7500}{2} = 2.5695 $\n",
      "\n",
      "$\\sigma_2 = \\dfrac{0! (V(2)-V(0))}{2!} + \\dfrac{0! (V(1,2)-V(1))}{2!} =  \\dfrac{0.7500}{2}+\\dfrac{3.6463-2.2426}{2} = 1.0768 $\n"
     ]
    }
   ],
   "source": [
    "sigma = \"$\\sigma = \\sum\\limits_{S=0}^{n-1} \\dfrac{s!(n-s-1)!}{n!}$\"\n",
    "display(Latex(sigma))\n",
    " \n",
    "\n",
    "sigma1 = (\"$\\sigma_1 = \\dfrac{0! (V(1)-V(0))}{2!} + \\dfrac{0! (V(1,2)-V(2))}{2!} = \" +\n",
    "            \" \\dfrac{{{0:3.4f}}}{{2}}+\\dfrac{{{2:3.4f}-{1:3.4f}}}{{2}} = {3:3.4f} $\".format(V1, V2, V12, S0))\n",
    "\n",
    "display(Latex(sigma1))\n",
    "\n",
    "sigma2 = (\"$\\sigma_2 = \\dfrac{0! (V(2)-V(0))}{2!} + \\dfrac{0! (V(1,2)-V(1))}{2!} = \" +\n",
    "            \" \\dfrac{{{0:3.4f}}}{{2}}+\\dfrac{{{2:3.4f}-{1:3.4f}}}{{2}} = {3:3.4f} $\".format(V2, V1, V12, S1))\n",
    "\n",
    "display(Latex(sigma2))\n",
    "\n",
    "display(Markdown(\"----\"))\n",
    "print(sigma)\n",
    "print()\n",
    "print(sigma1)\n",
    "print()\n",
    "print(sigma2)"
   ]
  },
  {
   "cell_type": "code",
   "execution_count": 27,
   "metadata": {
    "ExecuteTime": {
     "end_time": "2019-05-27T18:52:27.309219Z",
     "start_time": "2019-05-27T18:52:27.291550Z"
    }
   },
   "outputs": [
    {
     "data": {
      "text/latex": [
       "$x_1^* = b_1(y^*) - \\sigma_1 = 3.3535 - 2.5695 = 0.7840 $"
      ],
      "text/plain": [
       "<IPython.core.display.Latex object>"
      ]
     },
     "metadata": {},
     "output_type": "display_data"
    },
    {
     "data": {
      "text/latex": [
       "$x_2^* = b_2(y^*) - \\sigma_2 = 1.4745 - 1.0768 = 0.3976 $"
      ],
      "text/plain": [
       "<IPython.core.display.Latex object>"
      ]
     },
     "metadata": {},
     "output_type": "display_data"
    },
    {
     "data": {
      "text/latex": [
       "$x_1^*+x_2^* = C(y^*)$"
      ],
      "text/plain": [
       "<IPython.core.display.Latex object>"
      ]
     },
     "metadata": {},
     "output_type": "display_data"
    },
    {
     "data": {
      "text/markdown": [
       "----"
      ],
      "text/plain": [
       "<IPython.core.display.Markdown object>"
      ]
     },
     "metadata": {},
     "output_type": "display_data"
    },
    {
     "name": "stdout",
     "output_type": "stream",
     "text": [
      "$x_1^* = b_1(y^*) - \\sigma_1 = 3.3535 - 2.5695 = 0.7840 $\n",
      "$x_2^* = b_2(y^*) - \\sigma_2 = 1.4745 - 1.0768 = 0.3976 $\n",
      "$x_1^*+x_2^* = C(y^*)$\n"
     ]
    }
   ],
   "source": [
    "x__1 = '$x_1^* = b_1(y^*) - \\sigma_1 = {0:3.4f} - {1:3.4f} = {2:3.4f} $'.format(b1yOptimalS, S0, b1yOptimalS - S0)\n",
    "\n",
    "x__2 = '$x_2^* = b_2(y^*) - \\sigma_2 = {0:3.4f} - {1:3.4f} = {2:3.4f} $'.format(b2yOptimalS, S1, b2yOptimalS - S1)\n",
    "\n",
    "x__all = '$x_1^*+x_2^* = C(y^*)$'\n",
    "\n",
    "display(Latex(x__1))\n",
    "display(Latex(x__2))\n",
    "display(Latex(x__all))\n",
    "\n",
    "display(Markdown(\"----\"))\n",
    "print(x__1)\n",
    "print(x__2)\n",
    "print(x__all)"
   ]
  },
  {
   "cell_type": "markdown",
   "metadata": {},
   "source": [
    "### Часткова - Якщо функція лінійна"
   ]
  },
  {
   "cell_type": "code",
   "execution_count": null,
   "metadata": {
    "ExecuteTime": {
     "end_time": "2019-05-27T18:18:49.359145Z",
     "start_time": "2019-05-27T18:18:49.348855Z"
    }
   },
   "outputs": [],
   "source": [
    "Derivative(b1y, y).doit() + Derivative(b2y, y).doit()"
   ]
  },
  {
   "cell_type": "code",
   "execution_count": null,
   "metadata": {
    "ExecuteTime": {
     "end_time": "2019-05-27T18:18:49.567500Z",
     "start_time": "2019-05-27T18:18:49.561326Z"
    }
   },
   "outputs": [],
   "source": [
    "Derivative(cy, y).doit()"
   ]
  },
  {
   "cell_type": "code",
   "execution_count": null,
   "metadata": {
    "ExecuteTime": {
     "end_time": "2019-05-27T18:18:49.991637Z",
     "start_time": "2019-05-27T18:18:49.790232Z"
    }
   },
   "outputs": [],
   "source": [
    "var('p1, p2')\n",
    "\n",
    "eq =solve(Derivative(b1y, y).doit() + Derivative(b2y, y).doit() - Derivative(cy, y).doit(), y)\n",
    "print(eq)\n",
    "\n",
    "print(\"Answers\")\n",
    "[print(N(s)) for s in eq]"
   ]
  },
  {
   "cell_type": "code",
   "execution_count": 28,
   "metadata": {
    "ExecuteTime": {
     "end_time": "2019-05-27T18:18:50.054112Z",
     "start_time": "2019-05-27T18:18:50.048396Z"
    }
   },
   "outputs": [],
   "source": [
    "# update float from cell above\n",
    "yval = 0.0"
   ]
  },
  {
   "cell_type": "code",
   "execution_count": null,
   "metadata": {
    "ExecuteTime": {
     "end_time": "2019-05-27T18:18:50.298969Z",
     "start_time": "2019-05-27T18:18:50.284544Z"
    }
   },
   "outputs": [],
   "source": [
    "p1eq = Derivative(b1y, y).doit()\n",
    "p1val = float(p1eq.subs(y, yval))\n",
    "printer = '$p_1 = = {:3.4f}$'.format(p1val)\n",
    "print(p1eq, printer)\n",
    "\n",
    "x_1_var = (\n",
    "    '$x_1^*-p_1y^* \\Rightarrow x_1^* = {1:3.4f}*{0:3.4f} = {2:3.4f} $'\n",
    "        .format(yval, p1val, yval* p1val)\n",
    ")\n",
    "display(Latex(x_1_var))\n",
    "\n",
    "print(x_1_var)"
   ]
  },
  {
   "cell_type": "code",
   "execution_count": null,
   "metadata": {
    "ExecuteTime": {
     "end_time": "2019-05-27T18:18:50.527748Z",
     "start_time": "2019-05-27T18:18:50.507927Z"
    }
   },
   "outputs": [],
   "source": [
    "p2eq = Derivative(b2y, y).doit()\n",
    "p2val = float(p2eq.subs(y, yval))\n",
    "printer = '$p_2 = = {:3.4f}$'.format(p2val)\n",
    "print(p2eq, printer)\n",
    "\n",
    "x_2_var = (\n",
    "    '$x_2^*-p_2y^* \\Rightarrow x_1^* = {1:3.4f}*{0:3.4f} = {2:3.4f} $'\n",
    "        .format(yval, p2val, yval* p2val)\n",
    ")\n",
    "display(Latex(x_2_var))\n",
    "\n",
    "print(x_2_var)"
   ]
  },
  {
   "cell_type": "markdown",
   "metadata": {},
   "source": [
    "### Часткова - Якщо функція не лінійна"
   ]
  },
  {
   "cell_type": "code",
   "execution_count": 28,
   "metadata": {
    "ExecuteTime": {
     "end_time": "2019-05-27T18:53:56.282965Z",
     "start_time": "2019-05-27T18:53:56.233360Z"
    }
   },
   "outputs": [
    {
     "name": "stdout",
     "output_type": "stream",
     "text": [
      "[8/(y*(2*y + 1))]\n"
     ]
    },
    {
     "data": {
      "text/latex": [
       "$\\displaystyle 0.688044834252084$"
      ],
      "text/plain": [
       "0.688044834252084"
      ]
     },
     "execution_count": 28,
     "metadata": {},
     "output_type": "execute_result"
    }
   ],
   "source": [
    "var('r1')\n",
    "\n",
    "r1eq =solve(Derivative(b1y, y).doit() - r1*Derivative(cy, y).doit(), r1)\n",
    "print(r1eq)\n",
    "r1 = r1eq[0].subs(y, yOptimalS)\n",
    "r1"
   ]
  },
  {
   "cell_type": "code",
   "execution_count": 29,
   "metadata": {
    "ExecuteTime": {
     "end_time": "2019-05-27T18:53:58.903032Z",
     "start_time": "2019-05-27T18:53:58.877355Z"
    }
   },
   "outputs": [
    {
     "name": "stdout",
     "output_type": "stream",
     "text": [
      "[y**(-3/2)]\n"
     ]
    },
    {
     "data": {
      "text/latex": [
       "$\\displaystyle 0.311955202021451$"
      ],
      "text/plain": [
       "0.311955202021451"
      ]
     },
     "execution_count": 29,
     "metadata": {},
     "output_type": "execute_result"
    }
   ],
   "source": [
    "var('r2')\n",
    "\n",
    "r2eq = solve(Derivative(b2y, y).doit() - r2*Derivative(cy, y).doit(), r2)\n",
    "print(r2eq)\n",
    "r2 =r2eq[0].subs(y, yOptimalS)\n",
    "r2"
   ]
  },
  {
   "cell_type": "code",
   "execution_count": 30,
   "metadata": {
    "ExecuteTime": {
     "end_time": "2019-05-27T18:54:02.023243Z",
     "start_time": "2019-05-27T18:54:02.015557Z"
    }
   },
   "outputs": [
    {
     "data": {
      "text/latex": [
       "$\\displaystyle 0.813018518346773$"
      ],
      "text/plain": [
       "0.813018518346773"
      ]
     },
     "execution_count": 30,
     "metadata": {},
     "output_type": "execute_result"
    }
   ],
   "source": [
    "cy.subs(y, yOptimalS)*r1"
   ]
  },
  {
   "cell_type": "code",
   "execution_count": 31,
   "metadata": {
    "ExecuteTime": {
     "end_time": "2019-05-27T18:54:04.274575Z",
     "start_time": "2019-05-27T18:54:04.268015Z"
    }
   },
   "outputs": [
    {
     "data": {
      "text/latex": [
       "$\\displaystyle 0.368617484663981$"
      ],
      "text/plain": [
       "0.368617484663981"
      ]
     },
     "execution_count": 31,
     "metadata": {},
     "output_type": "execute_result"
    }
   ],
   "source": [
    "cy.subs(y, yOptimalS)*r2"
   ]
  },
  {
   "cell_type": "markdown",
   "metadata": {},
   "source": [
    "## EE"
   ]
  },
  {
   "cell_type": "code",
   "execution_count": 32,
   "metadata": {
    "ExecuteTime": {
     "end_time": "2019-05-27T18:54:07.122916Z",
     "start_time": "2019-05-27T18:54:07.112347Z"
    }
   },
   "outputs": [
    {
     "data": {
      "text/latex": [
       "$\\displaystyle \\sqrt{y} + 2 \\log{\\left(2 y + 1 \\right)}$"
      ],
      "text/plain": [
       "sqrt(y) + 2*log(2*y + 1)"
      ]
     },
     "execution_count": 32,
     "metadata": {},
     "output_type": "execute_result"
    }
   ],
   "source": [
    "left = b1y+b2y\n",
    "left"
   ]
  },
  {
   "cell_type": "code",
   "execution_count": 33,
   "metadata": {
    "ExecuteTime": {
     "end_time": "2019-05-27T18:54:09.132786Z",
     "start_time": "2019-05-27T18:54:09.126822Z"
    }
   },
   "outputs": [
    {
     "data": {
      "text/latex": [
       "$\\displaystyle 3.64632536975443$"
      ],
      "text/plain": [
       "3.64632536975443"
      ]
     },
     "execution_count": 33,
     "metadata": {},
     "output_type": "execute_result"
    }
   ],
   "source": [
    "right = V12\n",
    "right"
   ]
  },
  {
   "cell_type": "code",
   "execution_count": 35,
   "metadata": {
    "ExecuteTime": {
     "end_time": "2019-05-27T18:54:22.558518Z",
     "start_time": "2019-05-27T18:54:22.548697Z"
    }
   },
   "outputs": [],
   "source": [
    "def dq(eq, n):\n",
    "    \n",
    "    def approx(a, b):\n",
    "        return abs(a - b) <= 1e-10\n",
    "    \n",
    "    def dq(low, hi):\n",
    "        mid = (low+hi) / 2\n",
    "        \n",
    "        answer = float(eq.subs(y, mid))\n",
    "         \n",
    "        if approx(answer, n):\n",
    "            return mid\n",
    "        \n",
    "        if answer > n:\n",
    "            return dq(low, mid)\n",
    "        \n",
    "        return dq(mid, hi)\n",
    "        \n",
    "    return dq(0, 120)"
   ]
  },
  {
   "cell_type": "code",
   "execution_count": 37,
   "metadata": {
    "ExecuteTime": {
     "end_time": "2019-05-27T18:54:28.885040Z",
     "start_time": "2019-05-27T18:54:28.868763Z"
    }
   },
   "outputs": [
    {
     "data": {
      "text/plain": [
       "1.2643709836629569"
      ]
     },
     "execution_count": 37,
     "metadata": {},
     "output_type": "execute_result"
    }
   ],
   "source": [
    "Y = dq(b1y+b2y, V12)\n",
    "Y"
   ]
  },
  {
   "cell_type": "code",
   "execution_count": 38,
   "metadata": {
    "ExecuteTime": {
     "end_time": "2019-05-27T18:54:29.484001Z",
     "start_time": "2019-05-27T18:54:29.477816Z"
    }
   },
   "outputs": [
    {
     "data": {
      "text/latex": [
       "$\\displaystyle 2.52188284846366$"
      ],
      "text/plain": [
       "2.52188284846366"
      ]
     },
     "execution_count": 38,
     "metadata": {},
     "output_type": "execute_result"
    }
   ],
   "source": [
    "b1y.subs(y, Y)"
   ]
  },
  {
   "cell_type": "code",
   "execution_count": 39,
   "metadata": {
    "ExecuteTime": {
     "end_time": "2019-05-27T18:54:30.036071Z",
     "start_time": "2019-05-27T18:54:30.029077Z"
    }
   },
   "outputs": [
    {
     "data": {
      "text/latex": [
       "$\\displaystyle 0.831608542783482$"
      ],
      "text/plain": [
       "0.831608542783482"
      ]
     },
     "execution_count": 39,
     "metadata": {},
     "output_type": "execute_result"
    }
   ],
   "source": [
    "x1 = b1yOptimalS - b1y.subs(y, Y)\n",
    "x1"
   ]
  },
  {
   "cell_type": "code",
   "execution_count": 40,
   "metadata": {
    "ExecuteTime": {
     "end_time": "2019-05-27T18:54:30.769114Z",
     "start_time": "2019-05-27T18:54:30.759475Z"
    }
   },
   "outputs": [
    {
     "data": {
      "text/latex": [
       "$\\displaystyle 1.12444252128019$"
      ],
      "text/plain": [
       "1.12444252128019"
      ]
     },
     "execution_count": 40,
     "metadata": {},
     "output_type": "execute_result"
    }
   ],
   "source": [
    "b2y.subs(y, Y)"
   ]
  },
  {
   "cell_type": "code",
   "execution_count": 41,
   "metadata": {
    "ExecuteTime": {
     "end_time": "2019-05-27T18:54:31.464397Z",
     "start_time": "2019-05-27T18:54:31.458119Z"
    }
   },
   "outputs": [
    {
     "data": {
      "text/latex": [
       "$\\displaystyle 0.35002741737573$"
      ],
      "text/plain": [
       "0.350027417375730"
      ]
     },
     "execution_count": 41,
     "metadata": {},
     "output_type": "execute_result"
    }
   ],
   "source": [
    "x2 = b2yOptimalS - b2y.subs(y, Y)\n",
    "x2"
   ]
  },
  {
   "cell_type": "code",
   "execution_count": 42,
   "metadata": {
    "ExecuteTime": {
     "end_time": "2019-05-27T18:54:34.276419Z",
     "start_time": "2019-05-27T18:54:34.270326Z"
    }
   },
   "outputs": [
    {
     "data": {
      "text/latex": [
       "$\\displaystyle 1.18163596015921$"
      ],
      "text/plain": [
       "1.18163596015921"
      ]
     },
     "execution_count": 42,
     "metadata": {},
     "output_type": "execute_result"
    }
   ],
   "source": [
    "x1+x2"
   ]
  }
 ],
 "metadata": {
  "hide_input": false,
  "kernelspec": {
   "display_name": "Python 3",
   "language": "python",
   "name": "python3"
  },
  "language_info": {
   "codemirror_mode": {
    "name": "ipython",
    "version": 3
   },
   "file_extension": ".py",
   "mimetype": "text/x-python",
   "name": "python",
   "nbconvert_exporter": "python",
   "pygments_lexer": "ipython3",
   "version": "3.7.3"
  },
  "toc": {
   "base_numbering": 1,
   "nav_menu": {},
   "number_sections": false,
   "sideBar": true,
   "skip_h1_title": false,
   "title_cell": "Table of Contents",
   "title_sidebar": "Contents",
   "toc_cell": false,
   "toc_position": {
    "height": "calc(100% - 180px)",
    "left": "10px",
    "top": "150px",
    "width": "228.391px"
   },
   "toc_section_display": true,
   "toc_window_display": false
  }
 },
 "nbformat": 4,
 "nbformat_minor": 2
}
