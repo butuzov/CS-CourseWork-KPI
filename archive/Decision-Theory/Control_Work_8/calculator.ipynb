{
 "cells": [
  {
   "cell_type": "code",
   "execution_count": 2,
   "metadata": {
    "ExecuteTime": {
     "end_time": "2019-05-27T18:42:00.030998Z",
     "start_time": "2019-05-27T18:42:00.024009Z"
    },
    "hide_input": false
   },
   "outputs": [],
   "source": [
    "from IPython.display import Latex\n",
    "\n",
    "import numpy as np\n",
    "import pandas as pd\n",
    "\n",
    "\n",
    "from IPython.display import HTML, Math, Latex"
   ]
  },
  {
   "cell_type": "code",
   "execution_count": 3,
   "metadata": {
    "ExecuteTime": {
     "end_time": "2019-05-27T18:42:00.576808Z",
     "start_time": "2019-05-27T18:42:00.511404Z"
    }
   },
   "outputs": [],
   "source": [
    "def l(string):\n",
    "    display_latex(string, raw=True)\n",
    "\n",
    "\n",
    "def podushny(C, b):\n",
    "    podushny = np.full_like(b, 0.0, dtype=np.double)\n",
    "    \n",
    "    for i in range(len(b)):\n",
    "        lamb = (C - podushny.sum()) / (len(b) - i)\n",
    "        \n",
    "        \n",
    "        if lamb >= b[i]:\n",
    "            print( \"$\\lambda_{1} = \\dfrac{C-}{n-{2}}$\" % ())\n",
    "            podushny[i] = b[i]\n",
    "            continue\n",
    "\n",
    "        podushny[i:] = lamb\n",
    "        break\n",
    "\n",
    "    return podushny\n",
    "\n",
    "\n",
    "def rivnevy(C, b):\n",
    "    rivnevy = np.full_like(b, 0.0, dtype=np.double)\n",
    "\n",
    "    for i in range(len(b)):\n",
    "        lamb = (1 / (len(b) - i)) * (b[i:].sum() - C)\n",
    "        if lamb >= b[i]:\n",
    "            rivnevy[i] = 0\n",
    "            continue\n",
    "\n",
    "        rivnevy[i:] = b[i:] - lamb\n",
    "        break\n",
    "\n",
    "\n",
    "    return rivnevy\n",
    "\n",
    "\n",
    "def nCore(C, b):\n",
    "    core = np.full_like(b, 0.0, dtype=np.double)\n",
    "\n",
    "    \"\"\" default case C > b.sum()/2\"\"\"\n",
    "\n",
    "    def nCoreLess(C, b, core):\n",
    "        for i in range(len(b)):\n",
    "            lamb = (C - core.sum()) / (len(b) - i)\n",
    "            if lamb > b[i]/2:\n",
    "                core[i] = b[i]/2\n",
    "                continue\n",
    "            core[i:] = lamb\n",
    "            break\n",
    "        return core\n",
    "\n",
    "    def nCoreMore(C, b, core):\n",
    "\n",
    "        for i in range(len(b)):\n",
    "            lamb = (1/(len(b)-i)) * (b.sum() - C - core.sum())\n",
    "            if lamb > b[i]/2:\n",
    "                core[i] = b[i]/2\n",
    "                continue\n",
    "\n",
    "            core[i:] = b[i:] - lamb\n",
    "            break\n",
    "\n",
    "        return core\n",
    "\n",
    "    return (nCoreLess if C < b.sum()/2 else nCoreMore)(C, b, core)\n",
    "\n",
    "def proportional(C, b):\n",
    "    return b * C/b.sum()\n",
    "\n",
    "\n",
    "def report(C, b):\n",
    "    df = pd.DataFrame(data=Profits, columns = [\"Dohody\"])\n",
    "    df['Podushny']      = podushny(C, b)\n",
    "    df['Rivnevy']       = rivnevy(C, b)\n",
    "    df['n-Core']        = nCore(C, b)\n",
    "    df['Proportional']  = proportional(C, b)\n",
    "\n",
    "    df = df.T\n",
    "    df['Total'] = df.sum(axis=1)\n",
    "    return display(df)"
   ]
  },
  {
   "cell_type": "markdown",
   "metadata": {},
   "source": [
    "# Контрольна робота 8"
   ]
  },
  {
   "cell_type": "markdown",
   "metadata": {},
   "source": [
    "## 1.1"
   ]
  },
  {
   "cell_type": "code",
   "execution_count": 3,
   "metadata": {
    "ExecuteTime": {
     "end_time": "2019-04-10T08:12:24.014328Z",
     "start_time": "2019-04-10T08:12:24.004501Z"
    }
   },
   "outputs": [],
   "source": [
    "Profits = np.array([ 4, 8, 12, 20, 26 ])\n",
    "Cs = np.array([30, 50])"
   ]
  },
  {
   "cell_type": "code",
   "execution_count": 4,
   "metadata": {
    "ExecuteTime": {
     "end_time": "2019-04-10T08:12:24.075749Z",
     "start_time": "2019-04-10T08:12:24.022930Z"
    }
   },
   "outputs": [
    {
     "name": "stdout",
     "output_type": "stream",
     "text": [
      "$\\lambda_{1} = \\dfrac{C-}{n-{2}}$\n"
     ]
    },
    {
     "data": {
      "text/html": [
       "<div>\n",
       "<style scoped>\n",
       "    .dataframe tbody tr th:only-of-type {\n",
       "        vertical-align: middle;\n",
       "    }\n",
       "\n",
       "    .dataframe tbody tr th {\n",
       "        vertical-align: top;\n",
       "    }\n",
       "\n",
       "    .dataframe thead th {\n",
       "        text-align: right;\n",
       "    }\n",
       "</style>\n",
       "<table border=\"1\" class=\"dataframe\">\n",
       "  <thead>\n",
       "    <tr style=\"text-align: right;\">\n",
       "      <th></th>\n",
       "      <th>0</th>\n",
       "      <th>1</th>\n",
       "      <th>2</th>\n",
       "      <th>3</th>\n",
       "      <th>4</th>\n",
       "      <th>Total</th>\n",
       "    </tr>\n",
       "  </thead>\n",
       "  <tbody>\n",
       "    <tr>\n",
       "      <th>Dohody</th>\n",
       "      <td>4.000000</td>\n",
       "      <td>8.000000</td>\n",
       "      <td>12.000000</td>\n",
       "      <td>20.000000</td>\n",
       "      <td>26.000000</td>\n",
       "      <td>70.0</td>\n",
       "    </tr>\n",
       "    <tr>\n",
       "      <th>Podushny</th>\n",
       "      <td>4.000000</td>\n",
       "      <td>6.500000</td>\n",
       "      <td>6.500000</td>\n",
       "      <td>6.500000</td>\n",
       "      <td>6.500000</td>\n",
       "      <td>30.0</td>\n",
       "    </tr>\n",
       "    <tr>\n",
       "      <th>Rivnevy</th>\n",
       "      <td>0.000000</td>\n",
       "      <td>0.000000</td>\n",
       "      <td>2.666667</td>\n",
       "      <td>10.666667</td>\n",
       "      <td>16.666667</td>\n",
       "      <td>30.0</td>\n",
       "    </tr>\n",
       "    <tr>\n",
       "      <th>n-Core</th>\n",
       "      <td>2.000000</td>\n",
       "      <td>4.000000</td>\n",
       "      <td>6.000000</td>\n",
       "      <td>9.000000</td>\n",
       "      <td>9.000000</td>\n",
       "      <td>30.0</td>\n",
       "    </tr>\n",
       "    <tr>\n",
       "      <th>Proportional</th>\n",
       "      <td>1.714286</td>\n",
       "      <td>3.428571</td>\n",
       "      <td>5.142857</td>\n",
       "      <td>8.571429</td>\n",
       "      <td>11.142857</td>\n",
       "      <td>30.0</td>\n",
       "    </tr>\n",
       "  </tbody>\n",
       "</table>\n",
       "</div>"
      ],
      "text/plain": [
       "                     0         1          2          3          4  Total\n",
       "Dohody        4.000000  8.000000  12.000000  20.000000  26.000000   70.0\n",
       "Podushny      4.000000  6.500000   6.500000   6.500000   6.500000   30.0\n",
       "Rivnevy       0.000000  0.000000   2.666667  10.666667  16.666667   30.0\n",
       "n-Core        2.000000  4.000000   6.000000   9.000000   9.000000   30.0\n",
       "Proportional  1.714286  3.428571   5.142857   8.571429  11.142857   30.0"
      ]
     },
     "metadata": {},
     "output_type": "display_data"
    }
   ],
   "source": [
    "report(30, Profits)"
   ]
  },
  {
   "cell_type": "code",
   "execution_count": 5,
   "metadata": {
    "ExecuteTime": {
     "end_time": "2019-04-10T08:12:24.113100Z",
     "start_time": "2019-04-10T08:12:24.084456Z"
    }
   },
   "outputs": [
    {
     "name": "stdout",
     "output_type": "stream",
     "text": [
      "$\\lambda_{1} = \\dfrac{C-}{n-{2}}$\n",
      "$\\lambda_{1} = \\dfrac{C-}{n-{2}}$\n",
      "$\\lambda_{1} = \\dfrac{C-}{n-{2}}$\n"
     ]
    },
    {
     "data": {
      "text/html": [
       "<div>\n",
       "<style scoped>\n",
       "    .dataframe tbody tr th:only-of-type {\n",
       "        vertical-align: middle;\n",
       "    }\n",
       "\n",
       "    .dataframe tbody tr th {\n",
       "        vertical-align: top;\n",
       "    }\n",
       "\n",
       "    .dataframe thead th {\n",
       "        text-align: right;\n",
       "    }\n",
       "</style>\n",
       "<table border=\"1\" class=\"dataframe\">\n",
       "  <thead>\n",
       "    <tr style=\"text-align: right;\">\n",
       "      <th></th>\n",
       "      <th>0</th>\n",
       "      <th>1</th>\n",
       "      <th>2</th>\n",
       "      <th>3</th>\n",
       "      <th>4</th>\n",
       "      <th>Total</th>\n",
       "    </tr>\n",
       "  </thead>\n",
       "  <tbody>\n",
       "    <tr>\n",
       "      <th>Dohody</th>\n",
       "      <td>4.000000</td>\n",
       "      <td>8.000000</td>\n",
       "      <td>12.000000</td>\n",
       "      <td>20.000000</td>\n",
       "      <td>26.000000</td>\n",
       "      <td>70.0</td>\n",
       "    </tr>\n",
       "    <tr>\n",
       "      <th>Podushny</th>\n",
       "      <td>4.000000</td>\n",
       "      <td>8.000000</td>\n",
       "      <td>12.000000</td>\n",
       "      <td>13.000000</td>\n",
       "      <td>13.000000</td>\n",
       "      <td>50.0</td>\n",
       "    </tr>\n",
       "    <tr>\n",
       "      <th>Rivnevy</th>\n",
       "      <td>0.000000</td>\n",
       "      <td>4.000000</td>\n",
       "      <td>8.000000</td>\n",
       "      <td>16.000000</td>\n",
       "      <td>22.000000</td>\n",
       "      <td>50.0</td>\n",
       "    </tr>\n",
       "    <tr>\n",
       "      <th>n-Core</th>\n",
       "      <td>2.000000</td>\n",
       "      <td>4.000000</td>\n",
       "      <td>7.333333</td>\n",
       "      <td>15.333333</td>\n",
       "      <td>21.333333</td>\n",
       "      <td>50.0</td>\n",
       "    </tr>\n",
       "    <tr>\n",
       "      <th>Proportional</th>\n",
       "      <td>2.857143</td>\n",
       "      <td>5.714286</td>\n",
       "      <td>8.571429</td>\n",
       "      <td>14.285714</td>\n",
       "      <td>18.571429</td>\n",
       "      <td>50.0</td>\n",
       "    </tr>\n",
       "  </tbody>\n",
       "</table>\n",
       "</div>"
      ],
      "text/plain": [
       "                     0         1          2          3          4  Total\n",
       "Dohody        4.000000  8.000000  12.000000  20.000000  26.000000   70.0\n",
       "Podushny      4.000000  8.000000  12.000000  13.000000  13.000000   50.0\n",
       "Rivnevy       0.000000  4.000000   8.000000  16.000000  22.000000   50.0\n",
       "n-Core        2.000000  4.000000   7.333333  15.333333  21.333333   50.0\n",
       "Proportional  2.857143  5.714286   8.571429  14.285714  18.571429   50.0"
      ]
     },
     "metadata": {},
     "output_type": "display_data"
    }
   ],
   "source": [
    "report(50, Profits)"
   ]
  },
  {
   "cell_type": "markdown",
   "metadata": {},
   "source": [
    "## 1.2"
   ]
  },
  {
   "cell_type": "code",
   "execution_count": 6,
   "metadata": {
    "ExecuteTime": {
     "end_time": "2019-04-10T08:12:24.120367Z",
     "start_time": "2019-04-10T08:12:24.115386Z"
    }
   },
   "outputs": [],
   "source": [
    "property_cost = 15000\n",
    "lenders = np.array([6000, 8000, 10000])"
   ]
  },
  {
   "cell_type": "code",
   "execution_count": 7,
   "metadata": {
    "ExecuteTime": {
     "end_time": "2019-04-10T08:12:24.130349Z",
     "start_time": "2019-04-10T08:12:24.124199Z"
    }
   },
   "outputs": [
    {
     "data": {
      "text/plain": [
       "array([3000., 5000., 7000.])"
      ]
     },
     "execution_count": 7,
     "metadata": {},
     "output_type": "execute_result"
    }
   ],
   "source": [
    "nCore(property_cost, lenders)"
   ]
  },
  {
   "cell_type": "markdown",
   "metadata": {},
   "source": [
    "## 2.1"
   ]
  },
  {
   "cell_type": "code",
   "execution_count": 8,
   "metadata": {
    "ExecuteTime": {
     "end_time": "2019-04-10T08:12:24.144871Z",
     "start_time": "2019-04-10T08:12:24.135905Z"
    }
   },
   "outputs": [],
   "source": [
    "Profits = np.array([ 10, 12, 18, 20, 30 ])"
   ]
  },
  {
   "cell_type": "code",
   "execution_count": 9,
   "metadata": {
    "ExecuteTime": {
     "end_time": "2019-04-10T08:12:24.176372Z",
     "start_time": "2019-04-10T08:12:24.149882Z"
    }
   },
   "outputs": [
    {
     "data": {
      "text/html": [
       "<div>\n",
       "<style scoped>\n",
       "    .dataframe tbody tr th:only-of-type {\n",
       "        vertical-align: middle;\n",
       "    }\n",
       "\n",
       "    .dataframe tbody tr th {\n",
       "        vertical-align: top;\n",
       "    }\n",
       "\n",
       "    .dataframe thead th {\n",
       "        text-align: right;\n",
       "    }\n",
       "</style>\n",
       "<table border=\"1\" class=\"dataframe\">\n",
       "  <thead>\n",
       "    <tr style=\"text-align: right;\">\n",
       "      <th></th>\n",
       "      <th>0</th>\n",
       "      <th>1</th>\n",
       "      <th>2</th>\n",
       "      <th>3</th>\n",
       "      <th>4</th>\n",
       "      <th>Total</th>\n",
       "    </tr>\n",
       "  </thead>\n",
       "  <tbody>\n",
       "    <tr>\n",
       "      <th>Dohody</th>\n",
       "      <td>10.0</td>\n",
       "      <td>12.0</td>\n",
       "      <td>18.0</td>\n",
       "      <td>20.0</td>\n",
       "      <td>30.0</td>\n",
       "      <td>90.0</td>\n",
       "    </tr>\n",
       "    <tr>\n",
       "      <th>Podushny</th>\n",
       "      <td>9.0</td>\n",
       "      <td>9.0</td>\n",
       "      <td>9.0</td>\n",
       "      <td>9.0</td>\n",
       "      <td>9.0</td>\n",
       "      <td>45.0</td>\n",
       "    </tr>\n",
       "    <tr>\n",
       "      <th>Rivnevy</th>\n",
       "      <td>1.0</td>\n",
       "      <td>3.0</td>\n",
       "      <td>9.0</td>\n",
       "      <td>11.0</td>\n",
       "      <td>21.0</td>\n",
       "      <td>45.0</td>\n",
       "    </tr>\n",
       "    <tr>\n",
       "      <th>n-Core</th>\n",
       "      <td>5.0</td>\n",
       "      <td>6.0</td>\n",
       "      <td>9.0</td>\n",
       "      <td>10.0</td>\n",
       "      <td>15.0</td>\n",
       "      <td>45.0</td>\n",
       "    </tr>\n",
       "    <tr>\n",
       "      <th>Proportional</th>\n",
       "      <td>5.0</td>\n",
       "      <td>6.0</td>\n",
       "      <td>9.0</td>\n",
       "      <td>10.0</td>\n",
       "      <td>15.0</td>\n",
       "      <td>45.0</td>\n",
       "    </tr>\n",
       "  </tbody>\n",
       "</table>\n",
       "</div>"
      ],
      "text/plain": [
       "                 0     1     2     3     4  Total\n",
       "Dohody        10.0  12.0  18.0  20.0  30.0   90.0\n",
       "Podushny       9.0   9.0   9.0   9.0   9.0   45.0\n",
       "Rivnevy        1.0   3.0   9.0  11.0  21.0   45.0\n",
       "n-Core         5.0   6.0   9.0  10.0  15.0   45.0\n",
       "Proportional   5.0   6.0   9.0  10.0  15.0   45.0"
      ]
     },
     "metadata": {},
     "output_type": "display_data"
    }
   ],
   "source": [
    "report(45, Profits)"
   ]
  },
  {
   "cell_type": "code",
   "execution_count": 10,
   "metadata": {
    "ExecuteTime": {
     "end_time": "2019-04-10T08:12:24.204015Z",
     "start_time": "2019-04-10T08:12:24.181012Z"
    }
   },
   "outputs": [
    {
     "name": "stdout",
     "output_type": "stream",
     "text": [
      "$\\lambda_{1} = \\dfrac{C-}{n-{2}}$\n",
      "$\\lambda_{1} = \\dfrac{C-}{n-{2}}$\n"
     ]
    },
    {
     "data": {
      "text/html": [
       "<div>\n",
       "<style scoped>\n",
       "    .dataframe tbody tr th:only-of-type {\n",
       "        vertical-align: middle;\n",
       "    }\n",
       "\n",
       "    .dataframe tbody tr th {\n",
       "        vertical-align: top;\n",
       "    }\n",
       "\n",
       "    .dataframe thead th {\n",
       "        text-align: right;\n",
       "    }\n",
       "</style>\n",
       "<table border=\"1\" class=\"dataframe\">\n",
       "  <thead>\n",
       "    <tr style=\"text-align: right;\">\n",
       "      <th></th>\n",
       "      <th>0</th>\n",
       "      <th>1</th>\n",
       "      <th>2</th>\n",
       "      <th>3</th>\n",
       "      <th>4</th>\n",
       "      <th>Total</th>\n",
       "    </tr>\n",
       "  </thead>\n",
       "  <tbody>\n",
       "    <tr>\n",
       "      <th>Dohody</th>\n",
       "      <td>10.000000</td>\n",
       "      <td>12.0</td>\n",
       "      <td>18.000000</td>\n",
       "      <td>20.000000</td>\n",
       "      <td>30.000000</td>\n",
       "      <td>90.0</td>\n",
       "    </tr>\n",
       "    <tr>\n",
       "      <th>Podushny</th>\n",
       "      <td>10.000000</td>\n",
       "      <td>12.0</td>\n",
       "      <td>17.666667</td>\n",
       "      <td>17.666667</td>\n",
       "      <td>17.666667</td>\n",
       "      <td>75.0</td>\n",
       "    </tr>\n",
       "    <tr>\n",
       "      <th>Rivnevy</th>\n",
       "      <td>7.000000</td>\n",
       "      <td>9.0</td>\n",
       "      <td>15.000000</td>\n",
       "      <td>17.000000</td>\n",
       "      <td>27.000000</td>\n",
       "      <td>75.0</td>\n",
       "    </tr>\n",
       "    <tr>\n",
       "      <th>n-Core</th>\n",
       "      <td>7.000000</td>\n",
       "      <td>9.0</td>\n",
       "      <td>15.000000</td>\n",
       "      <td>17.000000</td>\n",
       "      <td>27.000000</td>\n",
       "      <td>75.0</td>\n",
       "    </tr>\n",
       "    <tr>\n",
       "      <th>Proportional</th>\n",
       "      <td>8.333333</td>\n",
       "      <td>10.0</td>\n",
       "      <td>15.000000</td>\n",
       "      <td>16.666667</td>\n",
       "      <td>25.000000</td>\n",
       "      <td>75.0</td>\n",
       "    </tr>\n",
       "  </tbody>\n",
       "</table>\n",
       "</div>"
      ],
      "text/plain": [
       "                      0     1          2          3          4  Total\n",
       "Dohody        10.000000  12.0  18.000000  20.000000  30.000000   90.0\n",
       "Podushny      10.000000  12.0  17.666667  17.666667  17.666667   75.0\n",
       "Rivnevy        7.000000   9.0  15.000000  17.000000  27.000000   75.0\n",
       "n-Core         7.000000   9.0  15.000000  17.000000  27.000000   75.0\n",
       "Proportional   8.333333  10.0  15.000000  16.666667  25.000000   75.0"
      ]
     },
     "metadata": {},
     "output_type": "display_data"
    }
   ],
   "source": [
    "report(75, Profits)"
   ]
  },
  {
   "cell_type": "markdown",
   "metadata": {},
   "source": [
    "## 2.2"
   ]
  },
  {
   "cell_type": "code",
   "execution_count": 11,
   "metadata": {
    "ExecuteTime": {
     "end_time": "2019-04-10T08:12:24.210927Z",
     "start_time": "2019-04-10T08:12:24.207062Z"
    }
   },
   "outputs": [],
   "source": [
    "property_cost = 10000\n",
    "lenders = np.array([4000, 6000, 8000])"
   ]
  },
  {
   "cell_type": "code",
   "execution_count": 12,
   "metadata": {
    "ExecuteTime": {
     "end_time": "2019-04-10T08:12:24.222410Z",
     "start_time": "2019-04-10T08:12:24.214559Z"
    }
   },
   "outputs": [
    {
     "data": {
      "text/plain": [
       "array([2000., 3000., 5000.])"
      ]
     },
     "execution_count": 12,
     "metadata": {},
     "output_type": "execute_result"
    }
   ],
   "source": [
    "nCore(property_cost, lenders)"
   ]
  },
  {
   "cell_type": "markdown",
   "metadata": {},
   "source": [
    "## 3.1"
   ]
  },
  {
   "cell_type": "code",
   "execution_count": 13,
   "metadata": {
    "ExecuteTime": {
     "end_time": "2019-04-10T08:12:24.229589Z",
     "start_time": "2019-04-10T08:12:24.225135Z"
    }
   },
   "outputs": [],
   "source": [
    "Profits = np.array([ 6, 10, 14, 20, 24 ])"
   ]
  },
  {
   "cell_type": "code",
   "execution_count": 14,
   "metadata": {
    "ExecuteTime": {
     "end_time": "2019-04-10T08:12:24.255551Z",
     "start_time": "2019-04-10T08:12:24.233278Z"
    }
   },
   "outputs": [
    {
     "name": "stdout",
     "output_type": "stream",
     "text": [
      "$\\lambda_{1} = \\dfrac{C-}{n-{2}}$\n"
     ]
    },
    {
     "data": {
      "text/html": [
       "<div>\n",
       "<style scoped>\n",
       "    .dataframe tbody tr th:only-of-type {\n",
       "        vertical-align: middle;\n",
       "    }\n",
       "\n",
       "    .dataframe tbody tr th {\n",
       "        vertical-align: top;\n",
       "    }\n",
       "\n",
       "    .dataframe thead th {\n",
       "        text-align: right;\n",
       "    }\n",
       "</style>\n",
       "<table border=\"1\" class=\"dataframe\">\n",
       "  <thead>\n",
       "    <tr style=\"text-align: right;\">\n",
       "      <th></th>\n",
       "      <th>0</th>\n",
       "      <th>1</th>\n",
       "      <th>2</th>\n",
       "      <th>3</th>\n",
       "      <th>4</th>\n",
       "      <th>Total</th>\n",
       "    </tr>\n",
       "  </thead>\n",
       "  <tbody>\n",
       "    <tr>\n",
       "      <th>Dohody</th>\n",
       "      <td>6.000000</td>\n",
       "      <td>10.000000</td>\n",
       "      <td>14.000000</td>\n",
       "      <td>20.000000</td>\n",
       "      <td>24.00000</td>\n",
       "      <td>74.0</td>\n",
       "    </tr>\n",
       "    <tr>\n",
       "      <th>Podushny</th>\n",
       "      <td>6.000000</td>\n",
       "      <td>6.000000</td>\n",
       "      <td>6.000000</td>\n",
       "      <td>6.000000</td>\n",
       "      <td>6.00000</td>\n",
       "      <td>30.0</td>\n",
       "    </tr>\n",
       "    <tr>\n",
       "      <th>Rivnevy</th>\n",
       "      <td>0.000000</td>\n",
       "      <td>0.500000</td>\n",
       "      <td>4.500000</td>\n",
       "      <td>10.500000</td>\n",
       "      <td>14.50000</td>\n",
       "      <td>30.0</td>\n",
       "    </tr>\n",
       "    <tr>\n",
       "      <th>n-Core</th>\n",
       "      <td>3.000000</td>\n",
       "      <td>5.000000</td>\n",
       "      <td>7.000000</td>\n",
       "      <td>7.500000</td>\n",
       "      <td>7.50000</td>\n",
       "      <td>30.0</td>\n",
       "    </tr>\n",
       "    <tr>\n",
       "      <th>Proportional</th>\n",
       "      <td>2.432432</td>\n",
       "      <td>4.054054</td>\n",
       "      <td>5.675676</td>\n",
       "      <td>8.108108</td>\n",
       "      <td>9.72973</td>\n",
       "      <td>30.0</td>\n",
       "    </tr>\n",
       "  </tbody>\n",
       "</table>\n",
       "</div>"
      ],
      "text/plain": [
       "                     0          1          2          3         4  Total\n",
       "Dohody        6.000000  10.000000  14.000000  20.000000  24.00000   74.0\n",
       "Podushny      6.000000   6.000000   6.000000   6.000000   6.00000   30.0\n",
       "Rivnevy       0.000000   0.500000   4.500000  10.500000  14.50000   30.0\n",
       "n-Core        3.000000   5.000000   7.000000   7.500000   7.50000   30.0\n",
       "Proportional  2.432432   4.054054   5.675676   8.108108   9.72973   30.0"
      ]
     },
     "metadata": {},
     "output_type": "display_data"
    }
   ],
   "source": [
    "report(30, Profits)"
   ]
  },
  {
   "cell_type": "code",
   "execution_count": 15,
   "metadata": {
    "ExecuteTime": {
     "end_time": "2019-04-10T08:12:24.291218Z",
     "start_time": "2019-04-10T08:12:24.258602Z"
    }
   },
   "outputs": [
    {
     "name": "stdout",
     "output_type": "stream",
     "text": [
      "$\\lambda_{1} = \\dfrac{C-}{n-{2}}$\n",
      "$\\lambda_{1} = \\dfrac{C-}{n-{2}}$\n",
      "$\\lambda_{1} = \\dfrac{C-}{n-{2}}$\n"
     ]
    },
    {
     "data": {
      "text/html": [
       "<div>\n",
       "<style scoped>\n",
       "    .dataframe tbody tr th:only-of-type {\n",
       "        vertical-align: middle;\n",
       "    }\n",
       "\n",
       "    .dataframe tbody tr th {\n",
       "        vertical-align: top;\n",
       "    }\n",
       "\n",
       "    .dataframe thead th {\n",
       "        text-align: right;\n",
       "    }\n",
       "</style>\n",
       "<table border=\"1\" class=\"dataframe\">\n",
       "  <thead>\n",
       "    <tr style=\"text-align: right;\">\n",
       "      <th></th>\n",
       "      <th>0</th>\n",
       "      <th>1</th>\n",
       "      <th>2</th>\n",
       "      <th>3</th>\n",
       "      <th>4</th>\n",
       "      <th>Total</th>\n",
       "    </tr>\n",
       "  </thead>\n",
       "  <tbody>\n",
       "    <tr>\n",
       "      <th>Dohody</th>\n",
       "      <td>6.000000</td>\n",
       "      <td>10.000000</td>\n",
       "      <td>14.000000</td>\n",
       "      <td>20.000000</td>\n",
       "      <td>24.000000</td>\n",
       "      <td>74.0</td>\n",
       "    </tr>\n",
       "    <tr>\n",
       "      <th>Podushny</th>\n",
       "      <td>6.000000</td>\n",
       "      <td>10.000000</td>\n",
       "      <td>14.000000</td>\n",
       "      <td>15.000000</td>\n",
       "      <td>15.000000</td>\n",
       "      <td>60.0</td>\n",
       "    </tr>\n",
       "    <tr>\n",
       "      <th>Rivnevy</th>\n",
       "      <td>3.200000</td>\n",
       "      <td>7.200000</td>\n",
       "      <td>11.200000</td>\n",
       "      <td>17.200000</td>\n",
       "      <td>21.200000</td>\n",
       "      <td>60.0</td>\n",
       "    </tr>\n",
       "    <tr>\n",
       "      <th>n-Core</th>\n",
       "      <td>3.200000</td>\n",
       "      <td>7.200000</td>\n",
       "      <td>11.200000</td>\n",
       "      <td>17.200000</td>\n",
       "      <td>21.200000</td>\n",
       "      <td>60.0</td>\n",
       "    </tr>\n",
       "    <tr>\n",
       "      <th>Proportional</th>\n",
       "      <td>4.864865</td>\n",
       "      <td>8.108108</td>\n",
       "      <td>11.351351</td>\n",
       "      <td>16.216216</td>\n",
       "      <td>19.459459</td>\n",
       "      <td>60.0</td>\n",
       "    </tr>\n",
       "  </tbody>\n",
       "</table>\n",
       "</div>"
      ],
      "text/plain": [
       "                     0          1          2          3          4  Total\n",
       "Dohody        6.000000  10.000000  14.000000  20.000000  24.000000   74.0\n",
       "Podushny      6.000000  10.000000  14.000000  15.000000  15.000000   60.0\n",
       "Rivnevy       3.200000   7.200000  11.200000  17.200000  21.200000   60.0\n",
       "n-Core        3.200000   7.200000  11.200000  17.200000  21.200000   60.0\n",
       "Proportional  4.864865   8.108108  11.351351  16.216216  19.459459   60.0"
      ]
     },
     "metadata": {},
     "output_type": "display_data"
    }
   ],
   "source": [
    "report(60, Profits)"
   ]
  },
  {
   "cell_type": "markdown",
   "metadata": {},
   "source": [
    "## 3.2"
   ]
  },
  {
   "cell_type": "code",
   "execution_count": 16,
   "metadata": {
    "ExecuteTime": {
     "end_time": "2019-04-10T08:12:24.305547Z",
     "start_time": "2019-04-10T08:12:24.294473Z"
    }
   },
   "outputs": [],
   "source": [
    "property_cost = 12000\n",
    "lenders = np.array([6000, 8000, 12000])"
   ]
  },
  {
   "cell_type": "code",
   "execution_count": 17,
   "metadata": {
    "ExecuteTime": {
     "end_time": "2019-04-10T08:12:24.319543Z",
     "start_time": "2019-04-10T08:12:24.311062Z"
    }
   },
   "outputs": [
    {
     "data": {
      "text/plain": [
       "array([3000., 4000., 5000.])"
      ]
     },
     "execution_count": 17,
     "metadata": {},
     "output_type": "execute_result"
    }
   ],
   "source": [
    "nCore(property_cost, lenders)"
   ]
  },
  {
   "cell_type": "markdown",
   "metadata": {},
   "source": [
    "## 4.1"
   ]
  },
  {
   "cell_type": "code",
   "execution_count": 18,
   "metadata": {
    "ExecuteTime": {
     "end_time": "2019-04-10T08:12:24.331997Z",
     "start_time": "2019-04-10T08:12:24.325905Z"
    }
   },
   "outputs": [],
   "source": [
    "Profits = np.array([ 8, 12, 20, 24, 32 ])\n",
    "Cs = np.array([36, 70])"
   ]
  },
  {
   "cell_type": "code",
   "execution_count": 19,
   "metadata": {
    "ExecuteTime": {
     "end_time": "2019-04-10T08:12:24.359280Z",
     "start_time": "2019-04-10T08:12:24.335144Z"
    }
   },
   "outputs": [
    {
     "data": {
      "text/html": [
       "<div>\n",
       "<style scoped>\n",
       "    .dataframe tbody tr th:only-of-type {\n",
       "        vertical-align: middle;\n",
       "    }\n",
       "\n",
       "    .dataframe tbody tr th {\n",
       "        vertical-align: top;\n",
       "    }\n",
       "\n",
       "    .dataframe thead th {\n",
       "        text-align: right;\n",
       "    }\n",
       "</style>\n",
       "<table border=\"1\" class=\"dataframe\">\n",
       "  <thead>\n",
       "    <tr style=\"text-align: right;\">\n",
       "      <th></th>\n",
       "      <th>0</th>\n",
       "      <th>1</th>\n",
       "      <th>2</th>\n",
       "      <th>3</th>\n",
       "      <th>4</th>\n",
       "      <th>Total</th>\n",
       "    </tr>\n",
       "  </thead>\n",
       "  <tbody>\n",
       "    <tr>\n",
       "      <th>Dohody</th>\n",
       "      <td>8.0</td>\n",
       "      <td>12.0</td>\n",
       "      <td>20.000000</td>\n",
       "      <td>24.000000</td>\n",
       "      <td>32.000000</td>\n",
       "      <td>96.0</td>\n",
       "    </tr>\n",
       "    <tr>\n",
       "      <th>Podushny</th>\n",
       "      <td>7.2</td>\n",
       "      <td>7.2</td>\n",
       "      <td>7.200000</td>\n",
       "      <td>7.200000</td>\n",
       "      <td>7.200000</td>\n",
       "      <td>36.0</td>\n",
       "    </tr>\n",
       "    <tr>\n",
       "      <th>Rivnevy</th>\n",
       "      <td>0.0</td>\n",
       "      <td>0.0</td>\n",
       "      <td>6.666667</td>\n",
       "      <td>10.666667</td>\n",
       "      <td>18.666667</td>\n",
       "      <td>36.0</td>\n",
       "    </tr>\n",
       "    <tr>\n",
       "      <th>n-Core</th>\n",
       "      <td>4.0</td>\n",
       "      <td>6.0</td>\n",
       "      <td>8.666667</td>\n",
       "      <td>8.666667</td>\n",
       "      <td>8.666667</td>\n",
       "      <td>36.0</td>\n",
       "    </tr>\n",
       "    <tr>\n",
       "      <th>Proportional</th>\n",
       "      <td>3.0</td>\n",
       "      <td>4.5</td>\n",
       "      <td>7.500000</td>\n",
       "      <td>9.000000</td>\n",
       "      <td>12.000000</td>\n",
       "      <td>36.0</td>\n",
       "    </tr>\n",
       "  </tbody>\n",
       "</table>\n",
       "</div>"
      ],
      "text/plain": [
       "                0     1          2          3          4  Total\n",
       "Dohody        8.0  12.0  20.000000  24.000000  32.000000   96.0\n",
       "Podushny      7.2   7.2   7.200000   7.200000   7.200000   36.0\n",
       "Rivnevy       0.0   0.0   6.666667  10.666667  18.666667   36.0\n",
       "n-Core        4.0   6.0   8.666667   8.666667   8.666667   36.0\n",
       "Proportional  3.0   4.5   7.500000   9.000000  12.000000   36.0"
      ]
     },
     "metadata": {},
     "output_type": "display_data"
    }
   ],
   "source": [
    "report(36, Profits)"
   ]
  },
  {
   "cell_type": "code",
   "execution_count": 20,
   "metadata": {
    "ExecuteTime": {
     "end_time": "2019-04-10T08:12:24.387890Z",
     "start_time": "2019-04-10T08:12:24.362000Z"
    }
   },
   "outputs": [
    {
     "name": "stdout",
     "output_type": "stream",
     "text": [
      "$\\lambda_{1} = \\dfrac{C-}{n-{2}}$\n",
      "$\\lambda_{1} = \\dfrac{C-}{n-{2}}$\n"
     ]
    },
    {
     "data": {
      "text/html": [
       "<div>\n",
       "<style scoped>\n",
       "    .dataframe tbody tr th:only-of-type {\n",
       "        vertical-align: middle;\n",
       "    }\n",
       "\n",
       "    .dataframe tbody tr th {\n",
       "        vertical-align: top;\n",
       "    }\n",
       "\n",
       "    .dataframe thead th {\n",
       "        text-align: right;\n",
       "    }\n",
       "</style>\n",
       "<table border=\"1\" class=\"dataframe\">\n",
       "  <thead>\n",
       "    <tr style=\"text-align: right;\">\n",
       "      <th></th>\n",
       "      <th>0</th>\n",
       "      <th>1</th>\n",
       "      <th>2</th>\n",
       "      <th>3</th>\n",
       "      <th>4</th>\n",
       "      <th>Total</th>\n",
       "    </tr>\n",
       "  </thead>\n",
       "  <tbody>\n",
       "    <tr>\n",
       "      <th>Dohody</th>\n",
       "      <td>8.000000</td>\n",
       "      <td>12.00</td>\n",
       "      <td>20.000000</td>\n",
       "      <td>24.000000</td>\n",
       "      <td>32.000000</td>\n",
       "      <td>96.0</td>\n",
       "    </tr>\n",
       "    <tr>\n",
       "      <th>Podushny</th>\n",
       "      <td>8.000000</td>\n",
       "      <td>12.00</td>\n",
       "      <td>16.666667</td>\n",
       "      <td>16.666667</td>\n",
       "      <td>16.666667</td>\n",
       "      <td>70.0</td>\n",
       "    </tr>\n",
       "    <tr>\n",
       "      <th>Rivnevy</th>\n",
       "      <td>2.800000</td>\n",
       "      <td>6.80</td>\n",
       "      <td>14.800000</td>\n",
       "      <td>18.800000</td>\n",
       "      <td>26.800000</td>\n",
       "      <td>70.0</td>\n",
       "    </tr>\n",
       "    <tr>\n",
       "      <th>n-Core</th>\n",
       "      <td>4.000000</td>\n",
       "      <td>6.50</td>\n",
       "      <td>14.500000</td>\n",
       "      <td>18.500000</td>\n",
       "      <td>26.500000</td>\n",
       "      <td>70.0</td>\n",
       "    </tr>\n",
       "    <tr>\n",
       "      <th>Proportional</th>\n",
       "      <td>5.833333</td>\n",
       "      <td>8.75</td>\n",
       "      <td>14.583333</td>\n",
       "      <td>17.500000</td>\n",
       "      <td>23.333333</td>\n",
       "      <td>70.0</td>\n",
       "    </tr>\n",
       "  </tbody>\n",
       "</table>\n",
       "</div>"
      ],
      "text/plain": [
       "                     0      1          2          3          4  Total\n",
       "Dohody        8.000000  12.00  20.000000  24.000000  32.000000   96.0\n",
       "Podushny      8.000000  12.00  16.666667  16.666667  16.666667   70.0\n",
       "Rivnevy       2.800000   6.80  14.800000  18.800000  26.800000   70.0\n",
       "n-Core        4.000000   6.50  14.500000  18.500000  26.500000   70.0\n",
       "Proportional  5.833333   8.75  14.583333  17.500000  23.333333   70.0"
      ]
     },
     "metadata": {},
     "output_type": "display_data"
    }
   ],
   "source": [
    "report(70, Profits)"
   ]
  },
  {
   "cell_type": "markdown",
   "metadata": {},
   "source": [
    "## 4.2"
   ]
  },
  {
   "cell_type": "code",
   "execution_count": 21,
   "metadata": {
    "ExecuteTime": {
     "end_time": "2019-04-10T08:12:24.397291Z",
     "start_time": "2019-04-10T08:12:24.391469Z"
    }
   },
   "outputs": [],
   "source": [
    "property_cost = 16000\n",
    "lenders = np.array([4000, 6000, 10000])"
   ]
  },
  {
   "cell_type": "code",
   "execution_count": 22,
   "metadata": {
    "ExecuteTime": {
     "end_time": "2019-04-10T08:12:24.406176Z",
     "start_time": "2019-04-10T08:12:24.399630Z"
    }
   },
   "outputs": [
    {
     "data": {
      "text/plain": [
       "array([2666.66666667, 4666.66666667, 8666.66666667])"
      ]
     },
     "execution_count": 22,
     "metadata": {},
     "output_type": "execute_result"
    }
   ],
   "source": [
    "nCore(property_cost, lenders)"
   ]
  },
  {
   "cell_type": "markdown",
   "metadata": {},
   "source": [
    "## 5.1"
   ]
  },
  {
   "cell_type": "code",
   "execution_count": 23,
   "metadata": {
    "ExecuteTime": {
     "end_time": "2019-04-10T08:12:24.420091Z",
     "start_time": "2019-04-10T08:12:24.414032Z"
    }
   },
   "outputs": [],
   "source": [
    "profits = np.array([ 10, 12, 18, 20, 30, 36 ])"
   ]
  },
  {
   "cell_type": "code",
   "execution_count": 24,
   "metadata": {
    "ExecuteTime": {
     "end_time": "2019-04-10T08:12:24.511043Z",
     "start_time": "2019-04-10T08:12:24.424327Z"
    }
   },
   "outputs": [
    {
     "name": "stdout",
     "output_type": "stream",
     "text": [
      "$\\lambda_{1} = \\dfrac{C-}{n-{2}}$\n"
     ]
    },
    {
     "data": {
      "text/html": [
       "<div>\n",
       "<style scoped>\n",
       "    .dataframe tbody tr th:only-of-type {\n",
       "        vertical-align: middle;\n",
       "    }\n",
       "\n",
       "    .dataframe tbody tr th {\n",
       "        vertical-align: top;\n",
       "    }\n",
       "\n",
       "    .dataframe thead th {\n",
       "        text-align: right;\n",
       "    }\n",
       "</style>\n",
       "<table border=\"1\" class=\"dataframe\">\n",
       "  <thead>\n",
       "    <tr style=\"text-align: right;\">\n",
       "      <th></th>\n",
       "      <th>0</th>\n",
       "      <th>1</th>\n",
       "      <th>2</th>\n",
       "      <th>3</th>\n",
       "      <th>4</th>\n",
       "      <th>Total</th>\n",
       "    </tr>\n",
       "  </thead>\n",
       "  <tbody>\n",
       "    <tr>\n",
       "      <th>Dohody</th>\n",
       "      <td>8.000000</td>\n",
       "      <td>12.00</td>\n",
       "      <td>20.000000</td>\n",
       "      <td>24.0</td>\n",
       "      <td>32.000000</td>\n",
       "      <td>96.0</td>\n",
       "    </tr>\n",
       "    <tr>\n",
       "      <th>Podushny</th>\n",
       "      <td>8.000000</td>\n",
       "      <td>10.50</td>\n",
       "      <td>10.500000</td>\n",
       "      <td>10.5</td>\n",
       "      <td>10.500000</td>\n",
       "      <td>50.0</td>\n",
       "    </tr>\n",
       "    <tr>\n",
       "      <th>Rivnevy</th>\n",
       "      <td>0.000000</td>\n",
       "      <td>2.50</td>\n",
       "      <td>10.500000</td>\n",
       "      <td>14.5</td>\n",
       "      <td>22.500000</td>\n",
       "      <td>50.0</td>\n",
       "    </tr>\n",
       "    <tr>\n",
       "      <th>n-Core</th>\n",
       "      <td>4.000000</td>\n",
       "      <td>6.00</td>\n",
       "      <td>10.000000</td>\n",
       "      <td>12.0</td>\n",
       "      <td>18.000000</td>\n",
       "      <td>50.0</td>\n",
       "    </tr>\n",
       "    <tr>\n",
       "      <th>Proportional</th>\n",
       "      <td>4.166667</td>\n",
       "      <td>6.25</td>\n",
       "      <td>10.416667</td>\n",
       "      <td>12.5</td>\n",
       "      <td>16.666667</td>\n",
       "      <td>50.0</td>\n",
       "    </tr>\n",
       "  </tbody>\n",
       "</table>\n",
       "</div>"
      ],
      "text/plain": [
       "                     0      1          2     3          4  Total\n",
       "Dohody        8.000000  12.00  20.000000  24.0  32.000000   96.0\n",
       "Podushny      8.000000  10.50  10.500000  10.5  10.500000   50.0\n",
       "Rivnevy       0.000000   2.50  10.500000  14.5  22.500000   50.0\n",
       "n-Core        4.000000   6.00  10.000000  12.0  18.000000   50.0\n",
       "Proportional  4.166667   6.25  10.416667  12.5  16.666667   50.0"
      ]
     },
     "metadata": {},
     "output_type": "display_data"
    }
   ],
   "source": [
    "report(50, Profits)"
   ]
  },
  {
   "cell_type": "code",
   "execution_count": 25,
   "metadata": {
    "ExecuteTime": {
     "end_time": "2019-04-10T08:12:24.539737Z",
     "start_time": "2019-04-10T08:12:24.514031Z"
    }
   },
   "outputs": [
    {
     "name": "stdout",
     "output_type": "stream",
     "text": [
      "$\\lambda_{1} = \\dfrac{C-}{n-{2}}$\n",
      "$\\lambda_{1} = \\dfrac{C-}{n-{2}}$\n",
      "$\\lambda_{1} = \\dfrac{C-}{n-{2}}$\n",
      "$\\lambda_{1} = \\dfrac{C-}{n-{2}}$\n"
     ]
    },
    {
     "data": {
      "text/html": [
       "<div>\n",
       "<style scoped>\n",
       "    .dataframe tbody tr th:only-of-type {\n",
       "        vertical-align: middle;\n",
       "    }\n",
       "\n",
       "    .dataframe tbody tr th {\n",
       "        vertical-align: top;\n",
       "    }\n",
       "\n",
       "    .dataframe thead th {\n",
       "        text-align: right;\n",
       "    }\n",
       "</style>\n",
       "<table border=\"1\" class=\"dataframe\">\n",
       "  <thead>\n",
       "    <tr style=\"text-align: right;\">\n",
       "      <th></th>\n",
       "      <th>0</th>\n",
       "      <th>1</th>\n",
       "      <th>2</th>\n",
       "      <th>3</th>\n",
       "      <th>4</th>\n",
       "      <th>Total</th>\n",
       "    </tr>\n",
       "  </thead>\n",
       "  <tbody>\n",
       "    <tr>\n",
       "      <th>Dohody</th>\n",
       "      <td>8.0</td>\n",
       "      <td>12.00</td>\n",
       "      <td>20.00</td>\n",
       "      <td>24.0</td>\n",
       "      <td>32.0</td>\n",
       "      <td>96.0</td>\n",
       "    </tr>\n",
       "    <tr>\n",
       "      <th>Podushny</th>\n",
       "      <td>8.0</td>\n",
       "      <td>12.00</td>\n",
       "      <td>20.00</td>\n",
       "      <td>24.0</td>\n",
       "      <td>26.0</td>\n",
       "      <td>90.0</td>\n",
       "    </tr>\n",
       "    <tr>\n",
       "      <th>Rivnevy</th>\n",
       "      <td>6.8</td>\n",
       "      <td>10.80</td>\n",
       "      <td>18.80</td>\n",
       "      <td>22.8</td>\n",
       "      <td>30.8</td>\n",
       "      <td>90.0</td>\n",
       "    </tr>\n",
       "    <tr>\n",
       "      <th>n-Core</th>\n",
       "      <td>6.8</td>\n",
       "      <td>10.80</td>\n",
       "      <td>18.80</td>\n",
       "      <td>22.8</td>\n",
       "      <td>30.8</td>\n",
       "      <td>90.0</td>\n",
       "    </tr>\n",
       "    <tr>\n",
       "      <th>Proportional</th>\n",
       "      <td>7.5</td>\n",
       "      <td>11.25</td>\n",
       "      <td>18.75</td>\n",
       "      <td>22.5</td>\n",
       "      <td>30.0</td>\n",
       "      <td>90.0</td>\n",
       "    </tr>\n",
       "  </tbody>\n",
       "</table>\n",
       "</div>"
      ],
      "text/plain": [
       "                0      1      2     3     4  Total\n",
       "Dohody        8.0  12.00  20.00  24.0  32.0   96.0\n",
       "Podushny      8.0  12.00  20.00  24.0  26.0   90.0\n",
       "Rivnevy       6.8  10.80  18.80  22.8  30.8   90.0\n",
       "n-Core        6.8  10.80  18.80  22.8  30.8   90.0\n",
       "Proportional  7.5  11.25  18.75  22.5  30.0   90.0"
      ]
     },
     "metadata": {},
     "output_type": "display_data"
    }
   ],
   "source": [
    "report(90, Profits)"
   ]
  },
  {
   "cell_type": "markdown",
   "metadata": {},
   "source": [
    "## 5.2"
   ]
  },
  {
   "cell_type": "code",
   "execution_count": 26,
   "metadata": {
    "ExecuteTime": {
     "end_time": "2019-04-10T08:12:24.549116Z",
     "start_time": "2019-04-10T08:12:24.543887Z"
    }
   },
   "outputs": [],
   "source": [
    "property_cost = 20000\n",
    "lenders = np.array([6000, 8000, 10000])"
   ]
  },
  {
   "cell_type": "code",
   "execution_count": 27,
   "metadata": {
    "ExecuteTime": {
     "end_time": "2019-04-10T08:12:24.560461Z",
     "start_time": "2019-04-10T08:12:24.552288Z"
    }
   },
   "outputs": [
    {
     "data": {
      "text/plain": [
       "array([4666.66666667, 6666.66666667, 8666.66666667])"
      ]
     },
     "execution_count": 27,
     "metadata": {},
     "output_type": "execute_result"
    }
   ],
   "source": [
    "nCore(property_cost, lenders)"
   ]
  },
  {
   "cell_type": "markdown",
   "metadata": {},
   "source": [
    "## 6.1"
   ]
  },
  {
   "cell_type": "code",
   "execution_count": 28,
   "metadata": {
    "ExecuteTime": {
     "end_time": "2019-04-10T08:12:24.566746Z",
     "start_time": "2019-04-10T08:12:24.562957Z"
    }
   },
   "outputs": [],
   "source": [
    "Profits = np.array([ 4, 8, 12, 20, 26, 30 ])"
   ]
  },
  {
   "cell_type": "code",
   "execution_count": 29,
   "metadata": {
    "ExecuteTime": {
     "end_time": "2019-04-10T08:12:24.597554Z",
     "start_time": "2019-04-10T08:12:24.570147Z"
    }
   },
   "outputs": [
    {
     "name": "stdout",
     "output_type": "stream",
     "text": [
      "$\\lambda_{1} = \\dfrac{C-}{n-{2}}$\n",
      "$\\lambda_{1} = \\dfrac{C-}{n-{2}}$\n"
     ]
    },
    {
     "data": {
      "text/html": [
       "<div>\n",
       "<style scoped>\n",
       "    .dataframe tbody tr th:only-of-type {\n",
       "        vertical-align: middle;\n",
       "    }\n",
       "\n",
       "    .dataframe tbody tr th {\n",
       "        vertical-align: top;\n",
       "    }\n",
       "\n",
       "    .dataframe thead th {\n",
       "        text-align: right;\n",
       "    }\n",
       "</style>\n",
       "<table border=\"1\" class=\"dataframe\">\n",
       "  <thead>\n",
       "    <tr style=\"text-align: right;\">\n",
       "      <th></th>\n",
       "      <th>0</th>\n",
       "      <th>1</th>\n",
       "      <th>2</th>\n",
       "      <th>3</th>\n",
       "      <th>4</th>\n",
       "      <th>5</th>\n",
       "      <th>Total</th>\n",
       "    </tr>\n",
       "  </thead>\n",
       "  <tbody>\n",
       "    <tr>\n",
       "      <th>Dohody</th>\n",
       "      <td>4.00</td>\n",
       "      <td>8.00</td>\n",
       "      <td>12.00</td>\n",
       "      <td>20.0</td>\n",
       "      <td>26.00</td>\n",
       "      <td>30.0</td>\n",
       "      <td>100.0</td>\n",
       "    </tr>\n",
       "    <tr>\n",
       "      <th>Podushny</th>\n",
       "      <td>4.00</td>\n",
       "      <td>8.00</td>\n",
       "      <td>9.00</td>\n",
       "      <td>9.0</td>\n",
       "      <td>9.00</td>\n",
       "      <td>9.0</td>\n",
       "      <td>48.0</td>\n",
       "    </tr>\n",
       "    <tr>\n",
       "      <th>Rivnevy</th>\n",
       "      <td>0.00</td>\n",
       "      <td>0.00</td>\n",
       "      <td>2.00</td>\n",
       "      <td>10.0</td>\n",
       "      <td>16.00</td>\n",
       "      <td>20.0</td>\n",
       "      <td>48.0</td>\n",
       "    </tr>\n",
       "    <tr>\n",
       "      <th>n-Core</th>\n",
       "      <td>2.00</td>\n",
       "      <td>4.00</td>\n",
       "      <td>6.00</td>\n",
       "      <td>10.0</td>\n",
       "      <td>13.00</td>\n",
       "      <td>13.0</td>\n",
       "      <td>48.0</td>\n",
       "    </tr>\n",
       "    <tr>\n",
       "      <th>Proportional</th>\n",
       "      <td>1.92</td>\n",
       "      <td>3.84</td>\n",
       "      <td>5.76</td>\n",
       "      <td>9.6</td>\n",
       "      <td>12.48</td>\n",
       "      <td>14.4</td>\n",
       "      <td>48.0</td>\n",
       "    </tr>\n",
       "  </tbody>\n",
       "</table>\n",
       "</div>"
      ],
      "text/plain": [
       "                 0     1      2     3      4     5  Total\n",
       "Dohody        4.00  8.00  12.00  20.0  26.00  30.0  100.0\n",
       "Podushny      4.00  8.00   9.00   9.0   9.00   9.0   48.0\n",
       "Rivnevy       0.00  0.00   2.00  10.0  16.00  20.0   48.0\n",
       "n-Core        2.00  4.00   6.00  10.0  13.00  13.0   48.0\n",
       "Proportional  1.92  3.84   5.76   9.6  12.48  14.4   48.0"
      ]
     },
     "metadata": {},
     "output_type": "display_data"
    }
   ],
   "source": [
    "report(48, Profits)"
   ]
  },
  {
   "cell_type": "code",
   "execution_count": 30,
   "metadata": {
    "ExecuteTime": {
     "end_time": "2019-04-10T08:12:24.626721Z",
     "start_time": "2019-04-10T08:12:24.601079Z"
    }
   },
   "outputs": [
    {
     "name": "stdout",
     "output_type": "stream",
     "text": [
      "$\\lambda_{1} = \\dfrac{C-}{n-{2}}$\n",
      "$\\lambda_{1} = \\dfrac{C-}{n-{2}}$\n",
      "$\\lambda_{1} = \\dfrac{C-}{n-{2}}$\n",
      "$\\lambda_{1} = \\dfrac{C-}{n-{2}}$\n"
     ]
    },
    {
     "data": {
      "text/html": [
       "<div>\n",
       "<style scoped>\n",
       "    .dataframe tbody tr th:only-of-type {\n",
       "        vertical-align: middle;\n",
       "    }\n",
       "\n",
       "    .dataframe tbody tr th {\n",
       "        vertical-align: top;\n",
       "    }\n",
       "\n",
       "    .dataframe thead th {\n",
       "        text-align: right;\n",
       "    }\n",
       "</style>\n",
       "<table border=\"1\" class=\"dataframe\">\n",
       "  <thead>\n",
       "    <tr style=\"text-align: right;\">\n",
       "      <th></th>\n",
       "      <th>0</th>\n",
       "      <th>1</th>\n",
       "      <th>2</th>\n",
       "      <th>3</th>\n",
       "      <th>4</th>\n",
       "      <th>5</th>\n",
       "      <th>Total</th>\n",
       "    </tr>\n",
       "  </thead>\n",
       "  <tbody>\n",
       "    <tr>\n",
       "      <th>Dohody</th>\n",
       "      <td>4.000000</td>\n",
       "      <td>8.000000</td>\n",
       "      <td>12.000000</td>\n",
       "      <td>20.000000</td>\n",
       "      <td>26.000000</td>\n",
       "      <td>30.000000</td>\n",
       "      <td>100.0</td>\n",
       "    </tr>\n",
       "    <tr>\n",
       "      <th>Podushny</th>\n",
       "      <td>4.000000</td>\n",
       "      <td>8.000000</td>\n",
       "      <td>12.000000</td>\n",
       "      <td>20.000000</td>\n",
       "      <td>20.000000</td>\n",
       "      <td>20.000000</td>\n",
       "      <td>84.0</td>\n",
       "    </tr>\n",
       "    <tr>\n",
       "      <th>Rivnevy</th>\n",
       "      <td>1.333333</td>\n",
       "      <td>5.333333</td>\n",
       "      <td>9.333333</td>\n",
       "      <td>17.333333</td>\n",
       "      <td>23.333333</td>\n",
       "      <td>27.333333</td>\n",
       "      <td>84.0</td>\n",
       "    </tr>\n",
       "    <tr>\n",
       "      <th>n-Core</th>\n",
       "      <td>2.000000</td>\n",
       "      <td>5.200000</td>\n",
       "      <td>9.200000</td>\n",
       "      <td>17.200000</td>\n",
       "      <td>23.200000</td>\n",
       "      <td>27.200000</td>\n",
       "      <td>84.0</td>\n",
       "    </tr>\n",
       "    <tr>\n",
       "      <th>Proportional</th>\n",
       "      <td>3.360000</td>\n",
       "      <td>6.720000</td>\n",
       "      <td>10.080000</td>\n",
       "      <td>16.800000</td>\n",
       "      <td>21.840000</td>\n",
       "      <td>25.200000</td>\n",
       "      <td>84.0</td>\n",
       "    </tr>\n",
       "  </tbody>\n",
       "</table>\n",
       "</div>"
      ],
      "text/plain": [
       "                     0         1          2          3          4          5  \\\n",
       "Dohody        4.000000  8.000000  12.000000  20.000000  26.000000  30.000000   \n",
       "Podushny      4.000000  8.000000  12.000000  20.000000  20.000000  20.000000   \n",
       "Rivnevy       1.333333  5.333333   9.333333  17.333333  23.333333  27.333333   \n",
       "n-Core        2.000000  5.200000   9.200000  17.200000  23.200000  27.200000   \n",
       "Proportional  3.360000  6.720000  10.080000  16.800000  21.840000  25.200000   \n",
       "\n",
       "              Total  \n",
       "Dohody        100.0  \n",
       "Podushny       84.0  \n",
       "Rivnevy        84.0  \n",
       "n-Core         84.0  \n",
       "Proportional   84.0  "
      ]
     },
     "metadata": {},
     "output_type": "display_data"
    }
   ],
   "source": [
    "report(84, Profits)"
   ]
  },
  {
   "cell_type": "markdown",
   "metadata": {},
   "source": [
    "## 6.2"
   ]
  },
  {
   "cell_type": "code",
   "execution_count": 31,
   "metadata": {
    "ExecuteTime": {
     "end_time": "2019-04-10T08:12:24.632878Z",
     "start_time": "2019-04-10T08:12:24.629063Z"
    }
   },
   "outputs": [],
   "source": [
    "property_cost = 15000\n",
    "lenders = np.array([6000, 8000, 10000])"
   ]
  },
  {
   "cell_type": "code",
   "execution_count": 32,
   "metadata": {
    "ExecuteTime": {
     "end_time": "2019-04-10T08:12:24.644551Z",
     "start_time": "2019-04-10T08:12:24.636243Z"
    }
   },
   "outputs": [
    {
     "data": {
      "text/plain": [
       "array([3000., 5000., 7000.])"
      ]
     },
     "execution_count": 32,
     "metadata": {},
     "output_type": "execute_result"
    }
   ],
   "source": [
    "nCore(property_cost, lenders)"
   ]
  },
  {
   "cell_type": "markdown",
   "metadata": {},
   "source": [
    "## 7.1"
   ]
  },
  {
   "cell_type": "code",
   "execution_count": 33,
   "metadata": {
    "ExecuteTime": {
     "end_time": "2019-04-10T08:12:24.652229Z",
     "start_time": "2019-04-10T08:12:24.647426Z"
    }
   },
   "outputs": [],
   "source": [
    "profits = np.array([ 6, 10, 14, 20, 24, 36 ])"
   ]
  },
  {
   "cell_type": "code",
   "execution_count": 34,
   "metadata": {
    "ExecuteTime": {
     "end_time": "2019-04-10T08:12:24.680678Z",
     "start_time": "2019-04-10T08:12:24.655558Z"
    }
   },
   "outputs": [
    {
     "name": "stdout",
     "output_type": "stream",
     "text": [
      "$\\lambda_{1} = \\dfrac{C-}{n-{2}}$\n",
      "$\\lambda_{1} = \\dfrac{C-}{n-{2}}$\n"
     ]
    },
    {
     "data": {
      "text/html": [
       "<div>\n",
       "<style scoped>\n",
       "    .dataframe tbody tr th:only-of-type {\n",
       "        vertical-align: middle;\n",
       "    }\n",
       "\n",
       "    .dataframe tbody tr th {\n",
       "        vertical-align: top;\n",
       "    }\n",
       "\n",
       "    .dataframe thead th {\n",
       "        text-align: right;\n",
       "    }\n",
       "</style>\n",
       "<table border=\"1\" class=\"dataframe\">\n",
       "  <thead>\n",
       "    <tr style=\"text-align: right;\">\n",
       "      <th></th>\n",
       "      <th>0</th>\n",
       "      <th>1</th>\n",
       "      <th>2</th>\n",
       "      <th>3</th>\n",
       "      <th>4</th>\n",
       "      <th>5</th>\n",
       "      <th>Total</th>\n",
       "    </tr>\n",
       "  </thead>\n",
       "  <tbody>\n",
       "    <tr>\n",
       "      <th>Dohody</th>\n",
       "      <td>4.0</td>\n",
       "      <td>8.0</td>\n",
       "      <td>12.0</td>\n",
       "      <td>20.0</td>\n",
       "      <td>26.0</td>\n",
       "      <td>30.0</td>\n",
       "      <td>100.0</td>\n",
       "    </tr>\n",
       "    <tr>\n",
       "      <th>Podushny</th>\n",
       "      <td>4.0</td>\n",
       "      <td>8.0</td>\n",
       "      <td>9.5</td>\n",
       "      <td>9.5</td>\n",
       "      <td>9.5</td>\n",
       "      <td>9.5</td>\n",
       "      <td>50.0</td>\n",
       "    </tr>\n",
       "    <tr>\n",
       "      <th>Rivnevy</th>\n",
       "      <td>0.0</td>\n",
       "      <td>0.0</td>\n",
       "      <td>2.5</td>\n",
       "      <td>10.5</td>\n",
       "      <td>16.5</td>\n",
       "      <td>20.5</td>\n",
       "      <td>50.0</td>\n",
       "    </tr>\n",
       "    <tr>\n",
       "      <th>n-Core</th>\n",
       "      <td>2.0</td>\n",
       "      <td>4.0</td>\n",
       "      <td>6.0</td>\n",
       "      <td>10.0</td>\n",
       "      <td>13.0</td>\n",
       "      <td>15.0</td>\n",
       "      <td>50.0</td>\n",
       "    </tr>\n",
       "    <tr>\n",
       "      <th>Proportional</th>\n",
       "      <td>2.0</td>\n",
       "      <td>4.0</td>\n",
       "      <td>6.0</td>\n",
       "      <td>10.0</td>\n",
       "      <td>13.0</td>\n",
       "      <td>15.0</td>\n",
       "      <td>50.0</td>\n",
       "    </tr>\n",
       "  </tbody>\n",
       "</table>\n",
       "</div>"
      ],
      "text/plain": [
       "                0    1     2     3     4     5  Total\n",
       "Dohody        4.0  8.0  12.0  20.0  26.0  30.0  100.0\n",
       "Podushny      4.0  8.0   9.5   9.5   9.5   9.5   50.0\n",
       "Rivnevy       0.0  0.0   2.5  10.5  16.5  20.5   50.0\n",
       "n-Core        2.0  4.0   6.0  10.0  13.0  15.0   50.0\n",
       "Proportional  2.0  4.0   6.0  10.0  13.0  15.0   50.0"
      ]
     },
     "metadata": {},
     "output_type": "display_data"
    }
   ],
   "source": [
    "report(50, Profits)"
   ]
  },
  {
   "cell_type": "code",
   "execution_count": 35,
   "metadata": {
    "ExecuteTime": {
     "end_time": "2019-04-10T08:12:24.704172Z",
     "start_time": "2019-04-10T08:12:24.683797Z"
    }
   },
   "outputs": [
    {
     "name": "stdout",
     "output_type": "stream",
     "text": [
      "$\\lambda_{1} = \\dfrac{C-}{n-{2}}$\n",
      "$\\lambda_{1} = \\dfrac{C-}{n-{2}}$\n",
      "$\\lambda_{1} = \\dfrac{C-}{n-{2}}$\n"
     ]
    },
    {
     "data": {
      "text/html": [
       "<div>\n",
       "<style scoped>\n",
       "    .dataframe tbody tr th:only-of-type {\n",
       "        vertical-align: middle;\n",
       "    }\n",
       "\n",
       "    .dataframe tbody tr th {\n",
       "        vertical-align: top;\n",
       "    }\n",
       "\n",
       "    .dataframe thead th {\n",
       "        text-align: right;\n",
       "    }\n",
       "</style>\n",
       "<table border=\"1\" class=\"dataframe\">\n",
       "  <thead>\n",
       "    <tr style=\"text-align: right;\">\n",
       "      <th></th>\n",
       "      <th>0</th>\n",
       "      <th>1</th>\n",
       "      <th>2</th>\n",
       "      <th>3</th>\n",
       "      <th>4</th>\n",
       "      <th>5</th>\n",
       "      <th>Total</th>\n",
       "    </tr>\n",
       "  </thead>\n",
       "  <tbody>\n",
       "    <tr>\n",
       "      <th>Dohody</th>\n",
       "      <td>4.000000</td>\n",
       "      <td>8.000000</td>\n",
       "      <td>12.000000</td>\n",
       "      <td>20.000000</td>\n",
       "      <td>26.000000</td>\n",
       "      <td>30.000000</td>\n",
       "      <td>100.0</td>\n",
       "    </tr>\n",
       "    <tr>\n",
       "      <th>Podushny</th>\n",
       "      <td>4.000000</td>\n",
       "      <td>8.000000</td>\n",
       "      <td>12.000000</td>\n",
       "      <td>18.666667</td>\n",
       "      <td>18.666667</td>\n",
       "      <td>18.666667</td>\n",
       "      <td>80.0</td>\n",
       "    </tr>\n",
       "    <tr>\n",
       "      <th>Rivnevy</th>\n",
       "      <td>0.666667</td>\n",
       "      <td>4.666667</td>\n",
       "      <td>8.666667</td>\n",
       "      <td>16.666667</td>\n",
       "      <td>22.666667</td>\n",
       "      <td>26.666667</td>\n",
       "      <td>80.0</td>\n",
       "    </tr>\n",
       "    <tr>\n",
       "      <th>n-Core</th>\n",
       "      <td>2.000000</td>\n",
       "      <td>4.400000</td>\n",
       "      <td>8.400000</td>\n",
       "      <td>16.400000</td>\n",
       "      <td>22.400000</td>\n",
       "      <td>26.400000</td>\n",
       "      <td>80.0</td>\n",
       "    </tr>\n",
       "    <tr>\n",
       "      <th>Proportional</th>\n",
       "      <td>3.200000</td>\n",
       "      <td>6.400000</td>\n",
       "      <td>9.600000</td>\n",
       "      <td>16.000000</td>\n",
       "      <td>20.800000</td>\n",
       "      <td>24.000000</td>\n",
       "      <td>80.0</td>\n",
       "    </tr>\n",
       "  </tbody>\n",
       "</table>\n",
       "</div>"
      ],
      "text/plain": [
       "                     0         1          2          3          4          5  \\\n",
       "Dohody        4.000000  8.000000  12.000000  20.000000  26.000000  30.000000   \n",
       "Podushny      4.000000  8.000000  12.000000  18.666667  18.666667  18.666667   \n",
       "Rivnevy       0.666667  4.666667   8.666667  16.666667  22.666667  26.666667   \n",
       "n-Core        2.000000  4.400000   8.400000  16.400000  22.400000  26.400000   \n",
       "Proportional  3.200000  6.400000   9.600000  16.000000  20.800000  24.000000   \n",
       "\n",
       "              Total  \n",
       "Dohody        100.0  \n",
       "Podushny       80.0  \n",
       "Rivnevy        80.0  \n",
       "n-Core         80.0  \n",
       "Proportional   80.0  "
      ]
     },
     "metadata": {},
     "output_type": "display_data"
    }
   ],
   "source": [
    "report(80, Profits)"
   ]
  },
  {
   "cell_type": "markdown",
   "metadata": {},
   "source": [
    "## 7.2"
   ]
  },
  {
   "cell_type": "code",
   "execution_count": 4,
   "metadata": {
    "ExecuteTime": {
     "end_time": "2019-05-27T18:42:06.956109Z",
     "start_time": "2019-05-27T18:42:06.946379Z"
    }
   },
   "outputs": [],
   "source": [
    "property_cost = 12000\n",
    "lenders = np.array([6000, 8000, 12000])"
   ]
  },
  {
   "cell_type": "code",
   "execution_count": 5,
   "metadata": {
    "ExecuteTime": {
     "end_time": "2019-05-27T18:42:07.422537Z",
     "start_time": "2019-05-27T18:42:07.397257Z"
    }
   },
   "outputs": [
    {
     "data": {
      "text/plain": [
       "array([3000., 4000., 5000.])"
      ]
     },
     "execution_count": 5,
     "metadata": {},
     "output_type": "execute_result"
    }
   ],
   "source": [
    "nCore(property_cost, lenders)"
   ]
  }
 ],
 "metadata": {
  "hide_input": false,
  "kernelspec": {
   "display_name": "Python 3",
   "language": "python",
   "name": "python3"
  },
  "language_info": {
   "codemirror_mode": {
    "name": "ipython",
    "version": 3
   },
   "file_extension": ".py",
   "mimetype": "text/x-python",
   "name": "python",
   "nbconvert_exporter": "python",
   "pygments_lexer": "ipython3",
   "version": "3.7.3"
  },
  "toc": {
   "base_numbering": 1,
   "nav_menu": {},
   "number_sections": false,
   "sideBar": true,
   "skip_h1_title": false,
   "title_cell": "Table of Contents",
   "title_sidebar": "Contents",
   "toc_cell": false,
   "toc_position": {},
   "toc_section_display": true,
   "toc_window_display": false
  }
 },
 "nbformat": 4,
 "nbformat_minor": 2
}
