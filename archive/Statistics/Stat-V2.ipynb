{
 "cells": [
  {
   "cell_type": "markdown",
   "metadata": {},
   "source": [
    "## Бутузов Олег  (ІСзп-71)\n",
    "\n",
    "### Математична статистика - Розрахункова робота\n",
    "### Варіант 2\n"
   ]
  },
  {
   "cell_type": "code",
   "execution_count": 1,
   "metadata": {},
   "outputs": [],
   "source": [
    "%matplotlib inline\n",
    "import pandas as pd\n",
    "import numpy as np\n",
    "import json, sys\n",
    "import scipy.stats as stats\n",
    "import matplotlib.pyplot as plt\n",
    "\n",
    "# Plot Settings\n",
    "plt.style.use('seaborn')\n",
    "plt.rcParams.update({ 'font.size': 24 }) \n",
    "\n",
    "def print_dict(dictionary):\n",
    "    for descr, i in dictionary.items():\n",
    "        print( \"{: <18.5f} {}\".format(i, descr) )\n",
    "        \n",
    "# print_dict({\"book\":0.1})"
   ]
  },
  {
   "cell_type": "code",
   "execution_count": 2,
   "metadata": {},
   "outputs": [],
   "source": [
    "# Вибірка - Варіант \"2\"\n",
    "df = pd.DataFrame({\n",
    "    'N': [1, 1, 2, 1, 4, 2, 1, 1, 0, 2, 0, 2, 1, 0, 1, 0, 2, 3, 0, 1, 1, \n",
    "          2, 0, 1, 2, 2, 1, 0, 0, 0, 1, 0, 0, 1, 2, 2, 0, 2, 0, 1, 1, 3, \n",
    "          0, 0, 1, 0, 2, 1, 0, 2, 0, 0, 1, 3, 0, 2, 0, 2, 0, 3, 4, 1, 1, \n",
    "          1, 0, 1, 1, 1, 1, 0, 0, 0, 1, 0, 2, 0, 1, 1, 1, 0, 1, 2, 0, 1, \n",
    "          1, 0, 1, 1, 3, 2, 1, 1, 0, 2, 0, 1, 4, 2, 3, 2 ]\n",
    "})\n",
    "\n",
    "\n",
    "# перевірка - довільний сет значень розподілений за Пуасоном\n",
    "# df = pd.DataFrame({'N': list(np.random.poisson(1, 100))})\n",
    "# df = pd.DataFrame({'N': list(np.random.binomial(5, 1.09/4, 100))})"
   ]
  },
  {
   "cell_type": "markdown",
   "metadata": {},
   "source": [
    "### Варіаційний (дискретний або інтервальний) ряд вибірки\n",
    "\n",
    "* [Статистичні ряди розподілу](https://uk.wikipedia.org/wiki/Статистичні_ряди_розподілу)\n",
    "\n",
    "Статистичний ряд розподілу — впорядкований розподіл одиниць досліджуваної сукупності на групи за групувальною (варіативною) ознакою. Вони характеризують склад (структуру) досліджуваного явища, дозволяють судити про однорідність сукупності, межі її зміни, закономірності розвитку досліджуваного об'єкта. Залежно від ознаки статистичні ряди розподілу діляться на\n",
    "- атрибутивні (якісні)\n",
    "- варіаційні (кількісні)\n",
    "  - дискретні\n",
    "  - інтервальні"
   ]
  },
  {
   "cell_type": "code",
   "execution_count": 3,
   "metadata": {},
   "outputs": [
    {
     "data": {
      "text/html": [
       "<div>\n",
       "<style scoped>\n",
       "    .dataframe tbody tr th:only-of-type {\n",
       "        vertical-align: middle;\n",
       "    }\n",
       "\n",
       "    .dataframe tbody tr th {\n",
       "        vertical-align: top;\n",
       "    }\n",
       "\n",
       "    .dataframe thead th {\n",
       "        text-align: right;\n",
       "    }\n",
       "</style>\n",
       "<table border=\"1\" class=\"dataframe\">\n",
       "  <thead>\n",
       "    <tr style=\"text-align: right;\">\n",
       "      <th></th>\n",
       "      <th>Xi</th>\n",
       "      <th>Ni</th>\n",
       "    </tr>\n",
       "  </thead>\n",
       "  <tbody>\n",
       "    <tr>\n",
       "      <th>0</th>\n",
       "      <td>0</td>\n",
       "      <td>33</td>\n",
       "    </tr>\n",
       "    <tr>\n",
       "      <th>1</th>\n",
       "      <td>1</td>\n",
       "      <td>37</td>\n",
       "    </tr>\n",
       "    <tr>\n",
       "      <th>2</th>\n",
       "      <td>2</td>\n",
       "      <td>21</td>\n",
       "    </tr>\n",
       "    <tr>\n",
       "      <th>3</th>\n",
       "      <td>3</td>\n",
       "      <td>6</td>\n",
       "    </tr>\n",
       "    <tr>\n",
       "      <th>4</th>\n",
       "      <td>4</td>\n",
       "      <td>3</td>\n",
       "    </tr>\n",
       "  </tbody>\n",
       "</table>\n",
       "</div>"
      ],
      "text/plain": [
       "   Xi  Ni\n",
       "0   0  33\n",
       "1   1  37\n",
       "2   2  21\n",
       "3   3   6\n",
       "4   4   3"
      ]
     },
     "execution_count": 3,
     "metadata": {},
     "output_type": "execute_result"
    }
   ],
   "source": [
    "# Створює новий дата фрейм - на основі серії df['N'] з кількості елементів та кількості елемента в Серії\n",
    "Ns = df['N'].value_counts().keys().tolist()\n",
    "Fs = df['N'].value_counts().tolist()\n",
    "\n",
    "# створюємо давайрейм з чисел та їх частоти\n",
    "vardf = pd.DataFrame([( Ns[i], Fs[i] ) for i in range(len(Ns))], columns=[\"Xi\", 'Ni'])\n",
    "vardf.sort_values(by=['Xi'], inplace=True)\n",
    "vardf.reset_index(inplace=True, drop=True)\n",
    "vardf.head(10) # показати перші 5 елементів варіаційного ряду"
   ]
  },
  {
   "cell_type": "markdown",
   "metadata": {},
   "source": [
    "### 02 - Графічне зображення вибірки"
   ]
  },
  {
   "cell_type": "code",
   "execution_count": 4,
   "metadata": {},
   "outputs": [
    {
     "data": {
      "image/png": "[encoded data removed]",
      "text/plain": [
       "<Figure size 432x432 with 1 Axes>"
      ]
     },
     "metadata": {
      "needs_background": "light"
     },
     "output_type": "display_data"
    }
   ],
   "source": [
    "len_of_uniq_values=len(set(df['N'].sort_values().values.tolist()))\n",
    "\n",
    "fig, ax = plt.subplots(figsize=(len_of_uniq_values+1,6))\n",
    "ax.hist(\n",
    "    df['N'].sort_values().values.tolist(), \n",
    "    bins=range(len_of_uniq_values+1), \n",
    "    density=True,  \n",
    "    align=\"left\",\n",
    "    edgecolor='black', \n",
    "    linewidth=0.2, \n",
    "    alpha=0.55,\n",
    ")\n",
    "ax.set_xlim( \n",
    "    round(df['N'].min())-0.5, \n",
    "    round(df['N'].max())+0.5\n",
    ")\n",
    "\n",
    "\n",
    "fig.tight_layout()"
   ]
  },
  {
   "cell_type": "markdown",
   "metadata": {},
   "source": [
    "### 03 - Eмпірична функція розподілу / Empirical Distribution Function\n",
    "\n",
    "* [Empirical distribution function](https://en.wikipedia.org/wiki/Empirical_distribution_function)\n",
    "Емпірична функція розподілу: $F^*(x)=\\dfrac{n_x}{n}$\n",
    "\n",
    "$n_x$ - число варіант менших від x, $n$ - обсяг вибірки"
   ]
  },
  {
   "cell_type": "code",
   "execution_count": 5,
   "metadata": {},
   "outputs": [
    {
     "data": {
      "text/html": [
       "<div>\n",
       "<style scoped>\n",
       "    .dataframe tbody tr th:only-of-type {\n",
       "        vertical-align: middle;\n",
       "    }\n",
       "\n",
       "    .dataframe tbody tr th {\n",
       "        vertical-align: top;\n",
       "    }\n",
       "\n",
       "    .dataframe thead th {\n",
       "        text-align: right;\n",
       "    }\n",
       "</style>\n",
       "<table border=\"1\" class=\"dataframe\">\n",
       "  <thead>\n",
       "    <tr style=\"text-align: right;\">\n",
       "      <th></th>\n",
       "      <th>Xi</th>\n",
       "      <th>Ni</th>\n",
       "      <th>F(x)</th>\n",
       "    </tr>\n",
       "  </thead>\n",
       "  <tbody>\n",
       "    <tr>\n",
       "      <th>0</th>\n",
       "      <td>0</td>\n",
       "      <td>33</td>\n",
       "      <td>0.00</td>\n",
       "    </tr>\n",
       "    <tr>\n",
       "      <th>1</th>\n",
       "      <td>1</td>\n",
       "      <td>37</td>\n",
       "      <td>0.33</td>\n",
       "    </tr>\n",
       "    <tr>\n",
       "      <th>2</th>\n",
       "      <td>2</td>\n",
       "      <td>21</td>\n",
       "      <td>0.70</td>\n",
       "    </tr>\n",
       "    <tr>\n",
       "      <th>3</th>\n",
       "      <td>3</td>\n",
       "      <td>6</td>\n",
       "      <td>0.91</td>\n",
       "    </tr>\n",
       "    <tr>\n",
       "      <th>4</th>\n",
       "      <td>4</td>\n",
       "      <td>3</td>\n",
       "      <td>0.97</td>\n",
       "    </tr>\n",
       "  </tbody>\n",
       "</table>\n",
       "</div>"
      ],
      "text/plain": [
       "   Xi  Ni  F(x)\n",
       "0   0  33  0.00\n",
       "1   1  37  0.33\n",
       "2   2  21  0.70\n",
       "3   3   6  0.91\n",
       "4   4   3  0.97"
      ]
     },
     "execution_count": 5,
     "metadata": {},
     "output_type": "execute_result"
    }
   ],
   "source": [
    "vardf['F(x)']=(vardf['Ni'].cumsum(axis=0)-vardf['Ni']) / df.size\n",
    "vardf.head()"
   ]
  },
  {
   "cell_type": "code",
   "execution_count": 6,
   "metadata": {},
   "outputs": [
    {
     "data": {
      "image/png": "[encoded data removed]",
      "text/plain": [
       "<Figure size 720x360 with 1 Axes>"
      ]
     },
     "metadata": {
      "needs_background": "light"
     },
     "output_type": "display_data"
    }
   ],
   "source": [
    "fig, ax = plt.subplots(figsize=(10,5))\n",
    "ax.set_title(\"Empirical Distribution Function\")\n",
    "ax.set_xlim( \n",
    "    round(vardf['Xi'].min()) - 1, \n",
    "    round(vardf['Xi'].max())\n",
    ")\n",
    "ax.set_ylim(0, 1)\n",
    "vardf.plot(x='Xi', y='F(x)', drawstyle=\"steps\", ax=ax)\n",
    "ax.set_ylabel(\"F(x)\")\n",
    "ax.set_xlabel(\"Xi\")\n",
    "fig.tight_layout()"
   ]
  },
  {
   "cell_type": "markdown",
   "metadata": {},
   "source": [
    "###  04 - Значення вибіркової медіани, моди, асиметрії\n",
    "\n",
    " * https://en.wikipedia.org/wiki/Median_absolute_deviation \n",
    " * https://en.wikipedia.org/wiki/Mode_(statistics)\n",
    " * https://en.wikipedia.org/wiki/Skewness"
   ]
  },
  {
   "cell_type": "code",
   "execution_count": 7,
   "metadata": {},
   "outputs": [
    {
     "data": {
      "text/html": [
       "<div>\n",
       "<style scoped>\n",
       "    .dataframe tbody tr th:only-of-type {\n",
       "        vertical-align: middle;\n",
       "    }\n",
       "\n",
       "    .dataframe tbody tr th {\n",
       "        vertical-align: top;\n",
       "    }\n",
       "\n",
       "    .dataframe thead th {\n",
       "        text-align: right;\n",
       "    }\n",
       "</style>\n",
       "<table border=\"1\" class=\"dataframe\">\n",
       "  <thead>\n",
       "    <tr style=\"text-align: right;\">\n",
       "      <th></th>\n",
       "      <th>Значення</th>\n",
       "    </tr>\n",
       "  </thead>\n",
       "  <tbody>\n",
       "    <tr>\n",
       "      <th>mediana</th>\n",
       "      <td>1</td>\n",
       "    </tr>\n",
       "    <tr>\n",
       "      <th>moda</th>\n",
       "      <td>0    1\n",
       "dtype: int64</td>\n",
       "    </tr>\n",
       "    <tr>\n",
       "      <th>mean</th>\n",
       "      <td>1.09</td>\n",
       "    </tr>\n",
       "  </tbody>\n",
       "</table>\n",
       "</div>"
      ],
      "text/plain": [
       "                    Значення\n",
       "mediana                    1\n",
       "moda     0    1\n",
       "dtype: int64\n",
       "mean                    1.09"
      ]
     },
     "execution_count": 7,
     "metadata": {},
     "output_type": "execute_result"
    }
   ],
   "source": [
    "data = {\n",
    "    # Медіана - центральний (n/2) або середнє центральних елементів вибірки\n",
    "    'mediana' : df['N'].median(), \n",
    "    # Мода - число(а) що найчастіше зустрічається у вибіркі\n",
    "    'moda'    : df['N'].mode(),\n",
    "    # Центр розподілу / середнє\n",
    "    'mean'    : df['N'].mean()\n",
    "}\n",
    "\n",
    "# json.dump(data, fp=sys.stdout, indent=4)\n",
    "\n",
    "pd.DataFrame(list([[i] for i in data.values()]), \n",
    "             index=list([i for i in data.keys()]), \n",
    "             columns=['Значення'])\n"
   ]
  },
  {
   "cell_type": "markdown",
   "metadata": {},
   "source": [
    "* `Модою` є значення що найчастіше зустрічається у вибіркі - у нашому випадку з частотою 37 таким числом є `1`\n",
    "* `Медіаною` - є значення що зустрічається в середині виборки, або середнє значення середніх елементів (якщо кількість елементів у виборкі є парне число)\n",
    "* `Ассиметрія` - це числова характеристика розподілу ймовірностей дійсної випадкової величини\n",
    "* `Центром розподілу` є середнє значенння вибірки"
   ]
  },
  {
   "cell_type": "markdown",
   "metadata": {},
   "source": [
    "* https://en.wikipedia.org/wiki/Bias_of_an_estimator\n",
    "* https://en.wikipedia.org/wiki/Sample_mean_and_covariance\n",
    "* https://uk.wikipedia.org/wiki/Стандартне_відхилення"
   ]
  },
  {
   "cell_type": "code",
   "execution_count": 8,
   "metadata": {},
   "outputs": [
    {
     "data": {
      "text/html": [
       "<div>\n",
       "<style scoped>\n",
       "    .dataframe tbody tr th:only-of-type {\n",
       "        vertical-align: middle;\n",
       "    }\n",
       "\n",
       "    .dataframe tbody tr th {\n",
       "        vertical-align: top;\n",
       "    }\n",
       "\n",
       "    .dataframe thead th {\n",
       "        text-align: right;\n",
       "    }\n",
       "</style>\n",
       "<table border=\"1\" class=\"dataframe\">\n",
       "  <thead>\n",
       "    <tr style=\"text-align: right;\">\n",
       "      <th></th>\n",
       "      <th>N</th>\n",
       "      <th>Total</th>\n",
       "      <th>CumSum</th>\n",
       "      <th>D</th>\n",
       "      <th>Deviation</th>\n",
       "      <th>Відносна чистота</th>\n",
       "      <th>3rd_central_moment</th>\n",
       "    </tr>\n",
       "  </thead>\n",
       "  <tbody>\n",
       "    <tr>\n",
       "      <th>0</th>\n",
       "      <td>0</td>\n",
       "      <td>33</td>\n",
       "      <td>33</td>\n",
       "      <td>35.97</td>\n",
       "      <td>39.2073</td>\n",
       "      <td>0.33</td>\n",
       "      <td>-0.427360</td>\n",
       "    </tr>\n",
       "    <tr>\n",
       "      <th>1</th>\n",
       "      <td>1</td>\n",
       "      <td>37</td>\n",
       "      <td>70</td>\n",
       "      <td>3.33</td>\n",
       "      <td>0.2997</td>\n",
       "      <td>0.37</td>\n",
       "      <td>-0.000270</td>\n",
       "    </tr>\n",
       "    <tr>\n",
       "      <th>2</th>\n",
       "      <td>2</td>\n",
       "      <td>21</td>\n",
       "      <td>91</td>\n",
       "      <td>19.11</td>\n",
       "      <td>17.3901</td>\n",
       "      <td>0.21</td>\n",
       "      <td>0.158250</td>\n",
       "    </tr>\n",
       "    <tr>\n",
       "      <th>3</th>\n",
       "      <td>3</td>\n",
       "      <td>6</td>\n",
       "      <td>97</td>\n",
       "      <td>11.46</td>\n",
       "      <td>21.8886</td>\n",
       "      <td>0.06</td>\n",
       "      <td>0.418072</td>\n",
       "    </tr>\n",
       "    <tr>\n",
       "      <th>4</th>\n",
       "      <td>4</td>\n",
       "      <td>3</td>\n",
       "      <td>100</td>\n",
       "      <td>8.73</td>\n",
       "      <td>25.4043</td>\n",
       "      <td>0.03</td>\n",
       "      <td>0.739265</td>\n",
       "    </tr>\n",
       "  </tbody>\n",
       "</table>\n",
       "</div>"
      ],
      "text/plain": [
       "   N  Total  CumSum      D  Deviation  Відносна чистота  3rd_central_moment\n",
       "0  0     33      33  35.97    39.2073              0.33           -0.427360\n",
       "1  1     37      70   3.33     0.2997              0.37           -0.000270\n",
       "2  2     21      91  19.11    17.3901              0.21            0.158250\n",
       "3  3      6      97  11.46    21.8886              0.06            0.418072\n",
       "4  4      3     100   8.73    25.4043              0.03            0.739265"
      ]
     },
     "execution_count": 8,
     "metadata": {},
     "output_type": "execute_result"
    }
   ],
   "source": [
    "distdf = df.groupby('N').size().to_frame(name = 'Total').reset_index()\n",
    "\n",
    "distdf['CumSum'] = distdf['Total'].cumsum()\n",
    "# середнє лінійне відххилення\n",
    "distdf['D'] = abs( distdf['N'] - df['N'].mean() ) * distdf['Total']\n",
    "# дисперсія\n",
    "distdf['Deviation'] = ((distdf['N'] - df['N'].mean() )**2) * distdf['Total']\n",
    "\n",
    "# відносна частота\n",
    "distdf['Відносна чистота'] = distdf['Total'] /  distdf['Total'].sum()\n",
    "\n",
    "# третій центральний момент\n",
    "distdf['3rd_central_moment'] = ((distdf['N'] - df['N'].mean() )**3) * distdf['Відносна чистота']\n",
    "\n",
    "\n",
    "distdf"
   ]
  },
  {
   "cell_type": "markdown",
   "metadata": {},
   "source": [
    "---\n",
    "\n",
    "`Надалі дані будуть обчислені на основі цього датасету або використовуючи оригінальний датасет вибірки df`\n",
    "\n",
    "---"
   ]
  },
  {
   "cell_type": "markdown",
   "metadata": {},
   "source": [
    "#### Третій центральний момент\n",
    "\n",
    "В теорії ймовірностей та математичній статистиці, центра́льний моме́нт k-го порядку випадкової величини з дійсними значеннями це величина\n",
    "\n",
    "$$ M(X-MX)^{k} $$\n",
    "\n",
    "де $M$ це математичне сподівання\n",
    "\n",
    "* https://uk.wikipedia.org/wiki/Центральний_момент\n",
    "\n",
    "$$ \\mu_3 = \\sum p_i * (X-\\overline{X})^3 $$\n"
   ]
  },
  {
   "cell_type": "code",
   "execution_count": 9,
   "metadata": {},
   "outputs": [
    {
     "data": {
      "text/plain": [
       "0.8879579999999999"
      ]
     },
     "execution_count": 9,
     "metadata": {},
     "output_type": "execute_result"
    }
   ],
   "source": [
    "distdf['3rd_central_moment'].sum()"
   ]
  },
  {
   "cell_type": "markdown",
   "metadata": {},
   "source": [
    "#### Коефіцієнт Асиметрії\n",
    "\n",
    "Асиметрією $ \\gamma _{1} $   (коефіцієнт асиметрії Фішера) теоретичного розподілу ймовірностей випадкової величини називають відношення центрального моменту третього порядку   $ \\mu _{3} $ до куба середнього квадратичного відхилення $ \\sigma ^{3} $ \n",
    "\n",
    "* https://uk.wikipedia.org/wiki/Коефіцієнт_асиметрії\n",
    "* https://en.wikipedia.org/wiki/Skewness\n",
    "* https://www.thoughtco.com/what-is-skewness-in-statistics-3126242"
   ]
  },
  {
   "cell_type": "code",
   "execution_count": 10,
   "metadata": {},
   "outputs": [
    {
     "name": "stdout",
     "output_type": "stream",
     "text": [
      "0.83494            Dataframe\n"
     ]
    }
   ],
   "source": [
    "print_dict({\n",
    "    'Dataframe' : distdf['3rd_central_moment'].sum() / df['N'].std(ddof=0)**3,\n",
    "})"
   ]
  },
  {
   "cell_type": "markdown",
   "metadata": {},
   "source": [
    "### 05 - Незміщена оцінка математичного сподівання та дисперсії "
   ]
  },
  {
   "cell_type": "markdown",
   "metadata": {},
   "source": [
    "-----\n",
    "\n",
    "#### Вибіркова дисперсія  (`Statistical Variance`)\n",
    "\n",
    "* https://uk.wikipedia.org/wiki/Дисперсія_випадкової_величини\n",
    "\n",
    "Дисперсія дозволяє виміряти наскільки далеко випадкові значення розподілені від їх середнього значення\n",
    "Більші значення дисперсії свідчать про більші відхилення значень випадкової величини від центру розподілу.\n",
    "\n",
    "$$var(x) = \\dfrac{1}{n} \\sum^n_{i=1}(X-\\overline{X})^2$$"
   ]
  },
  {
   "cell_type": "code",
   "execution_count": 11,
   "metadata": {},
   "outputs": [
    {
     "name": "stdout",
     "output_type": "stream",
     "text": [
      "1.04190            Dataframe\n",
      "1.04190            Original Distribution (variance method)\n"
     ]
    }
   ],
   "source": [
    "print_dict({\n",
    "    'Dataframe' : distdf['Deviation'].sum()/distdf['Total'].sum(),\n",
    "    'Original Distribution (variance method)' : df['N'].var(ddof=0)\n",
    "})"
   ]
  },
  {
   "cell_type": "markdown",
   "metadata": {},
   "source": [
    "#### Середнє лінійне відхилення\n",
    "\n",
    "* https://stud.com.ua/20680/statistika/serednye_liniyne_vidhilennya\n",
    "\n",
    "Показник розмаху варіації дає узагальнюючу характеристику тільки розмаху (амплітуді) значень ознаки, але не варіації відхилень. Розподіл відхилень можна вловити, исчислив відхилення всіх варіантів від середньої. Для того щоб дати їм узагальнюючу характеристику, необхідно обчислити середню з цих відхилень, тобто різниць між значеннями ознаки і середньої арифметичної в даній сукупності одиниць.\n",
    "\n",
    "$$\n",
    "D = \\dfrac{1}{n} \\sum ((Xi-\\overline{X}) * \\sum i)\n",
    "$$"
   ]
  },
  {
   "cell_type": "code",
   "execution_count": 12,
   "metadata": {},
   "outputs": [
    {
     "name": "stdout",
     "output_type": "stream",
     "text": [
      "0.78600            Dataframe\n"
     ]
    }
   ],
   "source": [
    "# звертаючись до данних нашого датасету\n",
    "print_dict({\n",
    "    'Dataframe' : distdf['D'].sum()/distdf['Total'].sum(), \n",
    "})"
   ]
  },
  {
   "cell_type": "markdown",
   "metadata": {},
   "source": [
    "---\n",
    "\n",
    "#### Стандартне Відхилення (`Standard Deviation`)\n",
    "\n",
    "Середнє квадратичне відхилення - показник розсіювання значень випадкової величини відносно її математичного сподівання, тобто відмінність кожногоелементу ряду від середнього, в нашому випадку це число 1.0207....\n",
    "\n",
    "$$\\sigma=\\sqrt{var(x)}$$"
   ]
  },
  {
   "cell_type": "code",
   "execution_count": 13,
   "metadata": {},
   "outputs": [
    {
     "name": "stdout",
     "output_type": "stream",
     "text": [
      "1.02074            Dataframe\n",
      "1.02074            Original Distribution (standard deviation method)\n"
     ]
    }
   ],
   "source": [
    "print_dict({\n",
    "    'Dataframe' : (distdf['Deviation'].sum()/distdf['Total'].sum())**.5,\n",
    "    'Original Distribution (standard deviation method)' : df['N'].std(ddof=0)\n",
    "})"
   ]
  },
  {
   "cell_type": "markdown",
   "metadata": {},
   "source": [
    "----\n",
    "\n",
    "#### Незміщена оцінки дисперсії\n",
    "\n",
    "$$var'(x) = \\dfrac{1}{n-1} \\sum^n_{i=1}(X-\\overline{X})^2 $$"
   ]
  },
  {
   "cell_type": "code",
   "execution_count": 14,
   "metadata": {},
   "outputs": [
    {
     "name": "stdout",
     "output_type": "stream",
     "text": [
      "1.05242            Dataframe\n",
      "1.05242            Original Distribution (standard deviation method)\n"
     ]
    }
   ],
   "source": [
    "print_dict({\n",
    "    'Dataframe' : (df['N'] - df['N'].mean()).pow(2).sum() /  (df.shape[0]-1),\n",
    "    'Original Distribution (standard deviation method)' : df['N'].var(ddof=1),\n",
    "})"
   ]
  },
  {
   "cell_type": "markdown",
   "metadata": {},
   "source": [
    "---\n",
    "\n",
    "#### Не зміщена оцінка математичного сподівання дорівнює - самому математичному сподіванню"
   ]
  },
  {
   "cell_type": "code",
   "execution_count": 15,
   "metadata": {},
   "outputs": [
    {
     "data": {
      "text/plain": [
       "1.09"
      ]
     },
     "execution_count": 15,
     "metadata": {},
     "output_type": "execute_result"
    }
   ],
   "source": [
    "df['N'].mean()"
   ]
  },
  {
   "cell_type": "markdown",
   "metadata": {},
   "source": [
    "----\n",
    "\n",
    "#### Незміщене  / Виправлене середеє квадратичне відхилення\n",
    "\n",
    "$$\\sigma=\\sqrt{var'(x)}$$"
   ]
  },
  {
   "cell_type": "code",
   "execution_count": 16,
   "metadata": {},
   "outputs": [
    {
     "name": "stdout",
     "output_type": "stream",
     "text": [
      "1.02588            Dataframe\n",
      "1.02588            Original Distribution (standard deviation method)\n"
     ]
    }
   ],
   "source": [
    "print_dict({\n",
    "    'Dataframe' : ((df['N'] - df['N'].mean()).pow(2).sum() /  (df.shape[0]-1))**.5,\n",
    "    'Original Distribution (standard deviation method)' : df['N'].std(ddof=1)\n",
    "})"
   ]
  },
  {
   "cell_type": "markdown",
   "metadata": {},
   "source": [
    "---\n",
    "\n",
    "#### Відносні показники варіації\n",
    "\n",
    "* https://uk.wikipedia.org/wiki/Коефіцієнт_варіації\n",
    "* https://en.wikipedia.org/wiki/Coefficient_of_variation\n",
    "* https://en.wikipedia.org/wiki/Variance-to-mean_ratio\n",
    "\n",
    "\n",
    "Відносна величина, що служить для характеристики коливання (мінливості) ознаки. Коефіцієнт варіації застосовується тоді, коли необхідно порівняти мінливість ознак об'єкта, які виражені в різних одиницях вимірювання>\n",
    "\n",
    "$$ \\nu=\\dfrac{\\sigma}{\\bar{x}} = \\dfrac{\\text{standard deviation}}{mean} $$\n",
    "\n",
    "Мінливість вважається:\n",
    "\n",
    "* слабкою  ( $\\nu \\leq 10\\%$ )\n",
    "* середньою ( $10\\%  < \\nu  < 25\\%$ )\n",
    "* значною ( $\\nu \\geq 25\\%$ )\n",
    "\n",
    "при $\\nu >70\\%$ сукупніть наближається до грані неоднородності і дає нам змогу висунути гіпотезу про розподіл."
   ]
  },
  {
   "cell_type": "code",
   "execution_count": 17,
   "metadata": {},
   "outputs": [
    {
     "name": "stdout",
     "output_type": "stream",
     "text": [
      "0.93645            Variance to mean ratio\n"
     ]
    }
   ],
   "source": [
    "print_dict({\n",
    "    'Variance to mean ratio' : df['N'].std(ddof=0) / df['N'].mean() \n",
    "})"
   ]
  },
  {
   "cell_type": "markdown",
   "metadata": {},
   "source": [
    "#### Лінійний коефіцієнт варіації / Відносне лінійне відхилення\n",
    "\n",
    "Характеризує долю усередненого значення ознаки абсолютних коливань від середньої величини\n",
    "\n",
    "$$\n",
    "Kd=\\dfrac{d}{\\overline{x}}\n",
    "$$"
   ]
  },
  {
   "cell_type": "code",
   "execution_count": 18,
   "metadata": {},
   "outputs": [
    {
     "data": {
      "text/plain": [
       "72.11009174311927"
      ]
     },
     "execution_count": 18,
     "metadata": {},
     "output_type": "execute_result"
    }
   ],
   "source": [
    "((distdf['D'].sum()/distdf['Total'].sum()) / df['N'].mean())*100"
   ]
  },
  {
   "cell_type": "markdown",
   "metadata": {},
   "source": [
    "#### Коефіцієнт осциляції\n",
    "\n",
    "Відношення - відносного коливання крайніх ознак навколо середньої.\n",
    "\n",
    "$$\n",
    "Kr=\\dfrac{R}{\\overline{x}}=\\dfrac{x_{max}-x_{min}}{\\overline{x}}\n",
    "$$"
   ]
  },
  {
   "cell_type": "code",
   "execution_count": 19,
   "metadata": {},
   "outputs": [
    {
     "data": {
      "text/plain": [
       "3.6697247706422016"
      ]
     },
     "execution_count": 19,
     "metadata": {},
     "output_type": "execute_result"
    }
   ],
   "source": [
    "( df['N'].max() - df['N'].min() ) / df['N'].mean()"
   ]
  },
  {
   "cell_type": "markdown",
   "metadata": {},
   "source": [
    "Великі значення стандартного відхилення означають, що точки можуть бути розподілені далеко від середнього, а малі значення стандартного відхилення означають, що точки зосереджені близько до середнього значення вибірки. Як ми бачимо, всі наші елементи знаходяться блязько до стандартнго відхилення, з чого ми можемо зробити висновок що елементи у виборці розподілені приблизно однаково.\n"
   ]
  },
  {
   "cell_type": "markdown",
   "metadata": {},
   "source": [
    "### 06 - Гіпотеза про розподіл, за яким отримано вибірку"
   ]
  },
  {
   "cell_type": "markdown",
   "metadata": {},
   "source": [
    "---\n",
    "* https://uk.wikipedia.org/wiki/Розподіл_Пуассона\n",
    "\n",
    "Усі величини знаходяться у діапазоні $[0, 4]$, відношення квадратичного відхилення до середнього значення наближається до `1` (`~0.93`), це дозволяє припустити що наш розподіл є Пуасонівським."
   ]
  },
  {
   "cell_type": "markdown",
   "metadata": {},
   "source": [
    "### 07 - Точкові оцінки параметрів гіпотетичного закону розподілу та перевірити їх властивості\n",
    "\n",
    "* [Точкові статистичні оцінки параметрів генеральної сукупності](http://intranet.tdmu.edu.ua/data/kafedra/internal/informatika/lectures_stud/uk/med/biol/ptn/%D0%92%D0%B8%D1%89%D0%B0%20%D0%BC%D0%B0%D1%82%D0%B5%D0%BC%D0%B0%D1%82%D0%B8%D0%BA%D0%B0/14.%D0%A1%D1%82%D0%B0%D1%82%D0%B8%D1%81%D1%82%D0%B8%D1%87%D0%BDi%20%20%D0%BE%D1%86i%D0%BD%D0%BA%D0%B8%20%D0%BF%D0%B0%D1%80%D0%B0%D0%BC%D0%B5%D1%82%D1%80i%D0%B2.htm)"
   ]
  },
  {
   "cell_type": "markdown",
   "metadata": {},
   "source": [
    "Параметр $\\lambda$ для випадкової величини дорівнює її дисперсії. Звідки ми можемо вивести ймовірність розподілу випадкової величини\n",
    "\n",
    "$$p_xi(X=k)=\\dfrac{\\lambda^k}{k!}e^{-\\lambda}$$\n",
    "\n",
    "$$\\lambda=\\overline{x} \\qquad S=\\sqrt{var'(x)} $$\n"
   ]
  },
  {
   "cell_type": "code",
   "execution_count": 20,
   "metadata": {},
   "outputs": [
    {
     "name": "stdout",
     "output_type": "stream",
     "text": [
      "1.09000            λ / mean\n",
      "1.02588            S\n"
     ]
    }
   ],
   "source": [
    "print_dict({\n",
    "    'λ / mean' : df['N'].mean(),\n",
    "    'S' : df['N'].std(ddof=1)\n",
    "})"
   ]
  },
  {
   "cell_type": "code",
   "execution_count": 21,
   "metadata": {},
   "outputs": [
    {
     "data": {
      "text/html": [
       "<div>\n",
       "<style scoped>\n",
       "    .dataframe tbody tr th:only-of-type {\n",
       "        vertical-align: middle;\n",
       "    }\n",
       "\n",
       "    .dataframe tbody tr th {\n",
       "        vertical-align: top;\n",
       "    }\n",
       "\n",
       "    .dataframe thead th {\n",
       "        text-align: right;\n",
       "    }\n",
       "</style>\n",
       "<table border=\"1\" class=\"dataframe\">\n",
       "  <thead>\n",
       "    <tr style=\"text-align: right;\">\n",
       "      <th></th>\n",
       "      <th>N</th>\n",
       "      <th>Total</th>\n",
       "      <th>P_i</th>\n",
       "    </tr>\n",
       "  </thead>\n",
       "  <tbody>\n",
       "    <tr>\n",
       "      <th>0</th>\n",
       "      <td>0</td>\n",
       "      <td>33</td>\n",
       "      <td>81.000000</td>\n",
       "    </tr>\n",
       "    <tr>\n",
       "      <th>1</th>\n",
       "      <td>1</td>\n",
       "      <td>37</td>\n",
       "      <td>-7.357500</td>\n",
       "    </tr>\n",
       "    <tr>\n",
       "      <th>2</th>\n",
       "      <td>2</td>\n",
       "      <td>21</td>\n",
       "      <td>0.668306</td>\n",
       "    </tr>\n",
       "    <tr>\n",
       "      <th>3</th>\n",
       "      <td>3</td>\n",
       "      <td>6</td>\n",
       "      <td>-0.060704</td>\n",
       "    </tr>\n",
       "    <tr>\n",
       "      <th>4</th>\n",
       "      <td>4</td>\n",
       "      <td>3</td>\n",
       "      <td>0.005514</td>\n",
       "    </tr>\n",
       "  </tbody>\n",
       "</table>\n",
       "</div>"
      ],
      "text/plain": [
       "   N  Total        P_i\n",
       "0  0     33  81.000000\n",
       "1  1     37  -7.357500\n",
       "2  2     21   0.668306\n",
       "3  3      6  -0.060704\n",
       "4  4      3   0.005514"
      ]
     },
     "execution_count": 21,
     "metadata": {},
     "output_type": "execute_result"
    }
   ],
   "source": [
    "import math\n",
    "\n",
    "def probability_poisson(row):\n",
    "    actual = row.name\n",
    "    mean = df['N'].mean()\n",
    "    return math.exp(-mean) * mean**actual / math.factorial(actual)\n",
    "\n",
    "p = df['N'].mean()/4\n",
    "n = 4\n",
    "\n",
    "# def probability(k):\n",
    "#     return (p**k)*((1-n)**(n-k))\n",
    "\n",
    "def probability_binominal(row):\n",
    "    k = row.name\n",
    "    mean = df['N'].mean()\n",
    "    return (p**k)*((1-n)**(n-k))\n",
    "\n",
    "poisson=df.groupby('N').size().to_frame(name = 'Total').reset_index()\n",
    "\n",
    "probability=probability_binominal\n",
    "# ймовірність\n",
    "poisson['P_i'] = poisson.apply(probability, axis=1)\n",
    "\n",
    "poisson"
   ]
  },
  {
   "cell_type": "markdown",
   "metadata": {},
   "source": [
    "### 08 - Перевірка за допомого Критерію Пірсона "
   ]
  },
  {
   "cell_type": "code",
   "execution_count": 22,
   "metadata": {},
   "outputs": [
    {
     "data": {
      "text/html": [
       "<div>\n",
       "<style scoped>\n",
       "    .dataframe tbody tr th:only-of-type {\n",
       "        vertical-align: middle;\n",
       "    }\n",
       "\n",
       "    .dataframe tbody tr th {\n",
       "        vertical-align: top;\n",
       "    }\n",
       "\n",
       "    .dataframe thead th {\n",
       "        text-align: right;\n",
       "    }\n",
       "</style>\n",
       "<table border=\"1\" class=\"dataframe\">\n",
       "  <thead>\n",
       "    <tr style=\"text-align: right;\">\n",
       "      <th></th>\n",
       "      <th>N</th>\n",
       "      <th>Total</th>\n",
       "      <th>P_i</th>\n",
       "      <th>n*P_i</th>\n",
       "      <th>χ^2</th>\n",
       "    </tr>\n",
       "  </thead>\n",
       "  <tbody>\n",
       "    <tr>\n",
       "      <th>0</th>\n",
       "      <td>0</td>\n",
       "      <td>33</td>\n",
       "      <td>81.000000</td>\n",
       "      <td>8100.000000</td>\n",
       "      <td>8034.134444</td>\n",
       "    </tr>\n",
       "    <tr>\n",
       "      <th>1</th>\n",
       "      <td>1</td>\n",
       "      <td>37</td>\n",
       "      <td>-7.357500</td>\n",
       "      <td>-735.750000</td>\n",
       "      <td>-811.610686</td>\n",
       "    </tr>\n",
       "    <tr>\n",
       "      <th>2</th>\n",
       "      <td>2</td>\n",
       "      <td>21</td>\n",
       "      <td>0.668306</td>\n",
       "      <td>66.830625</td>\n",
       "      <td>31.429396</td>\n",
       "    </tr>\n",
       "    <tr>\n",
       "      <th>3</th>\n",
       "      <td>3</td>\n",
       "      <td>6</td>\n",
       "      <td>-0.060704</td>\n",
       "      <td>-6.070448</td>\n",
       "      <td>-24.000818</td>\n",
       "    </tr>\n",
       "    <tr>\n",
       "      <th>4</th>\n",
       "      <td>4</td>\n",
       "      <td>3</td>\n",
       "      <td>0.005514</td>\n",
       "      <td>0.551399</td>\n",
       "      <td>10.873516</td>\n",
       "    </tr>\n",
       "  </tbody>\n",
       "</table>\n",
       "</div>"
      ],
      "text/plain": [
       "   N  Total        P_i        n*P_i          χ^2\n",
       "0  0     33  81.000000  8100.000000  8034.134444\n",
       "1  1     37  -7.357500  -735.750000  -811.610686\n",
       "2  2     21   0.668306    66.830625    31.429396\n",
       "3  3      6  -0.060704    -6.070448   -24.000818\n",
       "4  4      3   0.005514     0.551399    10.873516"
      ]
     },
     "execution_count": 22,
     "metadata": {},
     "output_type": "execute_result"
    }
   ],
   "source": [
    "poisson['n*P_i'] = poisson['P_i'] * poisson['Total'].sum()\n",
    "poisson['χ^2'] =  (poisson['Total']-poisson['n*P_i'])**2 / poisson['n*P_i']\n",
    "poisson"
   ]
  },
  {
   "cell_type": "code",
   "execution_count": 23,
   "metadata": {},
   "outputs": [],
   "source": [
    "# import math\n",
    "\n",
    "# def probability1(k, mean):\n",
    "#     return (math.exp(-mean) * (mean**k)) / math.factorial(k)\n",
    "\n",
    "# def probability2(actual, mean): \n",
    "#     p = math.exp(-mean)\n",
    "#     for i in range(actual):\n",
    "#         p *= mean\n",
    "#         p /= i+1\n",
    "#     return p\n",
    "\n",
    "# probability = probability1\n",
    "\n",
    "# data = [33, 37, 21, 6, 3]\n",
    "\n",
    "# print_dict({\n",
    "#     0: (data[0] - sum(data)*probability(0, df['N'].mean()))**2 / (sum(data)*probability(0, df['N'].mean())),\n",
    "#     1: (data[1] - sum(data)*probability(1, df['N'].mean()))**2 / (sum(data)*probability(1, df['N'].mean())),\n",
    "#     2: (data[2] - sum(data)*probability(2, df['N'].mean()))**2 / (sum(data)*probability(2, df['N'].mean())),\n",
    "#     3: (data[3] - sum(data)*probability(3, df['N'].mean()))**2 / (sum(data)*probability(3, df['N'].mean())),\n",
    "#     4: (data[4] - sum(data)*probability(4, df['N'].mean()))**2 / (sum(data)*probability(4, df['N'].mean())),\n",
    "# })\n"
   ]
  },
  {
   "cell_type": "code",
   "execution_count": 24,
   "metadata": {},
   "outputs": [],
   "source": [
    "# ручний прорахунок для біномінального розподілу\n",
    "# import math\n",
    "\n",
    "# p = df['N'].mean()/4\n",
    "# n = 4\n",
    "\n",
    "# def probability(k):\n",
    "#     return (p**k)*((1-n)**(n-k))\n",
    "\n",
    "\n",
    "\n",
    "# # data = [33, 37, 21, 6, 3]\n",
    "\n",
    "# print_dict({\n",
    "#     0: (data[0] - sum(data)*probability(0))**2 / (sum(data)*probability(0)),\n",
    "#     1: (data[1] - sum(data)*probability(1))**2 / (sum(data)*probability(1)),\n",
    "#     2: (data[2] - sum(data)*probability(2))**2 / (sum(data)*probability(2)),\n",
    "#     3: (data[3] - sum(data)*probability(3))**2 / (sum(data)*probability(3)),\n",
    "#     4: (data[4] - sum(data)*probability(4))**2 / (sum(data)*probability(4)),\n",
    "# })\n"
   ]
  },
  {
   "cell_type": "code",
   "execution_count": 23,
   "metadata": {},
   "outputs": [
    {
     "data": {
      "text/plain": [
       "7240.825852582186"
      ]
     },
     "execution_count": 23,
     "metadata": {},
     "output_type": "execute_result"
    }
   ],
   "source": [
    "# ксі квадрат\n",
    "poisson['χ^2'].sum()"
   ]
  },
  {
   "cell_type": "markdown",
   "metadata": {},
   "source": [
    "* [Критерій хі-квадрат](https://uk.wikipedia.org/wiki/Критерій_хі-квадрат)\n",
    "* [Критерій узгодженості Пірсона](https://uk.wikipedia.org/wiki/Критерій_узгодженості_Пірсона)\n",
    "\n",
    "Визначимо границю критичної області. Так статистики Пірсона вимірюють різницю між емпіричними і теоритичними розподілами, том чим більше ми спостерігаєме значення $K_{кр}$ (наближене), тим сильніше доводи проти основної гіпотези.\n",
    "\n",
    "Тому критичною є правостороння область для цієї статистики $[K_{кр}; +\\infty)$\n",
    "\n",
    "Значення $K_{кр} = \\chi^2(k-r-1;\\alpha) $ знаходимо за [таблицею розподілу](http://statsoft.ru/home/textbook/modules/sttable.html) $\\gamma^2$ і заданими значеннями $s$, k (число інтервалів) та  $r$ =1 ($\\lambda$)\n",
    "\n",
    "\n",
    "$$K_{кр}(.05; 3) = 7.81473$$\n",
    "\n",
    "Оскільки $\\sum K_i < K_{кр}(.05; 3)$ (0.814... < 7.81473), ми немаємо пирводів відкидати нашу гіпотезу. Тобто ми має право стверджувати, що розподіл з яким ми працюємо є розподілом Пуасона"
   ]
  },
  {
   "cell_type": "markdown",
   "metadata": {},
   "source": [
    "### 09 - Довірчий інтервал для параметрів гіпотетичного закону розподілу\n",
    "\n",
    "* http://yukhym.com/uk/vipadkovi-velichini/dovirchyi-interval-dlia-otsinky-z-nadiinistiu-0-95.html\n",
    "* http://matecos.ru/formuly/formuly-i-tablitsy/tablitsa-laplasa.html\n",
    "\n",
    "\n",
    "$$\\gamma = 0.95 \\Rightarrow 2\\Phi(t_{\\gamma}) = 0,95 \\Leftrightarrow \\Phi(t_{\\gamma}) = 0,475 \\Rightarrow t_{\\gamma} = 1.96$$\n",
    "\n",
    "#### Інтервал\n",
    "\n",
    "$$ \\overline{X} - \\dfrac{\\sigma}{\\sqrt{n}} \\times t_{\\gamma} \\qquad  \\overline{X} + \\dfrac{\\sigma}{\\sqrt{n}} \\times t_{\\gamma} $$"
   ]
  },
  {
   "cell_type": "code",
   "execution_count": 24,
   "metadata": {},
   "outputs": [
    {
     "name": "stdout",
     "output_type": "stream",
     "text": [
      "X ∈  (0.8889280484578477, 1.2910719515421525)\n"
     ]
    }
   ],
   "source": [
    "print( \"X ∈ \", ( \n",
    "    df['N'].mean() - ( df['N'].std() / ( df['N'].size**0.5 ) )*1.96,\n",
    "    df['N'].mean() + ( df['N'].std() / ( df['N'].size**0.5 ) )*1.96\n",
    "))"
   ]
  },
  {
   "cell_type": "markdown",
   "metadata": {},
   "source": [
    "`Тобто можна стверджувати що середне значення при вибіркі достатньо великого розміру не вийде за межі інтервалу 0.8889, 1.29107.`"
   ]
  },
  {
   "cell_type": "markdown",
   "metadata": {},
   "source": [
    "#### Довірчий інтервал для середньо квадратичного\n",
    "\n",
    "$$ S( 1 - q) < s < S(1 + q) $$\n",
    "\n",
    "за таблицею\n",
    "\n",
    "$$ q=q(γ ; n)=(0.95; 100)=0.143$$"
   ]
  },
  {
   "cell_type": "code",
   "execution_count": 25,
   "metadata": {},
   "outputs": [
    {
     "name": "stdout",
     "output_type": "stream",
     "text": [
      "S ∈  (0.8791768493450237, 1.1725777582279604)\n"
     ]
    }
   ],
   "source": [
    "print( \"S ∈ \", ( \n",
    "    df['N'].std(ddof=1)*(1-0.143),\n",
    "    df['N'].std(ddof=1)*(1+0.143)\n",
    "))"
   ]
  },
  {
   "cell_type": "code",
   "execution_count": null,
   "metadata": {},
   "outputs": [],
   "source": []
  }
 ],
 "metadata": {
  "kernelspec": {
   "display_name": "Python 3",
   "language": "python",
   "name": "python3"
  },
  "language_info": {
   "codemirror_mode": {
    "name": "ipython",
    "version": 3
   },
   "file_extension": ".py",
   "mimetype": "text/x-python",
   "name": "python",
   "nbconvert_exporter": "python",
   "pygments_lexer": "ipython3",
   "version": "3.7.2"
  }
 },
 "nbformat": 4,
 "nbformat_minor": 2
}
