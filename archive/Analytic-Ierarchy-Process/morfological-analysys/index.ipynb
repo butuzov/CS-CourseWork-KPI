{
 "cells": [
  {
   "cell_type": "code",
   "execution_count": 1,
   "metadata": {
    "ExecuteTime": {
     "end_time": "2019-05-27T19:37:52.948443Z",
     "start_time": "2019-05-27T19:37:51.729044Z"
    }
   },
   "outputs": [
    {
     "name": "stdout",
     "output_type": "stream",
     "text": [
      "Requirement already satisfied: openpyxl in /Users/butuzov/venvs/jupyter/lib/python3.7/site-packages (2.6.2)\r\n",
      "Requirement already satisfied: et-xmlfile in /Users/butuzov/venvs/jupyter/lib/python3.7/site-packages (from openpyxl) (1.0.1)\r\n",
      "Requirement already satisfied: jdcal in /Users/butuzov/venvs/jupyter/lib/python3.7/site-packages (from openpyxl) (1.4.1)\r\n"
     ]
    }
   ],
   "source": [
    "!pip install openpyxl"
   ]
  },
  {
   "cell_type": "code",
   "execution_count": 2,
   "metadata": {
    "ExecuteTime": {
     "end_time": "2019-05-27T19:37:53.557220Z",
     "start_time": "2019-05-27T19:37:52.952483Z"
    }
   },
   "outputs": [],
   "source": [
    "from IPython.display import HTML, Math, Latex, Markdown, display\n",
    "\n",
    "import itertools\n",
    "import pandas as pd\n",
    "import numpy as np"
   ]
  },
  {
   "cell_type": "code",
   "execution_count": 3,
   "metadata": {
    "ExecuteTime": {
     "end_time": "2019-05-27T19:37:53.564706Z",
     "start_time": "2019-05-27T19:37:53.560093Z"
    }
   },
   "outputs": [],
   "source": [
    "pd.set_option('display.max_rows', 80)"
   ]
  },
  {
   "cell_type": "markdown",
   "metadata": {},
   "source": [
    "# Індивідуальне завдання\n",
    "\n",
    "1. Виконати процедуру першого етапу модифікованого морфологічного аналізу, знайти ймовірності альтернатив і зробити відповідні висновки;\n",
    "2. Виконати процедуру другого етапу модифікованого морфологічного аналізу, знайти очікувані результативності альтернатив параметру рішення і зробити відповідні висновки.\n",
    "\n",
    "В результаті експертного опитування були отримані експертні думки щодо ймовірностей альтернатив параметрів (табл. 6) і значень матриці взаємозв'язків (табл. 7), а також значення матриці зв'язків параметрів 1−3 і параметра 4 (табл. 10). "
   ]
  },
  {
   "cell_type": "code",
   "execution_count": 4,
   "metadata": {
    "ExecuteTime": {
     "end_time": "2019-05-27T19:37:53.578391Z",
     "start_time": "2019-05-27T19:37:53.568846Z"
    },
    "hide_input": false
   },
   "outputs": [],
   "source": [
    "def make(header, rows):\n",
    "    df = pd.DataFrame([[0 for x in range(len(header.index))] for x in range(len(rows.index))])\n",
    "    df.index = rows.index\n",
    "    df.columns = header.index\n",
    "    return df\n",
    "\n",
    "def combinations(*df):\n",
    "    combinations = []\n",
    "    for i1 in df[0].index:\n",
    "        for i2 in df[1].index:\n",
    "            for i3 in df[2].index:\n",
    "                combinations.append([i1,i2,i3])\n",
    "    return combinations\n",
    "\n",
    "table = \"<table><tbody><tr>{}</tr></tbody></table>\".format('<td style=\"vertical-align:top\">{}</td>'*3)"
   ]
  },
  {
   "cell_type": "markdown",
   "metadata": {},
   "source": [
    "### Табл. 6. Попередні оцінки ймовірностей, отримані від експертів"
   ]
  },
  {
   "cell_type": "code",
   "execution_count": 5,
   "metadata": {
    "ExecuteTime": {
     "end_time": "2019-05-27T19:37:53.614759Z",
     "start_time": "2019-05-27T19:37:53.582461Z"
    },
    "hide_input": true
   },
   "outputs": [
    {
     "data": {
      "text/html": [
       "<table><tbody><tr><td style=\"vertical-align:top\"><table border=\"1\" class=\"dataframe\">\n",
       "  <thead>\n",
       "    <tr style=\"text-align: right;\">\n",
       "      <th></th>\n",
       "      <th>Час</th>\n",
       "    </tr>\n",
       "  </thead>\n",
       "  <tbody>\n",
       "    <tr>\n",
       "      <th>1.1</th>\n",
       "      <td>0.7</td>\n",
       "    </tr>\n",
       "    <tr>\n",
       "      <th>1.2</th>\n",
       "      <td>0.1</td>\n",
       "    </tr>\n",
       "  </tbody>\n",
       "</table></td><td style=\"vertical-align:top\"><table border=\"1\" class=\"dataframe\">\n",
       "  <thead>\n",
       "    <tr style=\"text-align: right;\">\n",
       "      <th></th>\n",
       "      <th>Місце</th>\n",
       "    </tr>\n",
       "  </thead>\n",
       "  <tbody>\n",
       "    <tr>\n",
       "      <th>2.1</th>\n",
       "      <td>0.2</td>\n",
       "    </tr>\n",
       "    <tr>\n",
       "      <th>2.2</th>\n",
       "      <td>0.3</td>\n",
       "    </tr>\n",
       "    <tr>\n",
       "      <th>2.3</th>\n",
       "      <td>0.6</td>\n",
       "    </tr>\n",
       "    <tr>\n",
       "      <th>2.4</th>\n",
       "      <td>0.6</td>\n",
       "    </tr>\n",
       "    <tr>\n",
       "      <th>2.5</th>\n",
       "      <td>0.8</td>\n",
       "    </tr>\n",
       "  </tbody>\n",
       "</table></td><td style=\"vertical-align:top\"><table border=\"1\" class=\"dataframe\">\n",
       "  <thead>\n",
       "    <tr style=\"text-align: right;\">\n",
       "      <th></th>\n",
       "      <th>Причини</th>\n",
       "    </tr>\n",
       "  </thead>\n",
       "  <tbody>\n",
       "    <tr>\n",
       "      <th>3.1</th>\n",
       "      <td>0.60</td>\n",
       "    </tr>\n",
       "    <tr>\n",
       "      <th>3.2</th>\n",
       "      <td>0.80</td>\n",
       "    </tr>\n",
       "    <tr>\n",
       "      <th>3.3</th>\n",
       "      <td>0.70</td>\n",
       "    </tr>\n",
       "    <tr>\n",
       "      <th>3.4</th>\n",
       "      <td>0.10</td>\n",
       "    </tr>\n",
       "    <tr>\n",
       "      <th>3.5</th>\n",
       "      <td>0.10</td>\n",
       "    </tr>\n",
       "    <tr>\n",
       "      <th>3.6</th>\n",
       "      <td>0.05</td>\n",
       "    </tr>\n",
       "    <tr>\n",
       "      <th>3.7</th>\n",
       "      <td>0.30</td>\n",
       "    </tr>\n",
       "    <tr>\n",
       "      <th>3.8</th>\n",
       "      <td>0.05</td>\n",
       "    </tr>\n",
       "  </tbody>\n",
       "</table></td></tr></tbody></table>"
      ],
      "text/plain": [
       "<IPython.core.display.HTML object>"
      ]
     },
     "metadata": {},
     "output_type": "display_data"
    }
   ],
   "source": [
    "times = [f\"1.{x}\" for x in range(1, 3)]  \n",
    "df_times = pd.DataFrame(np.array([.7, .1]), columns=[\"Час\"], index=times)\n",
    "times_html = df_times.to_html()\n",
    "\n",
    "\n",
    "places = [f\"2.{x}\" for x in range(1, 6)] \n",
    "df_places = pd.DataFrame(np.array([.2, .3, .6, .6, .8]), columns=[\"Місце\"], index=places)\n",
    "places_html = df_places.to_html()\n",
    "\n",
    "reasons = [f\"3.{x}\" for x in range(1, 9)] \n",
    "df_reasons = pd.DataFrame(np.array([.6, .8, .7, .1, .1, .05, .3, .05]), columns=[\"Причини\"], index=reasons)\n",
    "reasons_html = df_reasons.to_html()\n",
    "\n",
    "display(HTML(table.format(times_html, places_html, reasons_html)))"
   ]
  },
  {
   "cell_type": "markdown",
   "metadata": {},
   "source": [
    "### Табл. 7. Матриця взаємозв'язків параметрів таблиці"
   ]
  },
  {
   "cell_type": "code",
   "execution_count": 6,
   "metadata": {
    "ExecuteTime": {
     "end_time": "2019-05-27T19:37:53.656485Z",
     "start_time": "2019-05-27T19:37:53.618354Z"
    },
    "hide_input": false
   },
   "outputs": [
    {
     "data": {
      "text/html": [
       "<table border=\"1\" class=\"dataframe\">\n",
       "  <thead>\n",
       "    <tr style=\"text-align: right;\">\n",
       "      <th></th>\n",
       "      <th>1.1</th>\n",
       "      <th>1.2</th>\n",
       "      <th>2.1</th>\n",
       "      <th>2.2</th>\n",
       "      <th>2.3</th>\n",
       "      <th>2.4</th>\n",
       "      <th>2.5</th>\n",
       "    </tr>\n",
       "  </thead>\n",
       "  <tbody>\n",
       "    <tr>\n",
       "      <th>2.1</th>\n",
       "      <td>0.1</td>\n",
       "      <td></td>\n",
       "      <td></td>\n",
       "      <td></td>\n",
       "      <td></td>\n",
       "      <td></td>\n",
       "      <td></td>\n",
       "    </tr>\n",
       "    <tr>\n",
       "      <th>2.2</th>\n",
       "      <td>0.1</td>\n",
       "      <td></td>\n",
       "      <td></td>\n",
       "      <td></td>\n",
       "      <td></td>\n",
       "      <td></td>\n",
       "      <td></td>\n",
       "    </tr>\n",
       "    <tr>\n",
       "      <th>2.3</th>\n",
       "      <td>0.1</td>\n",
       "      <td></td>\n",
       "      <td></td>\n",
       "      <td></td>\n",
       "      <td></td>\n",
       "      <td></td>\n",
       "      <td></td>\n",
       "    </tr>\n",
       "    <tr>\n",
       "      <th>2.4</th>\n",
       "      <td>0.1</td>\n",
       "      <td></td>\n",
       "      <td></td>\n",
       "      <td></td>\n",
       "      <td></td>\n",
       "      <td></td>\n",
       "      <td></td>\n",
       "    </tr>\n",
       "    <tr>\n",
       "      <th>2.5</th>\n",
       "      <td>0.5</td>\n",
       "      <td></td>\n",
       "      <td></td>\n",
       "      <td></td>\n",
       "      <td></td>\n",
       "      <td></td>\n",
       "      <td></td>\n",
       "    </tr>\n",
       "    <tr>\n",
       "      <th>3.1</th>\n",
       "      <td>0.5</td>\n",
       "      <td>-0.3</td>\n",
       "      <td></td>\n",
       "      <td></td>\n",
       "      <td></td>\n",
       "      <td></td>\n",
       "      <td>0.3</td>\n",
       "    </tr>\n",
       "    <tr>\n",
       "      <th>3.2</th>\n",
       "      <td></td>\n",
       "      <td>0.3</td>\n",
       "      <td></td>\n",
       "      <td></td>\n",
       "      <td></td>\n",
       "      <td></td>\n",
       "      <td>-0.3</td>\n",
       "    </tr>\n",
       "    <tr>\n",
       "      <th>3.3</th>\n",
       "      <td></td>\n",
       "      <td>0.3</td>\n",
       "      <td></td>\n",
       "      <td></td>\n",
       "      <td></td>\n",
       "      <td></td>\n",
       "      <td>-0.3</td>\n",
       "    </tr>\n",
       "    <tr>\n",
       "      <th>3.4</th>\n",
       "      <td></td>\n",
       "      <td></td>\n",
       "      <td></td>\n",
       "      <td></td>\n",
       "      <td></td>\n",
       "      <td></td>\n",
       "      <td>0.3</td>\n",
       "    </tr>\n",
       "    <tr>\n",
       "      <th>3.5</th>\n",
       "      <td></td>\n",
       "      <td>0.3</td>\n",
       "      <td></td>\n",
       "      <td></td>\n",
       "      <td></td>\n",
       "      <td></td>\n",
       "      <td>-0.3</td>\n",
       "    </tr>\n",
       "    <tr>\n",
       "      <th>3.6</th>\n",
       "      <td>-0.5</td>\n",
       "      <td>0.5</td>\n",
       "      <td></td>\n",
       "      <td></td>\n",
       "      <td></td>\n",
       "      <td></td>\n",
       "      <td>-0.1</td>\n",
       "    </tr>\n",
       "    <tr>\n",
       "      <th>3.7</th>\n",
       "      <td></td>\n",
       "      <td>0.3</td>\n",
       "      <td></td>\n",
       "      <td></td>\n",
       "      <td></td>\n",
       "      <td></td>\n",
       "      <td></td>\n",
       "    </tr>\n",
       "    <tr>\n",
       "      <th>3.8</th>\n",
       "      <td></td>\n",
       "      <td></td>\n",
       "      <td></td>\n",
       "      <td></td>\n",
       "      <td></td>\n",
       "      <td></td>\n",
       "      <td></td>\n",
       "    </tr>\n",
       "  </tbody>\n",
       "</table>"
      ],
      "text/plain": [
       "<IPython.core.display.HTML object>"
      ]
     },
     "metadata": {},
     "output_type": "display_data"
    }
   ],
   "source": [
    "columns = list(df_times.index) + list(df_places.index)\n",
    "rows = list(df_places.index) + list(df_reasons.index)\n",
    "data = np.zeros((len(rows), len(columns)))\n",
    "df_cor = pd.DataFrame(data, columns=columns, index=rows)\n",
    " \n",
    "#  row/ column / value\n",
    "times_places =   [ (1, 1, .1), (2, 1,  .1), (3, 1,  .1), (4, 1, .1), (5, 1,  .5), ]\n",
    "times_reasons =  [ (1, 1, .5), (6, 1, -.5), (1, 2, -.3), (2, 2, .3), (3, 2,  .3), (5, 2,  .3), (6, 2, .5), (7, 2, .3),]\n",
    "places_reasons = [ (1, 5, .3), (2, 5, -.3), (3, 5, -.3), (4, 5, .3), (5, 5, -.3), (6, 5, -.1), ] \n",
    "\n",
    "\n",
    "for i in times_places: \n",
    "    df_cor.loc[f'2.{i[0]}', f'1.{i[1]}'] = i[2]\n",
    "\n",
    "for i in times_reasons: \n",
    "    df_cor.loc[f'3.{i[0]}', f'1.{i[1]}'] = i[2]\n",
    "    \n",
    "for i in places_reasons: \n",
    "    df_cor.loc[f'3.{i[0]}', f'2.{i[1]}'] = i[2]\n",
    "    \n",
    "display(HTML(df_cor.to_html().replace(\"0.0\", \"\")))"
   ]
  },
  {
   "cell_type": "markdown",
   "metadata": {},
   "source": [
    "# Етап 1 "
   ]
  },
  {
   "cell_type": "markdown",
   "metadata": {
    "ExecuteTime": {
     "end_time": "2019-05-23T11:06:41.717605Z",
     "start_time": "2019-05-23T11:06:41.712781Z"
    }
   },
   "source": [
    "## Нормуємо дані морфологічної оцінки експертів за 3 критеріями."
   ]
  },
  {
   "cell_type": "code",
   "execution_count": 7,
   "metadata": {
    "ExecuteTime": {
     "end_time": "2019-05-27T19:37:53.678162Z",
     "start_time": "2019-05-27T19:37:53.660215Z"
    }
   },
   "outputs": [
    {
     "data": {
      "text/html": [
       "<table><tbody><tr><td style=\"vertical-align:top\"><table border=\"1\" class=\"dataframe\">\n",
       "  <thead>\n",
       "    <tr style=\"text-align: right;\">\n",
       "      <th></th>\n",
       "      <th>Час</th>\n",
       "    </tr>\n",
       "  </thead>\n",
       "  <tbody>\n",
       "    <tr>\n",
       "      <th>1.1</th>\n",
       "      <td>0.875</td>\n",
       "    </tr>\n",
       "    <tr>\n",
       "      <th>1.2</th>\n",
       "      <td>0.125</td>\n",
       "    </tr>\n",
       "  </tbody>\n",
       "</table></td><td style=\"vertical-align:top\"><table border=\"1\" class=\"dataframe\">\n",
       "  <thead>\n",
       "    <tr style=\"text-align: right;\">\n",
       "      <th></th>\n",
       "      <th>Місце</th>\n",
       "    </tr>\n",
       "  </thead>\n",
       "  <tbody>\n",
       "    <tr>\n",
       "      <th>2.1</th>\n",
       "      <td>0.08</td>\n",
       "    </tr>\n",
       "    <tr>\n",
       "      <th>2.2</th>\n",
       "      <td>0.12</td>\n",
       "    </tr>\n",
       "    <tr>\n",
       "      <th>2.3</th>\n",
       "      <td>0.24</td>\n",
       "    </tr>\n",
       "    <tr>\n",
       "      <th>2.4</th>\n",
       "      <td>0.24</td>\n",
       "    </tr>\n",
       "    <tr>\n",
       "      <th>2.5</th>\n",
       "      <td>0.32</td>\n",
       "    </tr>\n",
       "  </tbody>\n",
       "</table></td><td style=\"vertical-align:top\"><table border=\"1\" class=\"dataframe\">\n",
       "  <thead>\n",
       "    <tr style=\"text-align: right;\">\n",
       "      <th></th>\n",
       "      <th>Причини</th>\n",
       "    </tr>\n",
       "  </thead>\n",
       "  <tbody>\n",
       "    <tr>\n",
       "      <th>3.1</th>\n",
       "      <td>0.222222</td>\n",
       "    </tr>\n",
       "    <tr>\n",
       "      <th>3.2</th>\n",
       "      <td>0.296296</td>\n",
       "    </tr>\n",
       "    <tr>\n",
       "      <th>3.3</th>\n",
       "      <td>0.259259</td>\n",
       "    </tr>\n",
       "    <tr>\n",
       "      <th>3.4</th>\n",
       "      <td>0.037037</td>\n",
       "    </tr>\n",
       "    <tr>\n",
       "      <th>3.5</th>\n",
       "      <td>0.037037</td>\n",
       "    </tr>\n",
       "    <tr>\n",
       "      <th>3.6</th>\n",
       "      <td>0.018519</td>\n",
       "    </tr>\n",
       "    <tr>\n",
       "      <th>3.7</th>\n",
       "      <td>0.111111</td>\n",
       "    </tr>\n",
       "    <tr>\n",
       "      <th>3.8</th>\n",
       "      <td>0.018519</td>\n",
       "    </tr>\n",
       "  </tbody>\n",
       "</table></td></tr></tbody></table>"
      ],
      "text/plain": [
       "<IPython.core.display.HTML object>"
      ]
     },
     "metadata": {},
     "output_type": "display_data"
    }
   ],
   "source": [
    "df_times['Час'] /= df_times['Час'].sum()\n",
    "df_places['Місце'] /= df_places['Місце'].sum()\n",
    "df_reasons['Причини'] /= df_reasons['Причини'].sum()\n",
    "\n",
    "\n",
    "times_html = df_times.to_html()\n",
    "places_html = df_places.to_html()\n",
    "reasons_html = df_reasons.to_html()\n",
    "\n",
    "display(HTML(table.format(times_html, places_html, reasons_html)))"
   ]
  },
  {
   "cell_type": "code",
   "execution_count": 8,
   "metadata": {
    "ExecuteTime": {
     "end_time": "2019-05-27T19:37:54.115992Z",
     "start_time": "2019-05-27T19:37:53.683610Z"
    }
   },
   "outputs": [],
   "source": [
    "# display(Markdown(\"### Морфологічна конфігурація\"))\n",
    "\n",
    "\n",
    "def C(row):\n",
    "    \n",
    "    a = df_cor.loc[row['Місце'], row['Час']]+1\n",
    "    b = df_cor.loc[row['Причини'], row['Час']]+1\n",
    "    c = df_cor.loc[row['Причини'], row['Місце']]+1\n",
    "\n",
    "    return a*b*c\n",
    "\n",
    "def Norm(row):\n",
    "    time = df_times.loc[row['Час'], 'Час']\n",
    "    place = df_places.loc[row['Місце'], 'Місце']\n",
    "    reason = df_reasons.loc[row['Причини'], 'Причини']\n",
    "    \n",
    "    return time * place * reason\n",
    "\n",
    "df_morf=pd.DataFrame(combinations(df_times, df_places, df_reasons), columns=[\"Час\", \"Місце\", \"Причини\"])\n",
    "df_morf['С\\''] = df_morf.apply(C, axis=1)\n",
    "df_morf['С'] = df_morf.apply(Norm, axis=1)\n",
    "df_morf['P\\'s'] = df_morf['С\\''] * df_morf['С']\n",
    "df_morf['Ps'] = df_morf['P\\'s'] / df_morf['P\\'s'].sum()\n",
    "\n",
    "df_morf.to_excel(\"table_1_new.xlsx\")\n",
    "\n",
    "# df_morf"
   ]
  },
  {
   "cell_type": "code",
   "execution_count": 9,
   "metadata": {
    "ExecuteTime": {
     "end_time": "2019-05-27T19:37:54.166254Z",
     "start_time": "2019-05-27T19:37:54.119018Z"
    }
   },
   "outputs": [
    {
     "data": {
      "text/markdown": [
       "### Табл. 9. Ймовірності альтернатив (отримана за результатами Таблиці 1)"
      ],
      "text/plain": [
       "<IPython.core.display.Markdown object>"
      ]
     },
     "metadata": {},
     "output_type": "display_data"
    },
    {
     "data": {
      "text/html": [
       "<table><tbody><tr><td style=\"vertical-align:top\"><table border=\"1\" class=\"dataframe\">\n",
       "  <thead>\n",
       "    <tr style=\"text-align: right;\">\n",
       "      <th></th>\n",
       "      <th>Час</th>\n",
       "    </tr>\n",
       "  </thead>\n",
       "  <tbody>\n",
       "    <tr>\n",
       "      <th>1.1</th>\n",
       "      <td>0.893892</td>\n",
       "    </tr>\n",
       "    <tr>\n",
       "      <th>1.2</th>\n",
       "      <td>0.106108</td>\n",
       "    </tr>\n",
       "  </tbody>\n",
       "</table></td><td style=\"vertical-align:top\"><table border=\"1\" class=\"dataframe\">\n",
       "  <thead>\n",
       "    <tr style=\"text-align: right;\">\n",
       "      <th></th>\n",
       "      <th>Місце</th>\n",
       "    </tr>\n",
       "  </thead>\n",
       "  <tbody>\n",
       "    <tr>\n",
       "      <th>2.1</th>\n",
       "      <td>0.074556</td>\n",
       "    </tr>\n",
       "    <tr>\n",
       "      <th>2.2</th>\n",
       "      <td>0.111834</td>\n",
       "    </tr>\n",
       "    <tr>\n",
       "      <th>2.3</th>\n",
       "      <td>0.223667</td>\n",
       "    </tr>\n",
       "    <tr>\n",
       "      <th>2.4</th>\n",
       "      <td>0.223667</td>\n",
       "    </tr>\n",
       "    <tr>\n",
       "      <th>2.5</th>\n",
       "      <td>0.366276</td>\n",
       "    </tr>\n",
       "  </tbody>\n",
       "</table></td><td style=\"vertical-align:top\"><table border=\"1\" class=\"dataframe\">\n",
       "  <thead>\n",
       "    <tr style=\"text-align: right;\">\n",
       "      <th></th>\n",
       "      <th>Причини</th>\n",
       "    </tr>\n",
       "  </thead>\n",
       "  <tbody>\n",
       "    <tr>\n",
       "      <th>3.1</th>\n",
       "      <td>0.326040</td>\n",
       "    </tr>\n",
       "    <tr>\n",
       "      <th>3.2</th>\n",
       "      <td>0.251070</td>\n",
       "    </tr>\n",
       "    <tr>\n",
       "      <th>3.3</th>\n",
       "      <td>0.219686</td>\n",
       "    </tr>\n",
       "    <tr>\n",
       "      <th>3.4</th>\n",
       "      <td>0.038320</td>\n",
       "    </tr>\n",
       "    <tr>\n",
       "      <th>3.5</th>\n",
       "      <td>0.031384</td>\n",
       "    </tr>\n",
       "    <tr>\n",
       "      <th>3.6</th>\n",
       "      <td>0.009995</td>\n",
       "    </tr>\n",
       "    <tr>\n",
       "      <th>3.7</th>\n",
       "      <td>0.106322</td>\n",
       "    </tr>\n",
       "    <tr>\n",
       "      <th>3.8</th>\n",
       "      <td>0.017183</td>\n",
       "    </tr>\n",
       "  </tbody>\n",
       "</table></td></tr></tbody></table>"
      ],
      "text/plain": [
       "<IPython.core.display.HTML object>"
      ]
     },
     "metadata": {},
     "output_type": "display_data"
    }
   ],
   "source": [
    "def fill(df, morf):\n",
    "    for idx in df.index:\n",
    "        df.loc[idx, df.columns[0]] = morf[(morf[df.columns[0]] == idx)]['Ps'].sum()\n",
    "\n",
    "df_times_r = df_times.copy()\n",
    "fill(df_times_r, df_morf)\n",
    "times_html = df_times_r.to_html()\n",
    "\n",
    "df_places_r =df_places.copy() \n",
    "fill(df_places_r, df_morf)\n",
    "places_html = df_places_r.to_html()\n",
    " \n",
    "df_reasons_r = df_reasons.copy()\n",
    "fill(df_reasons_r, df_morf)\n",
    "reasons_html = df_reasons_r.to_html()\n",
    "\n",
    "display(Markdown(\"### Табл. 9. Ймовірності альтернатив (отримана за результатами Таблиці 1)\"))\n",
    "display(HTML(table.format(times_html, places_html, reasons_html)))"
   ]
  },
  {
   "cell_type": "markdown",
   "metadata": {},
   "source": [
    "### Проміжні висновки\n",
    "\n",
    "Згідно результатів прорахунків Таблиці 1:\n",
    "* Найбільш вагомою альтернативою дорожніх заторів по параметру «Часу» з оцінкою експертів 0,7 є 1шою з ймовірністю 0.893. \n",
    "* За параметром «Місце» найбільшою є 5 з попередньою оцінкою експертів в 0,8 з ймовірністю 0.3662. 3 та 4 альтернативи є однаковими і становлять 0.223667.  Найгіршою альтернативою є 1.\n",
    "* В параметрі «Причина» найвагомішою є 1 з ймовірністю 0.326, найбільш близькими до неї є 2 і 3 альтернатива.  Найменшими є альтернатива 6"
   ]
  },
  {
   "cell_type": "markdown",
   "metadata": {},
   "source": [
    " ## Етап 2"
   ]
  },
  {
   "cell_type": "code",
   "execution_count": 13,
   "metadata": {
    "ExecuteTime": {
     "end_time": "2019-05-27T19:38:12.958104Z",
     "start_time": "2019-05-27T19:38:12.926484Z"
    }
   },
   "outputs": [
    {
     "data": {
      "text/markdown": [
       "## Табл. 10. Матриця зв'язків параметрів 1−3 і параметра 4"
      ],
      "text/plain": [
       "<IPython.core.display.Markdown object>"
      ]
     },
     "metadata": {},
     "output_type": "display_data"
    },
    {
     "data": {
      "text/html": [
       "<table border=\"1\" class=\"dataframe\">\n",
       "  <thead>\n",
       "    <tr style=\"text-align: right;\">\n",
       "      <th></th>\n",
       "      <th>4.1</th>\n",
       "      <th>4.2</th>\n",
       "      <th>4.3</th>\n",
       "      <th>4.4</th>\n",
       "      <th>4.5</th>\n",
       "    </tr>\n",
       "  </thead>\n",
       "  <tbody>\n",
       "    <tr>\n",
       "      <th>1.1</th>\n",
       "      <td></td>\n",
       "      <td></td>\n",
       "      <td></td>\n",
       "      <td></td>\n",
       "      <td>0.5</td>\n",
       "    </tr>\n",
       "    <tr>\n",
       "      <th>1.2</th>\n",
       "      <td></td>\n",
       "      <td></td>\n",
       "      <td>-0.3</td>\n",
       "      <td></td>\n",
       "      <td></td>\n",
       "    </tr>\n",
       "    <tr>\n",
       "      <th>2.1</th>\n",
       "      <td>0.5</td>\n",
       "      <td></td>\n",
       "      <td></td>\n",
       "      <td></td>\n",
       "      <td>0.5</td>\n",
       "    </tr>\n",
       "    <tr>\n",
       "      <th>2.2</th>\n",
       "      <td>-0.7</td>\n",
       "      <td></td>\n",
       "      <td></td>\n",
       "      <td></td>\n",
       "      <td></td>\n",
       "    </tr>\n",
       "    <tr>\n",
       "      <th>2.3</th>\n",
       "      <td>-0.7</td>\n",
       "      <td></td>\n",
       "      <td></td>\n",
       "      <td></td>\n",
       "      <td></td>\n",
       "    </tr>\n",
       "    <tr>\n",
       "      <th>2.4</th>\n",
       "      <td>-0.5</td>\n",
       "      <td>0.3</td>\n",
       "      <td></td>\n",
       "      <td></td>\n",
       "      <td></td>\n",
       "    </tr>\n",
       "    <tr>\n",
       "      <th>2.5</th>\n",
       "      <td></td>\n",
       "      <td>0.5</td>\n",
       "      <td>0.5</td>\n",
       "      <td>0.5</td>\n",
       "      <td>0.5</td>\n",
       "    </tr>\n",
       "    <tr>\n",
       "      <th>3.1</th>\n",
       "      <td>0.7</td>\n",
       "      <td>0.5</td>\n",
       "      <td>0.5</td>\n",
       "      <td>-0.5</td>\n",
       "      <td></td>\n",
       "    </tr>\n",
       "    <tr>\n",
       "      <th>3.2</th>\n",
       "      <td>0.3</td>\n",
       "      <td></td>\n",
       "      <td></td>\n",
       "      <td></td>\n",
       "      <td>-0.3</td>\n",
       "    </tr>\n",
       "    <tr>\n",
       "      <th>3.3</th>\n",
       "      <td>0.3</td>\n",
       "      <td></td>\n",
       "      <td>-0.3</td>\n",
       "      <td>-0.3</td>\n",
       "      <td>-0.3</td>\n",
       "    </tr>\n",
       "    <tr>\n",
       "      <th>3.4</th>\n",
       "      <td></td>\n",
       "      <td></td>\n",
       "      <td></td>\n",
       "      <td></td>\n",
       "      <td></td>\n",
       "    </tr>\n",
       "    <tr>\n",
       "      <th>3.5</th>\n",
       "      <td>-0.5</td>\n",
       "      <td></td>\n",
       "      <td></td>\n",
       "      <td></td>\n",
       "      <td></td>\n",
       "    </tr>\n",
       "    <tr>\n",
       "      <th>3.6</th>\n",
       "      <td></td>\n",
       "      <td></td>\n",
       "      <td></td>\n",
       "      <td></td>\n",
       "      <td></td>\n",
       "    </tr>\n",
       "    <tr>\n",
       "      <th>3.7</th>\n",
       "      <td>-0.3</td>\n",
       "      <td></td>\n",
       "      <td></td>\n",
       "      <td></td>\n",
       "      <td></td>\n",
       "    </tr>\n",
       "    <tr>\n",
       "      <th>3.8</th>\n",
       "      <td></td>\n",
       "      <td></td>\n",
       "      <td></td>\n",
       "      <td></td>\n",
       "      <td></td>\n",
       "    </tr>\n",
       "  </tbody>\n",
       "</table>"
      ],
      "text/plain": [
       "<IPython.core.display.HTML object>"
      ]
     },
     "metadata": {},
     "output_type": "display_data"
    }
   ],
   "source": [
    "display(Markdown(\"## Табл. 10. Матриця зв'язків параметрів 1−3 і параметра 4\"))\n",
    "indexes = list(itertools.chain(list(df_times.index), list(df_places.index), list(df_reasons.index)))\n",
    "\n",
    "df = pd.DataFrame(np.zeros((len(indexes),5)), \n",
    "                index=indexes,\n",
    "                columns=[ f\"4.{x}\" for x in range(1,6)])\n",
    "\n",
    "values = [ ('1.1', '4.5',  .5), \n",
    "           ('1.2', '4.3', -.3), \n",
    "           ('2.1','4.1',   .5), ('2.1', '4.5', .5),\n",
    "           ('2.2', '4.1', -.7), \n",
    "           ('2.3', '4.1', -.7), \n",
    "           ('2.4', '4.1', -.5), ('2.4', '4.2', .3),\n",
    "           ('2.5', '4.2',  .5), ('2.5', '4.3', .5), ('2.5', '4.4', .5), ('2.5', '4.5', .5),\n",
    "           ('3.1', '4.1',  .7), ('3.1', '4.2', .5), ('3.1', '4.3', .5), ('3.1', '4.4',-.5),\n",
    "           ('3.2', '4.1',  .3), ('3.2', '4.5',-.3),\n",
    "           ('3.3', '4.1',  .3), ('3.3', '4.3',-.3), ('3.3', '4.4',-.3), ('3.3', '4.5',-.3),\n",
    "           ('3.5', '4.1', -.5),\n",
    "           ('3.7', '4.1', -.3),\n",
    "         ]\n",
    "\n",
    "for i in values: \n",
    "    df.loc[f'{i[0]}', f'{i[1]}'] = i[2]\n",
    "\n",
    "display(HTML(df.to_html().replace(\"0.0\", \"\")))"
   ]
  },
  {
   "cell_type": "code",
   "execution_count": 11,
   "metadata": {
    "ExecuteTime": {
     "end_time": "2019-05-27T19:37:54.582107Z",
     "start_time": "2019-05-27T19:37:54.224718Z"
    }
   },
   "outputs": [],
   "source": [
    "def calc(key):\n",
    "    def _calc_(row):\n",
    "        a = df.loc[row['Час'],   key]\n",
    "        b = df.loc[row['Місце'], key]   \n",
    "        c = df.loc[row['Причини'], key] \n",
    "        return (a+1)*(b+1)*(c+1)\n",
    "    return _calc_\n",
    "\n",
    "def norm(key):\n",
    "    def _norm_(row):\n",
    "        return row[f\"$R_{key}^{{4'}}$\"] / row[\"$R_1^{4'}$\":\"$R_5^{4'}$\"].sum()\n",
    "    return _norm_\n",
    "\n",
    "df_2nd = df_morf[['Час','Місце', 'Причини', 'Ps' ]].copy()\n",
    "\n",
    "df_2nd[\"$R_1^{4'}$\"] = df_2nd.apply(calc('4.1'), axis=1)\n",
    "df_2nd[\"$R_2^{4'}$\"] = df_2nd.apply(calc('4.2'), axis=1)\n",
    "df_2nd[\"$R_3^{4'}$\"] = df_2nd.apply(calc('4.3'), axis=1)\n",
    "df_2nd[\"$R_4^{4'}$\"] = df_2nd.apply(calc('4.4'), axis=1)\n",
    "df_2nd[\"$R_5^{4'}$\"] = df_2nd.apply(calc('4.5'), axis=1)\n",
    "df_2nd[\"$R_1^{4}$\"] = df_2nd.apply(norm('1'), axis=1)\n",
    "df_2nd[\"$R_2^{4}$\"] = df_2nd.apply(norm('2'), axis=1)\n",
    "df_2nd[\"$R_3^{4}$\"] = df_2nd.apply(norm('3'), axis=1)\n",
    "df_2nd[\"$R_4^{4}$\"] = df_2nd.apply(norm('4'), axis=1)\n",
    "df_2nd[\"$R_5^{4}$\"] = df_2nd.apply(norm('5'), axis=1)\n",
    "\n",
    "df_2nd[\"$R_1^{4}Ps$\"] = df_2nd[\"$R_1^{4}$\"] * df_2nd['Ps']\n",
    "df_2nd[\"$R_2^{4}Ps$\"] = df_2nd[\"$R_2^{4}$\"] * df_2nd['Ps']\n",
    "df_2nd[\"$R_3^{4}Ps$\"] = df_2nd[\"$R_3^{4}$\"] * df_2nd['Ps']\n",
    "df_2nd[\"$R_4^{4}Ps$\"] = df_2nd[\"$R_4^{4}$\"] * df_2nd['Ps']\n",
    "df_2nd[\"$R_5^{4}Ps$\"] = df_2nd[\"$R_5^{4}$\"] * df_2nd['Ps']\n",
    "\n",
    "df_2nd.to_excel(\"table_2_new.xlsx\")"
   ]
  },
  {
   "cell_type": "markdown",
   "metadata": {},
   "source": [
    "### В результаті (Таблиця 2) обрахунків маємо наступну картину "
   ]
  },
  {
   "cell_type": "code",
   "execution_count": 12,
   "metadata": {
    "ExecuteTime": {
     "end_time": "2019-05-27T19:37:54.600249Z",
     "start_time": "2019-05-27T19:37:54.584209Z"
    }
   },
   "outputs": [
    {
     "data": {
      "text/html": [
       "<div>\n",
       "<style scoped>\n",
       "    .dataframe tbody tr th:only-of-type {\n",
       "        vertical-align: middle;\n",
       "    }\n",
       "\n",
       "    .dataframe tbody tr th {\n",
       "        vertical-align: top;\n",
       "    }\n",
       "\n",
       "    .dataframe thead th {\n",
       "        text-align: right;\n",
       "    }\n",
       "</style>\n",
       "<table border=\"1\" class=\"dataframe\">\n",
       "  <thead>\n",
       "    <tr style=\"text-align: right;\">\n",
       "      <th></th>\n",
       "      <th>Значення</th>\n",
       "      <th>Ранг</th>\n",
       "    </tr>\n",
       "  </thead>\n",
       "  <tbody>\n",
       "    <tr>\n",
       "      <th>4.1</th>\n",
       "      <td>0.1415</td>\n",
       "      <td>5</td>\n",
       "    </tr>\n",
       "    <tr>\n",
       "      <th>4.2</th>\n",
       "      <td>0.2435</td>\n",
       "      <td>2</td>\n",
       "    </tr>\n",
       "    <tr>\n",
       "      <th>4.3</th>\n",
       "      <td>0.2054</td>\n",
       "      <td>3</td>\n",
       "    </tr>\n",
       "    <tr>\n",
       "      <th>4.4</th>\n",
       "      <td>0.1586</td>\n",
       "      <td>4</td>\n",
       "    </tr>\n",
       "    <tr>\n",
       "      <th>4.5</th>\n",
       "      <td>0.2511</td>\n",
       "      <td>1</td>\n",
       "    </tr>\n",
       "  </tbody>\n",
       "</table>\n",
       "</div>"
      ],
      "text/plain": [
       "    Значення Ранг\n",
       "4.1   0.1415    5\n",
       "4.2   0.2435    2\n",
       "4.3   0.2054    3\n",
       "4.4   0.1586    4\n",
       "4.5   0.2511    1"
      ]
     },
     "execution_count": 12,
     "metadata": {},
     "output_type": "execute_result"
    }
   ],
   "source": [
    "pd.DataFrame({\n",
    "    '4.1': ['0.1415', '5'],\n",
    "    '4.2': ['0.2435', '2'],\n",
    "    '4.3': ['0.2054', '3'],\n",
    "    '4.4': ['0.1586', '4'],\n",
    "    '4.5': ['0.2511', '1'],\n",
    "}, index=[\"Значення\", \"Ранг\"]).T"
   ]
  },
  {
   "cell_type": "markdown",
   "metadata": {},
   "source": [
    "З таблиці 2 спостерігаємо, що найсуттєвішими очікуваними результативності альтернатив є для альтернатив 5 та 2, що досягають значень 0,2511 та 0,2435 відповідно. Наближеним, але трохи меншим є результативність для 3 альтернативи – 0,2054. Гіршими залишаються 4 та 1 з показниками 0,1415 та 0,1586 відповідно. "
   ]
  },
  {
   "cell_type": "code",
   "execution_count": null,
   "metadata": {},
   "outputs": [],
   "source": []
  }
 ],
 "metadata": {
  "hide_input": false,
  "kernelspec": {
   "display_name": "Python 3",
   "language": "python",
   "name": "python3"
  },
  "language_info": {
   "codemirror_mode": {
    "name": "ipython",
    "version": 3
   },
   "file_extension": ".py",
   "mimetype": "text/x-python",
   "name": "python",
   "nbconvert_exporter": "python",
   "pygments_lexer": "ipython3",
   "version": "3.7.3"
  },
  "toc": {
   "base_numbering": 1,
   "nav_menu": {},
   "number_sections": false,
   "sideBar": true,
   "skip_h1_title": false,
   "title_cell": "Table of Contents",
   "title_sidebar": "Contents",
   "toc_cell": false,
   "toc_position": {},
   "toc_section_display": true,
   "toc_window_display": false
  }
 },
 "nbformat": 4,
 "nbformat_minor": 2
}
