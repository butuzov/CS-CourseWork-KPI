{
 "cells": [
  {
   "cell_type": "code",
   "execution_count": 1,
   "metadata": {
    "ExecuteTime": {
     "end_time": "2019-05-27T19:33:43.402754Z",
     "start_time": "2019-05-27T19:33:42.775011Z"
    }
   },
   "outputs": [],
   "source": [
    "import pandas as pd\n",
    "import numpy as np\n",
    "from collections import namedtuple\n",
    "import itertools\n",
    "from IPython.display import HTML, Math, Latex, Markdown, display\n",
    "\n",
    "Func = namedtuple('Func' , 'func q p')"
   ]
  },
  {
   "cell_type": "code",
   "execution_count": 2,
   "metadata": {
    "ExecuteTime": {
     "end_time": "2019-05-27T19:33:43.412486Z",
     "start_time": "2019-05-27T19:33:43.405654Z"
    }
   },
   "outputs": [],
   "source": [
    "w = [0.6, 0.4]\n",
    "a = [[2, 500], [28, 390], [18, 480]]\n",
    "\n",
    "\"\"\"\n",
    "possible ways to call different methods\n",
    "\n",
    "Func( 'v_shape', 0, 15),      # always has 0 as q\n",
    "Func( 'u_shape', 0, 15),      # always has 0 as q\n",
    "Func( 'usual', 0, 0),         # always has 0 as q, 0 as p\n",
    "Func( 'linear', 5, 15),       # has q and p\n",
    "Func( 'level', 50, 100),      # has q and p\n",
    "\"\"\"\n",
    "\n",
    "f = [\n",
    "    Func('linear', 5, 15),       # has q and p\n",
    "    Func('level', 50, 100),        # has q and p\n",
    "#     Func('v_shape', 0, 15),      # always has 0 as q\n",
    "#     Func('u_shape', 0, 15),      # always has 0 as q\n",
    "#     Func('usual', 0, 0),           # always has 0 as q, 0 as p\n",
    "]"
   ]
  },
  {
   "cell_type": "code",
   "execution_count": 3,
   "metadata": {
    "ExecuteTime": {
     "end_time": "2019-05-27T19:33:43.452869Z",
     "start_time": "2019-05-27T19:33:43.418727Z"
    }
   },
   "outputs": [
    {
     "data": {
      "text/html": [
       "<div>\n",
       "<style scoped>\n",
       "    .dataframe tbody tr th:only-of-type {\n",
       "        vertical-align: middle;\n",
       "    }\n",
       "\n",
       "    .dataframe tbody tr th {\n",
       "        vertical-align: top;\n",
       "    }\n",
       "\n",
       "    .dataframe thead th {\n",
       "        text-align: right;\n",
       "    }\n",
       "</style>\n",
       "<table border=\"1\" class=\"dataframe\">\n",
       "  <thead>\n",
       "    <tr style=\"text-align: right;\">\n",
       "      <th></th>\n",
       "      <th>$C_1$</th>\n",
       "      <th>$C_2$</th>\n",
       "    </tr>\n",
       "  </thead>\n",
       "  <tbody>\n",
       "    <tr>\n",
       "      <th>$a_1$</th>\n",
       "      <td>2</td>\n",
       "      <td>500</td>\n",
       "    </tr>\n",
       "    <tr>\n",
       "      <th>$a_2$</th>\n",
       "      <td>28</td>\n",
       "      <td>390</td>\n",
       "    </tr>\n",
       "    <tr>\n",
       "      <th>$a_3$</th>\n",
       "      <td>18</td>\n",
       "      <td>480</td>\n",
       "    </tr>\n",
       "  </tbody>\n",
       "</table>\n",
       "</div>"
      ],
      "text/plain": [
       "       $C_1$  $C_2$\n",
       "$a_1$      2    500\n",
       "$a_2$     28    390\n",
       "$a_3$     18    480"
      ]
     },
     "execution_count": 3,
     "metadata": {},
     "output_type": "execute_result"
    }
   ],
   "source": [
    "A = pd.DataFrame(a, \n",
    "                 index=[f\"$a_{x}$\" for x in range(1,4)],  \n",
    "                 columns=[f\"$C_{x+1}$\" for x in range(len(w))])\n",
    "A"
   ]
  },
  {
   "cell_type": "code",
   "execution_count": 4,
   "metadata": {
    "ExecuteTime": {
     "end_time": "2019-05-27T19:33:43.510128Z",
     "start_time": "2019-05-27T19:33:43.493439Z"
    }
   },
   "outputs": [],
   "source": [
    "class Funcs:\n",
    "    \n",
    "    def __init__(self, a_i, a_j, method, **kwargs):\n",
    "        self.a_i = a_i\n",
    "        self.a_j = a_j\n",
    "        self.method = method\n",
    "        self.params = {}\n",
    "        \n",
    "        for k,v in kwargs.items():\n",
    "            self.params[k] = v\n",
    "        \n",
    "        \n",
    "    def __call__(self):\n",
    "        return self._methods(self.method)(self)\n",
    "        \n",
    "    def _methods(self, name):\n",
    "        \"\"\" activators wrapper \"\"\"\n",
    "        methods = {name.replace('method_', ''): code\n",
    "              for name, code in self.__class__.__dict__.items()\n",
    "              if name.startswith('method_')\n",
    "        } \n",
    "        return methods.get(name, None)\n",
    "    \n",
    "    def method_usual(self):\n",
    "        p = 0\n",
    "        diff = self.a_i - self.a_j\n",
    "        return 1 if diff >= p else 0\n",
    "        \n",
    "        \n",
    "    def method_u_shape(self): \n",
    "        self.params['p'] = 0\n",
    "        \n",
    "        diff = self.a_i - self.a_j\n",
    "    \n",
    "        return 1 if diff >= self.params['p'] else 0\n",
    "        \n",
    "    \n",
    "    def method_v_shape(self):\n",
    "        self.params['q']= 0\n",
    "        return self.method_level()\n",
    "    \n",
    "    def method_level(self):\n",
    "        q = self.params['q']\n",
    "        p = self.params['p']\n",
    "        \n",
    "        diff = self.a_i - self.a_j\n",
    "        if diff < q:\n",
    "            return 0\n",
    "        \n",
    "        if diff > p:\n",
    "            return 1\n",
    "        \n",
    "        return 0.5\n",
    "        \n",
    "    def method_linear(self):\n",
    "        q = self.params['q']\n",
    "        p = self.params['p']\n",
    "        diff = self.a_i - self.a_j\n",
    "        \n",
    "        if diff <= q:\n",
    "            return 0\n",
    "        \n",
    "        if diff >= p:\n",
    "            return 1\n",
    "        \n",
    "        result = (diff - q) / (p - q)\n",
    "        return result "
   ]
  },
  {
   "cell_type": "markdown",
   "metadata": {},
   "source": [
    "## Переваги по критеріям"
   ]
  },
  {
   "cell_type": "code",
   "execution_count": 5,
   "metadata": {
    "ExecuteTime": {
     "end_time": "2019-05-27T19:33:43.889673Z",
     "start_time": "2019-05-27T19:33:43.885643Z"
    }
   },
   "outputs": [],
   "source": [
    "# create base for matrix\n",
    "base = np.zeros((len(a), len(a)))"
   ]
  },
  {
   "cell_type": "code",
   "execution_count": 6,
   "metadata": {
    "ExecuteTime": {
     "end_time": "2019-05-27T19:33:44.142257Z",
     "start_time": "2019-05-27T19:33:44.111563Z"
    }
   },
   "outputs": [
    {
     "data": {
      "text/html": [
       "<table><tr><th><center>$C_1$</center><th><th><center>$C_2$</center><th></tr><tr><td><table border=\"1\" class=\"dataframe\">\n",
       "  <thead>\n",
       "    <tr style=\"text-align: right;\">\n",
       "      <th></th>\n",
       "      <th>$a_1$</th>\n",
       "      <th>$a_2$</th>\n",
       "      <th>$a_3$</th>\n",
       "    </tr>\n",
       "  </thead>\n",
       "  <tbody>\n",
       "    <tr>\n",
       "      <th>$a_1$</th>\n",
       "      <td>-</td>\n",
       "      <td>0.0</td>\n",
       "      <td>0.0</td>\n",
       "    </tr>\n",
       "    <tr>\n",
       "      <th>$a_2$</th>\n",
       "      <td>1.0</td>\n",
       "      <td>-</td>\n",
       "      <td>0.5</td>\n",
       "    </tr>\n",
       "    <tr>\n",
       "      <th>$a_3$</th>\n",
       "      <td>1.0</td>\n",
       "      <td>0.0</td>\n",
       "      <td>-</td>\n",
       "    </tr>\n",
       "  </tbody>\n",
       "</table><td><td><table border=\"1\" class=\"dataframe\">\n",
       "  <thead>\n",
       "    <tr style=\"text-align: right;\">\n",
       "      <th></th>\n",
       "      <th>$a_1$</th>\n",
       "      <th>$a_2$</th>\n",
       "      <th>$a_3$</th>\n",
       "    </tr>\n",
       "  </thead>\n",
       "  <tbody>\n",
       "    <tr>\n",
       "      <th>$a_1$</th>\n",
       "      <td>-</td>\n",
       "      <td>1.0</td>\n",
       "      <td>0.0</td>\n",
       "    </tr>\n",
       "    <tr>\n",
       "      <th>$a_2$</th>\n",
       "      <td>0.0</td>\n",
       "      <td>-</td>\n",
       "      <td>0.0</td>\n",
       "    </tr>\n",
       "    <tr>\n",
       "      <th>$a_3$</th>\n",
       "      <td>0.0</td>\n",
       "      <td>0.5</td>\n",
       "      <td>-</td>\n",
       "    </tr>\n",
       "  </tbody>\n",
       "</table><td></tr></table>"
      ],
      "text/plain": [
       "<IPython.core.display.HTML object>"
      ]
     },
     "metadata": {},
     "output_type": "display_data"
    }
   ],
   "source": [
    "Perevagy = {}\n",
    "labels=[f\"$a_{x}$\" for x in range(1,4)]\n",
    "\n",
    "for idx, criteriy in enumerate(A.columns):\n",
    "    C = pd.DataFrame(base.copy(), index=labels, columns=labels)\n",
    "    # ---------------------------------------------------------------\n",
    "    \n",
    "    for x in itertools.product(A.index.to_list(), A.index.to_list()):\n",
    "        if x[0] == x[1]:\n",
    "            C.loc[x[0], x[1]] = np.nan\n",
    "            continue\n",
    "        \n",
    "        a_i = A.loc[x[0], criteriy]\n",
    "        a_j = A.loc[x[1], criteriy]\n",
    "        \n",
    "        func, q, p = tuple(f[idx])\n",
    "        method = Funcs(a_i, a_j, func, q=q, p=p)\n",
    "        \n",
    "        C.loc[x[0], x[1]] = method() \n",
    "    \n",
    "    # ---------------------------------------------------------------\n",
    "    Perevagy.update({criteriy :C})\n",
    "\n",
    "def ShowMatrixes(Perevagy):  \n",
    "    header  = \"<tr>{}</tr>\".format(\"<th><center>{}</center><th>\"*len(Perevagy))\n",
    "    content = \"<tr>{}</tr>\".format(\"<td>{}<td>\"*len(Perevagy))\n",
    "\n",
    "    tables = list(map(lambda x: x.to_html().replace(\"NaN\", \"-\"), list(Perevagy.values())))\n",
    "\n",
    "    display(HTML(\n",
    "        \"<table>{}{}</table>\".format(\n",
    "            header.format(*(list(Perevagy.keys()))),\n",
    "            content.format(*tables),\n",
    "        )\n",
    "    ))\n",
    "    \n",
    "ShowMatrixes(Perevagy)"
   ]
  },
  {
   "cell_type": "markdown",
   "metadata": {},
   "source": [
    "## Зважена Переваги по критеріям\n",
    "\n",
    "$C_iw_i$"
   ]
  },
  {
   "cell_type": "code",
   "execution_count": 7,
   "metadata": {
    "ExecuteTime": {
     "end_time": "2019-05-27T19:33:44.535111Z",
     "start_time": "2019-05-27T19:33:44.517305Z"
    }
   },
   "outputs": [
    {
     "data": {
      "text/html": [
       "<table><tr><th><center>$C_1$</center><th><th><center>$C_2$</center><th></tr><tr><td><table border=\"1\" class=\"dataframe\">\n",
       "  <thead>\n",
       "    <tr style=\"text-align: right;\">\n",
       "      <th></th>\n",
       "      <th>$a_1$</th>\n",
       "      <th>$a_2$</th>\n",
       "      <th>$a_3$</th>\n",
       "    </tr>\n",
       "  </thead>\n",
       "  <tbody>\n",
       "    <tr>\n",
       "      <th>$a_1$</th>\n",
       "      <td>-</td>\n",
       "      <td>0.0</td>\n",
       "      <td>0.0</td>\n",
       "    </tr>\n",
       "    <tr>\n",
       "      <th>$a_2$</th>\n",
       "      <td>0.6</td>\n",
       "      <td>-</td>\n",
       "      <td>0.3</td>\n",
       "    </tr>\n",
       "    <tr>\n",
       "      <th>$a_3$</th>\n",
       "      <td>0.6</td>\n",
       "      <td>0.0</td>\n",
       "      <td>-</td>\n",
       "    </tr>\n",
       "  </tbody>\n",
       "</table><td><td><table border=\"1\" class=\"dataframe\">\n",
       "  <thead>\n",
       "    <tr style=\"text-align: right;\">\n",
       "      <th></th>\n",
       "      <th>$a_1$</th>\n",
       "      <th>$a_2$</th>\n",
       "      <th>$a_3$</th>\n",
       "    </tr>\n",
       "  </thead>\n",
       "  <tbody>\n",
       "    <tr>\n",
       "      <th>$a_1$</th>\n",
       "      <td>-</td>\n",
       "      <td>0.4</td>\n",
       "      <td>0.0</td>\n",
       "    </tr>\n",
       "    <tr>\n",
       "      <th>$a_2$</th>\n",
       "      <td>0.0</td>\n",
       "      <td>-</td>\n",
       "      <td>0.0</td>\n",
       "    </tr>\n",
       "    <tr>\n",
       "      <th>$a_3$</th>\n",
       "      <td>0.0</td>\n",
       "      <td>0.2</td>\n",
       "      <td>-</td>\n",
       "    </tr>\n",
       "  </tbody>\n",
       "</table><td></tr></table>"
      ],
      "text/plain": [
       "<IPython.core.display.HTML object>"
      ]
     },
     "metadata": {},
     "output_type": "display_data"
    }
   ],
   "source": [
    "ZvajenyPerevagy = {}\n",
    "for key, matrix in Perevagy.items():\n",
    "    idx = int(key[3]) - 1\n",
    "    ZvajenyPerevagy[key] = matrix * w[idx]\n",
    "\n",
    "ShowMatrixes(ZvajenyPerevagy)"
   ]
  },
  {
   "cell_type": "markdown",
   "metadata": {
    "ExecuteTime": {
     "end_time": "2019-05-24T20:38:57.285364Z",
     "start_time": "2019-05-24T20:38:57.280075Z"
    }
   },
   "source": [
    "## Агрегована Ступінь Рівноваги\n",
    "\n",
    "$\\sum C_i$"
   ]
  },
  {
   "cell_type": "code",
   "execution_count": 8,
   "metadata": {
    "ExecuteTime": {
     "end_time": "2019-05-27T19:33:45.013655Z",
     "start_time": "2019-05-27T19:33:44.991089Z"
    }
   },
   "outputs": [
    {
     "data": {
      "text/html": [
       "<div>\n",
       "<style scoped>\n",
       "    .dataframe tbody tr th:only-of-type {\n",
       "        vertical-align: middle;\n",
       "    }\n",
       "\n",
       "    .dataframe tbody tr th {\n",
       "        vertical-align: top;\n",
       "    }\n",
       "\n",
       "    .dataframe thead th {\n",
       "        text-align: right;\n",
       "    }\n",
       "</style>\n",
       "<table border=\"1\" class=\"dataframe\">\n",
       "  <thead>\n",
       "    <tr style=\"text-align: right;\">\n",
       "      <th></th>\n",
       "      <th>$a_1$</th>\n",
       "      <th>$a_2$</th>\n",
       "      <th>$a_3$</th>\n",
       "    </tr>\n",
       "  </thead>\n",
       "  <tbody>\n",
       "    <tr>\n",
       "      <th>$a_1$</th>\n",
       "      <td>NaN</td>\n",
       "      <td>0.4</td>\n",
       "      <td>0.0</td>\n",
       "    </tr>\n",
       "    <tr>\n",
       "      <th>$a_2$</th>\n",
       "      <td>0.6</td>\n",
       "      <td>NaN</td>\n",
       "      <td>0.3</td>\n",
       "    </tr>\n",
       "    <tr>\n",
       "      <th>$a_3$</th>\n",
       "      <td>0.6</td>\n",
       "      <td>0.2</td>\n",
       "      <td>NaN</td>\n",
       "    </tr>\n",
       "  </tbody>\n",
       "</table>\n",
       "</div>"
      ],
      "text/plain": [
       "       $a_1$  $a_2$  $a_3$\n",
       "$a_1$    NaN    0.4    0.0\n",
       "$a_2$    0.6    NaN    0.3\n",
       "$a_3$    0.6    0.2    NaN"
      ]
     },
     "execution_count": 8,
     "metadata": {},
     "output_type": "execute_result"
    }
   ],
   "source": [
    "C = pd.DataFrame(base.copy(), index=labels, columns=labels)\n",
    "for key, matrix in ZvajenyPerevagy.items():\n",
    "    C = C + matrix\n",
    "C"
   ]
  },
  {
   "cell_type": "markdown",
   "metadata": {},
   "source": [
    "## 1. Знайти ранжування за Prometeus 2\n",
    "\n",
    "\n",
    "* $\\Phi^+$ - вхідний потік (середнє по рядку)\n",
    "* $\\Phi^-$ - вихідний потік (середнє по стовбчику)\n",
    "* $\\Phi$   - чистий потік (різниця вхідного і вихідного)\n"
   ]
  },
  {
   "cell_type": "code",
   "execution_count": 9,
   "metadata": {
    "ExecuteTime": {
     "end_time": "2019-05-27T19:33:46.042803Z",
     "start_time": "2019-05-27T19:33:46.013087Z"
    }
   },
   "outputs": [
    {
     "data": {
      "text/html": [
       "<div>\n",
       "<style scoped>\n",
       "    .dataframe tbody tr th:only-of-type {\n",
       "        vertical-align: middle;\n",
       "    }\n",
       "\n",
       "    .dataframe tbody tr th {\n",
       "        vertical-align: top;\n",
       "    }\n",
       "\n",
       "    .dataframe thead th {\n",
       "        text-align: right;\n",
       "    }\n",
       "</style>\n",
       "<table border=\"1\" class=\"dataframe\">\n",
       "  <thead>\n",
       "    <tr style=\"text-align: right;\">\n",
       "      <th></th>\n",
       "      <th>$a_1$</th>\n",
       "      <th>$a_2$</th>\n",
       "      <th>$a_3$</th>\n",
       "      <th>$\\Phi^+$</th>\n",
       "      <th>$\\Phi^-$</th>\n",
       "      <th>$\\Phi$</th>\n",
       "    </tr>\n",
       "  </thead>\n",
       "  <tbody>\n",
       "    <tr>\n",
       "      <th>$a_1$</th>\n",
       "      <td>NaN</td>\n",
       "      <td>0.4</td>\n",
       "      <td>0.0</td>\n",
       "      <td>0.20</td>\n",
       "      <td>0.60</td>\n",
       "      <td>-0.40</td>\n",
       "    </tr>\n",
       "    <tr>\n",
       "      <th>$a_2$</th>\n",
       "      <td>0.6</td>\n",
       "      <td>NaN</td>\n",
       "      <td>0.3</td>\n",
       "      <td>0.45</td>\n",
       "      <td>0.30</td>\n",
       "      <td>0.15</td>\n",
       "    </tr>\n",
       "    <tr>\n",
       "      <th>$a_3$</th>\n",
       "      <td>0.6</td>\n",
       "      <td>0.2</td>\n",
       "      <td>NaN</td>\n",
       "      <td>0.40</td>\n",
       "      <td>0.15</td>\n",
       "      <td>0.25</td>\n",
       "    </tr>\n",
       "  </tbody>\n",
       "</table>\n",
       "</div>"
      ],
      "text/plain": [
       "       $a_1$  $a_2$  $a_3$  $\\Phi^+$  $\\Phi^-$  $\\Phi$\n",
       "$a_1$    NaN    0.4    0.0      0.20      0.60   -0.40\n",
       "$a_2$    0.6    NaN    0.3      0.45      0.30    0.15\n",
       "$a_3$    0.6    0.2    NaN      0.40      0.15    0.25"
      ]
     },
     "execution_count": 9,
     "metadata": {},
     "output_type": "execute_result"
    }
   ],
   "source": [
    "C['$\\Phi^+$'] = C[labels].sum(axis=1) / (len(labels) - 1)\n",
    "C['$\\Phi^-$'] = C[labels].sum(axis=0) / (len(labels) - 1) \n",
    "C['$\\Phi$'] = C['$\\Phi^+$'] - C['$\\Phi^-$']  \n",
    "C"
   ]
  },
  {
   "cell_type": "markdown",
   "metadata": {
    "ExecuteTime": {
     "end_time": "2019-05-24T20:48:45.953562Z",
     "start_time": "2019-05-24T20:48:45.945329Z"
    }
   },
   "source": [
    "### Влaсне ранжування"
   ]
  },
  {
   "cell_type": "code",
   "execution_count": 10,
   "metadata": {
    "ExecuteTime": {
     "end_time": "2019-05-27T19:33:46.556310Z",
     "start_time": "2019-05-27T19:33:46.544020Z"
    }
   },
   "outputs": [
    {
     "data": {
      "text/latex": [
       "$a_3$ > $a_2$ > $a_1$"
      ],
      "text/plain": [
       "<IPython.core.display.Latex object>"
      ]
     },
     "metadata": {},
     "output_type": "display_data"
    }
   ],
   "source": [
    "phi = C['$\\Phi$'].to_dict()\n",
    "keys = sorted(phi.items(), key=lambda x: x[1], reverse=True)\n",
    "\n",
    "# print(keys)\n",
    "\n",
    "display(Latex(\" > \".join([x[0] for x in keys])))"
   ]
  },
  {
   "cell_type": "markdown",
   "metadata": {},
   "source": [
    "## 2. Відношення за Prometeus 1"
   ]
  },
  {
   "cell_type": "code",
   "execution_count": 11,
   "metadata": {
    "ExecuteTime": {
     "end_time": "2019-05-27T19:33:47.108372Z",
     "start_time": "2019-05-27T19:33:47.082179Z"
    }
   },
   "outputs": [
    {
     "data": {
      "text/markdown": [
       "$a_1$ < $a_2$ "
      ],
      "text/plain": [
       "<IPython.core.display.Markdown object>"
      ]
     },
     "metadata": {},
     "output_type": "display_data"
    },
    {
     "data": {
      "text/markdown": [
       "$a_1$ < $a_3$ "
      ],
      "text/plain": [
       "<IPython.core.display.Markdown object>"
      ]
     },
     "metadata": {},
     "output_type": "display_data"
    },
    {
     "data": {
      "text/markdown": [
       "$a_2$ > $a_1$ "
      ],
      "text/plain": [
       "<IPython.core.display.Markdown object>"
      ]
     },
     "metadata": {},
     "output_type": "display_data"
    },
    {
     "data": {
      "text/markdown": [
       "$a_2$ != $a_3$ "
      ],
      "text/plain": [
       "<IPython.core.display.Markdown object>"
      ]
     },
     "metadata": {},
     "output_type": "display_data"
    },
    {
     "data": {
      "text/markdown": [
       "$a_3$ > $a_1$ "
      ],
      "text/plain": [
       "<IPython.core.display.Markdown object>"
      ]
     },
     "metadata": {},
     "output_type": "display_data"
    },
    {
     "data": {
      "text/markdown": [
       "$a_3$ != $a_2$ "
      ],
      "text/plain": [
       "<IPython.core.display.Markdown object>"
      ]
     },
     "metadata": {},
     "output_type": "display_data"
    }
   ],
   "source": [
    "import copy \n",
    "combos = list(itertools.product(labels, labels))\n",
    "combos = [x for x in combos if x[0] != x[1]]\n",
    "\n",
    "def prometeus(f_i_plus, f_j_plus, f_i_minus, f_j_minus ):\n",
    "    \n",
    "    if (f_i_plus  > f_j_plus and f_i_minus < f_j_minus) or  \\\n",
    "       (f_i_plus == f_j_plus and f_i_minus < f_j_minus) or  \\\n",
    "       (f_i_plus > f_j_plus and f_i_minus == f_j_minus):\n",
    "        return \">\"\n",
    "        \n",
    "    if (f_i_plus > f_j_plus and f_i_minus > f_j_minus) or \\\n",
    "       (f_i_plus < f_j_plus and f_i_minus < f_j_minus):\n",
    "        return \"!=\"\n",
    "        \n",
    "    return \"<\"\n",
    "\n",
    "for combo in combos:\n",
    "    phi_i_plus  = C.loc[combo[0], '$\\Phi^+$']\n",
    "    phi_j_plus = C.loc[combo[1], '$\\Phi^+$']\n",
    "    phi_i_minus  = C.loc[combo[0], '$\\Phi^-$']\n",
    "    phi_j_minus = C.loc[combo[1], '$\\Phi^-$']\n",
    "    \n",
    "    display(Markdown(\n",
    "        \"{1} {0} {2} \".format(prometeus(phi_i_plus, phi_j_plus, phi_i_minus, phi_j_minus), *combo)\n",
    "    ))"
   ]
  }
 ],
 "metadata": {
  "hide_input": false,
  "kernelspec": {
   "display_name": "Python 3",
   "language": "python",
   "name": "python3"
  },
  "language_info": {
   "codemirror_mode": {
    "name": "ipython",
    "version": 3
   },
   "file_extension": ".py",
   "mimetype": "text/x-python",
   "name": "python",
   "nbconvert_exporter": "python",
   "pygments_lexer": "ipython3",
   "version": "3.7.3"
  },
  "toc": {
   "base_numbering": 1,
   "nav_menu": {},
   "number_sections": false,
   "sideBar": true,
   "skip_h1_title": true,
   "title_cell": "Table of Contents",
   "title_sidebar": "Contents",
   "toc_cell": false,
   "toc_position": {},
   "toc_section_display": true,
   "toc_window_display": false
  }
 },
 "nbformat": 4,
 "nbformat_minor": 2
}
