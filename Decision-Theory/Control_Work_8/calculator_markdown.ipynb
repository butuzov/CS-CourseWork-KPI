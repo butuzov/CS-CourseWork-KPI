{
 "cells": [
  {
   "cell_type": "code",
   "execution_count": 1,
   "metadata": {
    "ExecuteTime": {
     "end_time": "2019-05-27T18:44:38.155566Z",
     "start_time": "2019-05-27T18:44:36.771813Z"
    },
    "hide_input": true
   },
   "outputs": [
    {
     "data": {
      "text/html": [
       "<style>.dataframe td, .dataframe th { min-width:90px; }</style>"
      ],
      "text/plain": [
       "<IPython.core.display.HTML object>"
      ]
     },
     "metadata": {},
     "output_type": "display_data"
    }
   ],
   "source": [
    "import numpy as np\n",
    "import pandas as pd\n",
    "\n",
    "from IPython.display import display, Markdown, Latex,  HTML\n",
    " \n",
    "\n",
    "pd.options.display.float_format = '{:,.2f}'.format\n",
    "\n",
    "display(HTML(\"<style>.dataframe td, .dataframe th { min-width:90px; }</style>\"))"
   ]
  },
  {
   "cell_type": "code",
   "execution_count": 2,
   "metadata": {
    "ExecuteTime": {
     "end_time": "2019-05-27T18:44:38.283796Z",
     "start_time": "2019-05-27T18:44:38.162259Z"
    },
    "code_folding": [
     0,
     10
    ]
   },
   "outputs": [],
   "source": [
    "def proportional(C, b):\n",
    "    display(Markdown('### Пропорційний податок'))\n",
    "    display(Markdown('$$ x_i = b_i \\dfrac{C}{\\sum_{i=1}^{n}} b_i \\qquad i=\\overline{1,n}$$'))\n",
    "    proportional = b * C/b.sum()\n",
    "    \n",
    "    display(Markdown(\"---\"))\n",
    "    display(Markdown(\"$\" +  \" \\qquad \".join([ f\"x_{k+1} = {x:2.2f}\" for k, x in enumerate(proportional)]) + \"$\"))\n",
    "    \n",
    "    return proportional\n",
    "\n",
    "def rivnevy(C, b):\n",
    "    \n",
    "    display(Markdown('### Рівневий податок'))\n",
    "    \n",
    "    rivnevy = np.full_like(b, 0.0, dtype=np.double)\n",
    "    \n",
    "    markdown = []\n",
    "    \n",
    "    for i in range(len(b)):\n",
    "        lamb = (1 / (len(b) - i)) * (b[i:].sum() - C)\n",
    "        if lamb >= b[i]:\n",
    "            \n",
    "            markdown.append(\n",
    "                '$$'\n",
    "                '\\lambda_{0} = \\dfrac{{1}}{{n-{0}}} (\\sum^{1}_{{i={2}}}b_i - C ) '\n",
    "                '= \\dfrac{{1}}{3} ({5} - {4}) '\n",
    "                '= \\dfrac{{{6}}}{{{3}}} \\qquad '\n",
    "                '\\lambda_{0} (\\dfrac{{{6}}}{{{3}}}) \\geqslant b_{2} ({7}) \\quad \\Rightarrow x_{{{2}}} = 0'\n",
    "                '$$'.format(\n",
    "                    i, len(b), i+1, len(b)-i, C, b[i:].sum(), b[i:].sum() - C, b[i]\n",
    "                )\n",
    "            )\n",
    "            \n",
    "            rivnevy[i] = 0\n",
    "            continue\n",
    "        \n",
    "        markdown.append(\n",
    "                '$$'\n",
    "                '\\lambda_{0} = \\dfrac{{1}}{{n-{0}}} (\\sum^{1}_{{i={2}}}b_i - C ) '\n",
    "                '= \\dfrac{{1}}{3} ({5} - {4}) '\n",
    "                '= \\dfrac{{{6}}}{{{3}}} \\qquad '\n",
    "                '\\lambda_{0}(\\dfrac{{{6}}}{{{3}}}) < b_{2} ({7}) \\quad \\Rightarrow \\lambda_{0} = \\lambda^*'\n",
    "                '\\qquad x_i = b_i - \\lambda^* \\quad i=\\overline{{{3},n}}'\n",
    "                '$$'.format(\n",
    "                    i, len(b), i+1, len(b)-i, C, b[i:].sum(), b[i:].sum() - C, b[i]\n",
    "                )\n",
    "        )\n",
    "        \n",
    "        rivnevy[i:] = b[i:] - lamb\n",
    "        break\n",
    "    \n",
    "    \n",
    "    display(Markdown( \"\\n\".join(markdown) ))\n",
    "    \n",
    "    display(Markdown(\"---\"))\n",
    "    display(Markdown(\"$\" +  \" \\qquad \".join([ f\"x_{k+1} = {x:2.2f}\" for k, x in enumerate(rivnevy)]) + \"$\"))\n",
    "   \n",
    "    return rivnevy\n",
    "\n",
    "def podushny(C, b):\n",
    "    \n",
    "    display(Markdown('### Подушний податок'))\n",
    "    \n",
    "    podushny = np.full_like(b, 0.0, dtype=np.double)\n",
    "    \n",
    "    markdown = []\n",
    "    \n",
    "    for i in range(len(b)):\n",
    "        lamb = (C - podushny.sum()) / (len(b) - i)\n",
    "        \n",
    "        \n",
    "        if lamb >= b[i]:\n",
    "            podushny[i] = b[i]\n",
    "            \n",
    "            markdown.append(\n",
    "                '$$'\n",
    "                '\\lambda_{0} = \\dfrac{{C - \\sum_{{i=1}}^{0} x_i }}{{n-{0}}} \\qquad '\n",
    "                '\\lambda_{0} (\\dfrac{{{6}}}{{{3}}}) \\geqslant b_{2} ({7}) \\quad \\Rightarrow x_{{{2}}} = b_{{{2}}} = {7}'\n",
    "                '$$'.format(\n",
    "                    i, len(b), i+1, len(b)-i, C, b[i:].sum(), b[i:].sum() - C, b[i]\n",
    "                )\n",
    "            )\n",
    "                \n",
    "            continue\n",
    "\n",
    "        podushny[i:] = lamb\n",
    "        \n",
    "        markdown.append(\n",
    "                '$$'\n",
    "                '\\lambda_{0} = \\dfrac{{C - \\sum_{{i=1}}^{0} x_i }}{{n-{0}}} \\qquad '\n",
    "                '\\lambda_{0} (\\dfrac{{{6}}}{{{3}}}) \\leq b_{2} ({7}) \\quad '\n",
    "                '\\Rightarrow \\lambda_{0} = \\lambda^* = x_{{i}} \\quad i=\\overline{{{2},n}}'\n",
    "                '$$'.format(\n",
    "                    i, len(b), i+1, len(b)-i, C, b[i:].sum(), b[i:].sum() - C, b[i]\n",
    "                )\n",
    "        )\n",
    "            \n",
    "        break\n",
    "    \n",
    "    display(Markdown( \"\\n\".join(markdown) ))\n",
    "    display(Markdown(\"---\"))\n",
    "    display(Markdown(\"$\" +  \" \\qquad \".join([ f\"x_{k+1} = {x:2.2f}\" for k, x in enumerate(podushny)]) + \"$\"))\n",
    "    \n",
    "    return podushny\n",
    "\n",
    "def nCore(C, b):\n",
    "    core = np.full_like(b, 0.0, dtype=np.double)\n",
    "\n",
    "    \"\"\" default case C > b.sum()/2\"\"\"\n",
    "    \n",
    "    display(Markdown('### N-Ядро'))\n",
    "    \n",
    "    markdown = []\n",
    "    \n",
    "    def nCoreLess(C, b, core):\n",
    "        \n",
    "        markdown.append(\n",
    "                '$$'\n",
    "                'C < \\dfrac{{\\sum b }}{{2}}'\n",
    "                '$$'.format(\n",
    "                    C, b.sum()/2\n",
    "                )\n",
    "        )\n",
    "        \n",
    "        for i in range(len(b)):\n",
    "            lamb = (C - core.sum()) / (len(b) - i)\n",
    "           \n",
    "                \n",
    "            if lamb > b[i]/2:\n",
    "                markdown.append(\n",
    "                    '$$'\n",
    "                    '\\lambda_{0} = \\dfrac{{C-\\sum_{{i=1}}^{0} x_i}}{{n-{0}}}'\n",
    "                    ' = \\dfrac{{{2}}}{{{1}}} \\geqslant \\dfrac{{b_{3}}}{{2}} ({4}) \\qquad '\n",
    "                    ' x_{3} = \\dfrac{{b_{{{3}}}}}{{2}} = {4}'\n",
    "                    '$$'.format(\n",
    "                        i, len(b)-i, (C-core.sum()), i+1, b[i]/2\n",
    "                    )\n",
    "                )\n",
    "                    \n",
    "                core[i] = b[i]/2\n",
    "                continue\n",
    "            \n",
    "            markdown.append(\n",
    "                '$$'\n",
    "                '\\lambda_{0} = \\dfrac{{C-\\sum_{{i=1}}^{0} x_i}}{{n-{0}}}'\n",
    "                ' = \\dfrac{{{2}}}{{{1}}} < \\dfrac{{b_{3}}}{{2}} ({4}) \\\\quad'\n",
    "                '\\lambda_{0} = \\lambda^* = x_i \\quad i=\\overline{{{3},n}}'\n",
    "                '$$'.format(\n",
    "                    i, len(b)-i, (C-core.sum()), i+1, b[i]/2\n",
    "                )\n",
    "            )\n",
    "            \n",
    "            core[i:] = lamb\n",
    "            break\n",
    "        return core\n",
    "\n",
    "    def nCoreMore(C, b, core):\n",
    "        markdown.append(\n",
    "                '$$'\n",
    "                'C \\geqslant \\dfrac{{\\sum b }}{{2}}'\n",
    "                '$$'.format(\n",
    "                    C, b.sum()/2\n",
    "                )\n",
    "        )\n",
    "            \n",
    "        for i in range(len(b)):\n",
    "            lamb = (1/(len(b)-i)) * (b.sum() - C - core.sum())\n",
    "            \n",
    "            if lamb > b[i]/2:\n",
    "                \n",
    "                markdown.append(\n",
    "                    '$$'\n",
    "                    '\\lambda_{0} = \\dfrac{{1}}{{n-{0}}} * ( \\sum^{5}_{{i=1}} b_i - (C - \\sum^{0}_{{i=1}} x_i) ) = '\n",
    "                    '\\dfrac{{({6} - ({7}-{8}))}}{{{1}}}  = '\n",
    "                    '\\dfrac{{{6}-{2}}}{{{1}}} = '\n",
    "                     '\\dfrac{{{9}}}{{{1}}} '\n",
    "                    ' \\geqslant \\dfrac{{b_{3}}}{{2}} ({4}) \\qquad '\n",
    "                    ' x_{3} = \\dfrac{{b_{{{3}}}}}{{2}} = {4}'\n",
    "                    '$$'.format(\n",
    "                        i, len(b)-i, (C-core.sum()), i+1, b[i]/2, len(b), b.sum(), C, core.sum(), b.sum()-(C-core.sum())\n",
    "                    )\n",
    "                )\n",
    "\n",
    "                \n",
    "                core[i] = b[i]/2\n",
    "                continue\n",
    "            \n",
    "            markdown.append(\n",
    "                '$$'\n",
    "                '\\lambda_{0} = \\dfrac{{1}}{{n-{0}}} * ( \\sum^{5}_{{i=1}} b_i - (C - \\sum^{0}_{{i=1}} x_i) ) = '\n",
    "                '\\dfrac{{({6} - ({7}-{8}))}}{{{1}}}  = '\n",
    "                '\\dfrac{{{6}-{2}}}{{{1}}} = '\n",
    "                 '\\dfrac{{{9}}}{{{1}}} '\n",
    "                ' < \\dfrac{{b_{3}}}{{2}} ({4}) \\qquad '\n",
    "                ' \\lambda_{0} = \\lambda^* \\qquad x_{{i}} = b_{{i}}-\\lambda^* \\quad i=\\overline{{{3},n}}'\n",
    "                '$$'.format(\n",
    "                    i, len(b)-i, (C-core.sum()), i+1, b[i]/2, len(b), b.sum(), C, core.sum(), b.sum()-(C-core.sum())\n",
    "                )\n",
    "            )\n",
    "                \n",
    "            core[i:] = b[i:] - lamb\n",
    "            break\n",
    "\n",
    "        return core\n",
    "\n",
    "    result = (nCoreLess if C < b.sum()/2 else nCoreMore)(C, b, core)\n",
    "    \n",
    "    display(Markdown( \"\\n\".join(markdown) ))\n",
    "    display(Markdown(\"---\"))\n",
    "    display(Markdown(\"$\" +  \" \\qquad \".join([ f\"x_{k+1} = {x:2.2f}\" for k, x in enumerate(result)]) + \"$\"))\n",
    "    \n",
    "    return result\n",
    "\n",
    "def report(C, b):\n",
    "    df = pd.DataFrame(data=b, \n",
    "                      columns = [\"Dohody\"],\n",
    "                      index=[ f\"$b_{x} ({b[x-1]}) / x_{x} $\" for x in range(1,len(b)+1)]\n",
    "    )\n",
    "    df['Подушний']       = podushny(C, b)\n",
    "    df['Рівневий']       = rivnevy(C, b)\n",
    "    df['n-Core']        = nCore(C, b)\n",
    "    df['Пропопрційний']  = proportional(C, b)\n",
    "    \n",
    "    df = df.T\n",
    "    df.drop(['Dohody'], inplace=True)\n",
    "    df['$\\sum x_i $'] = df.sum(axis=1)\n",
    "    \n",
    "    \n",
    "    display(df)\n",
    "    \n",
    "def type1(N, b, C):\n",
    "    display(Markdown(f\"### Задача {N}\"))\n",
    "    \n",
    "    mdstr = \", \".join([ f\"$x_{x+1}$ = {b[x]}\" for x in range(len(b))])\n",
    "    display(Markdown( f\"Нехай є n={len(b)} учасників спільної діяльності.\"\n",
    "                      f\"Припустимо що доходи учасників дорівнюють відповідно {mdstr}, а загальні витрати складають С={C}\"))\n",
    "    \n",
    "    report(C, b)\n",
    "    \n",
    "def type2(N, b, C):\n",
    "    display(Markdown(f\"### Задача {N}\"))\n",
    "    \n",
    "    mdstr = \", \".join([ f\"{b[x]}\" for x in range(len(b))])\n",
    "    display(Markdown( f\"Нехай є фірма, яка збанкротувала. Її залишкове майно складає {C} грн., а борги \"\n",
    "                      f\"кредиторам складають відповідно {mdstr} грн. \"\n",
    "                      \"Знайти справедливе розподілення майна фірми між кредиторами.\"))\n",
    "    \n",
    "    nCore(C, b)"
   ]
  },
  {
   "cell_type": "markdown",
   "metadata": {},
   "source": [
    "## Контрольна робота 8"
   ]
  },
  {
   "cell_type": "code",
   "execution_count": 3,
   "metadata": {
    "ExecuteTime": {
     "end_time": "2019-05-27T18:44:38.457257Z",
     "start_time": "2019-05-27T18:44:38.290587Z"
    },
    "hide_input": false
   },
   "outputs": [
    {
     "data": {
      "text/markdown": [
       "### Задача 1.1 (a)"
      ],
      "text/plain": [
       "<IPython.core.display.Markdown object>"
      ]
     },
     "metadata": {},
     "output_type": "display_data"
    },
    {
     "data": {
      "text/markdown": [
       "Нехай є n=5 учасників спільної діяльності.Припустимо що доходи учасників дорівнюють відповідно $x_1$ = 4, $x_2$ = 8, $x_3$ = 12, $x_4$ = 20, $x_5$ = 26, а загальні витрати складають С=30"
      ],
      "text/plain": [
       "<IPython.core.display.Markdown object>"
      ]
     },
     "metadata": {},
     "output_type": "display_data"
    },
    {
     "data": {
      "text/markdown": [
       "### Подушний податок"
      ],
      "text/plain": [
       "<IPython.core.display.Markdown object>"
      ]
     },
     "metadata": {},
     "output_type": "display_data"
    },
    {
     "data": {
      "text/markdown": [
       "$$\\lambda_0 = \\dfrac{C - \\sum_{i=1}^0 x_i }{n-0} \\qquad \\lambda_0 (\\dfrac{40}{5}) \\geqslant b_1 (4) \\quad \\Rightarrow x_{1} = b_{1} = 4$$\n",
       "$$\\lambda_1 = \\dfrac{C - \\sum_{i=1}^1 x_i }{n-1} \\qquad \\lambda_1 (\\dfrac{36}{4}) \\leq b_2 (8) \\quad \\Rightarrow \\lambda_1 = \\lambda^* = x_{i} \\quad i=\\overline{2,n}$$"
      ],
      "text/plain": [
       "<IPython.core.display.Markdown object>"
      ]
     },
     "metadata": {},
     "output_type": "display_data"
    },
    {
     "data": {
      "text/markdown": [
       "---"
      ],
      "text/plain": [
       "<IPython.core.display.Markdown object>"
      ]
     },
     "metadata": {},
     "output_type": "display_data"
    },
    {
     "data": {
      "text/markdown": [
       "$x_1 = 4.00 \\qquad x_2 = 6.50 \\qquad x_3 = 6.50 \\qquad x_4 = 6.50 \\qquad x_5 = 6.50$"
      ],
      "text/plain": [
       "<IPython.core.display.Markdown object>"
      ]
     },
     "metadata": {},
     "output_type": "display_data"
    },
    {
     "data": {
      "text/markdown": [
       "### Рівневий податок"
      ],
      "text/plain": [
       "<IPython.core.display.Markdown object>"
      ]
     },
     "metadata": {},
     "output_type": "display_data"
    },
    {
     "data": {
      "text/markdown": [
       "$$\\lambda_0 = \\dfrac{1}{n-0} (\\sum^5_{i=1}b_i - C ) = \\dfrac{1}5 (70 - 30) = \\dfrac{40}{5} \\qquad \\lambda_0 (\\dfrac{40}{5}) \\geqslant b_1 (4) \\quad \\Rightarrow x_{1} = 0$$\n",
       "$$\\lambda_1 = \\dfrac{1}{n-1} (\\sum^5_{i=2}b_i - C ) = \\dfrac{1}4 (66 - 30) = \\dfrac{36}{4} \\qquad \\lambda_1 (\\dfrac{36}{4}) \\geqslant b_2 (8) \\quad \\Rightarrow x_{2} = 0$$\n",
       "$$\\lambda_2 = \\dfrac{1}{n-2} (\\sum^5_{i=3}b_i - C ) = \\dfrac{1}3 (58 - 30) = \\dfrac{28}{3} \\qquad \\lambda_2(\\dfrac{28}{3}) < b_3 (12) \\quad \\Rightarrow \\lambda_2 = \\lambda^*\\qquad x_i = b_i - \\lambda^* \\quad i=\\overline{3,n}$$"
      ],
      "text/plain": [
       "<IPython.core.display.Markdown object>"
      ]
     },
     "metadata": {},
     "output_type": "display_data"
    },
    {
     "data": {
      "text/markdown": [
       "---"
      ],
      "text/plain": [
       "<IPython.core.display.Markdown object>"
      ]
     },
     "metadata": {},
     "output_type": "display_data"
    },
    {
     "data": {
      "text/markdown": [
       "$x_1 = 0.00 \\qquad x_2 = 0.00 \\qquad x_3 = 2.67 \\qquad x_4 = 10.67 \\qquad x_5 = 16.67$"
      ],
      "text/plain": [
       "<IPython.core.display.Markdown object>"
      ]
     },
     "metadata": {},
     "output_type": "display_data"
    },
    {
     "data": {
      "text/markdown": [
       "### N-Ядро"
      ],
      "text/plain": [
       "<IPython.core.display.Markdown object>"
      ]
     },
     "metadata": {},
     "output_type": "display_data"
    },
    {
     "data": {
      "text/markdown": [
       "$$C < \\dfrac{\\sum b }{2}$$\n",
       "$$\\lambda_0 = \\dfrac{C-\\sum_{i=1}^0 x_i}{n-0} = \\dfrac{30.0}{5} \\geqslant \\dfrac{b_1}{2} (2.0) \\qquad  x_1 = \\dfrac{b_{1}}{2} = 2.0$$\n",
       "$$\\lambda_1 = \\dfrac{C-\\sum_{i=1}^1 x_i}{n-1} = \\dfrac{28.0}{4} \\geqslant \\dfrac{b_2}{2} (4.0) \\qquad  x_2 = \\dfrac{b_{2}}{2} = 4.0$$\n",
       "$$\\lambda_2 = \\dfrac{C-\\sum_{i=1}^2 x_i}{n-2} = \\dfrac{24.0}{3} \\geqslant \\dfrac{b_3}{2} (6.0) \\qquad  x_3 = \\dfrac{b_{3}}{2} = 6.0$$\n",
       "$$\\lambda_3 = \\dfrac{C-\\sum_{i=1}^3 x_i}{n-3} = \\dfrac{18.0}{2} < \\dfrac{b_4}{2} (10.0) \\quad\\lambda_3 = \\lambda^* = x_i \\quad i=\\overline{4,n}$$"
      ],
      "text/plain": [
       "<IPython.core.display.Markdown object>"
      ]
     },
     "metadata": {},
     "output_type": "display_data"
    },
    {
     "data": {
      "text/markdown": [
       "---"
      ],
      "text/plain": [
       "<IPython.core.display.Markdown object>"
      ]
     },
     "metadata": {},
     "output_type": "display_data"
    },
    {
     "data": {
      "text/markdown": [
       "$x_1 = 2.00 \\qquad x_2 = 4.00 \\qquad x_3 = 6.00 \\qquad x_4 = 9.00 \\qquad x_5 = 9.00$"
      ],
      "text/plain": [
       "<IPython.core.display.Markdown object>"
      ]
     },
     "metadata": {},
     "output_type": "display_data"
    },
    {
     "data": {
      "text/markdown": [
       "### Пропорційний податок"
      ],
      "text/plain": [
       "<IPython.core.display.Markdown object>"
      ]
     },
     "metadata": {},
     "output_type": "display_data"
    },
    {
     "data": {
      "text/markdown": [
       "$$ x_i = b_i \\dfrac{C}{\\sum_{i=1}^{n}} b_i \\qquad i=\\overline{1,n}$$"
      ],
      "text/plain": [
       "<IPython.core.display.Markdown object>"
      ]
     },
     "metadata": {},
     "output_type": "display_data"
    },
    {
     "data": {
      "text/markdown": [
       "---"
      ],
      "text/plain": [
       "<IPython.core.display.Markdown object>"
      ]
     },
     "metadata": {},
     "output_type": "display_data"
    },
    {
     "data": {
      "text/markdown": [
       "$x_1 = 1.71 \\qquad x_2 = 3.43 \\qquad x_3 = 5.14 \\qquad x_4 = 8.57 \\qquad x_5 = 11.14$"
      ],
      "text/plain": [
       "<IPython.core.display.Markdown object>"
      ]
     },
     "metadata": {},
     "output_type": "display_data"
    },
    {
     "data": {
      "text/html": [
       "<div>\n",
       "<style scoped>\n",
       "    .dataframe tbody tr th:only-of-type {\n",
       "        vertical-align: middle;\n",
       "    }\n",
       "\n",
       "    .dataframe tbody tr th {\n",
       "        vertical-align: top;\n",
       "    }\n",
       "\n",
       "    .dataframe thead th {\n",
       "        text-align: right;\n",
       "    }\n",
       "</style>\n",
       "<table border=\"1\" class=\"dataframe\">\n",
       "  <thead>\n",
       "    <tr style=\"text-align: right;\">\n",
       "      <th></th>\n",
       "      <th>$b_1 (4) / x_1 $</th>\n",
       "      <th>$b_2 (8) / x_2 $</th>\n",
       "      <th>$b_3 (12) / x_3 $</th>\n",
       "      <th>$b_4 (20) / x_4 $</th>\n",
       "      <th>$b_5 (26) / x_5 $</th>\n",
       "      <th>$\\sum x_i $</th>\n",
       "    </tr>\n",
       "  </thead>\n",
       "  <tbody>\n",
       "    <tr>\n",
       "      <th>Подушний</th>\n",
       "      <td>4.00</td>\n",
       "      <td>6.50</td>\n",
       "      <td>6.50</td>\n",
       "      <td>6.50</td>\n",
       "      <td>6.50</td>\n",
       "      <td>30.00</td>\n",
       "    </tr>\n",
       "    <tr>\n",
       "      <th>Рівневий</th>\n",
       "      <td>0.00</td>\n",
       "      <td>0.00</td>\n",
       "      <td>2.67</td>\n",
       "      <td>10.67</td>\n",
       "      <td>16.67</td>\n",
       "      <td>30.00</td>\n",
       "    </tr>\n",
       "    <tr>\n",
       "      <th>n-Core</th>\n",
       "      <td>2.00</td>\n",
       "      <td>4.00</td>\n",
       "      <td>6.00</td>\n",
       "      <td>9.00</td>\n",
       "      <td>9.00</td>\n",
       "      <td>30.00</td>\n",
       "    </tr>\n",
       "    <tr>\n",
       "      <th>Пропопрційний</th>\n",
       "      <td>1.71</td>\n",
       "      <td>3.43</td>\n",
       "      <td>5.14</td>\n",
       "      <td>8.57</td>\n",
       "      <td>11.14</td>\n",
       "      <td>30.00</td>\n",
       "    </tr>\n",
       "  </tbody>\n",
       "</table>\n",
       "</div>"
      ],
      "text/plain": [
       "               $b_1 (4) / x_1 $  $b_2 (8) / x_2 $  $b_3 (12) / x_3 $  \\\n",
       "Подушний                   4.00              6.50               6.50   \n",
       "Рівневий                   0.00              0.00               2.67   \n",
       "n-Core                     2.00              4.00               6.00   \n",
       "Пропопрційний              1.71              3.43               5.14   \n",
       "\n",
       "               $b_4 (20) / x_4 $  $b_5 (26) / x_5 $  $\\sum x_i $  \n",
       "Подушний                    6.50               6.50        30.00  \n",
       "Рівневий                   10.67              16.67        30.00  \n",
       "n-Core                      9.00               9.00        30.00  \n",
       "Пропопрційний               8.57              11.14        30.00  "
      ]
     },
     "metadata": {},
     "output_type": "display_data"
    }
   ],
   "source": [
    "type1(\"1.1 (a)\", np.array([ 4, 8, 12, 20, 26 ]), 30)"
   ]
  },
  {
   "cell_type": "code",
   "execution_count": 4,
   "metadata": {
    "ExecuteTime": {
     "end_time": "2019-05-27T18:44:38.680026Z",
     "start_time": "2019-05-27T18:44:38.471718Z"
    }
   },
   "outputs": [
    {
     "data": {
      "text/markdown": [
       "### Задача 1.1 (б)"
      ],
      "text/plain": [
       "<IPython.core.display.Markdown object>"
      ]
     },
     "metadata": {},
     "output_type": "display_data"
    },
    {
     "data": {
      "text/markdown": [
       "Нехай є n=5 учасників спільної діяльності.Припустимо що доходи учасників дорівнюють відповідно $x_1$ = 4, $x_2$ = 8, $x_3$ = 12, $x_4$ = 20, $x_5$ = 26, а загальні витрати складають С=50"
      ],
      "text/plain": [
       "<IPython.core.display.Markdown object>"
      ]
     },
     "metadata": {},
     "output_type": "display_data"
    },
    {
     "data": {
      "text/markdown": [
       "### Подушний податок"
      ],
      "text/plain": [
       "<IPython.core.display.Markdown object>"
      ]
     },
     "metadata": {},
     "output_type": "display_data"
    },
    {
     "data": {
      "text/markdown": [
       "$$\\lambda_0 = \\dfrac{C - \\sum_{i=1}^0 x_i }{n-0} \\qquad \\lambda_0 (\\dfrac{20}{5}) \\geqslant b_1 (4) \\quad \\Rightarrow x_{1} = b_{1} = 4$$\n",
       "$$\\lambda_1 = \\dfrac{C - \\sum_{i=1}^1 x_i }{n-1} \\qquad \\lambda_1 (\\dfrac{16}{4}) \\geqslant b_2 (8) \\quad \\Rightarrow x_{2} = b_{2} = 8$$\n",
       "$$\\lambda_2 = \\dfrac{C - \\sum_{i=1}^2 x_i }{n-2} \\qquad \\lambda_2 (\\dfrac{8}{3}) \\geqslant b_3 (12) \\quad \\Rightarrow x_{3} = b_{3} = 12$$\n",
       "$$\\lambda_3 = \\dfrac{C - \\sum_{i=1}^3 x_i }{n-3} \\qquad \\lambda_3 (\\dfrac{-4}{2}) \\leq b_4 (20) \\quad \\Rightarrow \\lambda_3 = \\lambda^* = x_{i} \\quad i=\\overline{4,n}$$"
      ],
      "text/plain": [
       "<IPython.core.display.Markdown object>"
      ]
     },
     "metadata": {},
     "output_type": "display_data"
    },
    {
     "data": {
      "text/markdown": [
       "---"
      ],
      "text/plain": [
       "<IPython.core.display.Markdown object>"
      ]
     },
     "metadata": {},
     "output_type": "display_data"
    },
    {
     "data": {
      "text/markdown": [
       "$x_1 = 4.00 \\qquad x_2 = 8.00 \\qquad x_3 = 12.00 \\qquad x_4 = 13.00 \\qquad x_5 = 13.00$"
      ],
      "text/plain": [
       "<IPython.core.display.Markdown object>"
      ]
     },
     "metadata": {},
     "output_type": "display_data"
    },
    {
     "data": {
      "text/markdown": [
       "### Рівневий податок"
      ],
      "text/plain": [
       "<IPython.core.display.Markdown object>"
      ]
     },
     "metadata": {},
     "output_type": "display_data"
    },
    {
     "data": {
      "text/markdown": [
       "$$\\lambda_0 = \\dfrac{1}{n-0} (\\sum^5_{i=1}b_i - C ) = \\dfrac{1}5 (70 - 50) = \\dfrac{20}{5} \\qquad \\lambda_0 (\\dfrac{20}{5}) \\geqslant b_1 (4) \\quad \\Rightarrow x_{1} = 0$$\n",
       "$$\\lambda_1 = \\dfrac{1}{n-1} (\\sum^5_{i=2}b_i - C ) = \\dfrac{1}4 (66 - 50) = \\dfrac{16}{4} \\qquad \\lambda_1(\\dfrac{16}{4}) < b_2 (8) \\quad \\Rightarrow \\lambda_1 = \\lambda^*\\qquad x_i = b_i - \\lambda^* \\quad i=\\overline{4,n}$$"
      ],
      "text/plain": [
       "<IPython.core.display.Markdown object>"
      ]
     },
     "metadata": {},
     "output_type": "display_data"
    },
    {
     "data": {
      "text/markdown": [
       "---"
      ],
      "text/plain": [
       "<IPython.core.display.Markdown object>"
      ]
     },
     "metadata": {},
     "output_type": "display_data"
    },
    {
     "data": {
      "text/markdown": [
       "$x_1 = 0.00 \\qquad x_2 = 4.00 \\qquad x_3 = 8.00 \\qquad x_4 = 16.00 \\qquad x_5 = 22.00$"
      ],
      "text/plain": [
       "<IPython.core.display.Markdown object>"
      ]
     },
     "metadata": {},
     "output_type": "display_data"
    },
    {
     "data": {
      "text/markdown": [
       "### N-Ядро"
      ],
      "text/plain": [
       "<IPython.core.display.Markdown object>"
      ]
     },
     "metadata": {},
     "output_type": "display_data"
    },
    {
     "data": {
      "text/markdown": [
       "$$C \\geqslant \\dfrac{\\sum b }{2}$$\n",
       "$$\\lambda_0 = \\dfrac{1}{n-0} * ( \\sum^5_{i=1} b_i - (C - \\sum^0_{i=1} x_i) ) = \\dfrac{(70 - (50-0.0))}{5}  = \\dfrac{70-50.0}{5} = \\dfrac{20.0}{5}  \\geqslant \\dfrac{b_1}{2} (2.0) \\qquad  x_1 = \\dfrac{b_{1}}{2} = 2.0$$\n",
       "$$\\lambda_1 = \\dfrac{1}{n-1} * ( \\sum^5_{i=1} b_i - (C - \\sum^1_{i=1} x_i) ) = \\dfrac{(70 - (50-2.0))}{4}  = \\dfrac{70-48.0}{4} = \\dfrac{22.0}{4}  \\geqslant \\dfrac{b_2}{2} (4.0) \\qquad  x_2 = \\dfrac{b_{2}}{2} = 4.0$$\n",
       "$$\\lambda_2 = \\dfrac{1}{n-2} * ( \\sum^5_{i=1} b_i - (C - \\sum^2_{i=1} x_i) ) = \\dfrac{(70 - (50-6.0))}{3}  = \\dfrac{70-44.0}{3} = \\dfrac{26.0}{3}  < \\dfrac{b_3}{2} (6.0) \\qquad  \\lambda_2 = \\lambda^* \\qquad x_{i} = b_{i}-\\lambda^* \\quad i=\\overline{3,n}$$"
      ],
      "text/plain": [
       "<IPython.core.display.Markdown object>"
      ]
     },
     "metadata": {},
     "output_type": "display_data"
    },
    {
     "data": {
      "text/markdown": [
       "---"
      ],
      "text/plain": [
       "<IPython.core.display.Markdown object>"
      ]
     },
     "metadata": {},
     "output_type": "display_data"
    },
    {
     "data": {
      "text/markdown": [
       "$x_1 = 2.00 \\qquad x_2 = 4.00 \\qquad x_3 = 7.33 \\qquad x_4 = 15.33 \\qquad x_5 = 21.33$"
      ],
      "text/plain": [
       "<IPython.core.display.Markdown object>"
      ]
     },
     "metadata": {},
     "output_type": "display_data"
    },
    {
     "data": {
      "text/markdown": [
       "### Пропорційний податок"
      ],
      "text/plain": [
       "<IPython.core.display.Markdown object>"
      ]
     },
     "metadata": {},
     "output_type": "display_data"
    },
    {
     "data": {
      "text/markdown": [
       "$$ x_i = b_i \\dfrac{C}{\\sum_{i=1}^{n}} b_i \\qquad i=\\overline{1,n}$$"
      ],
      "text/plain": [
       "<IPython.core.display.Markdown object>"
      ]
     },
     "metadata": {},
     "output_type": "display_data"
    },
    {
     "data": {
      "text/markdown": [
       "---"
      ],
      "text/plain": [
       "<IPython.core.display.Markdown object>"
      ]
     },
     "metadata": {},
     "output_type": "display_data"
    },
    {
     "data": {
      "text/markdown": [
       "$x_1 = 2.86 \\qquad x_2 = 5.71 \\qquad x_3 = 8.57 \\qquad x_4 = 14.29 \\qquad x_5 = 18.57$"
      ],
      "text/plain": [
       "<IPython.core.display.Markdown object>"
      ]
     },
     "metadata": {},
     "output_type": "display_data"
    },
    {
     "data": {
      "text/html": [
       "<div>\n",
       "<style scoped>\n",
       "    .dataframe tbody tr th:only-of-type {\n",
       "        vertical-align: middle;\n",
       "    }\n",
       "\n",
       "    .dataframe tbody tr th {\n",
       "        vertical-align: top;\n",
       "    }\n",
       "\n",
       "    .dataframe thead th {\n",
       "        text-align: right;\n",
       "    }\n",
       "</style>\n",
       "<table border=\"1\" class=\"dataframe\">\n",
       "  <thead>\n",
       "    <tr style=\"text-align: right;\">\n",
       "      <th></th>\n",
       "      <th>$b_1 (4) / x_1 $</th>\n",
       "      <th>$b_2 (8) / x_2 $</th>\n",
       "      <th>$b_3 (12) / x_3 $</th>\n",
       "      <th>$b_4 (20) / x_4 $</th>\n",
       "      <th>$b_5 (26) / x_5 $</th>\n",
       "      <th>$\\sum x_i $</th>\n",
       "    </tr>\n",
       "  </thead>\n",
       "  <tbody>\n",
       "    <tr>\n",
       "      <th>Подушний</th>\n",
       "      <td>4.00</td>\n",
       "      <td>8.00</td>\n",
       "      <td>12.00</td>\n",
       "      <td>13.00</td>\n",
       "      <td>13.00</td>\n",
       "      <td>50.00</td>\n",
       "    </tr>\n",
       "    <tr>\n",
       "      <th>Рівневий</th>\n",
       "      <td>0.00</td>\n",
       "      <td>4.00</td>\n",
       "      <td>8.00</td>\n",
       "      <td>16.00</td>\n",
       "      <td>22.00</td>\n",
       "      <td>50.00</td>\n",
       "    </tr>\n",
       "    <tr>\n",
       "      <th>n-Core</th>\n",
       "      <td>2.00</td>\n",
       "      <td>4.00</td>\n",
       "      <td>7.33</td>\n",
       "      <td>15.33</td>\n",
       "      <td>21.33</td>\n",
       "      <td>50.00</td>\n",
       "    </tr>\n",
       "    <tr>\n",
       "      <th>Пропопрційний</th>\n",
       "      <td>2.86</td>\n",
       "      <td>5.71</td>\n",
       "      <td>8.57</td>\n",
       "      <td>14.29</td>\n",
       "      <td>18.57</td>\n",
       "      <td>50.00</td>\n",
       "    </tr>\n",
       "  </tbody>\n",
       "</table>\n",
       "</div>"
      ],
      "text/plain": [
       "               $b_1 (4) / x_1 $  $b_2 (8) / x_2 $  $b_3 (12) / x_3 $  \\\n",
       "Подушний                   4.00              8.00              12.00   \n",
       "Рівневий                   0.00              4.00               8.00   \n",
       "n-Core                     2.00              4.00               7.33   \n",
       "Пропопрційний              2.86              5.71               8.57   \n",
       "\n",
       "               $b_4 (20) / x_4 $  $b_5 (26) / x_5 $  $\\sum x_i $  \n",
       "Подушний                   13.00              13.00        50.00  \n",
       "Рівневий                   16.00              22.00        50.00  \n",
       "n-Core                     15.33              21.33        50.00  \n",
       "Пропопрційний              14.29              18.57        50.00  "
      ]
     },
     "metadata": {},
     "output_type": "display_data"
    }
   ],
   "source": [
    "type1(\"1.1 (б)\", np.array([ 4, 8, 12, 20, 26 ]), 50)"
   ]
  },
  {
   "cell_type": "code",
   "execution_count": 5,
   "metadata": {
    "ExecuteTime": {
     "end_time": "2019-05-27T18:44:38.713326Z",
     "start_time": "2019-05-27T18:44:38.687372Z"
    }
   },
   "outputs": [
    {
     "data": {
      "text/markdown": [
       "### Задача 1.2"
      ],
      "text/plain": [
       "<IPython.core.display.Markdown object>"
      ]
     },
     "metadata": {},
     "output_type": "display_data"
    },
    {
     "data": {
      "text/markdown": [
       "Нехай є фірма, яка збанкротувала. Її залишкове майно складає 15000 грн., а борги кредиторам складають відповідно 6000, 8000, 10000 грн. Знайти справедливе розподілення майна фірми між кредиторами."
      ],
      "text/plain": [
       "<IPython.core.display.Markdown object>"
      ]
     },
     "metadata": {},
     "output_type": "display_data"
    },
    {
     "data": {
      "text/markdown": [
       "### N-Ядро"
      ],
      "text/plain": [
       "<IPython.core.display.Markdown object>"
      ]
     },
     "metadata": {},
     "output_type": "display_data"
    },
    {
     "data": {
      "text/markdown": [
       "$$C \\geqslant \\dfrac{\\sum b }{2}$$\n",
       "$$\\lambda_0 = \\dfrac{1}{n-0} * ( \\sum^3_{i=1} b_i - (C - \\sum^0_{i=1} x_i) ) = \\dfrac{(24000 - (15000-0.0))}{3}  = \\dfrac{24000-15000.0}{3} = \\dfrac{9000.0}{3}  < \\dfrac{b_1}{2} (3000.0) \\qquad  \\lambda_0 = \\lambda^* \\qquad x_{i} = b_{i}-\\lambda^* \\quad i=\\overline{1,n}$$"
      ],
      "text/plain": [
       "<IPython.core.display.Markdown object>"
      ]
     },
     "metadata": {},
     "output_type": "display_data"
    },
    {
     "data": {
      "text/markdown": [
       "---"
      ],
      "text/plain": [
       "<IPython.core.display.Markdown object>"
      ]
     },
     "metadata": {},
     "output_type": "display_data"
    },
    {
     "data": {
      "text/markdown": [
       "$x_1 = 3000.00 \\qquad x_2 = 5000.00 \\qquad x_3 = 7000.00$"
      ],
      "text/plain": [
       "<IPython.core.display.Markdown object>"
      ]
     },
     "metadata": {},
     "output_type": "display_data"
    }
   ],
   "source": [
    "type2(\"1.2\", np.array([ 6000, 8000, 10000 ]), 15000)"
   ]
  },
  {
   "cell_type": "code",
   "execution_count": null,
   "metadata": {},
   "outputs": [],
   "source": []
  },
  {
   "cell_type": "code",
   "execution_count": 6,
   "metadata": {
    "ExecuteTime": {
     "end_time": "2019-05-27T18:44:38.855892Z",
     "start_time": "2019-05-27T18:44:38.716072Z"
    }
   },
   "outputs": [
    {
     "data": {
      "text/markdown": [
       "### Задача 2.2 (a)"
      ],
      "text/plain": [
       "<IPython.core.display.Markdown object>"
      ]
     },
     "metadata": {},
     "output_type": "display_data"
    },
    {
     "data": {
      "text/markdown": [
       "Нехай є n=5 учасників спільної діяльності.Припустимо що доходи учасників дорівнюють відповідно $x_1$ = 10, $x_2$ = 12, $x_3$ = 18, $x_4$ = 20, $x_5$ = 30, а загальні витрати складають С=45"
      ],
      "text/plain": [
       "<IPython.core.display.Markdown object>"
      ]
     },
     "metadata": {},
     "output_type": "display_data"
    },
    {
     "data": {
      "text/markdown": [
       "### Подушний податок"
      ],
      "text/plain": [
       "<IPython.core.display.Markdown object>"
      ]
     },
     "metadata": {},
     "output_type": "display_data"
    },
    {
     "data": {
      "text/markdown": [
       "$$\\lambda_0 = \\dfrac{C - \\sum_{i=1}^0 x_i }{n-0} \\qquad \\lambda_0 (\\dfrac{45}{5}) \\leq b_1 (10) \\quad \\Rightarrow \\lambda_0 = \\lambda^* = x_{i} \\quad i=\\overline{1,n}$$"
      ],
      "text/plain": [
       "<IPython.core.display.Markdown object>"
      ]
     },
     "metadata": {},
     "output_type": "display_data"
    },
    {
     "data": {
      "text/markdown": [
       "---"
      ],
      "text/plain": [
       "<IPython.core.display.Markdown object>"
      ]
     },
     "metadata": {},
     "output_type": "display_data"
    },
    {
     "data": {
      "text/markdown": [
       "$x_1 = 9.00 \\qquad x_2 = 9.00 \\qquad x_3 = 9.00 \\qquad x_4 = 9.00 \\qquad x_5 = 9.00$"
      ],
      "text/plain": [
       "<IPython.core.display.Markdown object>"
      ]
     },
     "metadata": {},
     "output_type": "display_data"
    },
    {
     "data": {
      "text/markdown": [
       "### Рівневий податок"
      ],
      "text/plain": [
       "<IPython.core.display.Markdown object>"
      ]
     },
     "metadata": {},
     "output_type": "display_data"
    },
    {
     "data": {
      "text/markdown": [
       "$$\\lambda_0 = \\dfrac{1}{n-0} (\\sum^5_{i=1}b_i - C ) = \\dfrac{1}5 (90 - 45) = \\dfrac{45}{5} \\qquad \\lambda_0(\\dfrac{45}{5}) < b_1 (10) \\quad \\Rightarrow \\lambda_0 = \\lambda^*\\qquad x_i = b_i - \\lambda^* \\quad i=\\overline{5,n}$$"
      ],
      "text/plain": [
       "<IPython.core.display.Markdown object>"
      ]
     },
     "metadata": {},
     "output_type": "display_data"
    },
    {
     "data": {
      "text/markdown": [
       "---"
      ],
      "text/plain": [
       "<IPython.core.display.Markdown object>"
      ]
     },
     "metadata": {},
     "output_type": "display_data"
    },
    {
     "data": {
      "text/markdown": [
       "$x_1 = 1.00 \\qquad x_2 = 3.00 \\qquad x_3 = 9.00 \\qquad x_4 = 11.00 \\qquad x_5 = 21.00$"
      ],
      "text/plain": [
       "<IPython.core.display.Markdown object>"
      ]
     },
     "metadata": {},
     "output_type": "display_data"
    },
    {
     "data": {
      "text/markdown": [
       "### N-Ядро"
      ],
      "text/plain": [
       "<IPython.core.display.Markdown object>"
      ]
     },
     "metadata": {},
     "output_type": "display_data"
    },
    {
     "data": {
      "text/markdown": [
       "$$C \\geqslant \\dfrac{\\sum b }{2}$$\n",
       "$$\\lambda_0 = \\dfrac{1}{n-0} * ( \\sum^5_{i=1} b_i - (C - \\sum^0_{i=1} x_i) ) = \\dfrac{(90 - (45-0.0))}{5}  = \\dfrac{90-45.0}{5} = \\dfrac{45.0}{5}  \\geqslant \\dfrac{b_1}{2} (5.0) \\qquad  x_1 = \\dfrac{b_{1}}{2} = 5.0$$\n",
       "$$\\lambda_1 = \\dfrac{1}{n-1} * ( \\sum^5_{i=1} b_i - (C - \\sum^1_{i=1} x_i) ) = \\dfrac{(90 - (45-5.0))}{4}  = \\dfrac{90-40.0}{4} = \\dfrac{50.0}{4}  \\geqslant \\dfrac{b_2}{2} (6.0) \\qquad  x_2 = \\dfrac{b_{2}}{2} = 6.0$$\n",
       "$$\\lambda_2 = \\dfrac{1}{n-2} * ( \\sum^5_{i=1} b_i - (C - \\sum^2_{i=1} x_i) ) = \\dfrac{(90 - (45-11.0))}{3}  = \\dfrac{90-34.0}{3} = \\dfrac{56.0}{3}  \\geqslant \\dfrac{b_3}{2} (9.0) \\qquad  x_3 = \\dfrac{b_{3}}{2} = 9.0$$\n",
       "$$\\lambda_3 = \\dfrac{1}{n-3} * ( \\sum^5_{i=1} b_i - (C - \\sum^3_{i=1} x_i) ) = \\dfrac{(90 - (45-20.0))}{2}  = \\dfrac{90-25.0}{2} = \\dfrac{65.0}{2}  \\geqslant \\dfrac{b_4}{2} (10.0) \\qquad  x_4 = \\dfrac{b_{4}}{2} = 10.0$$\n",
       "$$\\lambda_4 = \\dfrac{1}{n-4} * ( \\sum^5_{i=1} b_i - (C - \\sum^4_{i=1} x_i) ) = \\dfrac{(90 - (45-30.0))}{1}  = \\dfrac{90-15.0}{1} = \\dfrac{75.0}{1}  < \\dfrac{b_5}{2} (15.0) \\qquad  \\lambda_4 = \\lambda^* \\qquad x_{i} = b_{i}-\\lambda^* \\quad i=\\overline{5,n}$$"
      ],
      "text/plain": [
       "<IPython.core.display.Markdown object>"
      ]
     },
     "metadata": {},
     "output_type": "display_data"
    },
    {
     "data": {
      "text/markdown": [
       "---"
      ],
      "text/plain": [
       "<IPython.core.display.Markdown object>"
      ]
     },
     "metadata": {},
     "output_type": "display_data"
    },
    {
     "data": {
      "text/markdown": [
       "$x_1 = 5.00 \\qquad x_2 = 6.00 \\qquad x_3 = 9.00 \\qquad x_4 = 10.00 \\qquad x_5 = 15.00$"
      ],
      "text/plain": [
       "<IPython.core.display.Markdown object>"
      ]
     },
     "metadata": {},
     "output_type": "display_data"
    },
    {
     "data": {
      "text/markdown": [
       "### Пропорційний податок"
      ],
      "text/plain": [
       "<IPython.core.display.Markdown object>"
      ]
     },
     "metadata": {},
     "output_type": "display_data"
    },
    {
     "data": {
      "text/markdown": [
       "$$ x_i = b_i \\dfrac{C}{\\sum_{i=1}^{n}} b_i \\qquad i=\\overline{1,n}$$"
      ],
      "text/plain": [
       "<IPython.core.display.Markdown object>"
      ]
     },
     "metadata": {},
     "output_type": "display_data"
    },
    {
     "data": {
      "text/markdown": [
       "---"
      ],
      "text/plain": [
       "<IPython.core.display.Markdown object>"
      ]
     },
     "metadata": {},
     "output_type": "display_data"
    },
    {
     "data": {
      "text/markdown": [
       "$x_1 = 5.00 \\qquad x_2 = 6.00 \\qquad x_3 = 9.00 \\qquad x_4 = 10.00 \\qquad x_5 = 15.00$"
      ],
      "text/plain": [
       "<IPython.core.display.Markdown object>"
      ]
     },
     "metadata": {},
     "output_type": "display_data"
    },
    {
     "data": {
      "text/html": [
       "<div>\n",
       "<style scoped>\n",
       "    .dataframe tbody tr th:only-of-type {\n",
       "        vertical-align: middle;\n",
       "    }\n",
       "\n",
       "    .dataframe tbody tr th {\n",
       "        vertical-align: top;\n",
       "    }\n",
       "\n",
       "    .dataframe thead th {\n",
       "        text-align: right;\n",
       "    }\n",
       "</style>\n",
       "<table border=\"1\" class=\"dataframe\">\n",
       "  <thead>\n",
       "    <tr style=\"text-align: right;\">\n",
       "      <th></th>\n",
       "      <th>$b_1 (10) / x_1 $</th>\n",
       "      <th>$b_2 (12) / x_2 $</th>\n",
       "      <th>$b_3 (18) / x_3 $</th>\n",
       "      <th>$b_4 (20) / x_4 $</th>\n",
       "      <th>$b_5 (30) / x_5 $</th>\n",
       "      <th>$\\sum x_i $</th>\n",
       "    </tr>\n",
       "  </thead>\n",
       "  <tbody>\n",
       "    <tr>\n",
       "      <th>Подушний</th>\n",
       "      <td>9.00</td>\n",
       "      <td>9.00</td>\n",
       "      <td>9.00</td>\n",
       "      <td>9.00</td>\n",
       "      <td>9.00</td>\n",
       "      <td>45.00</td>\n",
       "    </tr>\n",
       "    <tr>\n",
       "      <th>Рівневий</th>\n",
       "      <td>1.00</td>\n",
       "      <td>3.00</td>\n",
       "      <td>9.00</td>\n",
       "      <td>11.00</td>\n",
       "      <td>21.00</td>\n",
       "      <td>45.00</td>\n",
       "    </tr>\n",
       "    <tr>\n",
       "      <th>n-Core</th>\n",
       "      <td>5.00</td>\n",
       "      <td>6.00</td>\n",
       "      <td>9.00</td>\n",
       "      <td>10.00</td>\n",
       "      <td>15.00</td>\n",
       "      <td>45.00</td>\n",
       "    </tr>\n",
       "    <tr>\n",
       "      <th>Пропопрційний</th>\n",
       "      <td>5.00</td>\n",
       "      <td>6.00</td>\n",
       "      <td>9.00</td>\n",
       "      <td>10.00</td>\n",
       "      <td>15.00</td>\n",
       "      <td>45.00</td>\n",
       "    </tr>\n",
       "  </tbody>\n",
       "</table>\n",
       "</div>"
      ],
      "text/plain": [
       "               $b_1 (10) / x_1 $  $b_2 (12) / x_2 $  $b_3 (18) / x_3 $  \\\n",
       "Подушний                    9.00               9.00               9.00   \n",
       "Рівневий                    1.00               3.00               9.00   \n",
       "n-Core                      5.00               6.00               9.00   \n",
       "Пропопрційний               5.00               6.00               9.00   \n",
       "\n",
       "               $b_4 (20) / x_4 $  $b_5 (30) / x_5 $  $\\sum x_i $  \n",
       "Подушний                    9.00               9.00        45.00  \n",
       "Рівневий                   11.00              21.00        45.00  \n",
       "n-Core                     10.00              15.00        45.00  \n",
       "Пропопрційний              10.00              15.00        45.00  "
      ]
     },
     "metadata": {},
     "output_type": "display_data"
    }
   ],
   "source": [
    "type1(\"2.2 (a)\", np.array([ 10, 12, 18, 20, 30 ]), 45)"
   ]
  },
  {
   "cell_type": "code",
   "execution_count": 7,
   "metadata": {
    "ExecuteTime": {
     "end_time": "2019-05-27T18:44:38.989581Z",
     "start_time": "2019-05-27T18:44:38.863442Z"
    }
   },
   "outputs": [
    {
     "data": {
      "text/markdown": [
       "### Задача 2.2 (б)"
      ],
      "text/plain": [
       "<IPython.core.display.Markdown object>"
      ]
     },
     "metadata": {},
     "output_type": "display_data"
    },
    {
     "data": {
      "text/markdown": [
       "Нехай є n=5 учасників спільної діяльності.Припустимо що доходи учасників дорівнюють відповідно $x_1$ = 10, $x_2$ = 12, $x_3$ = 18, $x_4$ = 20, $x_5$ = 30, а загальні витрати складають С=75"
      ],
      "text/plain": [
       "<IPython.core.display.Markdown object>"
      ]
     },
     "metadata": {},
     "output_type": "display_data"
    },
    {
     "data": {
      "text/markdown": [
       "### Подушний податок"
      ],
      "text/plain": [
       "<IPython.core.display.Markdown object>"
      ]
     },
     "metadata": {},
     "output_type": "display_data"
    },
    {
     "data": {
      "text/markdown": [
       "$$\\lambda_0 = \\dfrac{C - \\sum_{i=1}^0 x_i }{n-0} \\qquad \\lambda_0 (\\dfrac{15}{5}) \\geqslant b_1 (10) \\quad \\Rightarrow x_{1} = b_{1} = 10$$\n",
       "$$\\lambda_1 = \\dfrac{C - \\sum_{i=1}^1 x_i }{n-1} \\qquad \\lambda_1 (\\dfrac{5}{4}) \\geqslant b_2 (12) \\quad \\Rightarrow x_{2} = b_{2} = 12$$\n",
       "$$\\lambda_2 = \\dfrac{C - \\sum_{i=1}^2 x_i }{n-2} \\qquad \\lambda_2 (\\dfrac{-7}{3}) \\leq b_3 (18) \\quad \\Rightarrow \\lambda_2 = \\lambda^* = x_{i} \\quad i=\\overline{3,n}$$"
      ],
      "text/plain": [
       "<IPython.core.display.Markdown object>"
      ]
     },
     "metadata": {},
     "output_type": "display_data"
    },
    {
     "data": {
      "text/markdown": [
       "---"
      ],
      "text/plain": [
       "<IPython.core.display.Markdown object>"
      ]
     },
     "metadata": {},
     "output_type": "display_data"
    },
    {
     "data": {
      "text/markdown": [
       "$x_1 = 10.00 \\qquad x_2 = 12.00 \\qquad x_3 = 17.67 \\qquad x_4 = 17.67 \\qquad x_5 = 17.67$"
      ],
      "text/plain": [
       "<IPython.core.display.Markdown object>"
      ]
     },
     "metadata": {},
     "output_type": "display_data"
    },
    {
     "data": {
      "text/markdown": [
       "### Рівневий податок"
      ],
      "text/plain": [
       "<IPython.core.display.Markdown object>"
      ]
     },
     "metadata": {},
     "output_type": "display_data"
    },
    {
     "data": {
      "text/markdown": [
       "$$\\lambda_0 = \\dfrac{1}{n-0} (\\sum^5_{i=1}b_i - C ) = \\dfrac{1}5 (90 - 75) = \\dfrac{15}{5} \\qquad \\lambda_0(\\dfrac{15}{5}) < b_1 (10) \\quad \\Rightarrow \\lambda_0 = \\lambda^*\\qquad x_i = b_i - \\lambda^* \\quad i=\\overline{5,n}$$"
      ],
      "text/plain": [
       "<IPython.core.display.Markdown object>"
      ]
     },
     "metadata": {},
     "output_type": "display_data"
    },
    {
     "data": {
      "text/markdown": [
       "---"
      ],
      "text/plain": [
       "<IPython.core.display.Markdown object>"
      ]
     },
     "metadata": {},
     "output_type": "display_data"
    },
    {
     "data": {
      "text/markdown": [
       "$x_1 = 7.00 \\qquad x_2 = 9.00 \\qquad x_3 = 15.00 \\qquad x_4 = 17.00 \\qquad x_5 = 27.00$"
      ],
      "text/plain": [
       "<IPython.core.display.Markdown object>"
      ]
     },
     "metadata": {},
     "output_type": "display_data"
    },
    {
     "data": {
      "text/markdown": [
       "### N-Ядро"
      ],
      "text/plain": [
       "<IPython.core.display.Markdown object>"
      ]
     },
     "metadata": {},
     "output_type": "display_data"
    },
    {
     "data": {
      "text/markdown": [
       "$$C \\geqslant \\dfrac{\\sum b }{2}$$\n",
       "$$\\lambda_0 = \\dfrac{1}{n-0} * ( \\sum^5_{i=1} b_i - (C - \\sum^0_{i=1} x_i) ) = \\dfrac{(90 - (75-0.0))}{5}  = \\dfrac{90-75.0}{5} = \\dfrac{15.0}{5}  < \\dfrac{b_1}{2} (5.0) \\qquad  \\lambda_0 = \\lambda^* \\qquad x_{i} = b_{i}-\\lambda^* \\quad i=\\overline{1,n}$$"
      ],
      "text/plain": [
       "<IPython.core.display.Markdown object>"
      ]
     },
     "metadata": {},
     "output_type": "display_data"
    },
    {
     "data": {
      "text/markdown": [
       "---"
      ],
      "text/plain": [
       "<IPython.core.display.Markdown object>"
      ]
     },
     "metadata": {},
     "output_type": "display_data"
    },
    {
     "data": {
      "text/markdown": [
       "$x_1 = 7.00 \\qquad x_2 = 9.00 \\qquad x_3 = 15.00 \\qquad x_4 = 17.00 \\qquad x_5 = 27.00$"
      ],
      "text/plain": [
       "<IPython.core.display.Markdown object>"
      ]
     },
     "metadata": {},
     "output_type": "display_data"
    },
    {
     "data": {
      "text/markdown": [
       "### Пропорційний податок"
      ],
      "text/plain": [
       "<IPython.core.display.Markdown object>"
      ]
     },
     "metadata": {},
     "output_type": "display_data"
    },
    {
     "data": {
      "text/markdown": [
       "$$ x_i = b_i \\dfrac{C}{\\sum_{i=1}^{n}} b_i \\qquad i=\\overline{1,n}$$"
      ],
      "text/plain": [
       "<IPython.core.display.Markdown object>"
      ]
     },
     "metadata": {},
     "output_type": "display_data"
    },
    {
     "data": {
      "text/markdown": [
       "---"
      ],
      "text/plain": [
       "<IPython.core.display.Markdown object>"
      ]
     },
     "metadata": {},
     "output_type": "display_data"
    },
    {
     "data": {
      "text/markdown": [
       "$x_1 = 8.33 \\qquad x_2 = 10.00 \\qquad x_3 = 15.00 \\qquad x_4 = 16.67 \\qquad x_5 = 25.00$"
      ],
      "text/plain": [
       "<IPython.core.display.Markdown object>"
      ]
     },
     "metadata": {},
     "output_type": "display_data"
    },
    {
     "data": {
      "text/html": [
       "<div>\n",
       "<style scoped>\n",
       "    .dataframe tbody tr th:only-of-type {\n",
       "        vertical-align: middle;\n",
       "    }\n",
       "\n",
       "    .dataframe tbody tr th {\n",
       "        vertical-align: top;\n",
       "    }\n",
       "\n",
       "    .dataframe thead th {\n",
       "        text-align: right;\n",
       "    }\n",
       "</style>\n",
       "<table border=\"1\" class=\"dataframe\">\n",
       "  <thead>\n",
       "    <tr style=\"text-align: right;\">\n",
       "      <th></th>\n",
       "      <th>$b_1 (10) / x_1 $</th>\n",
       "      <th>$b_2 (12) / x_2 $</th>\n",
       "      <th>$b_3 (18) / x_3 $</th>\n",
       "      <th>$b_4 (20) / x_4 $</th>\n",
       "      <th>$b_5 (30) / x_5 $</th>\n",
       "      <th>$\\sum x_i $</th>\n",
       "    </tr>\n",
       "  </thead>\n",
       "  <tbody>\n",
       "    <tr>\n",
       "      <th>Подушний</th>\n",
       "      <td>10.00</td>\n",
       "      <td>12.00</td>\n",
       "      <td>17.67</td>\n",
       "      <td>17.67</td>\n",
       "      <td>17.67</td>\n",
       "      <td>75.00</td>\n",
       "    </tr>\n",
       "    <tr>\n",
       "      <th>Рівневий</th>\n",
       "      <td>7.00</td>\n",
       "      <td>9.00</td>\n",
       "      <td>15.00</td>\n",
       "      <td>17.00</td>\n",
       "      <td>27.00</td>\n",
       "      <td>75.00</td>\n",
       "    </tr>\n",
       "    <tr>\n",
       "      <th>n-Core</th>\n",
       "      <td>7.00</td>\n",
       "      <td>9.00</td>\n",
       "      <td>15.00</td>\n",
       "      <td>17.00</td>\n",
       "      <td>27.00</td>\n",
       "      <td>75.00</td>\n",
       "    </tr>\n",
       "    <tr>\n",
       "      <th>Пропопрційний</th>\n",
       "      <td>8.33</td>\n",
       "      <td>10.00</td>\n",
       "      <td>15.00</td>\n",
       "      <td>16.67</td>\n",
       "      <td>25.00</td>\n",
       "      <td>75.00</td>\n",
       "    </tr>\n",
       "  </tbody>\n",
       "</table>\n",
       "</div>"
      ],
      "text/plain": [
       "               $b_1 (10) / x_1 $  $b_2 (12) / x_2 $  $b_3 (18) / x_3 $  \\\n",
       "Подушний                   10.00              12.00              17.67   \n",
       "Рівневий                    7.00               9.00              15.00   \n",
       "n-Core                      7.00               9.00              15.00   \n",
       "Пропопрційний               8.33              10.00              15.00   \n",
       "\n",
       "               $b_4 (20) / x_4 $  $b_5 (30) / x_5 $  $\\sum x_i $  \n",
       "Подушний                   17.67              17.67        75.00  \n",
       "Рівневий                   17.00              27.00        75.00  \n",
       "n-Core                     17.00              27.00        75.00  \n",
       "Пропопрційний              16.67              25.00        75.00  "
      ]
     },
     "metadata": {},
     "output_type": "display_data"
    }
   ],
   "source": [
    "type1(\"2.2 (б)\", np.array([ 10, 12, 18, 20, 30 ]), 75)"
   ]
  },
  {
   "cell_type": "code",
   "execution_count": 8,
   "metadata": {
    "ExecuteTime": {
     "end_time": "2019-05-27T18:44:39.045599Z",
     "start_time": "2019-05-27T18:44:39.008776Z"
    }
   },
   "outputs": [
    {
     "data": {
      "text/markdown": [
       "### Задача 2.2"
      ],
      "text/plain": [
       "<IPython.core.display.Markdown object>"
      ]
     },
     "metadata": {},
     "output_type": "display_data"
    },
    {
     "data": {
      "text/markdown": [
       "Нехай є фірма, яка збанкротувала. Її залишкове майно складає 10000 грн., а борги кредиторам складають відповідно 4000, 6000, 8000 грн. Знайти справедливе розподілення майна фірми між кредиторами."
      ],
      "text/plain": [
       "<IPython.core.display.Markdown object>"
      ]
     },
     "metadata": {},
     "output_type": "display_data"
    },
    {
     "data": {
      "text/markdown": [
       "### N-Ядро"
      ],
      "text/plain": [
       "<IPython.core.display.Markdown object>"
      ]
     },
     "metadata": {},
     "output_type": "display_data"
    },
    {
     "data": {
      "text/markdown": [
       "$$C \\geqslant \\dfrac{\\sum b }{2}$$\n",
       "$$\\lambda_0 = \\dfrac{1}{n-0} * ( \\sum^3_{i=1} b_i - (C - \\sum^0_{i=1} x_i) ) = \\dfrac{(18000 - (10000-0.0))}{3}  = \\dfrac{18000-10000.0}{3} = \\dfrac{8000.0}{3}  \\geqslant \\dfrac{b_1}{2} (2000.0) \\qquad  x_1 = \\dfrac{b_{1}}{2} = 2000.0$$\n",
       "$$\\lambda_1 = \\dfrac{1}{n-1} * ( \\sum^3_{i=1} b_i - (C - \\sum^1_{i=1} x_i) ) = \\dfrac{(18000 - (10000-2000.0))}{2}  = \\dfrac{18000-8000.0}{2} = \\dfrac{10000.0}{2}  < \\dfrac{b_2}{2} (3000.0) \\qquad  \\lambda_1 = \\lambda^* \\qquad x_{i} = b_{i}-\\lambda^* \\quad i=\\overline{2,n}$$"
      ],
      "text/plain": [
       "<IPython.core.display.Markdown object>"
      ]
     },
     "metadata": {},
     "output_type": "display_data"
    },
    {
     "data": {
      "text/markdown": [
       "---"
      ],
      "text/plain": [
       "<IPython.core.display.Markdown object>"
      ]
     },
     "metadata": {},
     "output_type": "display_data"
    },
    {
     "data": {
      "text/markdown": [
       "$x_1 = 2000.00 \\qquad x_2 = 3000.00 \\qquad x_3 = 5000.00$"
      ],
      "text/plain": [
       "<IPython.core.display.Markdown object>"
      ]
     },
     "metadata": {},
     "output_type": "display_data"
    }
   ],
   "source": [
    "type2(\"2.2\", np.array([ 4000, 6000, 8000 ]), 10000)"
   ]
  },
  {
   "cell_type": "code",
   "execution_count": null,
   "metadata": {},
   "outputs": [],
   "source": []
  },
  {
   "cell_type": "code",
   "execution_count": 9,
   "metadata": {
    "ExecuteTime": {
     "end_time": "2019-05-27T18:44:39.168032Z",
     "start_time": "2019-05-27T18:44:39.054814Z"
    }
   },
   "outputs": [
    {
     "data": {
      "text/markdown": [
       "### Задача 3.1 (a)"
      ],
      "text/plain": [
       "<IPython.core.display.Markdown object>"
      ]
     },
     "metadata": {},
     "output_type": "display_data"
    },
    {
     "data": {
      "text/markdown": [
       "Нехай є n=5 учасників спільної діяльності.Припустимо що доходи учасників дорівнюють відповідно $x_1$ = 6, $x_2$ = 10, $x_3$ = 14, $x_4$ = 20, $x_5$ = 24, а загальні витрати складають С=30"
      ],
      "text/plain": [
       "<IPython.core.display.Markdown object>"
      ]
     },
     "metadata": {},
     "output_type": "display_data"
    },
    {
     "data": {
      "text/markdown": [
       "### Подушний податок"
      ],
      "text/plain": [
       "<IPython.core.display.Markdown object>"
      ]
     },
     "metadata": {},
     "output_type": "display_data"
    },
    {
     "data": {
      "text/markdown": [
       "$$\\lambda_0 = \\dfrac{C - \\sum_{i=1}^0 x_i }{n-0} \\qquad \\lambda_0 (\\dfrac{44}{5}) \\geqslant b_1 (6) \\quad \\Rightarrow x_{1} = b_{1} = 6$$\n",
       "$$\\lambda_1 = \\dfrac{C - \\sum_{i=1}^1 x_i }{n-1} \\qquad \\lambda_1 (\\dfrac{38}{4}) \\leq b_2 (10) \\quad \\Rightarrow \\lambda_1 = \\lambda^* = x_{i} \\quad i=\\overline{2,n}$$"
      ],
      "text/plain": [
       "<IPython.core.display.Markdown object>"
      ]
     },
     "metadata": {},
     "output_type": "display_data"
    },
    {
     "data": {
      "text/markdown": [
       "---"
      ],
      "text/plain": [
       "<IPython.core.display.Markdown object>"
      ]
     },
     "metadata": {},
     "output_type": "display_data"
    },
    {
     "data": {
      "text/markdown": [
       "$x_1 = 6.00 \\qquad x_2 = 6.00 \\qquad x_3 = 6.00 \\qquad x_4 = 6.00 \\qquad x_5 = 6.00$"
      ],
      "text/plain": [
       "<IPython.core.display.Markdown object>"
      ]
     },
     "metadata": {},
     "output_type": "display_data"
    },
    {
     "data": {
      "text/markdown": [
       "### Рівневий податок"
      ],
      "text/plain": [
       "<IPython.core.display.Markdown object>"
      ]
     },
     "metadata": {},
     "output_type": "display_data"
    },
    {
     "data": {
      "text/markdown": [
       "$$\\lambda_0 = \\dfrac{1}{n-0} (\\sum^5_{i=1}b_i - C ) = \\dfrac{1}5 (74 - 30) = \\dfrac{44}{5} \\qquad \\lambda_0 (\\dfrac{44}{5}) \\geqslant b_1 (6) \\quad \\Rightarrow x_{1} = 0$$\n",
       "$$\\lambda_1 = \\dfrac{1}{n-1} (\\sum^5_{i=2}b_i - C ) = \\dfrac{1}4 (68 - 30) = \\dfrac{38}{4} \\qquad \\lambda_1(\\dfrac{38}{4}) < b_2 (10) \\quad \\Rightarrow \\lambda_1 = \\lambda^*\\qquad x_i = b_i - \\lambda^* \\quad i=\\overline{4,n}$$"
      ],
      "text/plain": [
       "<IPython.core.display.Markdown object>"
      ]
     },
     "metadata": {},
     "output_type": "display_data"
    },
    {
     "data": {
      "text/markdown": [
       "---"
      ],
      "text/plain": [
       "<IPython.core.display.Markdown object>"
      ]
     },
     "metadata": {},
     "output_type": "display_data"
    },
    {
     "data": {
      "text/markdown": [
       "$x_1 = 0.00 \\qquad x_2 = 0.50 \\qquad x_3 = 4.50 \\qquad x_4 = 10.50 \\qquad x_5 = 14.50$"
      ],
      "text/plain": [
       "<IPython.core.display.Markdown object>"
      ]
     },
     "metadata": {},
     "output_type": "display_data"
    },
    {
     "data": {
      "text/markdown": [
       "### N-Ядро"
      ],
      "text/plain": [
       "<IPython.core.display.Markdown object>"
      ]
     },
     "metadata": {},
     "output_type": "display_data"
    },
    {
     "data": {
      "text/markdown": [
       "$$C < \\dfrac{\\sum b }{2}$$\n",
       "$$\\lambda_0 = \\dfrac{C-\\sum_{i=1}^0 x_i}{n-0} = \\dfrac{30.0}{5} \\geqslant \\dfrac{b_1}{2} (3.0) \\qquad  x_1 = \\dfrac{b_{1}}{2} = 3.0$$\n",
       "$$\\lambda_1 = \\dfrac{C-\\sum_{i=1}^1 x_i}{n-1} = \\dfrac{27.0}{4} \\geqslant \\dfrac{b_2}{2} (5.0) \\qquad  x_2 = \\dfrac{b_{2}}{2} = 5.0$$\n",
       "$$\\lambda_2 = \\dfrac{C-\\sum_{i=1}^2 x_i}{n-2} = \\dfrac{22.0}{3} \\geqslant \\dfrac{b_3}{2} (7.0) \\qquad  x_3 = \\dfrac{b_{3}}{2} = 7.0$$\n",
       "$$\\lambda_3 = \\dfrac{C-\\sum_{i=1}^3 x_i}{n-3} = \\dfrac{15.0}{2} < \\dfrac{b_4}{2} (10.0) \\quad\\lambda_3 = \\lambda^* = x_i \\quad i=\\overline{4,n}$$"
      ],
      "text/plain": [
       "<IPython.core.display.Markdown object>"
      ]
     },
     "metadata": {},
     "output_type": "display_data"
    },
    {
     "data": {
      "text/markdown": [
       "---"
      ],
      "text/plain": [
       "<IPython.core.display.Markdown object>"
      ]
     },
     "metadata": {},
     "output_type": "display_data"
    },
    {
     "data": {
      "text/markdown": [
       "$x_1 = 3.00 \\qquad x_2 = 5.00 \\qquad x_3 = 7.00 \\qquad x_4 = 7.50 \\qquad x_5 = 7.50$"
      ],
      "text/plain": [
       "<IPython.core.display.Markdown object>"
      ]
     },
     "metadata": {},
     "output_type": "display_data"
    },
    {
     "data": {
      "text/markdown": [
       "### Пропорційний податок"
      ],
      "text/plain": [
       "<IPython.core.display.Markdown object>"
      ]
     },
     "metadata": {},
     "output_type": "display_data"
    },
    {
     "data": {
      "text/markdown": [
       "$$ x_i = b_i \\dfrac{C}{\\sum_{i=1}^{n}} b_i \\qquad i=\\overline{1,n}$$"
      ],
      "text/plain": [
       "<IPython.core.display.Markdown object>"
      ]
     },
     "metadata": {},
     "output_type": "display_data"
    },
    {
     "data": {
      "text/markdown": [
       "---"
      ],
      "text/plain": [
       "<IPython.core.display.Markdown object>"
      ]
     },
     "metadata": {},
     "output_type": "display_data"
    },
    {
     "data": {
      "text/markdown": [
       "$x_1 = 2.43 \\qquad x_2 = 4.05 \\qquad x_3 = 5.68 \\qquad x_4 = 8.11 \\qquad x_5 = 9.73$"
      ],
      "text/plain": [
       "<IPython.core.display.Markdown object>"
      ]
     },
     "metadata": {},
     "output_type": "display_data"
    },
    {
     "data": {
      "text/html": [
       "<div>\n",
       "<style scoped>\n",
       "    .dataframe tbody tr th:only-of-type {\n",
       "        vertical-align: middle;\n",
       "    }\n",
       "\n",
       "    .dataframe tbody tr th {\n",
       "        vertical-align: top;\n",
       "    }\n",
       "\n",
       "    .dataframe thead th {\n",
       "        text-align: right;\n",
       "    }\n",
       "</style>\n",
       "<table border=\"1\" class=\"dataframe\">\n",
       "  <thead>\n",
       "    <tr style=\"text-align: right;\">\n",
       "      <th></th>\n",
       "      <th>$b_1 (6) / x_1 $</th>\n",
       "      <th>$b_2 (10) / x_2 $</th>\n",
       "      <th>$b_3 (14) / x_3 $</th>\n",
       "      <th>$b_4 (20) / x_4 $</th>\n",
       "      <th>$b_5 (24) / x_5 $</th>\n",
       "      <th>$\\sum x_i $</th>\n",
       "    </tr>\n",
       "  </thead>\n",
       "  <tbody>\n",
       "    <tr>\n",
       "      <th>Подушний</th>\n",
       "      <td>6.00</td>\n",
       "      <td>6.00</td>\n",
       "      <td>6.00</td>\n",
       "      <td>6.00</td>\n",
       "      <td>6.00</td>\n",
       "      <td>30.00</td>\n",
       "    </tr>\n",
       "    <tr>\n",
       "      <th>Рівневий</th>\n",
       "      <td>0.00</td>\n",
       "      <td>0.50</td>\n",
       "      <td>4.50</td>\n",
       "      <td>10.50</td>\n",
       "      <td>14.50</td>\n",
       "      <td>30.00</td>\n",
       "    </tr>\n",
       "    <tr>\n",
       "      <th>n-Core</th>\n",
       "      <td>3.00</td>\n",
       "      <td>5.00</td>\n",
       "      <td>7.00</td>\n",
       "      <td>7.50</td>\n",
       "      <td>7.50</td>\n",
       "      <td>30.00</td>\n",
       "    </tr>\n",
       "    <tr>\n",
       "      <th>Пропопрційний</th>\n",
       "      <td>2.43</td>\n",
       "      <td>4.05</td>\n",
       "      <td>5.68</td>\n",
       "      <td>8.11</td>\n",
       "      <td>9.73</td>\n",
       "      <td>30.00</td>\n",
       "    </tr>\n",
       "  </tbody>\n",
       "</table>\n",
       "</div>"
      ],
      "text/plain": [
       "               $b_1 (6) / x_1 $  $b_2 (10) / x_2 $  $b_3 (14) / x_3 $  \\\n",
       "Подушний                   6.00               6.00               6.00   \n",
       "Рівневий                   0.00               0.50               4.50   \n",
       "n-Core                     3.00               5.00               7.00   \n",
       "Пропопрційний              2.43               4.05               5.68   \n",
       "\n",
       "               $b_4 (20) / x_4 $  $b_5 (24) / x_5 $  $\\sum x_i $  \n",
       "Подушний                    6.00               6.00        30.00  \n",
       "Рівневий                   10.50              14.50        30.00  \n",
       "n-Core                      7.50               7.50        30.00  \n",
       "Пропопрційний               8.11               9.73        30.00  "
      ]
     },
     "metadata": {},
     "output_type": "display_data"
    }
   ],
   "source": [
    "type1(\"3.1 (a)\", np.array([ 6, 10, 14, 20, 24 ]), 30)"
   ]
  },
  {
   "cell_type": "code",
   "execution_count": 10,
   "metadata": {
    "ExecuteTime": {
     "end_time": "2019-05-27T18:44:39.296065Z",
     "start_time": "2019-05-27T18:44:39.171947Z"
    }
   },
   "outputs": [
    {
     "data": {
      "text/markdown": [
       "### Задача 3.2 (б)"
      ],
      "text/plain": [
       "<IPython.core.display.Markdown object>"
      ]
     },
     "metadata": {},
     "output_type": "display_data"
    },
    {
     "data": {
      "text/markdown": [
       "Нехай є n=5 учасників спільної діяльності.Припустимо що доходи учасників дорівнюють відповідно $x_1$ = 6, $x_2$ = 10, $x_3$ = 14, $x_4$ = 20, $x_5$ = 24, а загальні витрати складають С=60"
      ],
      "text/plain": [
       "<IPython.core.display.Markdown object>"
      ]
     },
     "metadata": {},
     "output_type": "display_data"
    },
    {
     "data": {
      "text/markdown": [
       "### Подушний податок"
      ],
      "text/plain": [
       "<IPython.core.display.Markdown object>"
      ]
     },
     "metadata": {},
     "output_type": "display_data"
    },
    {
     "data": {
      "text/markdown": [
       "$$\\lambda_0 = \\dfrac{C - \\sum_{i=1}^0 x_i }{n-0} \\qquad \\lambda_0 (\\dfrac{14}{5}) \\geqslant b_1 (6) \\quad \\Rightarrow x_{1} = b_{1} = 6$$\n",
       "$$\\lambda_1 = \\dfrac{C - \\sum_{i=1}^1 x_i }{n-1} \\qquad \\lambda_1 (\\dfrac{8}{4}) \\geqslant b_2 (10) \\quad \\Rightarrow x_{2} = b_{2} = 10$$\n",
       "$$\\lambda_2 = \\dfrac{C - \\sum_{i=1}^2 x_i }{n-2} \\qquad \\lambda_2 (\\dfrac{-2}{3}) \\geqslant b_3 (14) \\quad \\Rightarrow x_{3} = b_{3} = 14$$\n",
       "$$\\lambda_3 = \\dfrac{C - \\sum_{i=1}^3 x_i }{n-3} \\qquad \\lambda_3 (\\dfrac{-16}{2}) \\leq b_4 (20) \\quad \\Rightarrow \\lambda_3 = \\lambda^* = x_{i} \\quad i=\\overline{4,n}$$"
      ],
      "text/plain": [
       "<IPython.core.display.Markdown object>"
      ]
     },
     "metadata": {},
     "output_type": "display_data"
    },
    {
     "data": {
      "text/markdown": [
       "---"
      ],
      "text/plain": [
       "<IPython.core.display.Markdown object>"
      ]
     },
     "metadata": {},
     "output_type": "display_data"
    },
    {
     "data": {
      "text/markdown": [
       "$x_1 = 6.00 \\qquad x_2 = 10.00 \\qquad x_3 = 14.00 \\qquad x_4 = 15.00 \\qquad x_5 = 15.00$"
      ],
      "text/plain": [
       "<IPython.core.display.Markdown object>"
      ]
     },
     "metadata": {},
     "output_type": "display_data"
    },
    {
     "data": {
      "text/markdown": [
       "### Рівневий податок"
      ],
      "text/plain": [
       "<IPython.core.display.Markdown object>"
      ]
     },
     "metadata": {},
     "output_type": "display_data"
    },
    {
     "data": {
      "text/markdown": [
       "$$\\lambda_0 = \\dfrac{1}{n-0} (\\sum^5_{i=1}b_i - C ) = \\dfrac{1}5 (74 - 60) = \\dfrac{14}{5} \\qquad \\lambda_0(\\dfrac{14}{5}) < b_1 (6) \\quad \\Rightarrow \\lambda_0 = \\lambda^*\\qquad x_i = b_i - \\lambda^* \\quad i=\\overline{5,n}$$"
      ],
      "text/plain": [
       "<IPython.core.display.Markdown object>"
      ]
     },
     "metadata": {},
     "output_type": "display_data"
    },
    {
     "data": {
      "text/markdown": [
       "---"
      ],
      "text/plain": [
       "<IPython.core.display.Markdown object>"
      ]
     },
     "metadata": {},
     "output_type": "display_data"
    },
    {
     "data": {
      "text/markdown": [
       "$x_1 = 3.20 \\qquad x_2 = 7.20 \\qquad x_3 = 11.20 \\qquad x_4 = 17.20 \\qquad x_5 = 21.20$"
      ],
      "text/plain": [
       "<IPython.core.display.Markdown object>"
      ]
     },
     "metadata": {},
     "output_type": "display_data"
    },
    {
     "data": {
      "text/markdown": [
       "### N-Ядро"
      ],
      "text/plain": [
       "<IPython.core.display.Markdown object>"
      ]
     },
     "metadata": {},
     "output_type": "display_data"
    },
    {
     "data": {
      "text/markdown": [
       "$$C \\geqslant \\dfrac{\\sum b }{2}$$\n",
       "$$\\lambda_0 = \\dfrac{1}{n-0} * ( \\sum^5_{i=1} b_i - (C - \\sum^0_{i=1} x_i) ) = \\dfrac{(74 - (60-0.0))}{5}  = \\dfrac{74-60.0}{5} = \\dfrac{14.0}{5}  < \\dfrac{b_1}{2} (3.0) \\qquad  \\lambda_0 = \\lambda^* \\qquad x_{i} = b_{i}-\\lambda^* \\quad i=\\overline{1,n}$$"
      ],
      "text/plain": [
       "<IPython.core.display.Markdown object>"
      ]
     },
     "metadata": {},
     "output_type": "display_data"
    },
    {
     "data": {
      "text/markdown": [
       "---"
      ],
      "text/plain": [
       "<IPython.core.display.Markdown object>"
      ]
     },
     "metadata": {},
     "output_type": "display_data"
    },
    {
     "data": {
      "text/markdown": [
       "$x_1 = 3.20 \\qquad x_2 = 7.20 \\qquad x_3 = 11.20 \\qquad x_4 = 17.20 \\qquad x_5 = 21.20$"
      ],
      "text/plain": [
       "<IPython.core.display.Markdown object>"
      ]
     },
     "metadata": {},
     "output_type": "display_data"
    },
    {
     "data": {
      "text/markdown": [
       "### Пропорційний податок"
      ],
      "text/plain": [
       "<IPython.core.display.Markdown object>"
      ]
     },
     "metadata": {},
     "output_type": "display_data"
    },
    {
     "data": {
      "text/markdown": [
       "$$ x_i = b_i \\dfrac{C}{\\sum_{i=1}^{n}} b_i \\qquad i=\\overline{1,n}$$"
      ],
      "text/plain": [
       "<IPython.core.display.Markdown object>"
      ]
     },
     "metadata": {},
     "output_type": "display_data"
    },
    {
     "data": {
      "text/markdown": [
       "---"
      ],
      "text/plain": [
       "<IPython.core.display.Markdown object>"
      ]
     },
     "metadata": {},
     "output_type": "display_data"
    },
    {
     "data": {
      "text/markdown": [
       "$x_1 = 4.86 \\qquad x_2 = 8.11 \\qquad x_3 = 11.35 \\qquad x_4 = 16.22 \\qquad x_5 = 19.46$"
      ],
      "text/plain": [
       "<IPython.core.display.Markdown object>"
      ]
     },
     "metadata": {},
     "output_type": "display_data"
    },
    {
     "data": {
      "text/html": [
       "<div>\n",
       "<style scoped>\n",
       "    .dataframe tbody tr th:only-of-type {\n",
       "        vertical-align: middle;\n",
       "    }\n",
       "\n",
       "    .dataframe tbody tr th {\n",
       "        vertical-align: top;\n",
       "    }\n",
       "\n",
       "    .dataframe thead th {\n",
       "        text-align: right;\n",
       "    }\n",
       "</style>\n",
       "<table border=\"1\" class=\"dataframe\">\n",
       "  <thead>\n",
       "    <tr style=\"text-align: right;\">\n",
       "      <th></th>\n",
       "      <th>$b_1 (6) / x_1 $</th>\n",
       "      <th>$b_2 (10) / x_2 $</th>\n",
       "      <th>$b_3 (14) / x_3 $</th>\n",
       "      <th>$b_4 (20) / x_4 $</th>\n",
       "      <th>$b_5 (24) / x_5 $</th>\n",
       "      <th>$\\sum x_i $</th>\n",
       "    </tr>\n",
       "  </thead>\n",
       "  <tbody>\n",
       "    <tr>\n",
       "      <th>Подушний</th>\n",
       "      <td>6.00</td>\n",
       "      <td>10.00</td>\n",
       "      <td>14.00</td>\n",
       "      <td>15.00</td>\n",
       "      <td>15.00</td>\n",
       "      <td>60.00</td>\n",
       "    </tr>\n",
       "    <tr>\n",
       "      <th>Рівневий</th>\n",
       "      <td>3.20</td>\n",
       "      <td>7.20</td>\n",
       "      <td>11.20</td>\n",
       "      <td>17.20</td>\n",
       "      <td>21.20</td>\n",
       "      <td>60.00</td>\n",
       "    </tr>\n",
       "    <tr>\n",
       "      <th>n-Core</th>\n",
       "      <td>3.20</td>\n",
       "      <td>7.20</td>\n",
       "      <td>11.20</td>\n",
       "      <td>17.20</td>\n",
       "      <td>21.20</td>\n",
       "      <td>60.00</td>\n",
       "    </tr>\n",
       "    <tr>\n",
       "      <th>Пропопрційний</th>\n",
       "      <td>4.86</td>\n",
       "      <td>8.11</td>\n",
       "      <td>11.35</td>\n",
       "      <td>16.22</td>\n",
       "      <td>19.46</td>\n",
       "      <td>60.00</td>\n",
       "    </tr>\n",
       "  </tbody>\n",
       "</table>\n",
       "</div>"
      ],
      "text/plain": [
       "               $b_1 (6) / x_1 $  $b_2 (10) / x_2 $  $b_3 (14) / x_3 $  \\\n",
       "Подушний                   6.00              10.00              14.00   \n",
       "Рівневий                   3.20               7.20              11.20   \n",
       "n-Core                     3.20               7.20              11.20   \n",
       "Пропопрційний              4.86               8.11              11.35   \n",
       "\n",
       "               $b_4 (20) / x_4 $  $b_5 (24) / x_5 $  $\\sum x_i $  \n",
       "Подушний                   15.00              15.00        60.00  \n",
       "Рівневий                   17.20              21.20        60.00  \n",
       "n-Core                     17.20              21.20        60.00  \n",
       "Пропопрційний              16.22              19.46        60.00  "
      ]
     },
     "metadata": {},
     "output_type": "display_data"
    }
   ],
   "source": [
    "type1(\"3.2 (б)\", np.array([ 6, 10, 14, 20, 24 ]), 60)"
   ]
  },
  {
   "cell_type": "code",
   "execution_count": 11,
   "metadata": {
    "ExecuteTime": {
     "end_time": "2019-05-27T18:44:39.344561Z",
     "start_time": "2019-05-27T18:44:39.307783Z"
    }
   },
   "outputs": [
    {
     "data": {
      "text/markdown": [
       "### Задача 3.2"
      ],
      "text/plain": [
       "<IPython.core.display.Markdown object>"
      ]
     },
     "metadata": {},
     "output_type": "display_data"
    },
    {
     "data": {
      "text/markdown": [
       "Нехай є фірма, яка збанкротувала. Її залишкове майно складає 12000 грн., а борги кредиторам складають відповідно 6000, 8000, 12000 грн. Знайти справедливе розподілення майна фірми між кредиторами."
      ],
      "text/plain": [
       "<IPython.core.display.Markdown object>"
      ]
     },
     "metadata": {},
     "output_type": "display_data"
    },
    {
     "data": {
      "text/markdown": [
       "### N-Ядро"
      ],
      "text/plain": [
       "<IPython.core.display.Markdown object>"
      ]
     },
     "metadata": {},
     "output_type": "display_data"
    },
    {
     "data": {
      "text/markdown": [
       "$$C < \\dfrac{\\sum b }{2}$$\n",
       "$$\\lambda_0 = \\dfrac{C-\\sum_{i=1}^0 x_i}{n-0} = \\dfrac{12000.0}{3} \\geqslant \\dfrac{b_1}{2} (3000.0) \\qquad  x_1 = \\dfrac{b_{1}}{2} = 3000.0$$\n",
       "$$\\lambda_1 = \\dfrac{C-\\sum_{i=1}^1 x_i}{n-1} = \\dfrac{9000.0}{2} \\geqslant \\dfrac{b_2}{2} (4000.0) \\qquad  x_2 = \\dfrac{b_{2}}{2} = 4000.0$$\n",
       "$$\\lambda_2 = \\dfrac{C-\\sum_{i=1}^2 x_i}{n-2} = \\dfrac{5000.0}{1} < \\dfrac{b_3}{2} (6000.0) \\quad\\lambda_2 = \\lambda^* = x_i \\quad i=\\overline{3,n}$$"
      ],
      "text/plain": [
       "<IPython.core.display.Markdown object>"
      ]
     },
     "metadata": {},
     "output_type": "display_data"
    },
    {
     "data": {
      "text/markdown": [
       "---"
      ],
      "text/plain": [
       "<IPython.core.display.Markdown object>"
      ]
     },
     "metadata": {},
     "output_type": "display_data"
    },
    {
     "data": {
      "text/markdown": [
       "$x_1 = 3000.00 \\qquad x_2 = 4000.00 \\qquad x_3 = 5000.00$"
      ],
      "text/plain": [
       "<IPython.core.display.Markdown object>"
      ]
     },
     "metadata": {},
     "output_type": "display_data"
    }
   ],
   "source": [
    "type2(\"3.2\", np.array([ 6000, 8000, 12000 ]), 12000)"
   ]
  },
  {
   "cell_type": "code",
   "execution_count": 12,
   "metadata": {
    "ExecuteTime": {
     "end_time": "2019-05-27T18:44:39.462351Z",
     "start_time": "2019-05-27T18:44:39.354475Z"
    }
   },
   "outputs": [
    {
     "data": {
      "text/markdown": [
       "### Задача 4.1 (a)"
      ],
      "text/plain": [
       "<IPython.core.display.Markdown object>"
      ]
     },
     "metadata": {},
     "output_type": "display_data"
    },
    {
     "data": {
      "text/markdown": [
       "Нехай є n=5 учасників спільної діяльності.Припустимо що доходи учасників дорівнюють відповідно $x_1$ = 8, $x_2$ = 12, $x_3$ = 20, $x_4$ = 24, $x_5$ = 32, а загальні витрати складають С=36"
      ],
      "text/plain": [
       "<IPython.core.display.Markdown object>"
      ]
     },
     "metadata": {},
     "output_type": "display_data"
    },
    {
     "data": {
      "text/markdown": [
       "### Подушний податок"
      ],
      "text/plain": [
       "<IPython.core.display.Markdown object>"
      ]
     },
     "metadata": {},
     "output_type": "display_data"
    },
    {
     "data": {
      "text/markdown": [
       "$$\\lambda_0 = \\dfrac{C - \\sum_{i=1}^0 x_i }{n-0} \\qquad \\lambda_0 (\\dfrac{60}{5}) \\leq b_1 (8) \\quad \\Rightarrow \\lambda_0 = \\lambda^* = x_{i} \\quad i=\\overline{1,n}$$"
      ],
      "text/plain": [
       "<IPython.core.display.Markdown object>"
      ]
     },
     "metadata": {},
     "output_type": "display_data"
    },
    {
     "data": {
      "text/markdown": [
       "---"
      ],
      "text/plain": [
       "<IPython.core.display.Markdown object>"
      ]
     },
     "metadata": {},
     "output_type": "display_data"
    },
    {
     "data": {
      "text/markdown": [
       "$x_1 = 7.20 \\qquad x_2 = 7.20 \\qquad x_3 = 7.20 \\qquad x_4 = 7.20 \\qquad x_5 = 7.20$"
      ],
      "text/plain": [
       "<IPython.core.display.Markdown object>"
      ]
     },
     "metadata": {},
     "output_type": "display_data"
    },
    {
     "data": {
      "text/markdown": [
       "### Рівневий податок"
      ],
      "text/plain": [
       "<IPython.core.display.Markdown object>"
      ]
     },
     "metadata": {},
     "output_type": "display_data"
    },
    {
     "data": {
      "text/markdown": [
       "$$\\lambda_0 = \\dfrac{1}{n-0} (\\sum^5_{i=1}b_i - C ) = \\dfrac{1}5 (96 - 36) = \\dfrac{60}{5} \\qquad \\lambda_0 (\\dfrac{60}{5}) \\geqslant b_1 (8) \\quad \\Rightarrow x_{1} = 0$$\n",
       "$$\\lambda_1 = \\dfrac{1}{n-1} (\\sum^5_{i=2}b_i - C ) = \\dfrac{1}4 (88 - 36) = \\dfrac{52}{4} \\qquad \\lambda_1 (\\dfrac{52}{4}) \\geqslant b_2 (12) \\quad \\Rightarrow x_{2} = 0$$\n",
       "$$\\lambda_2 = \\dfrac{1}{n-2} (\\sum^5_{i=3}b_i - C ) = \\dfrac{1}3 (76 - 36) = \\dfrac{40}{3} \\qquad \\lambda_2(\\dfrac{40}{3}) < b_3 (20) \\quad \\Rightarrow \\lambda_2 = \\lambda^*\\qquad x_i = b_i - \\lambda^* \\quad i=\\overline{3,n}$$"
      ],
      "text/plain": [
       "<IPython.core.display.Markdown object>"
      ]
     },
     "metadata": {},
     "output_type": "display_data"
    },
    {
     "data": {
      "text/markdown": [
       "---"
      ],
      "text/plain": [
       "<IPython.core.display.Markdown object>"
      ]
     },
     "metadata": {},
     "output_type": "display_data"
    },
    {
     "data": {
      "text/markdown": [
       "$x_1 = 0.00 \\qquad x_2 = 0.00 \\qquad x_3 = 6.67 \\qquad x_4 = 10.67 \\qquad x_5 = 18.67$"
      ],
      "text/plain": [
       "<IPython.core.display.Markdown object>"
      ]
     },
     "metadata": {},
     "output_type": "display_data"
    },
    {
     "data": {
      "text/markdown": [
       "### N-Ядро"
      ],
      "text/plain": [
       "<IPython.core.display.Markdown object>"
      ]
     },
     "metadata": {},
     "output_type": "display_data"
    },
    {
     "data": {
      "text/markdown": [
       "$$C < \\dfrac{\\sum b }{2}$$\n",
       "$$\\lambda_0 = \\dfrac{C-\\sum_{i=1}^0 x_i}{n-0} = \\dfrac{36.0}{5} \\geqslant \\dfrac{b_1}{2} (4.0) \\qquad  x_1 = \\dfrac{b_{1}}{2} = 4.0$$\n",
       "$$\\lambda_1 = \\dfrac{C-\\sum_{i=1}^1 x_i}{n-1} = \\dfrac{32.0}{4} \\geqslant \\dfrac{b_2}{2} (6.0) \\qquad  x_2 = \\dfrac{b_{2}}{2} = 6.0$$\n",
       "$$\\lambda_2 = \\dfrac{C-\\sum_{i=1}^2 x_i}{n-2} = \\dfrac{26.0}{3} < \\dfrac{b_3}{2} (10.0) \\quad\\lambda_2 = \\lambda^* = x_i \\quad i=\\overline{3,n}$$"
      ],
      "text/plain": [
       "<IPython.core.display.Markdown object>"
      ]
     },
     "metadata": {},
     "output_type": "display_data"
    },
    {
     "data": {
      "text/markdown": [
       "---"
      ],
      "text/plain": [
       "<IPython.core.display.Markdown object>"
      ]
     },
     "metadata": {},
     "output_type": "display_data"
    },
    {
     "data": {
      "text/markdown": [
       "$x_1 = 4.00 \\qquad x_2 = 6.00 \\qquad x_3 = 8.67 \\qquad x_4 = 8.67 \\qquad x_5 = 8.67$"
      ],
      "text/plain": [
       "<IPython.core.display.Markdown object>"
      ]
     },
     "metadata": {},
     "output_type": "display_data"
    },
    {
     "data": {
      "text/markdown": [
       "### Пропорційний податок"
      ],
      "text/plain": [
       "<IPython.core.display.Markdown object>"
      ]
     },
     "metadata": {},
     "output_type": "display_data"
    },
    {
     "data": {
      "text/markdown": [
       "$$ x_i = b_i \\dfrac{C}{\\sum_{i=1}^{n}} b_i \\qquad i=\\overline{1,n}$$"
      ],
      "text/plain": [
       "<IPython.core.display.Markdown object>"
      ]
     },
     "metadata": {},
     "output_type": "display_data"
    },
    {
     "data": {
      "text/markdown": [
       "---"
      ],
      "text/plain": [
       "<IPython.core.display.Markdown object>"
      ]
     },
     "metadata": {},
     "output_type": "display_data"
    },
    {
     "data": {
      "text/markdown": [
       "$x_1 = 3.00 \\qquad x_2 = 4.50 \\qquad x_3 = 7.50 \\qquad x_4 = 9.00 \\qquad x_5 = 12.00$"
      ],
      "text/plain": [
       "<IPython.core.display.Markdown object>"
      ]
     },
     "metadata": {},
     "output_type": "display_data"
    },
    {
     "data": {
      "text/html": [
       "<div>\n",
       "<style scoped>\n",
       "    .dataframe tbody tr th:only-of-type {\n",
       "        vertical-align: middle;\n",
       "    }\n",
       "\n",
       "    .dataframe tbody tr th {\n",
       "        vertical-align: top;\n",
       "    }\n",
       "\n",
       "    .dataframe thead th {\n",
       "        text-align: right;\n",
       "    }\n",
       "</style>\n",
       "<table border=\"1\" class=\"dataframe\">\n",
       "  <thead>\n",
       "    <tr style=\"text-align: right;\">\n",
       "      <th></th>\n",
       "      <th>$b_1 (8) / x_1 $</th>\n",
       "      <th>$b_2 (12) / x_2 $</th>\n",
       "      <th>$b_3 (20) / x_3 $</th>\n",
       "      <th>$b_4 (24) / x_4 $</th>\n",
       "      <th>$b_5 (32) / x_5 $</th>\n",
       "      <th>$\\sum x_i $</th>\n",
       "    </tr>\n",
       "  </thead>\n",
       "  <tbody>\n",
       "    <tr>\n",
       "      <th>Подушний</th>\n",
       "      <td>7.20</td>\n",
       "      <td>7.20</td>\n",
       "      <td>7.20</td>\n",
       "      <td>7.20</td>\n",
       "      <td>7.20</td>\n",
       "      <td>36.00</td>\n",
       "    </tr>\n",
       "    <tr>\n",
       "      <th>Рівневий</th>\n",
       "      <td>0.00</td>\n",
       "      <td>0.00</td>\n",
       "      <td>6.67</td>\n",
       "      <td>10.67</td>\n",
       "      <td>18.67</td>\n",
       "      <td>36.00</td>\n",
       "    </tr>\n",
       "    <tr>\n",
       "      <th>n-Core</th>\n",
       "      <td>4.00</td>\n",
       "      <td>6.00</td>\n",
       "      <td>8.67</td>\n",
       "      <td>8.67</td>\n",
       "      <td>8.67</td>\n",
       "      <td>36.00</td>\n",
       "    </tr>\n",
       "    <tr>\n",
       "      <th>Пропопрційний</th>\n",
       "      <td>3.00</td>\n",
       "      <td>4.50</td>\n",
       "      <td>7.50</td>\n",
       "      <td>9.00</td>\n",
       "      <td>12.00</td>\n",
       "      <td>36.00</td>\n",
       "    </tr>\n",
       "  </tbody>\n",
       "</table>\n",
       "</div>"
      ],
      "text/plain": [
       "               $b_1 (8) / x_1 $  $b_2 (12) / x_2 $  $b_3 (20) / x_3 $  \\\n",
       "Подушний                   7.20               7.20               7.20   \n",
       "Рівневий                   0.00               0.00               6.67   \n",
       "n-Core                     4.00               6.00               8.67   \n",
       "Пропопрційний              3.00               4.50               7.50   \n",
       "\n",
       "               $b_4 (24) / x_4 $  $b_5 (32) / x_5 $  $\\sum x_i $  \n",
       "Подушний                    7.20               7.20        36.00  \n",
       "Рівневий                   10.67              18.67        36.00  \n",
       "n-Core                      8.67               8.67        36.00  \n",
       "Пропопрційний               9.00              12.00        36.00  "
      ]
     },
     "metadata": {},
     "output_type": "display_data"
    }
   ],
   "source": [
    "type1(\"4.1 (a)\", np.array([ 8, 12, 20, 24, 32 ]), 36)"
   ]
  },
  {
   "cell_type": "code",
   "execution_count": 13,
   "metadata": {
    "ExecuteTime": {
     "end_time": "2019-05-27T18:44:39.604991Z",
     "start_time": "2019-05-27T18:44:39.470776Z"
    }
   },
   "outputs": [
    {
     "data": {
      "text/markdown": [
       "### Задача 4.1 (б)"
      ],
      "text/plain": [
       "<IPython.core.display.Markdown object>"
      ]
     },
     "metadata": {},
     "output_type": "display_data"
    },
    {
     "data": {
      "text/markdown": [
       "Нехай є n=5 учасників спільної діяльності.Припустимо що доходи учасників дорівнюють відповідно $x_1$ = 8, $x_2$ = 12, $x_3$ = 20, $x_4$ = 24, $x_5$ = 32, а загальні витрати складають С=70"
      ],
      "text/plain": [
       "<IPython.core.display.Markdown object>"
      ]
     },
     "metadata": {},
     "output_type": "display_data"
    },
    {
     "data": {
      "text/markdown": [
       "### Подушний податок"
      ],
      "text/plain": [
       "<IPython.core.display.Markdown object>"
      ]
     },
     "metadata": {},
     "output_type": "display_data"
    },
    {
     "data": {
      "text/markdown": [
       "$$\\lambda_0 = \\dfrac{C - \\sum_{i=1}^0 x_i }{n-0} \\qquad \\lambda_0 (\\dfrac{26}{5}) \\geqslant b_1 (8) \\quad \\Rightarrow x_{1} = b_{1} = 8$$\n",
       "$$\\lambda_1 = \\dfrac{C - \\sum_{i=1}^1 x_i }{n-1} \\qquad \\lambda_1 (\\dfrac{18}{4}) \\geqslant b_2 (12) \\quad \\Rightarrow x_{2} = b_{2} = 12$$\n",
       "$$\\lambda_2 = \\dfrac{C - \\sum_{i=1}^2 x_i }{n-2} \\qquad \\lambda_2 (\\dfrac{6}{3}) \\leq b_3 (20) \\quad \\Rightarrow \\lambda_2 = \\lambda^* = x_{i} \\quad i=\\overline{3,n}$$"
      ],
      "text/plain": [
       "<IPython.core.display.Markdown object>"
      ]
     },
     "metadata": {},
     "output_type": "display_data"
    },
    {
     "data": {
      "text/markdown": [
       "---"
      ],
      "text/plain": [
       "<IPython.core.display.Markdown object>"
      ]
     },
     "metadata": {},
     "output_type": "display_data"
    },
    {
     "data": {
      "text/markdown": [
       "$x_1 = 8.00 \\qquad x_2 = 12.00 \\qquad x_3 = 16.67 \\qquad x_4 = 16.67 \\qquad x_5 = 16.67$"
      ],
      "text/plain": [
       "<IPython.core.display.Markdown object>"
      ]
     },
     "metadata": {},
     "output_type": "display_data"
    },
    {
     "data": {
      "text/markdown": [
       "### Рівневий податок"
      ],
      "text/plain": [
       "<IPython.core.display.Markdown object>"
      ]
     },
     "metadata": {},
     "output_type": "display_data"
    },
    {
     "data": {
      "text/markdown": [
       "$$\\lambda_0 = \\dfrac{1}{n-0} (\\sum^5_{i=1}b_i - C ) = \\dfrac{1}5 (96 - 70) = \\dfrac{26}{5} \\qquad \\lambda_0(\\dfrac{26}{5}) < b_1 (8) \\quad \\Rightarrow \\lambda_0 = \\lambda^*\\qquad x_i = b_i - \\lambda^* \\quad i=\\overline{5,n}$$"
      ],
      "text/plain": [
       "<IPython.core.display.Markdown object>"
      ]
     },
     "metadata": {},
     "output_type": "display_data"
    },
    {
     "data": {
      "text/markdown": [
       "---"
      ],
      "text/plain": [
       "<IPython.core.display.Markdown object>"
      ]
     },
     "metadata": {},
     "output_type": "display_data"
    },
    {
     "data": {
      "text/markdown": [
       "$x_1 = 2.80 \\qquad x_2 = 6.80 \\qquad x_3 = 14.80 \\qquad x_4 = 18.80 \\qquad x_5 = 26.80$"
      ],
      "text/plain": [
       "<IPython.core.display.Markdown object>"
      ]
     },
     "metadata": {},
     "output_type": "display_data"
    },
    {
     "data": {
      "text/markdown": [
       "### N-Ядро"
      ],
      "text/plain": [
       "<IPython.core.display.Markdown object>"
      ]
     },
     "metadata": {},
     "output_type": "display_data"
    },
    {
     "data": {
      "text/markdown": [
       "$$C \\geqslant \\dfrac{\\sum b }{2}$$\n",
       "$$\\lambda_0 = \\dfrac{1}{n-0} * ( \\sum^5_{i=1} b_i - (C - \\sum^0_{i=1} x_i) ) = \\dfrac{(96 - (70-0.0))}{5}  = \\dfrac{96-70.0}{5} = \\dfrac{26.0}{5}  \\geqslant \\dfrac{b_1}{2} (4.0) \\qquad  x_1 = \\dfrac{b_{1}}{2} = 4.0$$\n",
       "$$\\lambda_1 = \\dfrac{1}{n-1} * ( \\sum^5_{i=1} b_i - (C - \\sum^1_{i=1} x_i) ) = \\dfrac{(96 - (70-4.0))}{4}  = \\dfrac{96-66.0}{4} = \\dfrac{30.0}{4}  < \\dfrac{b_2}{2} (6.0) \\qquad  \\lambda_1 = \\lambda^* \\qquad x_{i} = b_{i}-\\lambda^* \\quad i=\\overline{2,n}$$"
      ],
      "text/plain": [
       "<IPython.core.display.Markdown object>"
      ]
     },
     "metadata": {},
     "output_type": "display_data"
    },
    {
     "data": {
      "text/markdown": [
       "---"
      ],
      "text/plain": [
       "<IPython.core.display.Markdown object>"
      ]
     },
     "metadata": {},
     "output_type": "display_data"
    },
    {
     "data": {
      "text/markdown": [
       "$x_1 = 4.00 \\qquad x_2 = 6.50 \\qquad x_3 = 14.50 \\qquad x_4 = 18.50 \\qquad x_5 = 26.50$"
      ],
      "text/plain": [
       "<IPython.core.display.Markdown object>"
      ]
     },
     "metadata": {},
     "output_type": "display_data"
    },
    {
     "data": {
      "text/markdown": [
       "### Пропорційний податок"
      ],
      "text/plain": [
       "<IPython.core.display.Markdown object>"
      ]
     },
     "metadata": {},
     "output_type": "display_data"
    },
    {
     "data": {
      "text/markdown": [
       "$$ x_i = b_i \\dfrac{C}{\\sum_{i=1}^{n}} b_i \\qquad i=\\overline{1,n}$$"
      ],
      "text/plain": [
       "<IPython.core.display.Markdown object>"
      ]
     },
     "metadata": {},
     "output_type": "display_data"
    },
    {
     "data": {
      "text/markdown": [
       "---"
      ],
      "text/plain": [
       "<IPython.core.display.Markdown object>"
      ]
     },
     "metadata": {},
     "output_type": "display_data"
    },
    {
     "data": {
      "text/markdown": [
       "$x_1 = 5.83 \\qquad x_2 = 8.75 \\qquad x_3 = 14.58 \\qquad x_4 = 17.50 \\qquad x_5 = 23.33$"
      ],
      "text/plain": [
       "<IPython.core.display.Markdown object>"
      ]
     },
     "metadata": {},
     "output_type": "display_data"
    },
    {
     "data": {
      "text/html": [
       "<div>\n",
       "<style scoped>\n",
       "    .dataframe tbody tr th:only-of-type {\n",
       "        vertical-align: middle;\n",
       "    }\n",
       "\n",
       "    .dataframe tbody tr th {\n",
       "        vertical-align: top;\n",
       "    }\n",
       "\n",
       "    .dataframe thead th {\n",
       "        text-align: right;\n",
       "    }\n",
       "</style>\n",
       "<table border=\"1\" class=\"dataframe\">\n",
       "  <thead>\n",
       "    <tr style=\"text-align: right;\">\n",
       "      <th></th>\n",
       "      <th>$b_1 (8) / x_1 $</th>\n",
       "      <th>$b_2 (12) / x_2 $</th>\n",
       "      <th>$b_3 (20) / x_3 $</th>\n",
       "      <th>$b_4 (24) / x_4 $</th>\n",
       "      <th>$b_5 (32) / x_5 $</th>\n",
       "      <th>$\\sum x_i $</th>\n",
       "    </tr>\n",
       "  </thead>\n",
       "  <tbody>\n",
       "    <tr>\n",
       "      <th>Подушний</th>\n",
       "      <td>8.00</td>\n",
       "      <td>12.00</td>\n",
       "      <td>16.67</td>\n",
       "      <td>16.67</td>\n",
       "      <td>16.67</td>\n",
       "      <td>70.00</td>\n",
       "    </tr>\n",
       "    <tr>\n",
       "      <th>Рівневий</th>\n",
       "      <td>2.80</td>\n",
       "      <td>6.80</td>\n",
       "      <td>14.80</td>\n",
       "      <td>18.80</td>\n",
       "      <td>26.80</td>\n",
       "      <td>70.00</td>\n",
       "    </tr>\n",
       "    <tr>\n",
       "      <th>n-Core</th>\n",
       "      <td>4.00</td>\n",
       "      <td>6.50</td>\n",
       "      <td>14.50</td>\n",
       "      <td>18.50</td>\n",
       "      <td>26.50</td>\n",
       "      <td>70.00</td>\n",
       "    </tr>\n",
       "    <tr>\n",
       "      <th>Пропопрційний</th>\n",
       "      <td>5.83</td>\n",
       "      <td>8.75</td>\n",
       "      <td>14.58</td>\n",
       "      <td>17.50</td>\n",
       "      <td>23.33</td>\n",
       "      <td>70.00</td>\n",
       "    </tr>\n",
       "  </tbody>\n",
       "</table>\n",
       "</div>"
      ],
      "text/plain": [
       "               $b_1 (8) / x_1 $  $b_2 (12) / x_2 $  $b_3 (20) / x_3 $  \\\n",
       "Подушний                   8.00              12.00              16.67   \n",
       "Рівневий                   2.80               6.80              14.80   \n",
       "n-Core                     4.00               6.50              14.50   \n",
       "Пропопрційний              5.83               8.75              14.58   \n",
       "\n",
       "               $b_4 (24) / x_4 $  $b_5 (32) / x_5 $  $\\sum x_i $  \n",
       "Подушний                   16.67              16.67        70.00  \n",
       "Рівневий                   18.80              26.80        70.00  \n",
       "n-Core                     18.50              26.50        70.00  \n",
       "Пропопрційний              17.50              23.33        70.00  "
      ]
     },
     "metadata": {},
     "output_type": "display_data"
    }
   ],
   "source": [
    "type1(\"4.1 (б)\", np.array([ 8, 12, 20, 24, 32 ]), 70)"
   ]
  },
  {
   "cell_type": "code",
   "execution_count": 14,
   "metadata": {
    "ExecuteTime": {
     "end_time": "2019-05-27T18:44:39.644190Z",
     "start_time": "2019-05-27T18:44:39.609486Z"
    }
   },
   "outputs": [
    {
     "data": {
      "text/markdown": [
       "### Задача 4.2"
      ],
      "text/plain": [
       "<IPython.core.display.Markdown object>"
      ]
     },
     "metadata": {},
     "output_type": "display_data"
    },
    {
     "data": {
      "text/markdown": [
       "Нехай є фірма, яка збанкротувала. Її залишкове майно складає 16000 грн., а борги кредиторам складають відповідно 4000, 6000, 10000 грн. Знайти справедливе розподілення майна фірми між кредиторами."
      ],
      "text/plain": [
       "<IPython.core.display.Markdown object>"
      ]
     },
     "metadata": {},
     "output_type": "display_data"
    },
    {
     "data": {
      "text/markdown": [
       "### N-Ядро"
      ],
      "text/plain": [
       "<IPython.core.display.Markdown object>"
      ]
     },
     "metadata": {},
     "output_type": "display_data"
    },
    {
     "data": {
      "text/markdown": [
       "$$C \\geqslant \\dfrac{\\sum b }{2}$$\n",
       "$$\\lambda_0 = \\dfrac{1}{n-0} * ( \\sum^3_{i=1} b_i - (C - \\sum^0_{i=1} x_i) ) = \\dfrac{(20000 - (16000-0.0))}{3}  = \\dfrac{20000-16000.0}{3} = \\dfrac{4000.0}{3}  < \\dfrac{b_1}{2} (2000.0) \\qquad  \\lambda_0 = \\lambda^* \\qquad x_{i} = b_{i}-\\lambda^* \\quad i=\\overline{1,n}$$"
      ],
      "text/plain": [
       "<IPython.core.display.Markdown object>"
      ]
     },
     "metadata": {},
     "output_type": "display_data"
    },
    {
     "data": {
      "text/markdown": [
       "---"
      ],
      "text/plain": [
       "<IPython.core.display.Markdown object>"
      ]
     },
     "metadata": {},
     "output_type": "display_data"
    },
    {
     "data": {
      "text/markdown": [
       "$x_1 = 2666.67 \\qquad x_2 = 4666.67 \\qquad x_3 = 8666.67$"
      ],
      "text/plain": [
       "<IPython.core.display.Markdown object>"
      ]
     },
     "metadata": {},
     "output_type": "display_data"
    }
   ],
   "source": [
    "type2(\"4.2\", np.array([ 4000, 6000, 10000 ]), 16000)"
   ]
  },
  {
   "cell_type": "code",
   "execution_count": 15,
   "metadata": {
    "ExecuteTime": {
     "end_time": "2019-05-27T18:44:39.756810Z",
     "start_time": "2019-05-27T18:44:39.648192Z"
    }
   },
   "outputs": [
    {
     "data": {
      "text/markdown": [
       "### Задача 5.1 (a)"
      ],
      "text/plain": [
       "<IPython.core.display.Markdown object>"
      ]
     },
     "metadata": {},
     "output_type": "display_data"
    },
    {
     "data": {
      "text/markdown": [
       "Нехай є n=6 учасників спільної діяльності.Припустимо що доходи учасників дорівнюють відповідно $x_1$ = 10, $x_2$ = 12, $x_3$ = 18, $x_4$ = 20, $x_5$ = 30, $x_6$ = 36, а загальні витрати складають С=50"
      ],
      "text/plain": [
       "<IPython.core.display.Markdown object>"
      ]
     },
     "metadata": {},
     "output_type": "display_data"
    },
    {
     "data": {
      "text/markdown": [
       "### Подушний податок"
      ],
      "text/plain": [
       "<IPython.core.display.Markdown object>"
      ]
     },
     "metadata": {},
     "output_type": "display_data"
    },
    {
     "data": {
      "text/markdown": [
       "$$\\lambda_0 = \\dfrac{C - \\sum_{i=1}^0 x_i }{n-0} \\qquad \\lambda_0 (\\dfrac{76}{6}) \\leq b_1 (10) \\quad \\Rightarrow \\lambda_0 = \\lambda^* = x_{i} \\quad i=\\overline{1,n}$$"
      ],
      "text/plain": [
       "<IPython.core.display.Markdown object>"
      ]
     },
     "metadata": {},
     "output_type": "display_data"
    },
    {
     "data": {
      "text/markdown": [
       "---"
      ],
      "text/plain": [
       "<IPython.core.display.Markdown object>"
      ]
     },
     "metadata": {},
     "output_type": "display_data"
    },
    {
     "data": {
      "text/markdown": [
       "$x_1 = 8.33 \\qquad x_2 = 8.33 \\qquad x_3 = 8.33 \\qquad x_4 = 8.33 \\qquad x_5 = 8.33 \\qquad x_6 = 8.33$"
      ],
      "text/plain": [
       "<IPython.core.display.Markdown object>"
      ]
     },
     "metadata": {},
     "output_type": "display_data"
    },
    {
     "data": {
      "text/markdown": [
       "### Рівневий податок"
      ],
      "text/plain": [
       "<IPython.core.display.Markdown object>"
      ]
     },
     "metadata": {},
     "output_type": "display_data"
    },
    {
     "data": {
      "text/markdown": [
       "$$\\lambda_0 = \\dfrac{1}{n-0} (\\sum^6_{i=1}b_i - C ) = \\dfrac{1}6 (126 - 50) = \\dfrac{76}{6} \\qquad \\lambda_0 (\\dfrac{76}{6}) \\geqslant b_1 (10) \\quad \\Rightarrow x_{1} = 0$$\n",
       "$$\\lambda_1 = \\dfrac{1}{n-1} (\\sum^6_{i=2}b_i - C ) = \\dfrac{1}5 (116 - 50) = \\dfrac{66}{5} \\qquad \\lambda_1 (\\dfrac{66}{5}) \\geqslant b_2 (12) \\quad \\Rightarrow x_{2} = 0$$\n",
       "$$\\lambda_2 = \\dfrac{1}{n-2} (\\sum^6_{i=3}b_i - C ) = \\dfrac{1}4 (104 - 50) = \\dfrac{54}{4} \\qquad \\lambda_2(\\dfrac{54}{4}) < b_3 (18) \\quad \\Rightarrow \\lambda_2 = \\lambda^*\\qquad x_i = b_i - \\lambda^* \\quad i=\\overline{4,n}$$"
      ],
      "text/plain": [
       "<IPython.core.display.Markdown object>"
      ]
     },
     "metadata": {},
     "output_type": "display_data"
    },
    {
     "data": {
      "text/markdown": [
       "---"
      ],
      "text/plain": [
       "<IPython.core.display.Markdown object>"
      ]
     },
     "metadata": {},
     "output_type": "display_data"
    },
    {
     "data": {
      "text/markdown": [
       "$x_1 = 0.00 \\qquad x_2 = 0.00 \\qquad x_3 = 4.50 \\qquad x_4 = 6.50 \\qquad x_5 = 16.50 \\qquad x_6 = 22.50$"
      ],
      "text/plain": [
       "<IPython.core.display.Markdown object>"
      ]
     },
     "metadata": {},
     "output_type": "display_data"
    },
    {
     "data": {
      "text/markdown": [
       "### N-Ядро"
      ],
      "text/plain": [
       "<IPython.core.display.Markdown object>"
      ]
     },
     "metadata": {},
     "output_type": "display_data"
    },
    {
     "data": {
      "text/markdown": [
       "$$C < \\dfrac{\\sum b }{2}$$\n",
       "$$\\lambda_0 = \\dfrac{C-\\sum_{i=1}^0 x_i}{n-0} = \\dfrac{50.0}{6} \\geqslant \\dfrac{b_1}{2} (5.0) \\qquad  x_1 = \\dfrac{b_{1}}{2} = 5.0$$\n",
       "$$\\lambda_1 = \\dfrac{C-\\sum_{i=1}^1 x_i}{n-1} = \\dfrac{45.0}{5} \\geqslant \\dfrac{b_2}{2} (6.0) \\qquad  x_2 = \\dfrac{b_{2}}{2} = 6.0$$\n",
       "$$\\lambda_2 = \\dfrac{C-\\sum_{i=1}^2 x_i}{n-2} = \\dfrac{39.0}{4} \\geqslant \\dfrac{b_3}{2} (9.0) \\qquad  x_3 = \\dfrac{b_{3}}{2} = 9.0$$\n",
       "$$\\lambda_3 = \\dfrac{C-\\sum_{i=1}^3 x_i}{n-3} = \\dfrac{30.0}{3} < \\dfrac{b_4}{2} (10.0) \\quad\\lambda_3 = \\lambda^* = x_i \\quad i=\\overline{4,n}$$"
      ],
      "text/plain": [
       "<IPython.core.display.Markdown object>"
      ]
     },
     "metadata": {},
     "output_type": "display_data"
    },
    {
     "data": {
      "text/markdown": [
       "---"
      ],
      "text/plain": [
       "<IPython.core.display.Markdown object>"
      ]
     },
     "metadata": {},
     "output_type": "display_data"
    },
    {
     "data": {
      "text/markdown": [
       "$x_1 = 5.00 \\qquad x_2 = 6.00 \\qquad x_3 = 9.00 \\qquad x_4 = 10.00 \\qquad x_5 = 10.00 \\qquad x_6 = 10.00$"
      ],
      "text/plain": [
       "<IPython.core.display.Markdown object>"
      ]
     },
     "metadata": {},
     "output_type": "display_data"
    },
    {
     "data": {
      "text/markdown": [
       "### Пропорційний податок"
      ],
      "text/plain": [
       "<IPython.core.display.Markdown object>"
      ]
     },
     "metadata": {},
     "output_type": "display_data"
    },
    {
     "data": {
      "text/markdown": [
       "$$ x_i = b_i \\dfrac{C}{\\sum_{i=1}^{n}} b_i \\qquad i=\\overline{1,n}$$"
      ],
      "text/plain": [
       "<IPython.core.display.Markdown object>"
      ]
     },
     "metadata": {},
     "output_type": "display_data"
    },
    {
     "data": {
      "text/markdown": [
       "---"
      ],
      "text/plain": [
       "<IPython.core.display.Markdown object>"
      ]
     },
     "metadata": {},
     "output_type": "display_data"
    },
    {
     "data": {
      "text/markdown": [
       "$x_1 = 3.97 \\qquad x_2 = 4.76 \\qquad x_3 = 7.14 \\qquad x_4 = 7.94 \\qquad x_5 = 11.90 \\qquad x_6 = 14.29$"
      ],
      "text/plain": [
       "<IPython.core.display.Markdown object>"
      ]
     },
     "metadata": {},
     "output_type": "display_data"
    },
    {
     "data": {
      "text/html": [
       "<div>\n",
       "<style scoped>\n",
       "    .dataframe tbody tr th:only-of-type {\n",
       "        vertical-align: middle;\n",
       "    }\n",
       "\n",
       "    .dataframe tbody tr th {\n",
       "        vertical-align: top;\n",
       "    }\n",
       "\n",
       "    .dataframe thead th {\n",
       "        text-align: right;\n",
       "    }\n",
       "</style>\n",
       "<table border=\"1\" class=\"dataframe\">\n",
       "  <thead>\n",
       "    <tr style=\"text-align: right;\">\n",
       "      <th></th>\n",
       "      <th>$b_1 (10) / x_1 $</th>\n",
       "      <th>$b_2 (12) / x_2 $</th>\n",
       "      <th>$b_3 (18) / x_3 $</th>\n",
       "      <th>$b_4 (20) / x_4 $</th>\n",
       "      <th>$b_5 (30) / x_5 $</th>\n",
       "      <th>$b_6 (36) / x_6 $</th>\n",
       "      <th>$\\sum x_i $</th>\n",
       "    </tr>\n",
       "  </thead>\n",
       "  <tbody>\n",
       "    <tr>\n",
       "      <th>Подушний</th>\n",
       "      <td>8.33</td>\n",
       "      <td>8.33</td>\n",
       "      <td>8.33</td>\n",
       "      <td>8.33</td>\n",
       "      <td>8.33</td>\n",
       "      <td>8.33</td>\n",
       "      <td>50.00</td>\n",
       "    </tr>\n",
       "    <tr>\n",
       "      <th>Рівневий</th>\n",
       "      <td>0.00</td>\n",
       "      <td>0.00</td>\n",
       "      <td>4.50</td>\n",
       "      <td>6.50</td>\n",
       "      <td>16.50</td>\n",
       "      <td>22.50</td>\n",
       "      <td>50.00</td>\n",
       "    </tr>\n",
       "    <tr>\n",
       "      <th>n-Core</th>\n",
       "      <td>5.00</td>\n",
       "      <td>6.00</td>\n",
       "      <td>9.00</td>\n",
       "      <td>10.00</td>\n",
       "      <td>10.00</td>\n",
       "      <td>10.00</td>\n",
       "      <td>50.00</td>\n",
       "    </tr>\n",
       "    <tr>\n",
       "      <th>Пропопрційний</th>\n",
       "      <td>3.97</td>\n",
       "      <td>4.76</td>\n",
       "      <td>7.14</td>\n",
       "      <td>7.94</td>\n",
       "      <td>11.90</td>\n",
       "      <td>14.29</td>\n",
       "      <td>50.00</td>\n",
       "    </tr>\n",
       "  </tbody>\n",
       "</table>\n",
       "</div>"
      ],
      "text/plain": [
       "               $b_1 (10) / x_1 $  $b_2 (12) / x_2 $  $b_3 (18) / x_3 $  \\\n",
       "Подушний                    8.33               8.33               8.33   \n",
       "Рівневий                    0.00               0.00               4.50   \n",
       "n-Core                      5.00               6.00               9.00   \n",
       "Пропопрційний               3.97               4.76               7.14   \n",
       "\n",
       "               $b_4 (20) / x_4 $  $b_5 (30) / x_5 $  $b_6 (36) / x_6 $  \\\n",
       "Подушний                    8.33               8.33               8.33   \n",
       "Рівневий                    6.50              16.50              22.50   \n",
       "n-Core                     10.00              10.00              10.00   \n",
       "Пропопрційний               7.94              11.90              14.29   \n",
       "\n",
       "               $\\sum x_i $  \n",
       "Подушний             50.00  \n",
       "Рівневий             50.00  \n",
       "n-Core               50.00  \n",
       "Пропопрційний        50.00  "
      ]
     },
     "metadata": {},
     "output_type": "display_data"
    }
   ],
   "source": [
    "type1(\"5.1 (a)\", np.array([ 10, 12, 18, 20, 30, 36 ]), 50)"
   ]
  },
  {
   "cell_type": "code",
   "execution_count": 16,
   "metadata": {
    "ExecuteTime": {
     "end_time": "2019-05-27T18:44:39.873409Z",
     "start_time": "2019-05-27T18:44:39.761510Z"
    }
   },
   "outputs": [
    {
     "data": {
      "text/markdown": [
       "### Задача 5.1 (б)"
      ],
      "text/plain": [
       "<IPython.core.display.Markdown object>"
      ]
     },
     "metadata": {},
     "output_type": "display_data"
    },
    {
     "data": {
      "text/markdown": [
       "Нехай є n=6 учасників спільної діяльності.Припустимо що доходи учасників дорівнюють відповідно $x_1$ = 10, $x_2$ = 12, $x_3$ = 18, $x_4$ = 20, $x_5$ = 30, $x_6$ = 36, а загальні витрати складають С=90"
      ],
      "text/plain": [
       "<IPython.core.display.Markdown object>"
      ]
     },
     "metadata": {},
     "output_type": "display_data"
    },
    {
     "data": {
      "text/markdown": [
       "### Подушний податок"
      ],
      "text/plain": [
       "<IPython.core.display.Markdown object>"
      ]
     },
     "metadata": {},
     "output_type": "display_data"
    },
    {
     "data": {
      "text/markdown": [
       "$$\\lambda_0 = \\dfrac{C - \\sum_{i=1}^0 x_i }{n-0} \\qquad \\lambda_0 (\\dfrac{36}{6}) \\geqslant b_1 (10) \\quad \\Rightarrow x_{1} = b_{1} = 10$$\n",
       "$$\\lambda_1 = \\dfrac{C - \\sum_{i=1}^1 x_i }{n-1} \\qquad \\lambda_1 (\\dfrac{26}{5}) \\geqslant b_2 (12) \\quad \\Rightarrow x_{2} = b_{2} = 12$$\n",
       "$$\\lambda_2 = \\dfrac{C - \\sum_{i=1}^2 x_i }{n-2} \\qquad \\lambda_2 (\\dfrac{14}{4}) \\leq b_3 (18) \\quad \\Rightarrow \\lambda_2 = \\lambda^* = x_{i} \\quad i=\\overline{3,n}$$"
      ],
      "text/plain": [
       "<IPython.core.display.Markdown object>"
      ]
     },
     "metadata": {},
     "output_type": "display_data"
    },
    {
     "data": {
      "text/markdown": [
       "---"
      ],
      "text/plain": [
       "<IPython.core.display.Markdown object>"
      ]
     },
     "metadata": {},
     "output_type": "display_data"
    },
    {
     "data": {
      "text/markdown": [
       "$x_1 = 10.00 \\qquad x_2 = 12.00 \\qquad x_3 = 17.00 \\qquad x_4 = 17.00 \\qquad x_5 = 17.00 \\qquad x_6 = 17.00$"
      ],
      "text/plain": [
       "<IPython.core.display.Markdown object>"
      ]
     },
     "metadata": {},
     "output_type": "display_data"
    },
    {
     "data": {
      "text/markdown": [
       "### Рівневий податок"
      ],
      "text/plain": [
       "<IPython.core.display.Markdown object>"
      ]
     },
     "metadata": {},
     "output_type": "display_data"
    },
    {
     "data": {
      "text/markdown": [
       "$$\\lambda_0 = \\dfrac{1}{n-0} (\\sum^6_{i=1}b_i - C ) = \\dfrac{1}6 (126 - 90) = \\dfrac{36}{6} \\qquad \\lambda_0(\\dfrac{36}{6}) < b_1 (10) \\quad \\Rightarrow \\lambda_0 = \\lambda^*\\qquad x_i = b_i - \\lambda^* \\quad i=\\overline{6,n}$$"
      ],
      "text/plain": [
       "<IPython.core.display.Markdown object>"
      ]
     },
     "metadata": {},
     "output_type": "display_data"
    },
    {
     "data": {
      "text/markdown": [
       "---"
      ],
      "text/plain": [
       "<IPython.core.display.Markdown object>"
      ]
     },
     "metadata": {},
     "output_type": "display_data"
    },
    {
     "data": {
      "text/markdown": [
       "$x_1 = 4.00 \\qquad x_2 = 6.00 \\qquad x_3 = 12.00 \\qquad x_4 = 14.00 \\qquad x_5 = 24.00 \\qquad x_6 = 30.00$"
      ],
      "text/plain": [
       "<IPython.core.display.Markdown object>"
      ]
     },
     "metadata": {},
     "output_type": "display_data"
    },
    {
     "data": {
      "text/markdown": [
       "### N-Ядро"
      ],
      "text/plain": [
       "<IPython.core.display.Markdown object>"
      ]
     },
     "metadata": {},
     "output_type": "display_data"
    },
    {
     "data": {
      "text/markdown": [
       "$$C \\geqslant \\dfrac{\\sum b }{2}$$\n",
       "$$\\lambda_0 = \\dfrac{1}{n-0} * ( \\sum^6_{i=1} b_i - (C - \\sum^0_{i=1} x_i) ) = \\dfrac{(126 - (90-0.0))}{6}  = \\dfrac{126-90.0}{6} = \\dfrac{36.0}{6}  \\geqslant \\dfrac{b_1}{2} (5.0) \\qquad  x_1 = \\dfrac{b_{1}}{2} = 5.0$$\n",
       "$$\\lambda_1 = \\dfrac{1}{n-1} * ( \\sum^6_{i=1} b_i - (C - \\sum^1_{i=1} x_i) ) = \\dfrac{(126 - (90-5.0))}{5}  = \\dfrac{126-85.0}{5} = \\dfrac{41.0}{5}  \\geqslant \\dfrac{b_2}{2} (6.0) \\qquad  x_2 = \\dfrac{b_{2}}{2} = 6.0$$\n",
       "$$\\lambda_2 = \\dfrac{1}{n-2} * ( \\sum^6_{i=1} b_i - (C - \\sum^2_{i=1} x_i) ) = \\dfrac{(126 - (90-11.0))}{4}  = \\dfrac{126-79.0}{4} = \\dfrac{47.0}{4}  < \\dfrac{b_3}{2} (9.0) \\qquad  \\lambda_2 = \\lambda^* \\qquad x_{i} = b_{i}-\\lambda^* \\quad i=\\overline{3,n}$$"
      ],
      "text/plain": [
       "<IPython.core.display.Markdown object>"
      ]
     },
     "metadata": {},
     "output_type": "display_data"
    },
    {
     "data": {
      "text/markdown": [
       "---"
      ],
      "text/plain": [
       "<IPython.core.display.Markdown object>"
      ]
     },
     "metadata": {},
     "output_type": "display_data"
    },
    {
     "data": {
      "text/markdown": [
       "$x_1 = 5.00 \\qquad x_2 = 6.00 \\qquad x_3 = 11.75 \\qquad x_4 = 13.75 \\qquad x_5 = 23.75 \\qquad x_6 = 29.75$"
      ],
      "text/plain": [
       "<IPython.core.display.Markdown object>"
      ]
     },
     "metadata": {},
     "output_type": "display_data"
    },
    {
     "data": {
      "text/markdown": [
       "### Пропорційний податок"
      ],
      "text/plain": [
       "<IPython.core.display.Markdown object>"
      ]
     },
     "metadata": {},
     "output_type": "display_data"
    },
    {
     "data": {
      "text/markdown": [
       "$$ x_i = b_i \\dfrac{C}{\\sum_{i=1}^{n}} b_i \\qquad i=\\overline{1,n}$$"
      ],
      "text/plain": [
       "<IPython.core.display.Markdown object>"
      ]
     },
     "metadata": {},
     "output_type": "display_data"
    },
    {
     "data": {
      "text/markdown": [
       "---"
      ],
      "text/plain": [
       "<IPython.core.display.Markdown object>"
      ]
     },
     "metadata": {},
     "output_type": "display_data"
    },
    {
     "data": {
      "text/markdown": [
       "$x_1 = 7.14 \\qquad x_2 = 8.57 \\qquad x_3 = 12.86 \\qquad x_4 = 14.29 \\qquad x_5 = 21.43 \\qquad x_6 = 25.71$"
      ],
      "text/plain": [
       "<IPython.core.display.Markdown object>"
      ]
     },
     "metadata": {},
     "output_type": "display_data"
    },
    {
     "data": {
      "text/html": [
       "<div>\n",
       "<style scoped>\n",
       "    .dataframe tbody tr th:only-of-type {\n",
       "        vertical-align: middle;\n",
       "    }\n",
       "\n",
       "    .dataframe tbody tr th {\n",
       "        vertical-align: top;\n",
       "    }\n",
       "\n",
       "    .dataframe thead th {\n",
       "        text-align: right;\n",
       "    }\n",
       "</style>\n",
       "<table border=\"1\" class=\"dataframe\">\n",
       "  <thead>\n",
       "    <tr style=\"text-align: right;\">\n",
       "      <th></th>\n",
       "      <th>$b_1 (10) / x_1 $</th>\n",
       "      <th>$b_2 (12) / x_2 $</th>\n",
       "      <th>$b_3 (18) / x_3 $</th>\n",
       "      <th>$b_4 (20) / x_4 $</th>\n",
       "      <th>$b_5 (30) / x_5 $</th>\n",
       "      <th>$b_6 (36) / x_6 $</th>\n",
       "      <th>$\\sum x_i $</th>\n",
       "    </tr>\n",
       "  </thead>\n",
       "  <tbody>\n",
       "    <tr>\n",
       "      <th>Подушний</th>\n",
       "      <td>10.00</td>\n",
       "      <td>12.00</td>\n",
       "      <td>17.00</td>\n",
       "      <td>17.00</td>\n",
       "      <td>17.00</td>\n",
       "      <td>17.00</td>\n",
       "      <td>90.00</td>\n",
       "    </tr>\n",
       "    <tr>\n",
       "      <th>Рівневий</th>\n",
       "      <td>4.00</td>\n",
       "      <td>6.00</td>\n",
       "      <td>12.00</td>\n",
       "      <td>14.00</td>\n",
       "      <td>24.00</td>\n",
       "      <td>30.00</td>\n",
       "      <td>90.00</td>\n",
       "    </tr>\n",
       "    <tr>\n",
       "      <th>n-Core</th>\n",
       "      <td>5.00</td>\n",
       "      <td>6.00</td>\n",
       "      <td>11.75</td>\n",
       "      <td>13.75</td>\n",
       "      <td>23.75</td>\n",
       "      <td>29.75</td>\n",
       "      <td>90.00</td>\n",
       "    </tr>\n",
       "    <tr>\n",
       "      <th>Пропопрційний</th>\n",
       "      <td>7.14</td>\n",
       "      <td>8.57</td>\n",
       "      <td>12.86</td>\n",
       "      <td>14.29</td>\n",
       "      <td>21.43</td>\n",
       "      <td>25.71</td>\n",
       "      <td>90.00</td>\n",
       "    </tr>\n",
       "  </tbody>\n",
       "</table>\n",
       "</div>"
      ],
      "text/plain": [
       "               $b_1 (10) / x_1 $  $b_2 (12) / x_2 $  $b_3 (18) / x_3 $  \\\n",
       "Подушний                   10.00              12.00              17.00   \n",
       "Рівневий                    4.00               6.00              12.00   \n",
       "n-Core                      5.00               6.00              11.75   \n",
       "Пропопрційний               7.14               8.57              12.86   \n",
       "\n",
       "               $b_4 (20) / x_4 $  $b_5 (30) / x_5 $  $b_6 (36) / x_6 $  \\\n",
       "Подушний                   17.00              17.00              17.00   \n",
       "Рівневий                   14.00              24.00              30.00   \n",
       "n-Core                     13.75              23.75              29.75   \n",
       "Пропопрційний              14.29              21.43              25.71   \n",
       "\n",
       "               $\\sum x_i $  \n",
       "Подушний             90.00  \n",
       "Рівневий             90.00  \n",
       "n-Core               90.00  \n",
       "Пропопрційний        90.00  "
      ]
     },
     "metadata": {},
     "output_type": "display_data"
    }
   ],
   "source": [
    "type1(\"5.1 (б)\", np.array([ 10, 12, 18, 20, 30, 36 ]), 90)"
   ]
  },
  {
   "cell_type": "code",
   "execution_count": 17,
   "metadata": {
    "ExecuteTime": {
     "end_time": "2019-05-27T18:44:39.908995Z",
     "start_time": "2019-05-27T18:44:39.876450Z"
    }
   },
   "outputs": [
    {
     "data": {
      "text/markdown": [
       "### Задача 5.2"
      ],
      "text/plain": [
       "<IPython.core.display.Markdown object>"
      ]
     },
     "metadata": {},
     "output_type": "display_data"
    },
    {
     "data": {
      "text/markdown": [
       "Нехай є фірма, яка збанкротувала. Її залишкове майно складає 20000 грн., а борги кредиторам складають відповідно 4000, 6000, 18000 грн. Знайти справедливе розподілення майна фірми між кредиторами."
      ],
      "text/plain": [
       "<IPython.core.display.Markdown object>"
      ]
     },
     "metadata": {},
     "output_type": "display_data"
    },
    {
     "data": {
      "text/markdown": [
       "### N-Ядро"
      ],
      "text/plain": [
       "<IPython.core.display.Markdown object>"
      ]
     },
     "metadata": {},
     "output_type": "display_data"
    },
    {
     "data": {
      "text/markdown": [
       "$$C \\geqslant \\dfrac{\\sum b }{2}$$\n",
       "$$\\lambda_0 = \\dfrac{1}{n-0} * ( \\sum^3_{i=1} b_i - (C - \\sum^0_{i=1} x_i) ) = \\dfrac{(28000 - (20000-0.0))}{3}  = \\dfrac{28000-20000.0}{3} = \\dfrac{8000.0}{3}  \\geqslant \\dfrac{b_1}{2} (2000.0) \\qquad  x_1 = \\dfrac{b_{1}}{2} = 2000.0$$\n",
       "$$\\lambda_1 = \\dfrac{1}{n-1} * ( \\sum^3_{i=1} b_i - (C - \\sum^1_{i=1} x_i) ) = \\dfrac{(28000 - (20000-2000.0))}{2}  = \\dfrac{28000-18000.0}{2} = \\dfrac{10000.0}{2}  < \\dfrac{b_2}{2} (3000.0) \\qquad  \\lambda_1 = \\lambda^* \\qquad x_{i} = b_{i}-\\lambda^* \\quad i=\\overline{2,n}$$"
      ],
      "text/plain": [
       "<IPython.core.display.Markdown object>"
      ]
     },
     "metadata": {},
     "output_type": "display_data"
    },
    {
     "data": {
      "text/markdown": [
       "---"
      ],
      "text/plain": [
       "<IPython.core.display.Markdown object>"
      ]
     },
     "metadata": {},
     "output_type": "display_data"
    },
    {
     "data": {
      "text/markdown": [
       "$x_1 = 2000.00 \\qquad x_2 = 3000.00 \\qquad x_3 = 15000.00$"
      ],
      "text/plain": [
       "<IPython.core.display.Markdown object>"
      ]
     },
     "metadata": {},
     "output_type": "display_data"
    }
   ],
   "source": [
    "type2(\"5.2\", np.array([ 4000, 6000, 18000 ]), 20000)"
   ]
  },
  {
   "cell_type": "code",
   "execution_count": 18,
   "metadata": {
    "ExecuteTime": {
     "end_time": "2019-05-27T18:44:40.033174Z",
     "start_time": "2019-05-27T18:44:39.913579Z"
    }
   },
   "outputs": [
    {
     "data": {
      "text/markdown": [
       "### Задача 6.1 (a)"
      ],
      "text/plain": [
       "<IPython.core.display.Markdown object>"
      ]
     },
     "metadata": {},
     "output_type": "display_data"
    },
    {
     "data": {
      "text/markdown": [
       "Нехай є n=6 учасників спільної діяльності.Припустимо що доходи учасників дорівнюють відповідно $x_1$ = 4, $x_2$ = 8, $x_3$ = 12, $x_4$ = 20, $x_5$ = 26, $x_6$ = 30, а загальні витрати складають С=48"
      ],
      "text/plain": [
       "<IPython.core.display.Markdown object>"
      ]
     },
     "metadata": {},
     "output_type": "display_data"
    },
    {
     "data": {
      "text/markdown": [
       "### Подушний податок"
      ],
      "text/plain": [
       "<IPython.core.display.Markdown object>"
      ]
     },
     "metadata": {},
     "output_type": "display_data"
    },
    {
     "data": {
      "text/markdown": [
       "$$\\lambda_0 = \\dfrac{C - \\sum_{i=1}^0 x_i }{n-0} \\qquad \\lambda_0 (\\dfrac{52}{6}) \\geqslant b_1 (4) \\quad \\Rightarrow x_{1} = b_{1} = 4$$\n",
       "$$\\lambda_1 = \\dfrac{C - \\sum_{i=1}^1 x_i }{n-1} \\qquad \\lambda_1 (\\dfrac{48}{5}) \\geqslant b_2 (8) \\quad \\Rightarrow x_{2} = b_{2} = 8$$\n",
       "$$\\lambda_2 = \\dfrac{C - \\sum_{i=1}^2 x_i }{n-2} \\qquad \\lambda_2 (\\dfrac{40}{4}) \\leq b_3 (12) \\quad \\Rightarrow \\lambda_2 = \\lambda^* = x_{i} \\quad i=\\overline{3,n}$$"
      ],
      "text/plain": [
       "<IPython.core.display.Markdown object>"
      ]
     },
     "metadata": {},
     "output_type": "display_data"
    },
    {
     "data": {
      "text/markdown": [
       "---"
      ],
      "text/plain": [
       "<IPython.core.display.Markdown object>"
      ]
     },
     "metadata": {},
     "output_type": "display_data"
    },
    {
     "data": {
      "text/markdown": [
       "$x_1 = 4.00 \\qquad x_2 = 8.00 \\qquad x_3 = 9.00 \\qquad x_4 = 9.00 \\qquad x_5 = 9.00 \\qquad x_6 = 9.00$"
      ],
      "text/plain": [
       "<IPython.core.display.Markdown object>"
      ]
     },
     "metadata": {},
     "output_type": "display_data"
    },
    {
     "data": {
      "text/markdown": [
       "### Рівневий податок"
      ],
      "text/plain": [
       "<IPython.core.display.Markdown object>"
      ]
     },
     "metadata": {},
     "output_type": "display_data"
    },
    {
     "data": {
      "text/markdown": [
       "$$\\lambda_0 = \\dfrac{1}{n-0} (\\sum^6_{i=1}b_i - C ) = \\dfrac{1}6 (100 - 48) = \\dfrac{52}{6} \\qquad \\lambda_0 (\\dfrac{52}{6}) \\geqslant b_1 (4) \\quad \\Rightarrow x_{1} = 0$$\n",
       "$$\\lambda_1 = \\dfrac{1}{n-1} (\\sum^6_{i=2}b_i - C ) = \\dfrac{1}5 (96 - 48) = \\dfrac{48}{5} \\qquad \\lambda_1 (\\dfrac{48}{5}) \\geqslant b_2 (8) \\quad \\Rightarrow x_{2} = 0$$\n",
       "$$\\lambda_2 = \\dfrac{1}{n-2} (\\sum^6_{i=3}b_i - C ) = \\dfrac{1}4 (88 - 48) = \\dfrac{40}{4} \\qquad \\lambda_2(\\dfrac{40}{4}) < b_3 (12) \\quad \\Rightarrow \\lambda_2 = \\lambda^*\\qquad x_i = b_i - \\lambda^* \\quad i=\\overline{4,n}$$"
      ],
      "text/plain": [
       "<IPython.core.display.Markdown object>"
      ]
     },
     "metadata": {},
     "output_type": "display_data"
    },
    {
     "data": {
      "text/markdown": [
       "---"
      ],
      "text/plain": [
       "<IPython.core.display.Markdown object>"
      ]
     },
     "metadata": {},
     "output_type": "display_data"
    },
    {
     "data": {
      "text/markdown": [
       "$x_1 = 0.00 \\qquad x_2 = 0.00 \\qquad x_3 = 2.00 \\qquad x_4 = 10.00 \\qquad x_5 = 16.00 \\qquad x_6 = 20.00$"
      ],
      "text/plain": [
       "<IPython.core.display.Markdown object>"
      ]
     },
     "metadata": {},
     "output_type": "display_data"
    },
    {
     "data": {
      "text/markdown": [
       "### N-Ядро"
      ],
      "text/plain": [
       "<IPython.core.display.Markdown object>"
      ]
     },
     "metadata": {},
     "output_type": "display_data"
    },
    {
     "data": {
      "text/markdown": [
       "$$C < \\dfrac{\\sum b }{2}$$\n",
       "$$\\lambda_0 = \\dfrac{C-\\sum_{i=1}^0 x_i}{n-0} = \\dfrac{48.0}{6} \\geqslant \\dfrac{b_1}{2} (2.0) \\qquad  x_1 = \\dfrac{b_{1}}{2} = 2.0$$\n",
       "$$\\lambda_1 = \\dfrac{C-\\sum_{i=1}^1 x_i}{n-1} = \\dfrac{46.0}{5} \\geqslant \\dfrac{b_2}{2} (4.0) \\qquad  x_2 = \\dfrac{b_{2}}{2} = 4.0$$\n",
       "$$\\lambda_2 = \\dfrac{C-\\sum_{i=1}^2 x_i}{n-2} = \\dfrac{42.0}{4} \\geqslant \\dfrac{b_3}{2} (6.0) \\qquad  x_3 = \\dfrac{b_{3}}{2} = 6.0$$\n",
       "$$\\lambda_3 = \\dfrac{C-\\sum_{i=1}^3 x_i}{n-3} = \\dfrac{36.0}{3} \\geqslant \\dfrac{b_4}{2} (10.0) \\qquad  x_4 = \\dfrac{b_{4}}{2} = 10.0$$\n",
       "$$\\lambda_4 = \\dfrac{C-\\sum_{i=1}^4 x_i}{n-4} = \\dfrac{26.0}{2} < \\dfrac{b_5}{2} (13.0) \\quad\\lambda_4 = \\lambda^* = x_i \\quad i=\\overline{5,n}$$"
      ],
      "text/plain": [
       "<IPython.core.display.Markdown object>"
      ]
     },
     "metadata": {},
     "output_type": "display_data"
    },
    {
     "data": {
      "text/markdown": [
       "---"
      ],
      "text/plain": [
       "<IPython.core.display.Markdown object>"
      ]
     },
     "metadata": {},
     "output_type": "display_data"
    },
    {
     "data": {
      "text/markdown": [
       "$x_1 = 2.00 \\qquad x_2 = 4.00 \\qquad x_3 = 6.00 \\qquad x_4 = 10.00 \\qquad x_5 = 13.00 \\qquad x_6 = 13.00$"
      ],
      "text/plain": [
       "<IPython.core.display.Markdown object>"
      ]
     },
     "metadata": {},
     "output_type": "display_data"
    },
    {
     "data": {
      "text/markdown": [
       "### Пропорційний податок"
      ],
      "text/plain": [
       "<IPython.core.display.Markdown object>"
      ]
     },
     "metadata": {},
     "output_type": "display_data"
    },
    {
     "data": {
      "text/markdown": [
       "$$ x_i = b_i \\dfrac{C}{\\sum_{i=1}^{n}} b_i \\qquad i=\\overline{1,n}$$"
      ],
      "text/plain": [
       "<IPython.core.display.Markdown object>"
      ]
     },
     "metadata": {},
     "output_type": "display_data"
    },
    {
     "data": {
      "text/markdown": [
       "---"
      ],
      "text/plain": [
       "<IPython.core.display.Markdown object>"
      ]
     },
     "metadata": {},
     "output_type": "display_data"
    },
    {
     "data": {
      "text/markdown": [
       "$x_1 = 1.92 \\qquad x_2 = 3.84 \\qquad x_3 = 5.76 \\qquad x_4 = 9.60 \\qquad x_5 = 12.48 \\qquad x_6 = 14.40$"
      ],
      "text/plain": [
       "<IPython.core.display.Markdown object>"
      ]
     },
     "metadata": {},
     "output_type": "display_data"
    },
    {
     "data": {
      "text/html": [
       "<div>\n",
       "<style scoped>\n",
       "    .dataframe tbody tr th:only-of-type {\n",
       "        vertical-align: middle;\n",
       "    }\n",
       "\n",
       "    .dataframe tbody tr th {\n",
       "        vertical-align: top;\n",
       "    }\n",
       "\n",
       "    .dataframe thead th {\n",
       "        text-align: right;\n",
       "    }\n",
       "</style>\n",
       "<table border=\"1\" class=\"dataframe\">\n",
       "  <thead>\n",
       "    <tr style=\"text-align: right;\">\n",
       "      <th></th>\n",
       "      <th>$b_1 (4) / x_1 $</th>\n",
       "      <th>$b_2 (8) / x_2 $</th>\n",
       "      <th>$b_3 (12) / x_3 $</th>\n",
       "      <th>$b_4 (20) / x_4 $</th>\n",
       "      <th>$b_5 (26) / x_5 $</th>\n",
       "      <th>$b_6 (30) / x_6 $</th>\n",
       "      <th>$\\sum x_i $</th>\n",
       "    </tr>\n",
       "  </thead>\n",
       "  <tbody>\n",
       "    <tr>\n",
       "      <th>Подушний</th>\n",
       "      <td>4.00</td>\n",
       "      <td>8.00</td>\n",
       "      <td>9.00</td>\n",
       "      <td>9.00</td>\n",
       "      <td>9.00</td>\n",
       "      <td>9.00</td>\n",
       "      <td>48.00</td>\n",
       "    </tr>\n",
       "    <tr>\n",
       "      <th>Рівневий</th>\n",
       "      <td>0.00</td>\n",
       "      <td>0.00</td>\n",
       "      <td>2.00</td>\n",
       "      <td>10.00</td>\n",
       "      <td>16.00</td>\n",
       "      <td>20.00</td>\n",
       "      <td>48.00</td>\n",
       "    </tr>\n",
       "    <tr>\n",
       "      <th>n-Core</th>\n",
       "      <td>2.00</td>\n",
       "      <td>4.00</td>\n",
       "      <td>6.00</td>\n",
       "      <td>10.00</td>\n",
       "      <td>13.00</td>\n",
       "      <td>13.00</td>\n",
       "      <td>48.00</td>\n",
       "    </tr>\n",
       "    <tr>\n",
       "      <th>Пропопрційний</th>\n",
       "      <td>1.92</td>\n",
       "      <td>3.84</td>\n",
       "      <td>5.76</td>\n",
       "      <td>9.60</td>\n",
       "      <td>12.48</td>\n",
       "      <td>14.40</td>\n",
       "      <td>48.00</td>\n",
       "    </tr>\n",
       "  </tbody>\n",
       "</table>\n",
       "</div>"
      ],
      "text/plain": [
       "               $b_1 (4) / x_1 $  $b_2 (8) / x_2 $  $b_3 (12) / x_3 $  \\\n",
       "Подушний                   4.00              8.00               9.00   \n",
       "Рівневий                   0.00              0.00               2.00   \n",
       "n-Core                     2.00              4.00               6.00   \n",
       "Пропопрційний              1.92              3.84               5.76   \n",
       "\n",
       "               $b_4 (20) / x_4 $  $b_5 (26) / x_5 $  $b_6 (30) / x_6 $  \\\n",
       "Подушний                    9.00               9.00               9.00   \n",
       "Рівневий                   10.00              16.00              20.00   \n",
       "n-Core                     10.00              13.00              13.00   \n",
       "Пропопрційний               9.60              12.48              14.40   \n",
       "\n",
       "               $\\sum x_i $  \n",
       "Подушний             48.00  \n",
       "Рівневий             48.00  \n",
       "n-Core               48.00  \n",
       "Пропопрційний        48.00  "
      ]
     },
     "metadata": {},
     "output_type": "display_data"
    }
   ],
   "source": [
    "type1(\"6.1 (a)\", np.array([ 4, 8, 12, 20, 26, 30 ]), 48)"
   ]
  },
  {
   "cell_type": "code",
   "execution_count": 19,
   "metadata": {
    "ExecuteTime": {
     "end_time": "2019-05-27T18:44:40.163368Z",
     "start_time": "2019-05-27T18:44:40.036769Z"
    }
   },
   "outputs": [
    {
     "data": {
      "text/markdown": [
       "### Задача 6.1 (б)"
      ],
      "text/plain": [
       "<IPython.core.display.Markdown object>"
      ]
     },
     "metadata": {},
     "output_type": "display_data"
    },
    {
     "data": {
      "text/markdown": [
       "Нехай є n=6 учасників спільної діяльності.Припустимо що доходи учасників дорівнюють відповідно $x_1$ = 4, $x_2$ = 8, $x_3$ = 12, $x_4$ = 20, $x_5$ = 26, $x_6$ = 30, а загальні витрати складають С=84"
      ],
      "text/plain": [
       "<IPython.core.display.Markdown object>"
      ]
     },
     "metadata": {},
     "output_type": "display_data"
    },
    {
     "data": {
      "text/markdown": [
       "### Подушний податок"
      ],
      "text/plain": [
       "<IPython.core.display.Markdown object>"
      ]
     },
     "metadata": {},
     "output_type": "display_data"
    },
    {
     "data": {
      "text/markdown": [
       "$$\\lambda_0 = \\dfrac{C - \\sum_{i=1}^0 x_i }{n-0} \\qquad \\lambda_0 (\\dfrac{16}{6}) \\geqslant b_1 (4) \\quad \\Rightarrow x_{1} = b_{1} = 4$$\n",
       "$$\\lambda_1 = \\dfrac{C - \\sum_{i=1}^1 x_i }{n-1} \\qquad \\lambda_1 (\\dfrac{12}{5}) \\geqslant b_2 (8) \\quad \\Rightarrow x_{2} = b_{2} = 8$$\n",
       "$$\\lambda_2 = \\dfrac{C - \\sum_{i=1}^2 x_i }{n-2} \\qquad \\lambda_2 (\\dfrac{4}{4}) \\geqslant b_3 (12) \\quad \\Rightarrow x_{3} = b_{3} = 12$$\n",
       "$$\\lambda_3 = \\dfrac{C - \\sum_{i=1}^3 x_i }{n-3} \\qquad \\lambda_3 (\\dfrac{-8}{3}) \\geqslant b_4 (20) \\quad \\Rightarrow x_{4} = b_{4} = 20$$\n",
       "$$\\lambda_4 = \\dfrac{C - \\sum_{i=1}^4 x_i }{n-4} \\qquad \\lambda_4 (\\dfrac{-28}{2}) \\leq b_5 (26) \\quad \\Rightarrow \\lambda_4 = \\lambda^* = x_{i} \\quad i=\\overline{5,n}$$"
      ],
      "text/plain": [
       "<IPython.core.display.Markdown object>"
      ]
     },
     "metadata": {},
     "output_type": "display_data"
    },
    {
     "data": {
      "text/markdown": [
       "---"
      ],
      "text/plain": [
       "<IPython.core.display.Markdown object>"
      ]
     },
     "metadata": {},
     "output_type": "display_data"
    },
    {
     "data": {
      "text/markdown": [
       "$x_1 = 4.00 \\qquad x_2 = 8.00 \\qquad x_3 = 12.00 \\qquad x_4 = 20.00 \\qquad x_5 = 20.00 \\qquad x_6 = 20.00$"
      ],
      "text/plain": [
       "<IPython.core.display.Markdown object>"
      ]
     },
     "metadata": {},
     "output_type": "display_data"
    },
    {
     "data": {
      "text/markdown": [
       "### Рівневий податок"
      ],
      "text/plain": [
       "<IPython.core.display.Markdown object>"
      ]
     },
     "metadata": {},
     "output_type": "display_data"
    },
    {
     "data": {
      "text/markdown": [
       "$$\\lambda_0 = \\dfrac{1}{n-0} (\\sum^6_{i=1}b_i - C ) = \\dfrac{1}6 (100 - 84) = \\dfrac{16}{6} \\qquad \\lambda_0(\\dfrac{16}{6}) < b_1 (4) \\quad \\Rightarrow \\lambda_0 = \\lambda^*\\qquad x_i = b_i - \\lambda^* \\quad i=\\overline{6,n}$$"
      ],
      "text/plain": [
       "<IPython.core.display.Markdown object>"
      ]
     },
     "metadata": {},
     "output_type": "display_data"
    },
    {
     "data": {
      "text/markdown": [
       "---"
      ],
      "text/plain": [
       "<IPython.core.display.Markdown object>"
      ]
     },
     "metadata": {},
     "output_type": "display_data"
    },
    {
     "data": {
      "text/markdown": [
       "$x_1 = 1.33 \\qquad x_2 = 5.33 \\qquad x_3 = 9.33 \\qquad x_4 = 17.33 \\qquad x_5 = 23.33 \\qquad x_6 = 27.33$"
      ],
      "text/plain": [
       "<IPython.core.display.Markdown object>"
      ]
     },
     "metadata": {},
     "output_type": "display_data"
    },
    {
     "data": {
      "text/markdown": [
       "### N-Ядро"
      ],
      "text/plain": [
       "<IPython.core.display.Markdown object>"
      ]
     },
     "metadata": {},
     "output_type": "display_data"
    },
    {
     "data": {
      "text/markdown": [
       "$$C \\geqslant \\dfrac{\\sum b }{2}$$\n",
       "$$\\lambda_0 = \\dfrac{1}{n-0} * ( \\sum^6_{i=1} b_i - (C - \\sum^0_{i=1} x_i) ) = \\dfrac{(100 - (84-0.0))}{6}  = \\dfrac{100-84.0}{6} = \\dfrac{16.0}{6}  \\geqslant \\dfrac{b_1}{2} (2.0) \\qquad  x_1 = \\dfrac{b_{1}}{2} = 2.0$$\n",
       "$$\\lambda_1 = \\dfrac{1}{n-1} * ( \\sum^6_{i=1} b_i - (C - \\sum^1_{i=1} x_i) ) = \\dfrac{(100 - (84-2.0))}{5}  = \\dfrac{100-82.0}{5} = \\dfrac{18.0}{5}  < \\dfrac{b_2}{2} (4.0) \\qquad  \\lambda_1 = \\lambda^* \\qquad x_{i} = b_{i}-\\lambda^* \\quad i=\\overline{2,n}$$"
      ],
      "text/plain": [
       "<IPython.core.display.Markdown object>"
      ]
     },
     "metadata": {},
     "output_type": "display_data"
    },
    {
     "data": {
      "text/markdown": [
       "---"
      ],
      "text/plain": [
       "<IPython.core.display.Markdown object>"
      ]
     },
     "metadata": {},
     "output_type": "display_data"
    },
    {
     "data": {
      "text/markdown": [
       "$x_1 = 2.00 \\qquad x_2 = 5.20 \\qquad x_3 = 9.20 \\qquad x_4 = 17.20 \\qquad x_5 = 23.20 \\qquad x_6 = 27.20$"
      ],
      "text/plain": [
       "<IPython.core.display.Markdown object>"
      ]
     },
     "metadata": {},
     "output_type": "display_data"
    },
    {
     "data": {
      "text/markdown": [
       "### Пропорційний податок"
      ],
      "text/plain": [
       "<IPython.core.display.Markdown object>"
      ]
     },
     "metadata": {},
     "output_type": "display_data"
    },
    {
     "data": {
      "text/markdown": [
       "$$ x_i = b_i \\dfrac{C}{\\sum_{i=1}^{n}} b_i \\qquad i=\\overline{1,n}$$"
      ],
      "text/plain": [
       "<IPython.core.display.Markdown object>"
      ]
     },
     "metadata": {},
     "output_type": "display_data"
    },
    {
     "data": {
      "text/markdown": [
       "---"
      ],
      "text/plain": [
       "<IPython.core.display.Markdown object>"
      ]
     },
     "metadata": {},
     "output_type": "display_data"
    },
    {
     "data": {
      "text/markdown": [
       "$x_1 = 3.36 \\qquad x_2 = 6.72 \\qquad x_3 = 10.08 \\qquad x_4 = 16.80 \\qquad x_5 = 21.84 \\qquad x_6 = 25.20$"
      ],
      "text/plain": [
       "<IPython.core.display.Markdown object>"
      ]
     },
     "metadata": {},
     "output_type": "display_data"
    },
    {
     "data": {
      "text/html": [
       "<div>\n",
       "<style scoped>\n",
       "    .dataframe tbody tr th:only-of-type {\n",
       "        vertical-align: middle;\n",
       "    }\n",
       "\n",
       "    .dataframe tbody tr th {\n",
       "        vertical-align: top;\n",
       "    }\n",
       "\n",
       "    .dataframe thead th {\n",
       "        text-align: right;\n",
       "    }\n",
       "</style>\n",
       "<table border=\"1\" class=\"dataframe\">\n",
       "  <thead>\n",
       "    <tr style=\"text-align: right;\">\n",
       "      <th></th>\n",
       "      <th>$b_1 (4) / x_1 $</th>\n",
       "      <th>$b_2 (8) / x_2 $</th>\n",
       "      <th>$b_3 (12) / x_3 $</th>\n",
       "      <th>$b_4 (20) / x_4 $</th>\n",
       "      <th>$b_5 (26) / x_5 $</th>\n",
       "      <th>$b_6 (30) / x_6 $</th>\n",
       "      <th>$\\sum x_i $</th>\n",
       "    </tr>\n",
       "  </thead>\n",
       "  <tbody>\n",
       "    <tr>\n",
       "      <th>Подушний</th>\n",
       "      <td>4.00</td>\n",
       "      <td>8.00</td>\n",
       "      <td>12.00</td>\n",
       "      <td>20.00</td>\n",
       "      <td>20.00</td>\n",
       "      <td>20.00</td>\n",
       "      <td>84.00</td>\n",
       "    </tr>\n",
       "    <tr>\n",
       "      <th>Рівневий</th>\n",
       "      <td>1.33</td>\n",
       "      <td>5.33</td>\n",
       "      <td>9.33</td>\n",
       "      <td>17.33</td>\n",
       "      <td>23.33</td>\n",
       "      <td>27.33</td>\n",
       "      <td>84.00</td>\n",
       "    </tr>\n",
       "    <tr>\n",
       "      <th>n-Core</th>\n",
       "      <td>2.00</td>\n",
       "      <td>5.20</td>\n",
       "      <td>9.20</td>\n",
       "      <td>17.20</td>\n",
       "      <td>23.20</td>\n",
       "      <td>27.20</td>\n",
       "      <td>84.00</td>\n",
       "    </tr>\n",
       "    <tr>\n",
       "      <th>Пропопрційний</th>\n",
       "      <td>3.36</td>\n",
       "      <td>6.72</td>\n",
       "      <td>10.08</td>\n",
       "      <td>16.80</td>\n",
       "      <td>21.84</td>\n",
       "      <td>25.20</td>\n",
       "      <td>84.00</td>\n",
       "    </tr>\n",
       "  </tbody>\n",
       "</table>\n",
       "</div>"
      ],
      "text/plain": [
       "               $b_1 (4) / x_1 $  $b_2 (8) / x_2 $  $b_3 (12) / x_3 $  \\\n",
       "Подушний                   4.00              8.00              12.00   \n",
       "Рівневий                   1.33              5.33               9.33   \n",
       "n-Core                     2.00              5.20               9.20   \n",
       "Пропопрційний              3.36              6.72              10.08   \n",
       "\n",
       "               $b_4 (20) / x_4 $  $b_5 (26) / x_5 $  $b_6 (30) / x_6 $  \\\n",
       "Подушний                   20.00              20.00              20.00   \n",
       "Рівневий                   17.33              23.33              27.33   \n",
       "n-Core                     17.20              23.20              27.20   \n",
       "Пропопрційний              16.80              21.84              25.20   \n",
       "\n",
       "               $\\sum x_i $  \n",
       "Подушний             84.00  \n",
       "Рівневий             84.00  \n",
       "n-Core               84.00  \n",
       "Пропопрційний        84.00  "
      ]
     },
     "metadata": {},
     "output_type": "display_data"
    }
   ],
   "source": [
    "type1(\"6.1 (б)\", np.array([ 4, 8, 12, 20, 26, 30 ]), 84)"
   ]
  },
  {
   "cell_type": "code",
   "execution_count": 20,
   "metadata": {
    "ExecuteTime": {
     "end_time": "2019-05-27T18:44:40.210530Z",
     "start_time": "2019-05-27T18:44:40.173475Z"
    }
   },
   "outputs": [
    {
     "data": {
      "text/markdown": [
       "### Задача 6.2"
      ],
      "text/plain": [
       "<IPython.core.display.Markdown object>"
      ]
     },
     "metadata": {},
     "output_type": "display_data"
    },
    {
     "data": {
      "text/markdown": [
       "Нехай є фірма, яка збанкротувала. Її залишкове майно складає 15000 грн., а борги кредиторам складають відповідно 6000, 8000, 10000 грн. Знайти справедливе розподілення майна фірми між кредиторами."
      ],
      "text/plain": [
       "<IPython.core.display.Markdown object>"
      ]
     },
     "metadata": {},
     "output_type": "display_data"
    },
    {
     "data": {
      "text/markdown": [
       "### N-Ядро"
      ],
      "text/plain": [
       "<IPython.core.display.Markdown object>"
      ]
     },
     "metadata": {},
     "output_type": "display_data"
    },
    {
     "data": {
      "text/markdown": [
       "$$C \\geqslant \\dfrac{\\sum b }{2}$$\n",
       "$$\\lambda_0 = \\dfrac{1}{n-0} * ( \\sum^3_{i=1} b_i - (C - \\sum^0_{i=1} x_i) ) = \\dfrac{(24000 - (15000-0.0))}{3}  = \\dfrac{24000-15000.0}{3} = \\dfrac{9000.0}{3}  < \\dfrac{b_1}{2} (3000.0) \\qquad  \\lambda_0 = \\lambda^* \\qquad x_{i} = b_{i}-\\lambda^* \\quad i=\\overline{1,n}$$"
      ],
      "text/plain": [
       "<IPython.core.display.Markdown object>"
      ]
     },
     "metadata": {},
     "output_type": "display_data"
    },
    {
     "data": {
      "text/markdown": [
       "---"
      ],
      "text/plain": [
       "<IPython.core.display.Markdown object>"
      ]
     },
     "metadata": {},
     "output_type": "display_data"
    },
    {
     "data": {
      "text/markdown": [
       "$x_1 = 3000.00 \\qquad x_2 = 5000.00 \\qquad x_3 = 7000.00$"
      ],
      "text/plain": [
       "<IPython.core.display.Markdown object>"
      ]
     },
     "metadata": {},
     "output_type": "display_data"
    }
   ],
   "source": [
    "type2(\"6.2\", np.array([ 6000, 8000, 10000 ]), 15000)"
   ]
  },
  {
   "cell_type": "code",
   "execution_count": 21,
   "metadata": {
    "ExecuteTime": {
     "end_time": "2019-05-27T18:44:40.339990Z",
     "start_time": "2019-05-27T18:44:40.214406Z"
    }
   },
   "outputs": [
    {
     "data": {
      "text/markdown": [
       "### Задача 7.1 (a)"
      ],
      "text/plain": [
       "<IPython.core.display.Markdown object>"
      ]
     },
     "metadata": {},
     "output_type": "display_data"
    },
    {
     "data": {
      "text/markdown": [
       "Нехай є n=6 учасників спільної діяльності.Припустимо що доходи учасників дорівнюють відповідно $x_1$ = 6, $x_2$ = 10, $x_3$ = 14, $x_4$ = 20, $x_5$ = 24, $x_6$ = 36, а загальні витрати складають С=50"
      ],
      "text/plain": [
       "<IPython.core.display.Markdown object>"
      ]
     },
     "metadata": {},
     "output_type": "display_data"
    },
    {
     "data": {
      "text/markdown": [
       "### Подушний податок"
      ],
      "text/plain": [
       "<IPython.core.display.Markdown object>"
      ]
     },
     "metadata": {},
     "output_type": "display_data"
    },
    {
     "data": {
      "text/markdown": [
       "$$\\lambda_0 = \\dfrac{C - \\sum_{i=1}^0 x_i }{n-0} \\qquad \\lambda_0 (\\dfrac{60}{6}) \\geqslant b_1 (6) \\quad \\Rightarrow x_{1} = b_{1} = 6$$\n",
       "$$\\lambda_1 = \\dfrac{C - \\sum_{i=1}^1 x_i }{n-1} \\qquad \\lambda_1 (\\dfrac{54}{5}) \\leq b_2 (10) \\quad \\Rightarrow \\lambda_1 = \\lambda^* = x_{i} \\quad i=\\overline{2,n}$$"
      ],
      "text/plain": [
       "<IPython.core.display.Markdown object>"
      ]
     },
     "metadata": {},
     "output_type": "display_data"
    },
    {
     "data": {
      "text/markdown": [
       "---"
      ],
      "text/plain": [
       "<IPython.core.display.Markdown object>"
      ]
     },
     "metadata": {},
     "output_type": "display_data"
    },
    {
     "data": {
      "text/markdown": [
       "$x_1 = 6.00 \\qquad x_2 = 8.80 \\qquad x_3 = 8.80 \\qquad x_4 = 8.80 \\qquad x_5 = 8.80 \\qquad x_6 = 8.80$"
      ],
      "text/plain": [
       "<IPython.core.display.Markdown object>"
      ]
     },
     "metadata": {},
     "output_type": "display_data"
    },
    {
     "data": {
      "text/markdown": [
       "### Рівневий податок"
      ],
      "text/plain": [
       "<IPython.core.display.Markdown object>"
      ]
     },
     "metadata": {},
     "output_type": "display_data"
    },
    {
     "data": {
      "text/markdown": [
       "$$\\lambda_0 = \\dfrac{1}{n-0} (\\sum^6_{i=1}b_i - C ) = \\dfrac{1}6 (110 - 50) = \\dfrac{60}{6} \\qquad \\lambda_0 (\\dfrac{60}{6}) \\geqslant b_1 (6) \\quad \\Rightarrow x_{1} = 0$$\n",
       "$$\\lambda_1 = \\dfrac{1}{n-1} (\\sum^6_{i=2}b_i - C ) = \\dfrac{1}5 (104 - 50) = \\dfrac{54}{5} \\qquad \\lambda_1 (\\dfrac{54}{5}) \\geqslant b_2 (10) \\quad \\Rightarrow x_{2} = 0$$\n",
       "$$\\lambda_2 = \\dfrac{1}{n-2} (\\sum^6_{i=3}b_i - C ) = \\dfrac{1}4 (94 - 50) = \\dfrac{44}{4} \\qquad \\lambda_2(\\dfrac{44}{4}) < b_3 (14) \\quad \\Rightarrow \\lambda_2 = \\lambda^*\\qquad x_i = b_i - \\lambda^* \\quad i=\\overline{4,n}$$"
      ],
      "text/plain": [
       "<IPython.core.display.Markdown object>"
      ]
     },
     "metadata": {},
     "output_type": "display_data"
    },
    {
     "data": {
      "text/markdown": [
       "---"
      ],
      "text/plain": [
       "<IPython.core.display.Markdown object>"
      ]
     },
     "metadata": {},
     "output_type": "display_data"
    },
    {
     "data": {
      "text/markdown": [
       "$x_1 = 0.00 \\qquad x_2 = 0.00 \\qquad x_3 = 3.00 \\qquad x_4 = 9.00 \\qquad x_5 = 13.00 \\qquad x_6 = 25.00$"
      ],
      "text/plain": [
       "<IPython.core.display.Markdown object>"
      ]
     },
     "metadata": {},
     "output_type": "display_data"
    },
    {
     "data": {
      "text/markdown": [
       "### N-Ядро"
      ],
      "text/plain": [
       "<IPython.core.display.Markdown object>"
      ]
     },
     "metadata": {},
     "output_type": "display_data"
    },
    {
     "data": {
      "text/markdown": [
       "$$C < \\dfrac{\\sum b }{2}$$\n",
       "$$\\lambda_0 = \\dfrac{C-\\sum_{i=1}^0 x_i}{n-0} = \\dfrac{50.0}{6} \\geqslant \\dfrac{b_1}{2} (3.0) \\qquad  x_1 = \\dfrac{b_{1}}{2} = 3.0$$\n",
       "$$\\lambda_1 = \\dfrac{C-\\sum_{i=1}^1 x_i}{n-1} = \\dfrac{47.0}{5} \\geqslant \\dfrac{b_2}{2} (5.0) \\qquad  x_2 = \\dfrac{b_{2}}{2} = 5.0$$\n",
       "$$\\lambda_2 = \\dfrac{C-\\sum_{i=1}^2 x_i}{n-2} = \\dfrac{42.0}{4} \\geqslant \\dfrac{b_3}{2} (7.0) \\qquad  x_3 = \\dfrac{b_{3}}{2} = 7.0$$\n",
       "$$\\lambda_3 = \\dfrac{C-\\sum_{i=1}^3 x_i}{n-3} = \\dfrac{35.0}{3} \\geqslant \\dfrac{b_4}{2} (10.0) \\qquad  x_4 = \\dfrac{b_{4}}{2} = 10.0$$\n",
       "$$\\lambda_4 = \\dfrac{C-\\sum_{i=1}^4 x_i}{n-4} = \\dfrac{25.0}{2} \\geqslant \\dfrac{b_5}{2} (12.0) \\qquad  x_5 = \\dfrac{b_{5}}{2} = 12.0$$\n",
       "$$\\lambda_5 = \\dfrac{C-\\sum_{i=1}^5 x_i}{n-5} = \\dfrac{13.0}{1} < \\dfrac{b_6}{2} (18.0) \\quad\\lambda_5 = \\lambda^* = x_i \\quad i=\\overline{6,n}$$"
      ],
      "text/plain": [
       "<IPython.core.display.Markdown object>"
      ]
     },
     "metadata": {},
     "output_type": "display_data"
    },
    {
     "data": {
      "text/markdown": [
       "---"
      ],
      "text/plain": [
       "<IPython.core.display.Markdown object>"
      ]
     },
     "metadata": {},
     "output_type": "display_data"
    },
    {
     "data": {
      "text/markdown": [
       "$x_1 = 3.00 \\qquad x_2 = 5.00 \\qquad x_3 = 7.00 \\qquad x_4 = 10.00 \\qquad x_5 = 12.00 \\qquad x_6 = 13.00$"
      ],
      "text/plain": [
       "<IPython.core.display.Markdown object>"
      ]
     },
     "metadata": {},
     "output_type": "display_data"
    },
    {
     "data": {
      "text/markdown": [
       "### Пропорційний податок"
      ],
      "text/plain": [
       "<IPython.core.display.Markdown object>"
      ]
     },
     "metadata": {},
     "output_type": "display_data"
    },
    {
     "data": {
      "text/markdown": [
       "$$ x_i = b_i \\dfrac{C}{\\sum_{i=1}^{n}} b_i \\qquad i=\\overline{1,n}$$"
      ],
      "text/plain": [
       "<IPython.core.display.Markdown object>"
      ]
     },
     "metadata": {},
     "output_type": "display_data"
    },
    {
     "data": {
      "text/markdown": [
       "---"
      ],
      "text/plain": [
       "<IPython.core.display.Markdown object>"
      ]
     },
     "metadata": {},
     "output_type": "display_data"
    },
    {
     "data": {
      "text/markdown": [
       "$x_1 = 2.73 \\qquad x_2 = 4.55 \\qquad x_3 = 6.36 \\qquad x_4 = 9.09 \\qquad x_5 = 10.91 \\qquad x_6 = 16.36$"
      ],
      "text/plain": [
       "<IPython.core.display.Markdown object>"
      ]
     },
     "metadata": {},
     "output_type": "display_data"
    },
    {
     "data": {
      "text/html": [
       "<div>\n",
       "<style scoped>\n",
       "    .dataframe tbody tr th:only-of-type {\n",
       "        vertical-align: middle;\n",
       "    }\n",
       "\n",
       "    .dataframe tbody tr th {\n",
       "        vertical-align: top;\n",
       "    }\n",
       "\n",
       "    .dataframe thead th {\n",
       "        text-align: right;\n",
       "    }\n",
       "</style>\n",
       "<table border=\"1\" class=\"dataframe\">\n",
       "  <thead>\n",
       "    <tr style=\"text-align: right;\">\n",
       "      <th></th>\n",
       "      <th>$b_1 (6) / x_1 $</th>\n",
       "      <th>$b_2 (10) / x_2 $</th>\n",
       "      <th>$b_3 (14) / x_3 $</th>\n",
       "      <th>$b_4 (20) / x_4 $</th>\n",
       "      <th>$b_5 (24) / x_5 $</th>\n",
       "      <th>$b_6 (36) / x_6 $</th>\n",
       "      <th>$\\sum x_i $</th>\n",
       "    </tr>\n",
       "  </thead>\n",
       "  <tbody>\n",
       "    <tr>\n",
       "      <th>Подушний</th>\n",
       "      <td>6.00</td>\n",
       "      <td>8.80</td>\n",
       "      <td>8.80</td>\n",
       "      <td>8.80</td>\n",
       "      <td>8.80</td>\n",
       "      <td>8.80</td>\n",
       "      <td>50.00</td>\n",
       "    </tr>\n",
       "    <tr>\n",
       "      <th>Рівневий</th>\n",
       "      <td>0.00</td>\n",
       "      <td>0.00</td>\n",
       "      <td>3.00</td>\n",
       "      <td>9.00</td>\n",
       "      <td>13.00</td>\n",
       "      <td>25.00</td>\n",
       "      <td>50.00</td>\n",
       "    </tr>\n",
       "    <tr>\n",
       "      <th>n-Core</th>\n",
       "      <td>3.00</td>\n",
       "      <td>5.00</td>\n",
       "      <td>7.00</td>\n",
       "      <td>10.00</td>\n",
       "      <td>12.00</td>\n",
       "      <td>13.00</td>\n",
       "      <td>50.00</td>\n",
       "    </tr>\n",
       "    <tr>\n",
       "      <th>Пропопрційний</th>\n",
       "      <td>2.73</td>\n",
       "      <td>4.55</td>\n",
       "      <td>6.36</td>\n",
       "      <td>9.09</td>\n",
       "      <td>10.91</td>\n",
       "      <td>16.36</td>\n",
       "      <td>50.00</td>\n",
       "    </tr>\n",
       "  </tbody>\n",
       "</table>\n",
       "</div>"
      ],
      "text/plain": [
       "               $b_1 (6) / x_1 $  $b_2 (10) / x_2 $  $b_3 (14) / x_3 $  \\\n",
       "Подушний                   6.00               8.80               8.80   \n",
       "Рівневий                   0.00               0.00               3.00   \n",
       "n-Core                     3.00               5.00               7.00   \n",
       "Пропопрційний              2.73               4.55               6.36   \n",
       "\n",
       "               $b_4 (20) / x_4 $  $b_5 (24) / x_5 $  $b_6 (36) / x_6 $  \\\n",
       "Подушний                    8.80               8.80               8.80   \n",
       "Рівневий                    9.00              13.00              25.00   \n",
       "n-Core                     10.00              12.00              13.00   \n",
       "Пропопрційний               9.09              10.91              16.36   \n",
       "\n",
       "               $\\sum x_i $  \n",
       "Подушний             50.00  \n",
       "Рівневий             50.00  \n",
       "n-Core               50.00  \n",
       "Пропопрційний        50.00  "
      ]
     },
     "metadata": {},
     "output_type": "display_data"
    }
   ],
   "source": [
    "type1(\"7.1 (a)\", np.array([ 6, 10, 14, 20, 24, 36 ]), 50)"
   ]
  },
  {
   "cell_type": "code",
   "execution_count": 22,
   "metadata": {
    "ExecuteTime": {
     "end_time": "2019-05-27T18:44:40.461397Z",
     "start_time": "2019-05-27T18:44:40.342824Z"
    }
   },
   "outputs": [
    {
     "data": {
      "text/markdown": [
       "### Задача 7.1 (б)"
      ],
      "text/plain": [
       "<IPython.core.display.Markdown object>"
      ]
     },
     "metadata": {},
     "output_type": "display_data"
    },
    {
     "data": {
      "text/markdown": [
       "Нехай є n=6 учасників спільної діяльності.Припустимо що доходи учасників дорівнюють відповідно $x_1$ = 6, $x_2$ = 10, $x_3$ = 14, $x_4$ = 20, $x_5$ = 24, $x_6$ = 36, а загальні витрати складають С=80"
      ],
      "text/plain": [
       "<IPython.core.display.Markdown object>"
      ]
     },
     "metadata": {},
     "output_type": "display_data"
    },
    {
     "data": {
      "text/markdown": [
       "### Подушний податок"
      ],
      "text/plain": [
       "<IPython.core.display.Markdown object>"
      ]
     },
     "metadata": {},
     "output_type": "display_data"
    },
    {
     "data": {
      "text/markdown": [
       "$$\\lambda_0 = \\dfrac{C - \\sum_{i=1}^0 x_i }{n-0} \\qquad \\lambda_0 (\\dfrac{30}{6}) \\geqslant b_1 (6) \\quad \\Rightarrow x_{1} = b_{1} = 6$$\n",
       "$$\\lambda_1 = \\dfrac{C - \\sum_{i=1}^1 x_i }{n-1} \\qquad \\lambda_1 (\\dfrac{24}{5}) \\geqslant b_2 (10) \\quad \\Rightarrow x_{2} = b_{2} = 10$$\n",
       "$$\\lambda_2 = \\dfrac{C - \\sum_{i=1}^2 x_i }{n-2} \\qquad \\lambda_2 (\\dfrac{14}{4}) \\geqslant b_3 (14) \\quad \\Rightarrow x_{3} = b_{3} = 14$$\n",
       "$$\\lambda_3 = \\dfrac{C - \\sum_{i=1}^3 x_i }{n-3} \\qquad \\lambda_3 (\\dfrac{0}{3}) \\leq b_4 (20) \\quad \\Rightarrow \\lambda_3 = \\lambda^* = x_{i} \\quad i=\\overline{4,n}$$"
      ],
      "text/plain": [
       "<IPython.core.display.Markdown object>"
      ]
     },
     "metadata": {},
     "output_type": "display_data"
    },
    {
     "data": {
      "text/markdown": [
       "---"
      ],
      "text/plain": [
       "<IPython.core.display.Markdown object>"
      ]
     },
     "metadata": {},
     "output_type": "display_data"
    },
    {
     "data": {
      "text/markdown": [
       "$x_1 = 6.00 \\qquad x_2 = 10.00 \\qquad x_3 = 14.00 \\qquad x_4 = 16.67 \\qquad x_5 = 16.67 \\qquad x_6 = 16.67$"
      ],
      "text/plain": [
       "<IPython.core.display.Markdown object>"
      ]
     },
     "metadata": {},
     "output_type": "display_data"
    },
    {
     "data": {
      "text/markdown": [
       "### Рівневий податок"
      ],
      "text/plain": [
       "<IPython.core.display.Markdown object>"
      ]
     },
     "metadata": {},
     "output_type": "display_data"
    },
    {
     "data": {
      "text/markdown": [
       "$$\\lambda_0 = \\dfrac{1}{n-0} (\\sum^6_{i=1}b_i - C ) = \\dfrac{1}6 (110 - 80) = \\dfrac{30}{6} \\qquad \\lambda_0(\\dfrac{30}{6}) < b_1 (6) \\quad \\Rightarrow \\lambda_0 = \\lambda^*\\qquad x_i = b_i - \\lambda^* \\quad i=\\overline{6,n}$$"
      ],
      "text/plain": [
       "<IPython.core.display.Markdown object>"
      ]
     },
     "metadata": {},
     "output_type": "display_data"
    },
    {
     "data": {
      "text/markdown": [
       "---"
      ],
      "text/plain": [
       "<IPython.core.display.Markdown object>"
      ]
     },
     "metadata": {},
     "output_type": "display_data"
    },
    {
     "data": {
      "text/markdown": [
       "$x_1 = 1.00 \\qquad x_2 = 5.00 \\qquad x_3 = 9.00 \\qquad x_4 = 15.00 \\qquad x_5 = 19.00 \\qquad x_6 = 31.00$"
      ],
      "text/plain": [
       "<IPython.core.display.Markdown object>"
      ]
     },
     "metadata": {},
     "output_type": "display_data"
    },
    {
     "data": {
      "text/markdown": [
       "### N-Ядро"
      ],
      "text/plain": [
       "<IPython.core.display.Markdown object>"
      ]
     },
     "metadata": {},
     "output_type": "display_data"
    },
    {
     "data": {
      "text/markdown": [
       "$$C \\geqslant \\dfrac{\\sum b }{2}$$\n",
       "$$\\lambda_0 = \\dfrac{1}{n-0} * ( \\sum^6_{i=1} b_i - (C - \\sum^0_{i=1} x_i) ) = \\dfrac{(110 - (80-0.0))}{6}  = \\dfrac{110-80.0}{6} = \\dfrac{30.0}{6}  \\geqslant \\dfrac{b_1}{2} (3.0) \\qquad  x_1 = \\dfrac{b_{1}}{2} = 3.0$$\n",
       "$$\\lambda_1 = \\dfrac{1}{n-1} * ( \\sum^6_{i=1} b_i - (C - \\sum^1_{i=1} x_i) ) = \\dfrac{(110 - (80-3.0))}{5}  = \\dfrac{110-77.0}{5} = \\dfrac{33.0}{5}  \\geqslant \\dfrac{b_2}{2} (5.0) \\qquad  x_2 = \\dfrac{b_{2}}{2} = 5.0$$\n",
       "$$\\lambda_2 = \\dfrac{1}{n-2} * ( \\sum^6_{i=1} b_i - (C - \\sum^2_{i=1} x_i) ) = \\dfrac{(110 - (80-8.0))}{4}  = \\dfrac{110-72.0}{4} = \\dfrac{38.0}{4}  < \\dfrac{b_3}{2} (7.0) \\qquad  \\lambda_2 = \\lambda^* \\qquad x_{i} = b_{i}-\\lambda^* \\quad i=\\overline{3,n}$$"
      ],
      "text/plain": [
       "<IPython.core.display.Markdown object>"
      ]
     },
     "metadata": {},
     "output_type": "display_data"
    },
    {
     "data": {
      "text/markdown": [
       "---"
      ],
      "text/plain": [
       "<IPython.core.display.Markdown object>"
      ]
     },
     "metadata": {},
     "output_type": "display_data"
    },
    {
     "data": {
      "text/markdown": [
       "$x_1 = 3.00 \\qquad x_2 = 5.00 \\qquad x_3 = 8.50 \\qquad x_4 = 14.50 \\qquad x_5 = 18.50 \\qquad x_6 = 30.50$"
      ],
      "text/plain": [
       "<IPython.core.display.Markdown object>"
      ]
     },
     "metadata": {},
     "output_type": "display_data"
    },
    {
     "data": {
      "text/markdown": [
       "### Пропорційний податок"
      ],
      "text/plain": [
       "<IPython.core.display.Markdown object>"
      ]
     },
     "metadata": {},
     "output_type": "display_data"
    },
    {
     "data": {
      "text/markdown": [
       "$$ x_i = b_i \\dfrac{C}{\\sum_{i=1}^{n}} b_i \\qquad i=\\overline{1,n}$$"
      ],
      "text/plain": [
       "<IPython.core.display.Markdown object>"
      ]
     },
     "metadata": {},
     "output_type": "display_data"
    },
    {
     "data": {
      "text/markdown": [
       "---"
      ],
      "text/plain": [
       "<IPython.core.display.Markdown object>"
      ]
     },
     "metadata": {},
     "output_type": "display_data"
    },
    {
     "data": {
      "text/markdown": [
       "$x_1 = 4.36 \\qquad x_2 = 7.27 \\qquad x_3 = 10.18 \\qquad x_4 = 14.55 \\qquad x_5 = 17.45 \\qquad x_6 = 26.18$"
      ],
      "text/plain": [
       "<IPython.core.display.Markdown object>"
      ]
     },
     "metadata": {},
     "output_type": "display_data"
    },
    {
     "data": {
      "text/html": [
       "<div>\n",
       "<style scoped>\n",
       "    .dataframe tbody tr th:only-of-type {\n",
       "        vertical-align: middle;\n",
       "    }\n",
       "\n",
       "    .dataframe tbody tr th {\n",
       "        vertical-align: top;\n",
       "    }\n",
       "\n",
       "    .dataframe thead th {\n",
       "        text-align: right;\n",
       "    }\n",
       "</style>\n",
       "<table border=\"1\" class=\"dataframe\">\n",
       "  <thead>\n",
       "    <tr style=\"text-align: right;\">\n",
       "      <th></th>\n",
       "      <th>$b_1 (6) / x_1 $</th>\n",
       "      <th>$b_2 (10) / x_2 $</th>\n",
       "      <th>$b_3 (14) / x_3 $</th>\n",
       "      <th>$b_4 (20) / x_4 $</th>\n",
       "      <th>$b_5 (24) / x_5 $</th>\n",
       "      <th>$b_6 (36) / x_6 $</th>\n",
       "      <th>$\\sum x_i $</th>\n",
       "    </tr>\n",
       "  </thead>\n",
       "  <tbody>\n",
       "    <tr>\n",
       "      <th>Подушний</th>\n",
       "      <td>6.00</td>\n",
       "      <td>10.00</td>\n",
       "      <td>14.00</td>\n",
       "      <td>16.67</td>\n",
       "      <td>16.67</td>\n",
       "      <td>16.67</td>\n",
       "      <td>80.00</td>\n",
       "    </tr>\n",
       "    <tr>\n",
       "      <th>Рівневий</th>\n",
       "      <td>1.00</td>\n",
       "      <td>5.00</td>\n",
       "      <td>9.00</td>\n",
       "      <td>15.00</td>\n",
       "      <td>19.00</td>\n",
       "      <td>31.00</td>\n",
       "      <td>80.00</td>\n",
       "    </tr>\n",
       "    <tr>\n",
       "      <th>n-Core</th>\n",
       "      <td>3.00</td>\n",
       "      <td>5.00</td>\n",
       "      <td>8.50</td>\n",
       "      <td>14.50</td>\n",
       "      <td>18.50</td>\n",
       "      <td>30.50</td>\n",
       "      <td>80.00</td>\n",
       "    </tr>\n",
       "    <tr>\n",
       "      <th>Пропопрційний</th>\n",
       "      <td>4.36</td>\n",
       "      <td>7.27</td>\n",
       "      <td>10.18</td>\n",
       "      <td>14.55</td>\n",
       "      <td>17.45</td>\n",
       "      <td>26.18</td>\n",
       "      <td>80.00</td>\n",
       "    </tr>\n",
       "  </tbody>\n",
       "</table>\n",
       "</div>"
      ],
      "text/plain": [
       "               $b_1 (6) / x_1 $  $b_2 (10) / x_2 $  $b_3 (14) / x_3 $  \\\n",
       "Подушний                   6.00              10.00              14.00   \n",
       "Рівневий                   1.00               5.00               9.00   \n",
       "n-Core                     3.00               5.00               8.50   \n",
       "Пропопрційний              4.36               7.27              10.18   \n",
       "\n",
       "               $b_4 (20) / x_4 $  $b_5 (24) / x_5 $  $b_6 (36) / x_6 $  \\\n",
       "Подушний                   16.67              16.67              16.67   \n",
       "Рівневий                   15.00              19.00              31.00   \n",
       "n-Core                     14.50              18.50              30.50   \n",
       "Пропопрційний              14.55              17.45              26.18   \n",
       "\n",
       "               $\\sum x_i $  \n",
       "Подушний             80.00  \n",
       "Рівневий             80.00  \n",
       "n-Core               80.00  \n",
       "Пропопрційний        80.00  "
      ]
     },
     "metadata": {},
     "output_type": "display_data"
    }
   ],
   "source": [
    "type1(\"7.1 (б)\", np.array([ 6, 10, 14, 20, 24, 36 ]), 80)"
   ]
  },
  {
   "cell_type": "code",
   "execution_count": 23,
   "metadata": {
    "ExecuteTime": {
     "end_time": "2019-05-27T18:44:40.506842Z",
     "start_time": "2019-05-27T18:44:40.472232Z"
    }
   },
   "outputs": [
    {
     "data": {
      "text/markdown": [
       "### Задача 7.2"
      ],
      "text/plain": [
       "<IPython.core.display.Markdown object>"
      ]
     },
     "metadata": {},
     "output_type": "display_data"
    },
    {
     "data": {
      "text/markdown": [
       "Нехай є фірма, яка збанкротувала. Її залишкове майно складає 12000 грн., а борги кредиторам складають відповідно 6000, 8000, 12000 грн. Знайти справедливе розподілення майна фірми між кредиторами."
      ],
      "text/plain": [
       "<IPython.core.display.Markdown object>"
      ]
     },
     "metadata": {},
     "output_type": "display_data"
    },
    {
     "data": {
      "text/markdown": [
       "### N-Ядро"
      ],
      "text/plain": [
       "<IPython.core.display.Markdown object>"
      ]
     },
     "metadata": {},
     "output_type": "display_data"
    },
    {
     "data": {
      "text/markdown": [
       "$$C < \\dfrac{\\sum b }{2}$$\n",
       "$$\\lambda_0 = \\dfrac{C-\\sum_{i=1}^0 x_i}{n-0} = \\dfrac{12000.0}{3} \\geqslant \\dfrac{b_1}{2} (3000.0) \\qquad  x_1 = \\dfrac{b_{1}}{2} = 3000.0$$\n",
       "$$\\lambda_1 = \\dfrac{C-\\sum_{i=1}^1 x_i}{n-1} = \\dfrac{9000.0}{2} \\geqslant \\dfrac{b_2}{2} (4000.0) \\qquad  x_2 = \\dfrac{b_{2}}{2} = 4000.0$$\n",
       "$$\\lambda_2 = \\dfrac{C-\\sum_{i=1}^2 x_i}{n-2} = \\dfrac{5000.0}{1} < \\dfrac{b_3}{2} (6000.0) \\quad\\lambda_2 = \\lambda^* = x_i \\quad i=\\overline{3,n}$$"
      ],
      "text/plain": [
       "<IPython.core.display.Markdown object>"
      ]
     },
     "metadata": {},
     "output_type": "display_data"
    },
    {
     "data": {
      "text/markdown": [
       "---"
      ],
      "text/plain": [
       "<IPython.core.display.Markdown object>"
      ]
     },
     "metadata": {},
     "output_type": "display_data"
    },
    {
     "data": {
      "text/markdown": [
       "$x_1 = 3000.00 \\qquad x_2 = 4000.00 \\qquad x_3 = 5000.00$"
      ],
      "text/plain": [
       "<IPython.core.display.Markdown object>"
      ]
     },
     "metadata": {},
     "output_type": "display_data"
    }
   ],
   "source": [
    "type2(\"7.2\", np.array([ 6000, 8000, 12000 ]), 12000)"
   ]
  }
 ],
 "metadata": {
  "hide_input": false,
  "kernelspec": {
   "display_name": "Python 3",
   "language": "python",
   "name": "python3"
  },
  "language_info": {
   "codemirror_mode": {
    "name": "ipython",
    "version": 3
   },
   "file_extension": ".py",
   "mimetype": "text/x-python",
   "name": "python",
   "nbconvert_exporter": "python",
   "pygments_lexer": "ipython3",
   "version": "3.7.3"
  },
  "toc": {
   "base_numbering": 1,
   "nav_menu": {},
   "number_sections": false,
   "sideBar": true,
   "skip_h1_title": false,
   "title_cell": "Table of Contents",
   "title_sidebar": "Contents",
   "toc_cell": false,
   "toc_position": {},
   "toc_section_display": true,
   "toc_window_display": false
  }
 },
 "nbformat": 4,
 "nbformat_minor": 2
}
