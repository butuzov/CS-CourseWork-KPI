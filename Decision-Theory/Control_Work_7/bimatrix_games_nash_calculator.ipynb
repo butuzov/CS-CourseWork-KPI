{
 "cells": [
  {
   "cell_type": "markdown",
   "metadata": {},
   "source": [
    "# `__code__`"
   ]
  },
  {
   "cell_type": "code",
   "execution_count": 1,
   "metadata": {
    "ExecuteTime": {
     "end_time": "2019-06-29T09:58:40.906756Z",
     "start_time": "2019-06-29T09:58:40.180190Z"
    },
    "hide_input": false
   },
   "outputs": [],
   "source": [
    "import numpy as np\n",
    "import sympy as sy"
   ]
  },
  {
   "cell_type": "code",
   "execution_count": 2,
   "metadata": {
    "ExecuteTime": {
     "end_time": "2019-06-29T09:58:41.877601Z",
     "start_time": "2019-06-29T09:58:41.866681Z"
    },
    "hide_input": false
   },
   "outputs": [],
   "source": [
    "rational = lambda x: sy.Rational(x)\n",
    "\n",
    "def rm(array):\n",
    "    \"\"\"rational matrix \"\"\"\n",
    "    return np.array([[rational(x) for x in row] for row in array])\n",
    "\n",
    "def simple_antagonist(matrix):\n",
    "    \" просте механічне вирішення антагоністичної задачі \"\n",
    "    \n",
    "    print(matrix.T)\n",
    "    matrix = (np.diff(matrix.T, axis=0)[0]) * -1\n",
    "#     matrix = matrix[0] - matrix[1]\n",
    "    \n",
    "    print(matrix)\n",
    "    return (np.array([-matrix[1], matrix[0]]) / (matrix[0] - matrix[1]))\n",
    "\n",
    "def maxmin(matrix):\n",
    "    column = [k for k, v in enumerate(matrix[0]) if v == matrix[0].min()]\n",
    "    return matrix[:, column].max()"
   ]
  },
  {
   "cell_type": "code",
   "execution_count": 3,
   "metadata": {
    "ExecuteTime": {
     "end_time": "2019-06-29T09:58:46.147881Z",
     "start_time": "2019-06-29T09:58:46.143087Z"
    }
   },
   "outputs": [],
   "source": [
    "# \"задача № 1\"\n",
    "# A = [ [ 3,  1], [2, 12], ]\n",
    "# B = [ [ 9, -2], [-3, 3], ]\n",
    "\n",
    "# # \"задача № 2\" \n",
    "A = [ [ 4, 1], [-3, 8],]\n",
    "B = [ [ 6, 4], [ 1, 4],]\n",
    "\n",
    "# # \"задача № 3\" - підручний 777\n",
    "# A = [ [ 6,  -1], [-3, 8], ]\n",
    "# B = [ [ 10, -4], [-1, 4], ]\n",
    "\n",
    "# # \"задача № 4\" на парі\n",
    "# A = [ [ 8,  3], [-4,  4], ]\n",
    "# B = [ [ 4,  -1], [1, 10], ]\n",
    "\n",
    "# НЕНАДІЙНИЙ ПРИКЛАД - приклад нотатки (зошит)\n",
    "# A = [ [ 8, -3], [-1,12], ]\n",
    "# B = [ [10,  3], [-5, 4], ]"
   ]
  },
  {
   "cell_type": "code",
   "execution_count": 4,
   "metadata": {
    "ExecuteTime": {
     "end_time": "2019-06-29T09:58:47.292056Z",
     "start_time": "2019-06-29T09:58:47.288240Z"
    }
   },
   "outputs": [],
   "source": [
    "A = rm(A)\n",
    "B = rm(B)"
   ]
  },
  {
   "cell_type": "markdown",
   "metadata": {},
   "source": [
    "## При відсутності коаліції знайти найкращі стратегії обох гравців і відповідні виграші."
   ]
  },
  {
   "cell_type": "code",
   "execution_count": 5,
   "metadata": {
    "ExecuteTime": {
     "end_time": "2019-06-29T09:58:48.740187Z",
     "start_time": "2019-06-29T09:58:48.728240Z"
    }
   },
   "outputs": [
    {
     "name": "stdout",
     "output_type": "stream",
     "text": [
      "[[4 -3]\n",
      " [1 8]]\n",
      "[3 -11]\n",
      "----------\n",
      "[[6 4]\n",
      " [1 4]]\n",
      "[5 0]\n",
      "X1:11/14 \t X2: 3/14 \t U*:  5/2\n",
      "Y1:    0 \t Y2:    1 \t V*:    4\n"
     ]
    }
   ],
   "source": [
    "# знаходимо наші ікси \n",
    "Xs = simple_antagonist(A)\n",
    "\n",
    "print(\"-\"*10)\n",
    "\n",
    "# Та ігрики\n",
    "Ys = simple_antagonist(B.T)\n",
    "\n",
    "UZirochka = (A.T[0]*Xs).sum()\n",
    "VZirochka = (B[0]*Ys).sum()\n",
    "\n",
    "Xs_string = \"{}|{}\".format(*Xs.tolist()).split(\"|\")\n",
    "Ys_string = \"{}|{}\".format(*Ys.tolist()).split(\"|\")\n",
    "\n",
    "Us = str(UZirochka)\n",
    "Vs = str(VZirochka)\n",
    "\n",
    "print( \"X1:{1:>5} \\t X2:{2:>5} \\t U*:{0:>5}\".format(Us, *Xs_string) )\n",
    "print( \"Y1:{1:>5} \\t Y2:{2:>5} \\t V*:{0:>5}\".format(Vs, *Ys_string) )\n",
    " "
   ]
  },
  {
   "cell_type": "markdown",
   "metadata": {},
   "source": [
    "## У кооперативній грі двох осіб вияснити доцільність створення коаліції і знайти точку Неша.\n",
    "\n",
    "$$ R = u'+v' $$\n",
    "\n",
    "$$\\overline{u}=\\dfrac{(u^*-v^*)+R}{2} \\qquad \\overline{v'}=\\dfrac{(v^*-u^*)+R}{2} $$\n",
    "\n",
    "$$ \\overline{v} = \\dfrac{\\overline{v'}}{\\alpha} $$"
   ]
  },
  {
   "cell_type": "code",
   "execution_count": 6,
   "metadata": {
    "ExecuteTime": {
     "end_time": "2019-06-29T09:58:50.032369Z",
     "start_time": "2019-06-29T09:58:50.011367Z"
    }
   },
   "outputs": [
    {
     "name": "stdout",
     "output_type": "stream",
     "text": [
      "α:     2\n",
      "========================================\n",
      "B'  = \n",
      "[[12 8]\n",
      " [2 8]]\n",
      "R    =     16\n",
      "V*'  =      8\n",
      "U^   =   21/4\n",
      "V^'  =   43/4\n",
      "V^   =   43/8\n",
      "V^ (43/8) >= V* (4) ? True \n",
      "U^ (21/4) >= U* (5/2) ? False \n"
     ]
    }
   ],
   "source": [
    "topleft, bottomright = A[0][0]+B[0][0], A[1][1]+B[1][1]\n",
    "\n",
    "\"хз що далі?\"\n",
    "assert topleft != bottomright\n",
    "\n",
    "# print(A)\n",
    "\n",
    "alpha = (A[0][0] - A[1][1])/-(B[0][0]-B[1][1])\n",
    "B_shtrih = B * alpha\n",
    "\n",
    "assert (A[0][0] + B_shtrih[0][0]) ==  (A[1][1] + B_shtrih[1][1])\n",
    "R = A[0][0] + B_shtrih[0][0]\n",
    "\n",
    "VZirochka_shtrih = alpha * VZirochka\n",
    "\n",
    "U_shapka = (UZirochka - VZirochka_shtrih + R )/2\n",
    "\n",
    "V_shapka_shtrih = (VZirochka_shtrih - UZirochka + R )/2\n",
    "V_shapka = V_shapka_shtrih / alpha\n",
    " \n",
    "\n",
    "print( \"α: {0:>5}\".format(str(alpha)) )\n",
    "print( \"=\" * 40 )\n",
    "print( \"B'  = \" )\n",
    "print(B_shtrih)\n",
    "\n",
    "print( \"R    = {:>6}\".format(str(R)) )\n",
    "print( \"V*'  = {:>6}\".format(str(VZirochka_shtrih)) )\n",
    "print( \"U^   = {:>6}\".format(str(U_shapka)) )\n",
    "print( \"V^'  = {:>6}\".format(str(V_shapka_shtrih)) )\n",
    "print( \"V^   = {:>6}\".format(str(V_shapka)) )\n",
    "\n",
    "\n",
    "mark = VZirochka <= V_shapka\n",
    "print( \"V^ ({}) >= V* ({}) ? {} \".format(str(V_shapka), str(VZirochka), mark))\n",
    "\n",
    "mark = UZirochka > U_shapka\n",
    "print( \"U^ ({}) >= U* ({}) ? {} \".format(str(U_shapka), str(UZirochka), mark))"
   ]
  },
  {
   "cell_type": "markdown",
   "metadata": {},
   "source": [
    "## Перевірити вплив дії погроз, визначити арбітражний розв’язок у випадку дії погроз і порівняти із точкою Неша."
   ]
  },
  {
   "cell_type": "code",
   "execution_count": 7,
   "metadata": {
    "ExecuteTime": {
     "end_time": "2019-06-29T09:58:50.890251Z",
     "start_time": "2019-06-29T09:58:50.877047Z"
    }
   },
   "outputs": [
    {
     "data": {
      "text/plain": [
       "array([[-8, -7],\n",
       "       [-5, 0]], dtype=object)"
      ]
     },
     "execution_count": 7,
     "metadata": {},
     "output_type": "execute_result"
    }
   ],
   "source": [
    "ABsht = A - B_shtrih \n",
    "ABsht"
   ]
  },
  {
   "cell_type": "code",
   "execution_count": 8,
   "metadata": {
    "ExecuteTime": {
     "end_time": "2019-06-29T09:58:51.370255Z",
     "start_time": "2019-06-29T09:58:51.361632Z"
    }
   },
   "outputs": [
    {
     "name": "stdout",
     "output_type": "stream",
     "text": [
      "[[-8 -5]\n",
      " [-7 0]]\n",
      "[-1 -5]\n"
     ]
    },
    {
     "data": {
      "text/plain": [
       "(array([5/4, -1/4], dtype=object), -35/4)"
      ]
     },
     "execution_count": 8,
     "metadata": {},
     "output_type": "execute_result"
    }
   ],
   "source": [
    "ABsht = A - B_shtrih \n",
    "XS_y = simple_antagonist(ABsht)\n",
    "\n",
    "U_y = (ABsht.T[0]*XS_y).sum()\n",
    "\n",
    "XS_y, U_y"
   ]
  },
  {
   "cell_type": "code",
   "execution_count": 9,
   "metadata": {
    "ExecuteTime": {
     "end_time": "2019-06-29T09:58:51.930467Z",
     "start_time": "2019-06-29T09:58:51.924144Z"
    }
   },
   "outputs": [
    {
     "data": {
      "text/plain": [
       "(29/8, 99/8, 99/16)"
      ]
     },
     "execution_count": 9,
     "metadata": {},
     "output_type": "execute_result"
    }
   ],
   "source": [
    "u_y = (U_y+R)/2\n",
    "v_y = (-U_y+R)/2\n",
    "u_y, v_y, v_y/alpha"
   ]
  }
 ],
 "metadata": {
  "hide_input": false,
  "kernelspec": {
   "display_name": "Python 3",
   "language": "python",
   "name": "python3"
  },
  "language_info": {
   "codemirror_mode": {
    "name": "ipython",
    "version": 3
   },
   "file_extension": ".py",
   "mimetype": "text/x-python",
   "name": "python",
   "nbconvert_exporter": "python",
   "pygments_lexer": "ipython3",
   "version": "3.7.3"
  },
  "toc": {
   "base_numbering": 1,
   "nav_menu": {},
   "number_sections": true,
   "sideBar": true,
   "skip_h1_title": true,
   "title_cell": "Table of Contents",
   "title_sidebar": "Contents",
   "toc_cell": false,
   "toc_position": {},
   "toc_section_display": true,
   "toc_window_display": false
  }
 },
 "nbformat": 4,
 "nbformat_minor": 2
}
