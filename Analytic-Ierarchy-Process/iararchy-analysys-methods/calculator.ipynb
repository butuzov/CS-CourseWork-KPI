{
 "cells": [
  {
   "cell_type": "code",
   "execution_count": 1,
   "metadata": {
    "ExecuteTime": {
     "end_time": "2019-05-27T19:34:32.220131Z",
     "start_time": "2019-05-27T19:34:30.586539Z"
    }
   },
   "outputs": [],
   "source": [
    "# математика\n",
    "import numpy as np\n",
    "import sympy as sp\n",
    "import pandas as pd\n",
    "from scipy import linalg\n",
    "\n",
    "# презентація\n",
    "from IPython.display import display, Markdown, Latex,  HTML\n",
    "from ipywidgets import interact, interactive, fixed, interact_manual\n",
    "import ipywidgets as widgets\n",
    "\n",
    "pd.options.display.float_format = '{:,.3f}'.format\n",
    "\n",
    "# для пітона\n",
    "from collections import defaultdict\n",
    "from copy import deepcopy\n",
    "from abc import abstractmethod\n",
    "from typing import List, Tuple"
   ]
  },
  {
   "cell_type": "code",
   "execution_count": 2,
   "metadata": {
    "ExecuteTime": {
     "end_time": "2019-05-27T19:34:32.242017Z",
     "start_time": "2019-05-27T19:34:32.222507Z"
    }
   },
   "outputs": [],
   "source": [
    "%run sa.py"
   ]
  },
  {
   "cell_type": "code",
   "execution_count": 3,
   "metadata": {
    "ExecuteTime": {
     "end_time": "2019-05-27T19:34:32.260177Z",
     "start_time": "2019-05-27T19:34:32.245587Z"
    }
   },
   "outputs": [],
   "source": [
    "CriteriesLabels = [\n",
    "    'Критерій 1',\n",
    "    'Критерій 2',\n",
    "    'Критерій 3',\n",
    "    'Критерій 4',\n",
    "]\n",
    "\n",
    "Criteries = [ \n",
    "    '1',   '2',   '1/4', '1/2',  \n",
    "    '1/2', '1',   '1/5', '1/3',  \n",
    "    '4',   '5',   '1',   '3',\n",
    "    '2',   '3',   '1/3', '1',\n",
    "]\n",
    "\n",
    "models = [] \n",
    "models.append([\n",
    "    '1',  '1/2', '2',   '1',\n",
    "    '2',  '1',   '3',   '2',\n",
    "    '1/2','1/3', '1',   '1/2',\n",
    "    '1',  '1/2', '2',   '1',\n",
    "])\n",
    "\n",
    "models.append([\n",
    "    '1',  '1/3', '4',   '3',\n",
    "    '3',  '1',   '4',   '4',\n",
    "    '1/4','1/4', '1',   '1',\n",
    "    '1/3','1/4', '1',   '1',\n",
    "])\n",
    "\n",
    "\n",
    "models.append([\n",
    "    '1',  '1/4', '1/6', '2',\n",
    "    '4',  '1',   '1/4', '3',\n",
    "    '6',  '4',   '1',   '4',\n",
    "    '1/2','1/3', '1/4', '1',\n",
    "])\n",
    "\n",
    "models.append([\n",
    "    '1',  '1/2', '2',   '1/3',\n",
    "    '2',  '1',   '4',   '1',\n",
    "    '1/2','1/4', '1',   '1/5',\n",
    "    '3',  '1',   '5',   '1',\n",
    "])"
   ]
  },
  {
   "cell_type": "code",
   "execution_count": 4,
   "metadata": {
    "ExecuteTime": {
     "end_time": "2019-05-27T19:34:32.287892Z",
     "start_time": "2019-05-27T19:34:32.263332Z"
    }
   },
   "outputs": [],
   "source": [
    "criteries = Router(Matrix(Criteries, CriteriesLabels)) \n",
    "\n",
    "alternatives = []\n",
    "for n in range(len(models)):\n",
    "    alternatives.append({\n",
    "        'title' : CriteriesLabels[n],\n",
    "        'router': Router(Matrix(models[n], [ f\"V{x}\" for x in range(int(len(models[n])**.5))])),\n",
    "    })"
   ]
  },
  {
   "cell_type": "code",
   "execution_count": 5,
   "metadata": {
    "ExecuteTime": {
     "end_time": "2019-05-27T19:34:32.911457Z",
     "start_time": "2019-05-27T19:34:32.437123Z"
    },
    "hide_input": false
   },
   "outputs": [
    {
     "data": {
      "application/vnd.jupyter.widget-view+json": {
       "model_id": "7b710889f1a5461cbf42729bdcc0bb9d",
       "version_major": 2,
       "version_minor": 0
      },
      "text/plain": [
       "interactive(children=(Dropdown(description='method', options=('EM', 'AN', 'RGMM'), value='EM'), Output()), _do…"
      ]
     },
     "metadata": {},
     "output_type": "display_data"
    }
   ],
   "source": [
    "def weights(method): \n",
    "    try:    \n",
    "        descr, table = criteries.weight(method)\n",
    "        display(descr)\n",
    "        display(Markdown(\"#### Локальні ваги критеріїв\"))\n",
    "        display(table)\n",
    "\n",
    "        for alternative in alternatives:\n",
    "            \n",
    "            title = f\"##### Оцінка альтернатив за критерієм “{alternative['title']}”\"\n",
    "            _, table = alternative['router'].weight(method)\n",
    "            display(Markdown(title))\n",
    "            display(table)\n",
    "    \n",
    "    except Exception as e:\n",
    "        print(f\"Error: {e}\")\n",
    "        exit(1)\n",
    "\n",
    "\n",
    "_ = interact(weights, method=criteries.list_methods('weights'))\n",
    "        "
   ]
  },
  {
   "cell_type": "code",
   "execution_count": 6,
   "metadata": {
    "ExecuteTime": {
     "end_time": "2019-05-27T19:34:39.869342Z",
     "start_time": "2019-05-27T19:34:39.732566Z"
    },
    "hide_input": false
   },
   "outputs": [
    {
     "data": {
      "application/vnd.jupyter.widget-view+json": {
       "model_id": "11bd1441d2fc4d51a6761943e3684e09",
       "version_major": 2,
       "version_minor": 0
      },
      "text/plain": [
       "interactive(children=(Dropdown(description='method', options=('GCI', 'HCR', 'CR'), value='GCI'), Output()), _d…"
      ]
     },
     "metadata": {},
     "output_type": "display_data"
    }
   ],
   "source": [
    "def consistency(method):\n",
    "    try:    \n",
    "        descr, table = criteries.index(method)\n",
    "        display(descr)\n",
    "        display(Markdown(\"#### Оцінка узгодженісті критеріїв\"))\n",
    "        display(table)\n",
    "\n",
    "        for alternative in alternatives:\n",
    "            \n",
    "            title = f\"##### Оцінка узгодженісті альтернатив за критерієм “{alternative['title']}”\"\n",
    "            _, table = alternative['router'].index(method)\n",
    "            display(Markdown(title))\n",
    "            display(table)\n",
    "    \n",
    "    except Exception as e:\n",
    "        print(f\"Error: {e}\")\n",
    "        exit(1)\n",
    "\n",
    "    \n",
    "_ = interact(consistency, method=criteries.list_methods('indexes'))"
   ]
  },
  {
   "cell_type": "code",
   "execution_count": 7,
   "metadata": {
    "ExecuteTime": {
     "end_time": "2019-05-27T19:34:44.502175Z",
     "start_time": "2019-05-27T19:34:44.436977Z"
    },
    "hide_input": false
   },
   "outputs": [
    {
     "data": {
      "application/vnd.jupyter.widget-view+json": {
       "model_id": "cc84d7ac4b0a4f6f961de24f8f8d3269",
       "version_major": 2,
       "version_minor": 0
      },
      "text/plain": [
       "interactive(children=(Dropdown(description='method', options=('Distributive', 'Multyplicative', 'Ideal'), valu…"
      ]
     },
     "metadata": {},
     "output_type": "display_data"
    }
   ],
   "source": [
    "fusion_router = Router(Fusion(criteries, alternatives))\n",
    "\n",
    "def fusion(method):\n",
    "    try:\n",
    "        title, table = fusion_router.fusion(method)\n",
    "        display(title)\n",
    "        display(table)\n",
    "    \n",
    "    except Exception as e:\n",
    "        print(f\"Error: {e}\")\n",
    "        exit(1)\n",
    "\n",
    "        \n",
    "_ = interact(fusion, method=fusion_router.list_methods('fusions'))"
   ]
  },
  {
   "cell_type": "code",
   "execution_count": null,
   "metadata": {},
   "outputs": [],
   "source": []
  }
 ],
 "metadata": {
  "hide_input": false,
  "kernelspec": {
   "display_name": "Python 3",
   "language": "python",
   "name": "python3"
  },
  "language_info": {
   "codemirror_mode": {
    "name": "ipython",
    "version": 3
   },
   "file_extension": ".py",
   "mimetype": "text/x-python",
   "name": "python",
   "nbconvert_exporter": "python",
   "pygments_lexer": "ipython3",
   "version": "3.7.3"
  },
  "toc": {
   "base_numbering": 1,
   "nav_menu": {},
   "number_sections": false,
   "sideBar": true,
   "skip_h1_title": true,
   "title_cell": "Table of Contents",
   "title_sidebar": "Contents",
   "toc_cell": false,
   "toc_position": {},
   "toc_section_display": true,
   "toc_window_display": false
  }
 },
 "nbformat": 4,
 "nbformat_minor": 2
}
